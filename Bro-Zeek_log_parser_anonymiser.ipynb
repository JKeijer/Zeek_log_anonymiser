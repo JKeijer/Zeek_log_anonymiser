{
 "cells": [
  {
   "cell_type": "code",
   "execution_count": 1,
   "metadata": {},
   "outputs": [],
   "source": [
    "from helper_functions import *\n",
    "\n",
    "chosen_files = ['conn.log','dns.log','ftp.log','http.log','ssh.log','ssl.log']\n",
    "orig_log_dataframes = build_dataframes(chosen_files)\n",
    "log_dataframes = anonymise_dataframes(orig_log_dataframes, chosen_files)"
   ]
  },
  {
   "cell_type": "markdown",
   "metadata": {},
   "source": [
    "## Bro/Zeek log parser and anonymiser\n",
    "\n",
    "#### This file serves to parse Bro/Zeek logs and identify and anonymise Personally Identifiable Information (PII). As example data the bro logs of the UNSW-NB15 dataset [1] have been used.\n",
    "\n",
    "Bro/Zeek has a large number of logs available. However for the purpose of this research 6 logs have been selected from which information will be used for intrusion detection. The 6 selected logs are the following:\n",
    "\n",
    "> *conn.log, dns.log, ftp.log, http.log, ssh.log and ssl.log*\n",
    "\n",
    "For all logs the fields have been evaluated to determine the most useful fields. It has been found, that these 6 logs give valuable information for detection and hold minimal PII information. There is still some PII information in these logs and the fields that have been identified as PII are highlighted in red below. \n",
    "\n",
    "An example is given here with the conn.log, where the Source IP and destination IP are identified as PII and marked red. The entire list of logs and fields can be found at the bottom of this page.\n",
    "\n",
    "[1] https://www.unsw.adfa.edu.au/unsw-canberra-cyber/cybersecurity/ADFA-NB15-Datasets/"
   ]
  },
  {
   "cell_type": "code",
   "execution_count": 2,
   "metadata": {},
   "outputs": [
    {
     "name": "stdout",
     "output_type": "stream",
     "text": [
      "---- conn.log ---- Normal\n"
     ]
    },
    {
     "data": {
      "text/html": [
       "<style  type=\"text/css\" >\n",
       "#T_e68855a8_87d7_11eb_9df8_acde48001122row0_col2,#T_e68855a8_87d7_11eb_9df8_acde48001122row0_col4{\n",
       "            background-color:  red;\n",
       "        }</style><table id=\"T_e68855a8_87d7_11eb_9df8_acde48001122\" ><thead>    <tr>        <th class=\"blank level0\" ></th>        <th class=\"col_heading level0 col0\" >ts</th>        <th class=\"col_heading level0 col1\" >uid</th>        <th class=\"col_heading level0 col2\" >id.orig_h</th>        <th class=\"col_heading level0 col3\" >id.orig_p</th>        <th class=\"col_heading level0 col4\" >id.resp_h</th>        <th class=\"col_heading level0 col5\" >id.resp_p</th>        <th class=\"col_heading level0 col6\" >proto</th>        <th class=\"col_heading level0 col7\" >service</th>        <th class=\"col_heading level0 col8\" >duration</th>        <th class=\"col_heading level0 col9\" >orig_bytes</th>        <th class=\"col_heading level0 col10\" >resp_bytes</th>        <th class=\"col_heading level0 col11\" >conn_state</th>        <th class=\"col_heading level0 col12\" >local_orig</th>        <th class=\"col_heading level0 col13\" >missed_bytes</th>        <th class=\"col_heading level0 col14\" >history</th>        <th class=\"col_heading level0 col15\" >orig_pkts</th>        <th class=\"col_heading level0 col16\" >orig_ip_bytes</th>        <th class=\"col_heading level0 col17\" >resp_pkts</th>        <th class=\"col_heading level0 col18\" >resp_ip_bytes</th>        <th class=\"col_heading level0 col19\" >tunnel_parents</th>    </tr></thead><tbody>\n",
       "                <tr>\n",
       "                        <th id=\"T_e68855a8_87d7_11eb_9df8_acde48001122level0_row0\" class=\"row_heading level0 row0\" >0</th>\n",
       "                        <td id=\"T_e68855a8_87d7_11eb_9df8_acde48001122row0_col0\" class=\"data row0 col0\" >1424256987.747828</td>\n",
       "                        <td id=\"T_e68855a8_87d7_11eb_9df8_acde48001122row0_col1\" class=\"data row0 col1\" >C8kfmaJvH8YSujzW5</td>\n",
       "                        <td id=\"T_e68855a8_87d7_11eb_9df8_acde48001122row0_col2\" class=\"data row0 col2\" >59.166.0.2</td>\n",
       "                        <td id=\"T_e68855a8_87d7_11eb_9df8_acde48001122row0_col3\" class=\"data row0 col3\" >57872</td>\n",
       "                        <td id=\"T_e68855a8_87d7_11eb_9df8_acde48001122row0_col4\" class=\"data row0 col4\" >149.171.126.9</td>\n",
       "                        <td id=\"T_e68855a8_87d7_11eb_9df8_acde48001122row0_col5\" class=\"data row0 col5\" >56104</td>\n",
       "                        <td id=\"T_e68855a8_87d7_11eb_9df8_acde48001122row0_col6\" class=\"data row0 col6\" >tcp</td>\n",
       "                        <td id=\"T_e68855a8_87d7_11eb_9df8_acde48001122row0_col7\" class=\"data row0 col7\" >-</td>\n",
       "                        <td id=\"T_e68855a8_87d7_11eb_9df8_acde48001122row0_col8\" class=\"data row0 col8\" >0.027552</td>\n",
       "                        <td id=\"T_e68855a8_87d7_11eb_9df8_acde48001122row0_col9\" class=\"data row0 col9\" >227.000000</td>\n",
       "                        <td id=\"T_e68855a8_87d7_11eb_9df8_acde48001122row0_col10\" class=\"data row0 col10\" >11587.000000</td>\n",
       "                        <td id=\"T_e68855a8_87d7_11eb_9df8_acde48001122row0_col11\" class=\"data row0 col11\" >SF</td>\n",
       "                        <td id=\"T_e68855a8_87d7_11eb_9df8_acde48001122row0_col12\" class=\"data row0 col12\" >-</td>\n",
       "                        <td id=\"T_e68855a8_87d7_11eb_9df8_acde48001122row0_col13\" class=\"data row0 col13\" >0</td>\n",
       "                        <td id=\"T_e68855a8_87d7_11eb_9df8_acde48001122row0_col14\" class=\"data row0 col14\" >ShADadfF</td>\n",
       "                        <td id=\"T_e68855a8_87d7_11eb_9df8_acde48001122row0_col15\" class=\"data row0 col15\" >42</td>\n",
       "                        <td id=\"T_e68855a8_87d7_11eb_9df8_acde48001122row0_col16\" class=\"data row0 col16\" >2646</td>\n",
       "                        <td id=\"T_e68855a8_87d7_11eb_9df8_acde48001122row0_col17\" class=\"data row0 col17\" >44</td>\n",
       "                        <td id=\"T_e68855a8_87d7_11eb_9df8_acde48001122row0_col18\" class=\"data row0 col18\" >25470</td>\n",
       "                        <td id=\"T_e68855a8_87d7_11eb_9df8_acde48001122row0_col19\" class=\"data row0 col19\" >(empty)</td>\n",
       "            </tr>\n",
       "    </tbody></table>"
      ],
      "text/plain": [
       "<pandas.io.formats.style.Styler at 0x1239e3ee0>"
      ]
     },
     "metadata": {},
     "output_type": "display_data"
    }
   ],
   "source": [
    "print(\"---- \" + 'conn.log' + \" ---- Normal\")\n",
    "display(orig_log_dataframes['conn.log'].iloc[:1,:].style.apply(highlight_col, axis=None))"
   ]
  },
  {
   "cell_type": "markdown",
   "metadata": {},
   "source": [
    "### Anonymised fields\n",
    "\n",
    "The following fields have been selected for anonymisation:\n",
    "\n",
    "**conn.log:** src IP - src IP\n",
    "\n",
    "**dns.log:** src IP - dst IP - dns query - dns response\n",
    "   \n",
    "**ftp.log:** src IP - dst IP - user - password - arg - src data_channel - dst data_channel\n",
    "\n",
    "**http.log:** src IP - dst IP - host - uri - filename - username - password\n",
    "* The user agent could be considered PII, however in this work it is chosen to keep the user agent as is\n",
    "\n",
    "**ssh.log:** src IP - dst IP - server name \n",
    "\n",
    "**ssl.log:** src ip - dst ip - subject - issuer - client_subject - client_issuer\n",
    "\n",
    "These fields can be seen, marked in red, below."
   ]
  },
  {
   "cell_type": "code",
   "execution_count": 3,
   "metadata": {},
   "outputs": [
    {
     "name": "stdout",
     "output_type": "stream",
     "text": [
      "---- conn.log ---- Normal\n"
     ]
    },
    {
     "data": {
      "text/html": [
       "<style  type=\"text/css\" >\n",
       "#T_e68d0c24_87d7_11eb_9df8_acde48001122row0_col2,#T_e68d0c24_87d7_11eb_9df8_acde48001122row0_col4{\n",
       "            background-color:  red;\n",
       "        }</style><table id=\"T_e68d0c24_87d7_11eb_9df8_acde48001122\" ><thead>    <tr>        <th class=\"blank level0\" ></th>        <th class=\"col_heading level0 col0\" >ts</th>        <th class=\"col_heading level0 col1\" >uid</th>        <th class=\"col_heading level0 col2\" >id.orig_h</th>        <th class=\"col_heading level0 col3\" >id.orig_p</th>        <th class=\"col_heading level0 col4\" >id.resp_h</th>        <th class=\"col_heading level0 col5\" >id.resp_p</th>        <th class=\"col_heading level0 col6\" >proto</th>        <th class=\"col_heading level0 col7\" >service</th>        <th class=\"col_heading level0 col8\" >duration</th>        <th class=\"col_heading level0 col9\" >orig_bytes</th>        <th class=\"col_heading level0 col10\" >resp_bytes</th>        <th class=\"col_heading level0 col11\" >conn_state</th>        <th class=\"col_heading level0 col12\" >local_orig</th>        <th class=\"col_heading level0 col13\" >missed_bytes</th>        <th class=\"col_heading level0 col14\" >history</th>        <th class=\"col_heading level0 col15\" >orig_pkts</th>        <th class=\"col_heading level0 col16\" >orig_ip_bytes</th>        <th class=\"col_heading level0 col17\" >resp_pkts</th>        <th class=\"col_heading level0 col18\" >resp_ip_bytes</th>        <th class=\"col_heading level0 col19\" >tunnel_parents</th>    </tr></thead><tbody>\n",
       "                <tr>\n",
       "                        <th id=\"T_e68d0c24_87d7_11eb_9df8_acde48001122level0_row0\" class=\"row_heading level0 row0\" >0</th>\n",
       "                        <td id=\"T_e68d0c24_87d7_11eb_9df8_acde48001122row0_col0\" class=\"data row0 col0\" >1424256987.747828</td>\n",
       "                        <td id=\"T_e68d0c24_87d7_11eb_9df8_acde48001122row0_col1\" class=\"data row0 col1\" >C8kfmaJvH8YSujzW5</td>\n",
       "                        <td id=\"T_e68d0c24_87d7_11eb_9df8_acde48001122row0_col2\" class=\"data row0 col2\" >59.166.0.2</td>\n",
       "                        <td id=\"T_e68d0c24_87d7_11eb_9df8_acde48001122row0_col3\" class=\"data row0 col3\" >57872</td>\n",
       "                        <td id=\"T_e68d0c24_87d7_11eb_9df8_acde48001122row0_col4\" class=\"data row0 col4\" >149.171.126.9</td>\n",
       "                        <td id=\"T_e68d0c24_87d7_11eb_9df8_acde48001122row0_col5\" class=\"data row0 col5\" >56104</td>\n",
       "                        <td id=\"T_e68d0c24_87d7_11eb_9df8_acde48001122row0_col6\" class=\"data row0 col6\" >tcp</td>\n",
       "                        <td id=\"T_e68d0c24_87d7_11eb_9df8_acde48001122row0_col7\" class=\"data row0 col7\" >-</td>\n",
       "                        <td id=\"T_e68d0c24_87d7_11eb_9df8_acde48001122row0_col8\" class=\"data row0 col8\" >0.027552</td>\n",
       "                        <td id=\"T_e68d0c24_87d7_11eb_9df8_acde48001122row0_col9\" class=\"data row0 col9\" >227.000000</td>\n",
       "                        <td id=\"T_e68d0c24_87d7_11eb_9df8_acde48001122row0_col10\" class=\"data row0 col10\" >11587.000000</td>\n",
       "                        <td id=\"T_e68d0c24_87d7_11eb_9df8_acde48001122row0_col11\" class=\"data row0 col11\" >SF</td>\n",
       "                        <td id=\"T_e68d0c24_87d7_11eb_9df8_acde48001122row0_col12\" class=\"data row0 col12\" >-</td>\n",
       "                        <td id=\"T_e68d0c24_87d7_11eb_9df8_acde48001122row0_col13\" class=\"data row0 col13\" >0</td>\n",
       "                        <td id=\"T_e68d0c24_87d7_11eb_9df8_acde48001122row0_col14\" class=\"data row0 col14\" >ShADadfF</td>\n",
       "                        <td id=\"T_e68d0c24_87d7_11eb_9df8_acde48001122row0_col15\" class=\"data row0 col15\" >42</td>\n",
       "                        <td id=\"T_e68d0c24_87d7_11eb_9df8_acde48001122row0_col16\" class=\"data row0 col16\" >2646</td>\n",
       "                        <td id=\"T_e68d0c24_87d7_11eb_9df8_acde48001122row0_col17\" class=\"data row0 col17\" >44</td>\n",
       "                        <td id=\"T_e68d0c24_87d7_11eb_9df8_acde48001122row0_col18\" class=\"data row0 col18\" >25470</td>\n",
       "                        <td id=\"T_e68d0c24_87d7_11eb_9df8_acde48001122row0_col19\" class=\"data row0 col19\" >(empty)</td>\n",
       "            </tr>\n",
       "    </tbody></table>"
      ],
      "text/plain": [
       "<pandas.io.formats.style.Styler at 0x126f52ac0>"
      ]
     },
     "metadata": {},
     "output_type": "display_data"
    },
    {
     "name": "stdout",
     "output_type": "stream",
     "text": [
      "---- dns.log ---- Normal\n"
     ]
    },
    {
     "data": {
      "text/html": [
       "<style  type=\"text/css\" >\n",
       "#T_e690a672_87d7_11eb_9df8_acde48001122row0_col2,#T_e690a672_87d7_11eb_9df8_acde48001122row0_col4,#T_e690a672_87d7_11eb_9df8_acde48001122row0_col8,#T_e690a672_87d7_11eb_9df8_acde48001122row0_col20{\n",
       "            background-color:  red;\n",
       "        }</style><table id=\"T_e690a672_87d7_11eb_9df8_acde48001122\" ><thead>    <tr>        <th class=\"blank level0\" ></th>        <th class=\"col_heading level0 col0\" >ts</th>        <th class=\"col_heading level0 col1\" >uid</th>        <th class=\"col_heading level0 col2\" >id.orig_h</th>        <th class=\"col_heading level0 col3\" >id.orig_p</th>        <th class=\"col_heading level0 col4\" >id.resp_h</th>        <th class=\"col_heading level0 col5\" >id.resp_p</th>        <th class=\"col_heading level0 col6\" >proto</th>        <th class=\"col_heading level0 col7\" >trans_id</th>        <th class=\"col_heading level0 col8\" >query</th>        <th class=\"col_heading level0 col9\" >qclass</th>        <th class=\"col_heading level0 col10\" >qclass_name</th>        <th class=\"col_heading level0 col11\" >qtype</th>        <th class=\"col_heading level0 col12\" >qtype_name</th>        <th class=\"col_heading level0 col13\" >rcode</th>        <th class=\"col_heading level0 col14\" >rcode_name</th>        <th class=\"col_heading level0 col15\" >AA</th>        <th class=\"col_heading level0 col16\" >TC</th>        <th class=\"col_heading level0 col17\" >RD</th>        <th class=\"col_heading level0 col18\" >RA</th>        <th class=\"col_heading level0 col19\" >Z</th>        <th class=\"col_heading level0 col20\" >answers</th>        <th class=\"col_heading level0 col21\" >TTLs</th>        <th class=\"col_heading level0 col22\" >rejected</th>    </tr></thead><tbody>\n",
       "                <tr>\n",
       "                        <th id=\"T_e690a672_87d7_11eb_9df8_acde48001122level0_row0\" class=\"row_heading level0 row0\" >0</th>\n",
       "                        <td id=\"T_e690a672_87d7_11eb_9df8_acde48001122row0_col0\" class=\"data row0 col0\" >1424256988.447831</td>\n",
       "                        <td id=\"T_e690a672_87d7_11eb_9df8_acde48001122row0_col1\" class=\"data row0 col1\" >CcCQqj3E6KlwtFnRja</td>\n",
       "                        <td id=\"T_e690a672_87d7_11eb_9df8_acde48001122row0_col2\" class=\"data row0 col2\" >59.166.0.4</td>\n",
       "                        <td id=\"T_e690a672_87d7_11eb_9df8_acde48001122row0_col3\" class=\"data row0 col3\" >7745</td>\n",
       "                        <td id=\"T_e690a672_87d7_11eb_9df8_acde48001122row0_col4\" class=\"data row0 col4\" >149.171.126.2</td>\n",
       "                        <td id=\"T_e690a672_87d7_11eb_9df8_acde48001122row0_col5\" class=\"data row0 col5\" >53</td>\n",
       "                        <td id=\"T_e690a672_87d7_11eb_9df8_acde48001122row0_col6\" class=\"data row0 col6\" >udp</td>\n",
       "                        <td id=\"T_e690a672_87d7_11eb_9df8_acde48001122row0_col7\" class=\"data row0 col7\" >48100</td>\n",
       "                        <td id=\"T_e690a672_87d7_11eb_9df8_acde48001122row0_col8\" class=\"data row0 col8\" >server-95ab7e07.int</td>\n",
       "                        <td id=\"T_e690a672_87d7_11eb_9df8_acde48001122row0_col9\" class=\"data row0 col9\" >1.000000</td>\n",
       "                        <td id=\"T_e690a672_87d7_11eb_9df8_acde48001122row0_col10\" class=\"data row0 col10\" >C_INTERNET</td>\n",
       "                        <td id=\"T_e690a672_87d7_11eb_9df8_acde48001122row0_col11\" class=\"data row0 col11\" >1.000000</td>\n",
       "                        <td id=\"T_e690a672_87d7_11eb_9df8_acde48001122row0_col12\" class=\"data row0 col12\" >A</td>\n",
       "                        <td id=\"T_e690a672_87d7_11eb_9df8_acde48001122row0_col13\" class=\"data row0 col13\" >0.000000</td>\n",
       "                        <td id=\"T_e690a672_87d7_11eb_9df8_acde48001122row0_col14\" class=\"data row0 col14\" >NOERROR</td>\n",
       "                        <td id=\"T_e690a672_87d7_11eb_9df8_acde48001122row0_col15\" class=\"data row0 col15\" >F</td>\n",
       "                        <td id=\"T_e690a672_87d7_11eb_9df8_acde48001122row0_col16\" class=\"data row0 col16\" >F</td>\n",
       "                        <td id=\"T_e690a672_87d7_11eb_9df8_acde48001122row0_col17\" class=\"data row0 col17\" >T</td>\n",
       "                        <td id=\"T_e690a672_87d7_11eb_9df8_acde48001122row0_col18\" class=\"data row0 col18\" >T</td>\n",
       "                        <td id=\"T_e690a672_87d7_11eb_9df8_acde48001122row0_col19\" class=\"data row0 col19\" >0</td>\n",
       "                        <td id=\"T_e690a672_87d7_11eb_9df8_acde48001122row0_col20\" class=\"data row0 col20\" >149.171.126.7</td>\n",
       "                        <td id=\"T_e690a672_87d7_11eb_9df8_acde48001122row0_col21\" class=\"data row0 col21\" >60.000000</td>\n",
       "                        <td id=\"T_e690a672_87d7_11eb_9df8_acde48001122row0_col22\" class=\"data row0 col22\" >F</td>\n",
       "            </tr>\n",
       "    </tbody></table>"
      ],
      "text/plain": [
       "<pandas.io.formats.style.Styler at 0x126f679d0>"
      ]
     },
     "metadata": {},
     "output_type": "display_data"
    },
    {
     "name": "stdout",
     "output_type": "stream",
     "text": [
      "---- ftp.log ---- Normal\n"
     ]
    },
    {
     "data": {
      "text/html": [
       "<style  type=\"text/css\" >\n",
       "#T_e69457b8_87d7_11eb_9df8_acde48001122row0_col2,#T_e69457b8_87d7_11eb_9df8_acde48001122row0_col4,#T_e69457b8_87d7_11eb_9df8_acde48001122row0_col6,#T_e69457b8_87d7_11eb_9df8_acde48001122row0_col7,#T_e69457b8_87d7_11eb_9df8_acde48001122row0_col9,#T_e69457b8_87d7_11eb_9df8_acde48001122row0_col15,#T_e69457b8_87d7_11eb_9df8_acde48001122row0_col16{\n",
       "            background-color:  red;\n",
       "        }</style><table id=\"T_e69457b8_87d7_11eb_9df8_acde48001122\" ><thead>    <tr>        <th class=\"blank level0\" ></th>        <th class=\"col_heading level0 col0\" >ts</th>        <th class=\"col_heading level0 col1\" >uid</th>        <th class=\"col_heading level0 col2\" >id.orig_h</th>        <th class=\"col_heading level0 col3\" >id.orig_p</th>        <th class=\"col_heading level0 col4\" >id.resp_h</th>        <th class=\"col_heading level0 col5\" >id.resp_p</th>        <th class=\"col_heading level0 col6\" >user</th>        <th class=\"col_heading level0 col7\" >password</th>        <th class=\"col_heading level0 col8\" >command</th>        <th class=\"col_heading level0 col9\" >arg</th>        <th class=\"col_heading level0 col10\" >mime_type</th>        <th class=\"col_heading level0 col11\" >file_size</th>        <th class=\"col_heading level0 col12\" >reply_code</th>        <th class=\"col_heading level0 col13\" >reply_msg</th>        <th class=\"col_heading level0 col14\" >data_channel.passive</th>        <th class=\"col_heading level0 col15\" >data_channel.orig_h</th>        <th class=\"col_heading level0 col16\" >data_channel.resp_h</th>        <th class=\"col_heading level0 col17\" >data_channel.resp_p</th>        <th class=\"col_heading level0 col18\" >fuid</th>    </tr></thead><tbody>\n",
       "                <tr>\n",
       "                        <th id=\"T_e69457b8_87d7_11eb_9df8_acde48001122level0_row0\" class=\"row_heading level0 row0\" >0</th>\n",
       "                        <td id=\"T_e69457b8_87d7_11eb_9df8_acde48001122row0_col0\" class=\"data row0 col0\" >1424256989.952859</td>\n",
       "                        <td id=\"T_e69457b8_87d7_11eb_9df8_acde48001122row0_col1\" class=\"data row0 col1\" >CsfksnMVMnOYhPiB7</td>\n",
       "                        <td id=\"T_e69457b8_87d7_11eb_9df8_acde48001122row0_col2\" class=\"data row0 col2\" >59.166.0.8</td>\n",
       "                        <td id=\"T_e69457b8_87d7_11eb_9df8_acde48001122row0_col3\" class=\"data row0 col3\" >5146</td>\n",
       "                        <td id=\"T_e69457b8_87d7_11eb_9df8_acde48001122row0_col4\" class=\"data row0 col4\" >149.171.126.3</td>\n",
       "                        <td id=\"T_e69457b8_87d7_11eb_9df8_acde48001122row0_col5\" class=\"data row0 col5\" >21</td>\n",
       "                        <td id=\"T_e69457b8_87d7_11eb_9df8_acde48001122row0_col6\" class=\"data row0 col6\" >anonymous</td>\n",
       "                        <td id=\"T_e69457b8_87d7_11eb_9df8_acde48001122row0_col7\" class=\"data row0 col7\" >jobs@server.com</td>\n",
       "                        <td id=\"T_e69457b8_87d7_11eb_9df8_acde48001122row0_col8\" class=\"data row0 col8\" >EPSV</td>\n",
       "                        <td id=\"T_e69457b8_87d7_11eb_9df8_acde48001122row0_col9\" class=\"data row0 col9\" >-</td>\n",
       "                        <td id=\"T_e69457b8_87d7_11eb_9df8_acde48001122row0_col10\" class=\"data row0 col10\" >-</td>\n",
       "                        <td id=\"T_e69457b8_87d7_11eb_9df8_acde48001122row0_col11\" class=\"data row0 col11\" >nan</td>\n",
       "                        <td id=\"T_e69457b8_87d7_11eb_9df8_acde48001122row0_col12\" class=\"data row0 col12\" >229</td>\n",
       "                        <td id=\"T_e69457b8_87d7_11eb_9df8_acde48001122row0_col13\" class=\"data row0 col13\" >Extended Passive Mode OK (|||24196|)</td>\n",
       "                        <td id=\"T_e69457b8_87d7_11eb_9df8_acde48001122row0_col14\" class=\"data row0 col14\" >T</td>\n",
       "                        <td id=\"T_e69457b8_87d7_11eb_9df8_acde48001122row0_col15\" class=\"data row0 col15\" >59.166.0.8</td>\n",
       "                        <td id=\"T_e69457b8_87d7_11eb_9df8_acde48001122row0_col16\" class=\"data row0 col16\" >149.171.126.3</td>\n",
       "                        <td id=\"T_e69457b8_87d7_11eb_9df8_acde48001122row0_col17\" class=\"data row0 col17\" >24196.000000</td>\n",
       "                        <td id=\"T_e69457b8_87d7_11eb_9df8_acde48001122row0_col18\" class=\"data row0 col18\" >-</td>\n",
       "            </tr>\n",
       "    </tbody></table>"
      ],
      "text/plain": [
       "<pandas.io.formats.style.Styler at 0x12588c220>"
      ]
     },
     "metadata": {},
     "output_type": "display_data"
    },
    {
     "name": "stdout",
     "output_type": "stream",
     "text": [
      "---- http.log ---- Normal\n"
     ]
    },
    {
     "data": {
      "text/html": [
       "<style  type=\"text/css\" >\n",
       "#T_e6991348_87d7_11eb_9df8_acde48001122row0_col2,#T_e6991348_87d7_11eb_9df8_acde48001122row0_col4,#T_e6991348_87d7_11eb_9df8_acde48001122row0_col8,#T_e6991348_87d7_11eb_9df8_acde48001122row0_col9,#T_e6991348_87d7_11eb_9df8_acde48001122row0_col18,#T_e6991348_87d7_11eb_9df8_acde48001122row0_col20,#T_e6991348_87d7_11eb_9df8_acde48001122row0_col21{\n",
       "            background-color:  red;\n",
       "        }</style><table id=\"T_e6991348_87d7_11eb_9df8_acde48001122\" ><thead>    <tr>        <th class=\"blank level0\" ></th>        <th class=\"col_heading level0 col0\" >ts</th>        <th class=\"col_heading level0 col1\" >uid</th>        <th class=\"col_heading level0 col2\" >id.orig_h</th>        <th class=\"col_heading level0 col3\" >id.orig_p</th>        <th class=\"col_heading level0 col4\" >id.resp_h</th>        <th class=\"col_heading level0 col5\" >id.resp_p</th>        <th class=\"col_heading level0 col6\" >trans_depth</th>        <th class=\"col_heading level0 col7\" >method</th>        <th class=\"col_heading level0 col8\" >host</th>        <th class=\"col_heading level0 col9\" >uri</th>        <th class=\"col_heading level0 col10\" >referrer</th>        <th class=\"col_heading level0 col11\" >user_agent</th>        <th class=\"col_heading level0 col12\" >request_body_len</th>        <th class=\"col_heading level0 col13\" >response_body_len</th>        <th class=\"col_heading level0 col14\" >status_code</th>        <th class=\"col_heading level0 col15\" >status_msg</th>        <th class=\"col_heading level0 col16\" >info_code</th>        <th class=\"col_heading level0 col17\" >info_msg</th>        <th class=\"col_heading level0 col18\" >filename</th>        <th class=\"col_heading level0 col19\" >tags</th>        <th class=\"col_heading level0 col20\" >username</th>        <th class=\"col_heading level0 col21\" >password</th>        <th class=\"col_heading level0 col22\" >proxied</th>        <th class=\"col_heading level0 col23\" >orig_fuids</th>        <th class=\"col_heading level0 col24\" >orig_mime_types</th>        <th class=\"col_heading level0 col25\" >resp_fuids</th>        <th class=\"col_heading level0 col26\" >resp_mime_types</th>    </tr></thead><tbody>\n",
       "                <tr>\n",
       "                        <th id=\"T_e6991348_87d7_11eb_9df8_acde48001122level0_row0\" class=\"row_heading level0 row0\" >0</th>\n",
       "                        <td id=\"T_e6991348_87d7_11eb_9df8_acde48001122row0_col0\" class=\"data row0 col0\" >1424256990.350022</td>\n",
       "                        <td id=\"T_e6991348_87d7_11eb_9df8_acde48001122row0_col1\" class=\"data row0 col1\" >CwgILB4FJZI9P9o4z1</td>\n",
       "                        <td id=\"T_e6991348_87d7_11eb_9df8_acde48001122row0_col2\" class=\"data row0 col2\" >59.166.0.1</td>\n",
       "                        <td id=\"T_e6991348_87d7_11eb_9df8_acde48001122row0_col3\" class=\"data row0 col3\" >41195</td>\n",
       "                        <td id=\"T_e6991348_87d7_11eb_9df8_acde48001122row0_col4\" class=\"data row0 col4\" >149.171.126.1</td>\n",
       "                        <td id=\"T_e6991348_87d7_11eb_9df8_acde48001122row0_col5\" class=\"data row0 col5\" >80</td>\n",
       "                        <td id=\"T_e6991348_87d7_11eb_9df8_acde48001122row0_col6\" class=\"data row0 col6\" >1</td>\n",
       "                        <td id=\"T_e6991348_87d7_11eb_9df8_acde48001122row0_col7\" class=\"data row0 col7\" >GET</td>\n",
       "                        <td id=\"T_e6991348_87d7_11eb_9df8_acde48001122row0_col8\" class=\"data row0 col8\" >Tracker</td>\n",
       "                        <td id=\"T_e6991348_87d7_11eb_9df8_acde48001122row0_col9\" class=\"data row0 col9\" >/announce?peer_id=-AR2621-949883860326&port=15836&uploaded=0&downloaded=0&left=8388610&compact=1&numwant=0&event=started&info_hash=\\x1d]\\xfb\\xcc\\x9f\\xeb\\xfckTfW\\xe3e\\xe8\\xed\\xa9 \\x0f5\\xf0</td>\n",
       "                        <td id=\"T_e6991348_87d7_11eb_9df8_acde48001122row0_col10\" class=\"data row0 col10\" >-</td>\n",
       "                        <td id=\"T_e6991348_87d7_11eb_9df8_acde48001122row0_col11\" class=\"data row0 col11\" >-</td>\n",
       "                        <td id=\"T_e6991348_87d7_11eb_9df8_acde48001122row0_col12\" class=\"data row0 col12\" >0</td>\n",
       "                        <td id=\"T_e6991348_87d7_11eb_9df8_acde48001122row0_col13\" class=\"data row0 col13\" >83</td>\n",
       "                        <td id=\"T_e6991348_87d7_11eb_9df8_acde48001122row0_col14\" class=\"data row0 col14\" >200.000000</td>\n",
       "                        <td id=\"T_e6991348_87d7_11eb_9df8_acde48001122row0_col15\" class=\"data row0 col15\" >OK</td>\n",
       "                        <td id=\"T_e6991348_87d7_11eb_9df8_acde48001122row0_col16\" class=\"data row0 col16\" >nan</td>\n",
       "                        <td id=\"T_e6991348_87d7_11eb_9df8_acde48001122row0_col17\" class=\"data row0 col17\" >-</td>\n",
       "                        <td id=\"T_e6991348_87d7_11eb_9df8_acde48001122row0_col18\" class=\"data row0 col18\" >-</td>\n",
       "                        <td id=\"T_e6991348_87d7_11eb_9df8_acde48001122row0_col19\" class=\"data row0 col19\" >(empty)</td>\n",
       "                        <td id=\"T_e6991348_87d7_11eb_9df8_acde48001122row0_col20\" class=\"data row0 col20\" >-</td>\n",
       "                        <td id=\"T_e6991348_87d7_11eb_9df8_acde48001122row0_col21\" class=\"data row0 col21\" >-</td>\n",
       "                        <td id=\"T_e6991348_87d7_11eb_9df8_acde48001122row0_col22\" class=\"data row0 col22\" >-</td>\n",
       "                        <td id=\"T_e6991348_87d7_11eb_9df8_acde48001122row0_col23\" class=\"data row0 col23\" >-</td>\n",
       "                        <td id=\"T_e6991348_87d7_11eb_9df8_acde48001122row0_col24\" class=\"data row0 col24\" >-</td>\n",
       "                        <td id=\"T_e6991348_87d7_11eb_9df8_acde48001122row0_col25\" class=\"data row0 col25\" >FdHIAGPzf33uaIXE9</td>\n",
       "                        <td id=\"T_e6991348_87d7_11eb_9df8_acde48001122row0_col26\" class=\"data row0 col26\" >text/plain</td>\n",
       "            </tr>\n",
       "    </tbody></table>"
      ],
      "text/plain": [
       "<pandas.io.formats.style.Styler at 0x126f67be0>"
      ]
     },
     "metadata": {},
     "output_type": "display_data"
    },
    {
     "name": "stdout",
     "output_type": "stream",
     "text": [
      "---- ssh.log ---- Normal\n"
     ]
    },
    {
     "data": {
      "text/html": [
       "<style  type=\"text/css\" >\n",
       "#T_e69ad6b0_87d7_11eb_9df8_acde48001122row0_col2,#T_e69ad6b0_87d7_11eb_9df8_acde48001122row0_col4{\n",
       "            background-color:  red;\n",
       "        }</style><table id=\"T_e69ad6b0_87d7_11eb_9df8_acde48001122\" ><thead>    <tr>        <th class=\"blank level0\" ></th>        <th class=\"col_heading level0 col0\" >ts</th>        <th class=\"col_heading level0 col1\" >uid</th>        <th class=\"col_heading level0 col2\" >id.orig_h</th>        <th class=\"col_heading level0 col3\" >id.orig_p</th>        <th class=\"col_heading level0 col4\" >id.resp_h</th>        <th class=\"col_heading level0 col5\" >id.resp_p</th>        <th class=\"col_heading level0 col6\" >status</th>        <th class=\"col_heading level0 col7\" >direction</th>        <th class=\"col_heading level0 col8\" >client</th>        <th class=\"col_heading level0 col9\" >server</th>    </tr></thead><tbody>\n",
       "                <tr>\n",
       "                        <th id=\"T_e69ad6b0_87d7_11eb_9df8_acde48001122level0_row0\" class=\"row_heading level0 row0\" >0</th>\n",
       "                        <td id=\"T_e69ad6b0_87d7_11eb_9df8_acde48001122row0_col0\" class=\"data row0 col0\" >1424256988.242291</td>\n",
       "                        <td id=\"T_e69ad6b0_87d7_11eb_9df8_acde48001122row0_col1\" class=\"data row0 col1\" >ChBvzV2CEZnYgi9gaa</td>\n",
       "                        <td id=\"T_e69ad6b0_87d7_11eb_9df8_acde48001122row0_col2\" class=\"data row0 col2\" >59.166.0.0</td>\n",
       "                        <td id=\"T_e69ad6b0_87d7_11eb_9df8_acde48001122row0_col3\" class=\"data row0 col3\" >3778</td>\n",
       "                        <td id=\"T_e69ad6b0_87d7_11eb_9df8_acde48001122row0_col4\" class=\"data row0 col4\" >149.171.126.2</td>\n",
       "                        <td id=\"T_e69ad6b0_87d7_11eb_9df8_acde48001122row0_col5\" class=\"data row0 col5\" >22</td>\n",
       "                        <td id=\"T_e69ad6b0_87d7_11eb_9df8_acde48001122row0_col6\" class=\"data row0 col6\" >success</td>\n",
       "                        <td id=\"T_e69ad6b0_87d7_11eb_9df8_acde48001122row0_col7\" class=\"data row0 col7\" >INBOUND</td>\n",
       "                        <td id=\"T_e69ad6b0_87d7_11eb_9df8_acde48001122row0_col8\" class=\"data row0 col8\" >SSH-2.0-PuTTY_Release_0.60</td>\n",
       "                        <td id=\"T_e69ad6b0_87d7_11eb_9df8_acde48001122row0_col9\" class=\"data row0 col9\" >SSH-1.99-OpenSSH_4.3</td>\n",
       "            </tr>\n",
       "    </tbody></table>"
      ],
      "text/plain": [
       "<pandas.io.formats.style.Styler at 0x12585b310>"
      ]
     },
     "metadata": {},
     "output_type": "display_data"
    },
    {
     "name": "stdout",
     "output_type": "stream",
     "text": [
      "---- ssl.log ---- Normal\n"
     ]
    },
    {
     "data": {
      "text/html": [
       "<style  type=\"text/css\" >\n",
       "#T_e69e687a_87d7_11eb_9df8_acde48001122row0_col2,#T_e69e687a_87d7_11eb_9df8_acde48001122row0_col4,#T_e69e687a_87d7_11eb_9df8_acde48001122row0_col9,#T_e69e687a_87d7_11eb_9df8_acde48001122row0_col15,#T_e69e687a_87d7_11eb_9df8_acde48001122row0_col16,#T_e69e687a_87d7_11eb_9df8_acde48001122row0_col17,#T_e69e687a_87d7_11eb_9df8_acde48001122row0_col18{\n",
       "            background-color:  red;\n",
       "        }</style><table id=\"T_e69e687a_87d7_11eb_9df8_acde48001122\" ><thead>    <tr>        <th class=\"blank level0\" ></th>        <th class=\"col_heading level0 col0\" >ts</th>        <th class=\"col_heading level0 col1\" >uid</th>        <th class=\"col_heading level0 col2\" >id.orig_h</th>        <th class=\"col_heading level0 col3\" >id.orig_p</th>        <th class=\"col_heading level0 col4\" >id.resp_h</th>        <th class=\"col_heading level0 col5\" >id.resp_p</th>        <th class=\"col_heading level0 col6\" >version</th>        <th class=\"col_heading level0 col7\" >cipher</th>        <th class=\"col_heading level0 col8\" >curve</th>        <th class=\"col_heading level0 col9\" >server_name</th>        <th class=\"col_heading level0 col10\" >session_id</th>        <th class=\"col_heading level0 col11\" >last_alert</th>        <th class=\"col_heading level0 col12\" >established</th>        <th class=\"col_heading level0 col13\" >cert_chain_fuids</th>        <th class=\"col_heading level0 col14\" >client_cert_chain_fuids</th>        <th class=\"col_heading level0 col15\" >subject</th>        <th class=\"col_heading level0 col16\" >issuer</th>        <th class=\"col_heading level0 col17\" >client_subject</th>        <th class=\"col_heading level0 col18\" >client_issuer</th>    </tr></thead><tbody>\n",
       "                <tr>\n",
       "                        <th id=\"T_e69e687a_87d7_11eb_9df8_acde48001122level0_row0\" class=\"row_heading level0 row0\" >0</th>\n",
       "                        <td id=\"T_e69e687a_87d7_11eb_9df8_acde48001122row0_col0\" class=\"data row0 col0\" >1424257005.940392</td>\n",
       "                        <td id=\"T_e69e687a_87d7_11eb_9df8_acde48001122row0_col1\" class=\"data row0 col1\" >CkIFoc3DTlsBeaFW66</td>\n",
       "                        <td id=\"T_e69e687a_87d7_11eb_9df8_acde48001122row0_col2\" class=\"data row0 col2\" >175.45.176.1</td>\n",
       "                        <td id=\"T_e69e687a_87d7_11eb_9df8_acde48001122row0_col3\" class=\"data row0 col3\" >17478</td>\n",
       "                        <td id=\"T_e69e687a_87d7_11eb_9df8_acde48001122row0_col4\" class=\"data row0 col4\" >149.171.126.12</td>\n",
       "                        <td id=\"T_e69e687a_87d7_11eb_9df8_acde48001122row0_col5\" class=\"data row0 col5\" >443</td>\n",
       "                        <td id=\"T_e69e687a_87d7_11eb_9df8_acde48001122row0_col6\" class=\"data row0 col6\" >TLSv10</td>\n",
       "                        <td id=\"T_e69e687a_87d7_11eb_9df8_acde48001122row0_col7\" class=\"data row0 col7\" >TLS_RSA_WITH_3DES_EDE_CBC_SHA</td>\n",
       "                        <td id=\"T_e69e687a_87d7_11eb_9df8_acde48001122row0_col8\" class=\"data row0 col8\" >-</td>\n",
       "                        <td id=\"T_e69e687a_87d7_11eb_9df8_acde48001122row0_col9\" class=\"data row0 col9\" >-</td>\n",
       "                        <td id=\"T_e69e687a_87d7_11eb_9df8_acde48001122row0_col10\" class=\"data row0 col10\" >08a79d45b747f5c828da00000000000000000000000000000000000000000000</td>\n",
       "                        <td id=\"T_e69e687a_87d7_11eb_9df8_acde48001122row0_col11\" class=\"data row0 col11\" >-</td>\n",
       "                        <td id=\"T_e69e687a_87d7_11eb_9df8_acde48001122row0_col12\" class=\"data row0 col12\" >F</td>\n",
       "                        <td id=\"T_e69e687a_87d7_11eb_9df8_acde48001122row0_col13\" class=\"data row0 col13\" >-</td>\n",
       "                        <td id=\"T_e69e687a_87d7_11eb_9df8_acde48001122row0_col14\" class=\"data row0 col14\" >-</td>\n",
       "                        <td id=\"T_e69e687a_87d7_11eb_9df8_acde48001122row0_col15\" class=\"data row0 col15\" >-</td>\n",
       "                        <td id=\"T_e69e687a_87d7_11eb_9df8_acde48001122row0_col16\" class=\"data row0 col16\" >-</td>\n",
       "                        <td id=\"T_e69e687a_87d7_11eb_9df8_acde48001122row0_col17\" class=\"data row0 col17\" >-</td>\n",
       "                        <td id=\"T_e69e687a_87d7_11eb_9df8_acde48001122row0_col18\" class=\"data row0 col18\" >-</td>\n",
       "            </tr>\n",
       "    </tbody></table>"
      ],
      "text/plain": [
       "<pandas.io.formats.style.Styler at 0x12588cd60>"
      ]
     },
     "metadata": {},
     "output_type": "display_data"
    }
   ],
   "source": [
    "for key in chosen_files:\n",
    "    print(\"---- \" + key + \" ---- Normal\")\n",
    "    display(orig_log_dataframes[key].iloc[:1,:].style.apply(highlight_col, axis=None))"
   ]
  },
  {
   "cell_type": "markdown",
   "metadata": {},
   "source": [
    "## Anonymisation process\n",
    "\n",
    "The PII fields are then anonymised in three categories of anonymisation. IP addresses, queries and other.\n",
    "\n",
    "##### IP addresses\n",
    "\n",
    "The IP addresses are transformed to a random IP addresses where IP addresses are split in octets and each octed is granted a random number. Which means that IP addresses in each octet are grouped together. For example: 1.2.3.50 and 1.2.3.100 might be transformed to 9.222.51.2 and 9.222.51.244. \n",
    "\n",
    "##### Queries\n",
    "\n",
    "The same is done with dns queries. To be able to preseve information, the domains at each level are mapped to the same random number (label) using scikitlearn's LabelEncoder. For example: google.com and dns.google.com could be mapped to 5.3 and 1.5.3\n",
    "\n",
    "##### Other\n",
    "\n",
    "The other PII fields are encoded with scikitlearn's LabelEncoder in its entirety. Which means that the same inputs are mapped to the same number (label)\n",
    "\n",
    "## Reversibility\n",
    "\n",
    "All transformation tables and LabelEncoders are deleted after the anonymisation process, which makes it irriversable. "
   ]
  },
  {
   "cell_type": "markdown",
   "metadata": {},
   "source": [
    "## Results - Normal and Anonymised\n",
    "\n",
    "Below, the results of the fields marked as PII and the anonymisation of the 6 selected log files can be found."
   ]
  },
  {
   "cell_type": "code",
   "execution_count": 4,
   "metadata": {},
   "outputs": [
    {
     "name": "stdout",
     "output_type": "stream",
     "text": [
      "---- conn.log ---- Normal\n"
     ]
    },
    {
     "data": {
      "text/html": [
       "<style  type=\"text/css\" >\n",
       "#T_e6a2e54e_87d7_11eb_9df8_acde48001122row0_col2,#T_e6a2e54e_87d7_11eb_9df8_acde48001122row0_col4{\n",
       "            background-color:  red;\n",
       "        }</style><table id=\"T_e6a2e54e_87d7_11eb_9df8_acde48001122\" ><thead>    <tr>        <th class=\"blank level0\" ></th>        <th class=\"col_heading level0 col0\" >ts</th>        <th class=\"col_heading level0 col1\" >uid</th>        <th class=\"col_heading level0 col2\" >id.orig_h</th>        <th class=\"col_heading level0 col3\" >id.orig_p</th>        <th class=\"col_heading level0 col4\" >id.resp_h</th>        <th class=\"col_heading level0 col5\" >id.resp_p</th>        <th class=\"col_heading level0 col6\" >proto</th>        <th class=\"col_heading level0 col7\" >service</th>        <th class=\"col_heading level0 col8\" >duration</th>        <th class=\"col_heading level0 col9\" >orig_bytes</th>        <th class=\"col_heading level0 col10\" >resp_bytes</th>        <th class=\"col_heading level0 col11\" >conn_state</th>        <th class=\"col_heading level0 col12\" >local_orig</th>        <th class=\"col_heading level0 col13\" >missed_bytes</th>        <th class=\"col_heading level0 col14\" >history</th>        <th class=\"col_heading level0 col15\" >orig_pkts</th>        <th class=\"col_heading level0 col16\" >orig_ip_bytes</th>        <th class=\"col_heading level0 col17\" >resp_pkts</th>        <th class=\"col_heading level0 col18\" >resp_ip_bytes</th>        <th class=\"col_heading level0 col19\" >tunnel_parents</th>    </tr></thead><tbody>\n",
       "                <tr>\n",
       "                        <th id=\"T_e6a2e54e_87d7_11eb_9df8_acde48001122level0_row0\" class=\"row_heading level0 row0\" >0</th>\n",
       "                        <td id=\"T_e6a2e54e_87d7_11eb_9df8_acde48001122row0_col0\" class=\"data row0 col0\" >1424256987.747828</td>\n",
       "                        <td id=\"T_e6a2e54e_87d7_11eb_9df8_acde48001122row0_col1\" class=\"data row0 col1\" >C8kfmaJvH8YSujzW5</td>\n",
       "                        <td id=\"T_e6a2e54e_87d7_11eb_9df8_acde48001122row0_col2\" class=\"data row0 col2\" >59.166.0.2</td>\n",
       "                        <td id=\"T_e6a2e54e_87d7_11eb_9df8_acde48001122row0_col3\" class=\"data row0 col3\" >57872</td>\n",
       "                        <td id=\"T_e6a2e54e_87d7_11eb_9df8_acde48001122row0_col4\" class=\"data row0 col4\" >149.171.126.9</td>\n",
       "                        <td id=\"T_e6a2e54e_87d7_11eb_9df8_acde48001122row0_col5\" class=\"data row0 col5\" >56104</td>\n",
       "                        <td id=\"T_e6a2e54e_87d7_11eb_9df8_acde48001122row0_col6\" class=\"data row0 col6\" >tcp</td>\n",
       "                        <td id=\"T_e6a2e54e_87d7_11eb_9df8_acde48001122row0_col7\" class=\"data row0 col7\" >-</td>\n",
       "                        <td id=\"T_e6a2e54e_87d7_11eb_9df8_acde48001122row0_col8\" class=\"data row0 col8\" >0.027552</td>\n",
       "                        <td id=\"T_e6a2e54e_87d7_11eb_9df8_acde48001122row0_col9\" class=\"data row0 col9\" >227.000000</td>\n",
       "                        <td id=\"T_e6a2e54e_87d7_11eb_9df8_acde48001122row0_col10\" class=\"data row0 col10\" >11587.000000</td>\n",
       "                        <td id=\"T_e6a2e54e_87d7_11eb_9df8_acde48001122row0_col11\" class=\"data row0 col11\" >SF</td>\n",
       "                        <td id=\"T_e6a2e54e_87d7_11eb_9df8_acde48001122row0_col12\" class=\"data row0 col12\" >-</td>\n",
       "                        <td id=\"T_e6a2e54e_87d7_11eb_9df8_acde48001122row0_col13\" class=\"data row0 col13\" >0</td>\n",
       "                        <td id=\"T_e6a2e54e_87d7_11eb_9df8_acde48001122row0_col14\" class=\"data row0 col14\" >ShADadfF</td>\n",
       "                        <td id=\"T_e6a2e54e_87d7_11eb_9df8_acde48001122row0_col15\" class=\"data row0 col15\" >42</td>\n",
       "                        <td id=\"T_e6a2e54e_87d7_11eb_9df8_acde48001122row0_col16\" class=\"data row0 col16\" >2646</td>\n",
       "                        <td id=\"T_e6a2e54e_87d7_11eb_9df8_acde48001122row0_col17\" class=\"data row0 col17\" >44</td>\n",
       "                        <td id=\"T_e6a2e54e_87d7_11eb_9df8_acde48001122row0_col18\" class=\"data row0 col18\" >25470</td>\n",
       "                        <td id=\"T_e6a2e54e_87d7_11eb_9df8_acde48001122row0_col19\" class=\"data row0 col19\" >(empty)</td>\n",
       "            </tr>\n",
       "    </tbody></table>"
      ],
      "text/plain": [
       "<pandas.io.formats.style.Styler at 0x106a308e0>"
      ]
     },
     "metadata": {},
     "output_type": "display_data"
    },
    {
     "name": "stdout",
     "output_type": "stream",
     "text": [
      "---- conn.log ---- Anonymised\n"
     ]
    },
    {
     "data": {
      "text/html": [
       "<style  type=\"text/css\" >\n",
       "#T_e6a66dd6_87d7_11eb_9df8_acde48001122row0_col2,#T_e6a66dd6_87d7_11eb_9df8_acde48001122row0_col4{\n",
       "            background-color:  red;\n",
       "        }</style><table id=\"T_e6a66dd6_87d7_11eb_9df8_acde48001122\" ><thead>    <tr>        <th class=\"blank level0\" ></th>        <th class=\"col_heading level0 col0\" >ts</th>        <th class=\"col_heading level0 col1\" >uid</th>        <th class=\"col_heading level0 col2\" >id.orig_h</th>        <th class=\"col_heading level0 col3\" >id.orig_p</th>        <th class=\"col_heading level0 col4\" >id.resp_h</th>        <th class=\"col_heading level0 col5\" >id.resp_p</th>        <th class=\"col_heading level0 col6\" >proto</th>        <th class=\"col_heading level0 col7\" >service</th>        <th class=\"col_heading level0 col8\" >duration</th>        <th class=\"col_heading level0 col9\" >orig_bytes</th>        <th class=\"col_heading level0 col10\" >resp_bytes</th>        <th class=\"col_heading level0 col11\" >conn_state</th>        <th class=\"col_heading level0 col12\" >local_orig</th>        <th class=\"col_heading level0 col13\" >missed_bytes</th>        <th class=\"col_heading level0 col14\" >history</th>        <th class=\"col_heading level0 col15\" >orig_pkts</th>        <th class=\"col_heading level0 col16\" >orig_ip_bytes</th>        <th class=\"col_heading level0 col17\" >resp_pkts</th>        <th class=\"col_heading level0 col18\" >resp_ip_bytes</th>        <th class=\"col_heading level0 col19\" >tunnel_parents</th>    </tr></thead><tbody>\n",
       "                <tr>\n",
       "                        <th id=\"T_e6a66dd6_87d7_11eb_9df8_acde48001122level0_row0\" class=\"row_heading level0 row0\" >0</th>\n",
       "                        <td id=\"T_e6a66dd6_87d7_11eb_9df8_acde48001122row0_col0\" class=\"data row0 col0\" >1424256987.747828</td>\n",
       "                        <td id=\"T_e6a66dd6_87d7_11eb_9df8_acde48001122row0_col1\" class=\"data row0 col1\" >C8kfmaJvH8YSujzW5</td>\n",
       "                        <td id=\"T_e6a66dd6_87d7_11eb_9df8_acde48001122row0_col2\" class=\"data row0 col2\" >43.50.116.71</td>\n",
       "                        <td id=\"T_e6a66dd6_87d7_11eb_9df8_acde48001122row0_col3\" class=\"data row0 col3\" >57872</td>\n",
       "                        <td id=\"T_e6a66dd6_87d7_11eb_9df8_acde48001122row0_col4\" class=\"data row0 col4\" >221.210.86.69</td>\n",
       "                        <td id=\"T_e6a66dd6_87d7_11eb_9df8_acde48001122row0_col5\" class=\"data row0 col5\" >56104</td>\n",
       "                        <td id=\"T_e6a66dd6_87d7_11eb_9df8_acde48001122row0_col6\" class=\"data row0 col6\" >tcp</td>\n",
       "                        <td id=\"T_e6a66dd6_87d7_11eb_9df8_acde48001122row0_col7\" class=\"data row0 col7\" >-</td>\n",
       "                        <td id=\"T_e6a66dd6_87d7_11eb_9df8_acde48001122row0_col8\" class=\"data row0 col8\" >0.027552</td>\n",
       "                        <td id=\"T_e6a66dd6_87d7_11eb_9df8_acde48001122row0_col9\" class=\"data row0 col9\" >227.000000</td>\n",
       "                        <td id=\"T_e6a66dd6_87d7_11eb_9df8_acde48001122row0_col10\" class=\"data row0 col10\" >11587.000000</td>\n",
       "                        <td id=\"T_e6a66dd6_87d7_11eb_9df8_acde48001122row0_col11\" class=\"data row0 col11\" >SF</td>\n",
       "                        <td id=\"T_e6a66dd6_87d7_11eb_9df8_acde48001122row0_col12\" class=\"data row0 col12\" >-</td>\n",
       "                        <td id=\"T_e6a66dd6_87d7_11eb_9df8_acde48001122row0_col13\" class=\"data row0 col13\" >0</td>\n",
       "                        <td id=\"T_e6a66dd6_87d7_11eb_9df8_acde48001122row0_col14\" class=\"data row0 col14\" >ShADadfF</td>\n",
       "                        <td id=\"T_e6a66dd6_87d7_11eb_9df8_acde48001122row0_col15\" class=\"data row0 col15\" >42</td>\n",
       "                        <td id=\"T_e6a66dd6_87d7_11eb_9df8_acde48001122row0_col16\" class=\"data row0 col16\" >2646</td>\n",
       "                        <td id=\"T_e6a66dd6_87d7_11eb_9df8_acde48001122row0_col17\" class=\"data row0 col17\" >44</td>\n",
       "                        <td id=\"T_e6a66dd6_87d7_11eb_9df8_acde48001122row0_col18\" class=\"data row0 col18\" >25470</td>\n",
       "                        <td id=\"T_e6a66dd6_87d7_11eb_9df8_acde48001122row0_col19\" class=\"data row0 col19\" >(empty)</td>\n",
       "            </tr>\n",
       "    </tbody></table>"
      ],
      "text/plain": [
       "<pandas.io.formats.style.Styler at 0x106a30700>"
      ]
     },
     "metadata": {},
     "output_type": "display_data"
    },
    {
     "name": "stdout",
     "output_type": "stream",
     "text": [
      "---- dns.log ---- Normal\n"
     ]
    },
    {
     "data": {
      "text/html": [
       "<style  type=\"text/css\" >\n",
       "#T_e6a9d2be_87d7_11eb_9df8_acde48001122row0_col2,#T_e6a9d2be_87d7_11eb_9df8_acde48001122row0_col4,#T_e6a9d2be_87d7_11eb_9df8_acde48001122row0_col8,#T_e6a9d2be_87d7_11eb_9df8_acde48001122row0_col20{\n",
       "            background-color:  red;\n",
       "        }</style><table id=\"T_e6a9d2be_87d7_11eb_9df8_acde48001122\" ><thead>    <tr>        <th class=\"blank level0\" ></th>        <th class=\"col_heading level0 col0\" >ts</th>        <th class=\"col_heading level0 col1\" >uid</th>        <th class=\"col_heading level0 col2\" >id.orig_h</th>        <th class=\"col_heading level0 col3\" >id.orig_p</th>        <th class=\"col_heading level0 col4\" >id.resp_h</th>        <th class=\"col_heading level0 col5\" >id.resp_p</th>        <th class=\"col_heading level0 col6\" >proto</th>        <th class=\"col_heading level0 col7\" >trans_id</th>        <th class=\"col_heading level0 col8\" >query</th>        <th class=\"col_heading level0 col9\" >qclass</th>        <th class=\"col_heading level0 col10\" >qclass_name</th>        <th class=\"col_heading level0 col11\" >qtype</th>        <th class=\"col_heading level0 col12\" >qtype_name</th>        <th class=\"col_heading level0 col13\" >rcode</th>        <th class=\"col_heading level0 col14\" >rcode_name</th>        <th class=\"col_heading level0 col15\" >AA</th>        <th class=\"col_heading level0 col16\" >TC</th>        <th class=\"col_heading level0 col17\" >RD</th>        <th class=\"col_heading level0 col18\" >RA</th>        <th class=\"col_heading level0 col19\" >Z</th>        <th class=\"col_heading level0 col20\" >answers</th>        <th class=\"col_heading level0 col21\" >TTLs</th>        <th class=\"col_heading level0 col22\" >rejected</th>    </tr></thead><tbody>\n",
       "                <tr>\n",
       "                        <th id=\"T_e6a9d2be_87d7_11eb_9df8_acde48001122level0_row0\" class=\"row_heading level0 row0\" >0</th>\n",
       "                        <td id=\"T_e6a9d2be_87d7_11eb_9df8_acde48001122row0_col0\" class=\"data row0 col0\" >1424256988.447831</td>\n",
       "                        <td id=\"T_e6a9d2be_87d7_11eb_9df8_acde48001122row0_col1\" class=\"data row0 col1\" >CcCQqj3E6KlwtFnRja</td>\n",
       "                        <td id=\"T_e6a9d2be_87d7_11eb_9df8_acde48001122row0_col2\" class=\"data row0 col2\" >59.166.0.4</td>\n",
       "                        <td id=\"T_e6a9d2be_87d7_11eb_9df8_acde48001122row0_col3\" class=\"data row0 col3\" >7745</td>\n",
       "                        <td id=\"T_e6a9d2be_87d7_11eb_9df8_acde48001122row0_col4\" class=\"data row0 col4\" >149.171.126.2</td>\n",
       "                        <td id=\"T_e6a9d2be_87d7_11eb_9df8_acde48001122row0_col5\" class=\"data row0 col5\" >53</td>\n",
       "                        <td id=\"T_e6a9d2be_87d7_11eb_9df8_acde48001122row0_col6\" class=\"data row0 col6\" >udp</td>\n",
       "                        <td id=\"T_e6a9d2be_87d7_11eb_9df8_acde48001122row0_col7\" class=\"data row0 col7\" >48100</td>\n",
       "                        <td id=\"T_e6a9d2be_87d7_11eb_9df8_acde48001122row0_col8\" class=\"data row0 col8\" >server-95ab7e07.int</td>\n",
       "                        <td id=\"T_e6a9d2be_87d7_11eb_9df8_acde48001122row0_col9\" class=\"data row0 col9\" >1.000000</td>\n",
       "                        <td id=\"T_e6a9d2be_87d7_11eb_9df8_acde48001122row0_col10\" class=\"data row0 col10\" >C_INTERNET</td>\n",
       "                        <td id=\"T_e6a9d2be_87d7_11eb_9df8_acde48001122row0_col11\" class=\"data row0 col11\" >1.000000</td>\n",
       "                        <td id=\"T_e6a9d2be_87d7_11eb_9df8_acde48001122row0_col12\" class=\"data row0 col12\" >A</td>\n",
       "                        <td id=\"T_e6a9d2be_87d7_11eb_9df8_acde48001122row0_col13\" class=\"data row0 col13\" >0.000000</td>\n",
       "                        <td id=\"T_e6a9d2be_87d7_11eb_9df8_acde48001122row0_col14\" class=\"data row0 col14\" >NOERROR</td>\n",
       "                        <td id=\"T_e6a9d2be_87d7_11eb_9df8_acde48001122row0_col15\" class=\"data row0 col15\" >F</td>\n",
       "                        <td id=\"T_e6a9d2be_87d7_11eb_9df8_acde48001122row0_col16\" class=\"data row0 col16\" >F</td>\n",
       "                        <td id=\"T_e6a9d2be_87d7_11eb_9df8_acde48001122row0_col17\" class=\"data row0 col17\" >T</td>\n",
       "                        <td id=\"T_e6a9d2be_87d7_11eb_9df8_acde48001122row0_col18\" class=\"data row0 col18\" >T</td>\n",
       "                        <td id=\"T_e6a9d2be_87d7_11eb_9df8_acde48001122row0_col19\" class=\"data row0 col19\" >0</td>\n",
       "                        <td id=\"T_e6a9d2be_87d7_11eb_9df8_acde48001122row0_col20\" class=\"data row0 col20\" >149.171.126.7</td>\n",
       "                        <td id=\"T_e6a9d2be_87d7_11eb_9df8_acde48001122row0_col21\" class=\"data row0 col21\" >60.000000</td>\n",
       "                        <td id=\"T_e6a9d2be_87d7_11eb_9df8_acde48001122row0_col22\" class=\"data row0 col22\" >F</td>\n",
       "            </tr>\n",
       "    </tbody></table>"
      ],
      "text/plain": [
       "<pandas.io.formats.style.Styler at 0x126694ca0>"
      ]
     },
     "metadata": {},
     "output_type": "display_data"
    },
    {
     "name": "stdout",
     "output_type": "stream",
     "text": [
      "---- dns.log ---- Anonymised\n"
     ]
    },
    {
     "data": {
      "text/html": [
       "<style  type=\"text/css\" >\n",
       "#T_e6ae04a6_87d7_11eb_9df8_acde48001122row0_col2,#T_e6ae04a6_87d7_11eb_9df8_acde48001122row0_col4,#T_e6ae04a6_87d7_11eb_9df8_acde48001122row0_col8,#T_e6ae04a6_87d7_11eb_9df8_acde48001122row0_col20{\n",
       "            background-color:  red;\n",
       "        }</style><table id=\"T_e6ae04a6_87d7_11eb_9df8_acde48001122\" ><thead>    <tr>        <th class=\"blank level0\" ></th>        <th class=\"col_heading level0 col0\" >ts</th>        <th class=\"col_heading level0 col1\" >uid</th>        <th class=\"col_heading level0 col2\" >id.orig_h</th>        <th class=\"col_heading level0 col3\" >id.orig_p</th>        <th class=\"col_heading level0 col4\" >id.resp_h</th>        <th class=\"col_heading level0 col5\" >id.resp_p</th>        <th class=\"col_heading level0 col6\" >proto</th>        <th class=\"col_heading level0 col7\" >trans_id</th>        <th class=\"col_heading level0 col8\" >query</th>        <th class=\"col_heading level0 col9\" >qclass</th>        <th class=\"col_heading level0 col10\" >qclass_name</th>        <th class=\"col_heading level0 col11\" >qtype</th>        <th class=\"col_heading level0 col12\" >qtype_name</th>        <th class=\"col_heading level0 col13\" >rcode</th>        <th class=\"col_heading level0 col14\" >rcode_name</th>        <th class=\"col_heading level0 col15\" >AA</th>        <th class=\"col_heading level0 col16\" >TC</th>        <th class=\"col_heading level0 col17\" >RD</th>        <th class=\"col_heading level0 col18\" >RA</th>        <th class=\"col_heading level0 col19\" >Z</th>        <th class=\"col_heading level0 col20\" >answers</th>        <th class=\"col_heading level0 col21\" >TTLs</th>        <th class=\"col_heading level0 col22\" >rejected</th>    </tr></thead><tbody>\n",
       "                <tr>\n",
       "                        <th id=\"T_e6ae04a6_87d7_11eb_9df8_acde48001122level0_row0\" class=\"row_heading level0 row0\" >0</th>\n",
       "                        <td id=\"T_e6ae04a6_87d7_11eb_9df8_acde48001122row0_col0\" class=\"data row0 col0\" >1424256988.447831</td>\n",
       "                        <td id=\"T_e6ae04a6_87d7_11eb_9df8_acde48001122row0_col1\" class=\"data row0 col1\" >CcCQqj3E6KlwtFnRja</td>\n",
       "                        <td id=\"T_e6ae04a6_87d7_11eb_9df8_acde48001122row0_col2\" class=\"data row0 col2\" >43.50.116.15</td>\n",
       "                        <td id=\"T_e6ae04a6_87d7_11eb_9df8_acde48001122row0_col3\" class=\"data row0 col3\" >7745</td>\n",
       "                        <td id=\"T_e6ae04a6_87d7_11eb_9df8_acde48001122row0_col4\" class=\"data row0 col4\" >221.210.86.71</td>\n",
       "                        <td id=\"T_e6ae04a6_87d7_11eb_9df8_acde48001122row0_col5\" class=\"data row0 col5\" >53</td>\n",
       "                        <td id=\"T_e6ae04a6_87d7_11eb_9df8_acde48001122row0_col6\" class=\"data row0 col6\" >udp</td>\n",
       "                        <td id=\"T_e6ae04a6_87d7_11eb_9df8_acde48001122row0_col7\" class=\"data row0 col7\" >48100</td>\n",
       "                        <td id=\"T_e6ae04a6_87d7_11eb_9df8_acde48001122row0_col8\" class=\"data row0 col8\" >0.0</td>\n",
       "                        <td id=\"T_e6ae04a6_87d7_11eb_9df8_acde48001122row0_col9\" class=\"data row0 col9\" >1.000000</td>\n",
       "                        <td id=\"T_e6ae04a6_87d7_11eb_9df8_acde48001122row0_col10\" class=\"data row0 col10\" >C_INTERNET</td>\n",
       "                        <td id=\"T_e6ae04a6_87d7_11eb_9df8_acde48001122row0_col11\" class=\"data row0 col11\" >1.000000</td>\n",
       "                        <td id=\"T_e6ae04a6_87d7_11eb_9df8_acde48001122row0_col12\" class=\"data row0 col12\" >A</td>\n",
       "                        <td id=\"T_e6ae04a6_87d7_11eb_9df8_acde48001122row0_col13\" class=\"data row0 col13\" >0.000000</td>\n",
       "                        <td id=\"T_e6ae04a6_87d7_11eb_9df8_acde48001122row0_col14\" class=\"data row0 col14\" >NOERROR</td>\n",
       "                        <td id=\"T_e6ae04a6_87d7_11eb_9df8_acde48001122row0_col15\" class=\"data row0 col15\" >F</td>\n",
       "                        <td id=\"T_e6ae04a6_87d7_11eb_9df8_acde48001122row0_col16\" class=\"data row0 col16\" >F</td>\n",
       "                        <td id=\"T_e6ae04a6_87d7_11eb_9df8_acde48001122row0_col17\" class=\"data row0 col17\" >T</td>\n",
       "                        <td id=\"T_e6ae04a6_87d7_11eb_9df8_acde48001122row0_col18\" class=\"data row0 col18\" >T</td>\n",
       "                        <td id=\"T_e6ae04a6_87d7_11eb_9df8_acde48001122row0_col19\" class=\"data row0 col19\" >0</td>\n",
       "                        <td id=\"T_e6ae04a6_87d7_11eb_9df8_acde48001122row0_col20\" class=\"data row0 col20\" >221.210.86.231</td>\n",
       "                        <td id=\"T_e6ae04a6_87d7_11eb_9df8_acde48001122row0_col21\" class=\"data row0 col21\" >60.000000</td>\n",
       "                        <td id=\"T_e6ae04a6_87d7_11eb_9df8_acde48001122row0_col22\" class=\"data row0 col22\" >F</td>\n",
       "            </tr>\n",
       "    </tbody></table>"
      ],
      "text/plain": [
       "<pandas.io.formats.style.Styler at 0x126694a00>"
      ]
     },
     "metadata": {},
     "output_type": "display_data"
    },
    {
     "name": "stdout",
     "output_type": "stream",
     "text": [
      "---- ftp.log ---- Normal\n"
     ]
    },
    {
     "data": {
      "text/html": [
       "<style  type=\"text/css\" >\n",
       "#T_e6b7a272_87d7_11eb_9df8_acde48001122row0_col2,#T_e6b7a272_87d7_11eb_9df8_acde48001122row0_col4,#T_e6b7a272_87d7_11eb_9df8_acde48001122row0_col6,#T_e6b7a272_87d7_11eb_9df8_acde48001122row0_col7,#T_e6b7a272_87d7_11eb_9df8_acde48001122row0_col9,#T_e6b7a272_87d7_11eb_9df8_acde48001122row0_col15,#T_e6b7a272_87d7_11eb_9df8_acde48001122row0_col16{\n",
       "            background-color:  red;\n",
       "        }</style><table id=\"T_e6b7a272_87d7_11eb_9df8_acde48001122\" ><thead>    <tr>        <th class=\"blank level0\" ></th>        <th class=\"col_heading level0 col0\" >ts</th>        <th class=\"col_heading level0 col1\" >uid</th>        <th class=\"col_heading level0 col2\" >id.orig_h</th>        <th class=\"col_heading level0 col3\" >id.orig_p</th>        <th class=\"col_heading level0 col4\" >id.resp_h</th>        <th class=\"col_heading level0 col5\" >id.resp_p</th>        <th class=\"col_heading level0 col6\" >user</th>        <th class=\"col_heading level0 col7\" >password</th>        <th class=\"col_heading level0 col8\" >command</th>        <th class=\"col_heading level0 col9\" >arg</th>        <th class=\"col_heading level0 col10\" >mime_type</th>        <th class=\"col_heading level0 col11\" >file_size</th>        <th class=\"col_heading level0 col12\" >reply_code</th>        <th class=\"col_heading level0 col13\" >reply_msg</th>        <th class=\"col_heading level0 col14\" >data_channel.passive</th>        <th class=\"col_heading level0 col15\" >data_channel.orig_h</th>        <th class=\"col_heading level0 col16\" >data_channel.resp_h</th>        <th class=\"col_heading level0 col17\" >data_channel.resp_p</th>        <th class=\"col_heading level0 col18\" >fuid</th>    </tr></thead><tbody>\n",
       "                <tr>\n",
       "                        <th id=\"T_e6b7a272_87d7_11eb_9df8_acde48001122level0_row0\" class=\"row_heading level0 row0\" >0</th>\n",
       "                        <td id=\"T_e6b7a272_87d7_11eb_9df8_acde48001122row0_col0\" class=\"data row0 col0\" >1424256989.952859</td>\n",
       "                        <td id=\"T_e6b7a272_87d7_11eb_9df8_acde48001122row0_col1\" class=\"data row0 col1\" >CsfksnMVMnOYhPiB7</td>\n",
       "                        <td id=\"T_e6b7a272_87d7_11eb_9df8_acde48001122row0_col2\" class=\"data row0 col2\" >59.166.0.8</td>\n",
       "                        <td id=\"T_e6b7a272_87d7_11eb_9df8_acde48001122row0_col3\" class=\"data row0 col3\" >5146</td>\n",
       "                        <td id=\"T_e6b7a272_87d7_11eb_9df8_acde48001122row0_col4\" class=\"data row0 col4\" >149.171.126.3</td>\n",
       "                        <td id=\"T_e6b7a272_87d7_11eb_9df8_acde48001122row0_col5\" class=\"data row0 col5\" >21</td>\n",
       "                        <td id=\"T_e6b7a272_87d7_11eb_9df8_acde48001122row0_col6\" class=\"data row0 col6\" >anonymous</td>\n",
       "                        <td id=\"T_e6b7a272_87d7_11eb_9df8_acde48001122row0_col7\" class=\"data row0 col7\" >jobs@server.com</td>\n",
       "                        <td id=\"T_e6b7a272_87d7_11eb_9df8_acde48001122row0_col8\" class=\"data row0 col8\" >EPSV</td>\n",
       "                        <td id=\"T_e6b7a272_87d7_11eb_9df8_acde48001122row0_col9\" class=\"data row0 col9\" >-</td>\n",
       "                        <td id=\"T_e6b7a272_87d7_11eb_9df8_acde48001122row0_col10\" class=\"data row0 col10\" >-</td>\n",
       "                        <td id=\"T_e6b7a272_87d7_11eb_9df8_acde48001122row0_col11\" class=\"data row0 col11\" >nan</td>\n",
       "                        <td id=\"T_e6b7a272_87d7_11eb_9df8_acde48001122row0_col12\" class=\"data row0 col12\" >229</td>\n",
       "                        <td id=\"T_e6b7a272_87d7_11eb_9df8_acde48001122row0_col13\" class=\"data row0 col13\" >Extended Passive Mode OK (|||24196|)</td>\n",
       "                        <td id=\"T_e6b7a272_87d7_11eb_9df8_acde48001122row0_col14\" class=\"data row0 col14\" >T</td>\n",
       "                        <td id=\"T_e6b7a272_87d7_11eb_9df8_acde48001122row0_col15\" class=\"data row0 col15\" >59.166.0.8</td>\n",
       "                        <td id=\"T_e6b7a272_87d7_11eb_9df8_acde48001122row0_col16\" class=\"data row0 col16\" >149.171.126.3</td>\n",
       "                        <td id=\"T_e6b7a272_87d7_11eb_9df8_acde48001122row0_col17\" class=\"data row0 col17\" >24196.000000</td>\n",
       "                        <td id=\"T_e6b7a272_87d7_11eb_9df8_acde48001122row0_col18\" class=\"data row0 col18\" >-</td>\n",
       "            </tr>\n",
       "    </tbody></table>"
      ],
      "text/plain": [
       "<pandas.io.formats.style.Styler at 0x126dbb700>"
      ]
     },
     "metadata": {},
     "output_type": "display_data"
    },
    {
     "name": "stdout",
     "output_type": "stream",
     "text": [
      "---- ftp.log ---- Anonymised\n"
     ]
    },
    {
     "data": {
      "text/html": [
       "<style  type=\"text/css\" >\n",
       "#T_e6baee28_87d7_11eb_9df8_acde48001122row0_col2,#T_e6baee28_87d7_11eb_9df8_acde48001122row0_col4,#T_e6baee28_87d7_11eb_9df8_acde48001122row0_col6,#T_e6baee28_87d7_11eb_9df8_acde48001122row0_col7,#T_e6baee28_87d7_11eb_9df8_acde48001122row0_col9,#T_e6baee28_87d7_11eb_9df8_acde48001122row0_col15,#T_e6baee28_87d7_11eb_9df8_acde48001122row0_col16{\n",
       "            background-color:  red;\n",
       "        }</style><table id=\"T_e6baee28_87d7_11eb_9df8_acde48001122\" ><thead>    <tr>        <th class=\"blank level0\" ></th>        <th class=\"col_heading level0 col0\" >ts</th>        <th class=\"col_heading level0 col1\" >uid</th>        <th class=\"col_heading level0 col2\" >id.orig_h</th>        <th class=\"col_heading level0 col3\" >id.orig_p</th>        <th class=\"col_heading level0 col4\" >id.resp_h</th>        <th class=\"col_heading level0 col5\" >id.resp_p</th>        <th class=\"col_heading level0 col6\" >user</th>        <th class=\"col_heading level0 col7\" >password</th>        <th class=\"col_heading level0 col8\" >command</th>        <th class=\"col_heading level0 col9\" >arg</th>        <th class=\"col_heading level0 col10\" >mime_type</th>        <th class=\"col_heading level0 col11\" >file_size</th>        <th class=\"col_heading level0 col12\" >reply_code</th>        <th class=\"col_heading level0 col13\" >reply_msg</th>        <th class=\"col_heading level0 col14\" >data_channel.passive</th>        <th class=\"col_heading level0 col15\" >data_channel.orig_h</th>        <th class=\"col_heading level0 col16\" >data_channel.resp_h</th>        <th class=\"col_heading level0 col17\" >data_channel.resp_p</th>        <th class=\"col_heading level0 col18\" >fuid</th>    </tr></thead><tbody>\n",
       "                <tr>\n",
       "                        <th id=\"T_e6baee28_87d7_11eb_9df8_acde48001122level0_row0\" class=\"row_heading level0 row0\" >0</th>\n",
       "                        <td id=\"T_e6baee28_87d7_11eb_9df8_acde48001122row0_col0\" class=\"data row0 col0\" >1424256989.952859</td>\n",
       "                        <td id=\"T_e6baee28_87d7_11eb_9df8_acde48001122row0_col1\" class=\"data row0 col1\" >CsfksnMVMnOYhPiB7</td>\n",
       "                        <td id=\"T_e6baee28_87d7_11eb_9df8_acde48001122row0_col2\" class=\"data row0 col2\" >43.50.116.241</td>\n",
       "                        <td id=\"T_e6baee28_87d7_11eb_9df8_acde48001122row0_col3\" class=\"data row0 col3\" >5146</td>\n",
       "                        <td id=\"T_e6baee28_87d7_11eb_9df8_acde48001122row0_col4\" class=\"data row0 col4\" >221.210.86.125</td>\n",
       "                        <td id=\"T_e6baee28_87d7_11eb_9df8_acde48001122row0_col5\" class=\"data row0 col5\" >21</td>\n",
       "                        <td id=\"T_e6baee28_87d7_11eb_9df8_acde48001122row0_col6\" class=\"data row0 col6\" >1</td>\n",
       "                        <td id=\"T_e6baee28_87d7_11eb_9df8_acde48001122row0_col7\" class=\"data row0 col7\" >2</td>\n",
       "                        <td id=\"T_e6baee28_87d7_11eb_9df8_acde48001122row0_col8\" class=\"data row0 col8\" >EPSV</td>\n",
       "                        <td id=\"T_e6baee28_87d7_11eb_9df8_acde48001122row0_col9\" class=\"data row0 col9\" >0</td>\n",
       "                        <td id=\"T_e6baee28_87d7_11eb_9df8_acde48001122row0_col10\" class=\"data row0 col10\" >-</td>\n",
       "                        <td id=\"T_e6baee28_87d7_11eb_9df8_acde48001122row0_col11\" class=\"data row0 col11\" >nan</td>\n",
       "                        <td id=\"T_e6baee28_87d7_11eb_9df8_acde48001122row0_col12\" class=\"data row0 col12\" >229</td>\n",
       "                        <td id=\"T_e6baee28_87d7_11eb_9df8_acde48001122row0_col13\" class=\"data row0 col13\" >Extended Passive Mode OK (|||24196|)</td>\n",
       "                        <td id=\"T_e6baee28_87d7_11eb_9df8_acde48001122row0_col14\" class=\"data row0 col14\" >T</td>\n",
       "                        <td id=\"T_e6baee28_87d7_11eb_9df8_acde48001122row0_col15\" class=\"data row0 col15\" >43.50.116.241</td>\n",
       "                        <td id=\"T_e6baee28_87d7_11eb_9df8_acde48001122row0_col16\" class=\"data row0 col16\" >221.210.86.125</td>\n",
       "                        <td id=\"T_e6baee28_87d7_11eb_9df8_acde48001122row0_col17\" class=\"data row0 col17\" >24196.000000</td>\n",
       "                        <td id=\"T_e6baee28_87d7_11eb_9df8_acde48001122row0_col18\" class=\"data row0 col18\" >-</td>\n",
       "            </tr>\n",
       "    </tbody></table>"
      ],
      "text/plain": [
       "<pandas.io.formats.style.Styler at 0x12401cee0>"
      ]
     },
     "metadata": {},
     "output_type": "display_data"
    },
    {
     "name": "stdout",
     "output_type": "stream",
     "text": [
      "---- http.log ---- Normal\n"
     ]
    },
    {
     "data": {
      "text/html": [
       "<style  type=\"text/css\" >\n",
       "#T_e6bf2696_87d7_11eb_9df8_acde48001122row0_col2,#T_e6bf2696_87d7_11eb_9df8_acde48001122row0_col4,#T_e6bf2696_87d7_11eb_9df8_acde48001122row0_col8,#T_e6bf2696_87d7_11eb_9df8_acde48001122row0_col9,#T_e6bf2696_87d7_11eb_9df8_acde48001122row0_col18,#T_e6bf2696_87d7_11eb_9df8_acde48001122row0_col20,#T_e6bf2696_87d7_11eb_9df8_acde48001122row0_col21{\n",
       "            background-color:  red;\n",
       "        }</style><table id=\"T_e6bf2696_87d7_11eb_9df8_acde48001122\" ><thead>    <tr>        <th class=\"blank level0\" ></th>        <th class=\"col_heading level0 col0\" >ts</th>        <th class=\"col_heading level0 col1\" >uid</th>        <th class=\"col_heading level0 col2\" >id.orig_h</th>        <th class=\"col_heading level0 col3\" >id.orig_p</th>        <th class=\"col_heading level0 col4\" >id.resp_h</th>        <th class=\"col_heading level0 col5\" >id.resp_p</th>        <th class=\"col_heading level0 col6\" >trans_depth</th>        <th class=\"col_heading level0 col7\" >method</th>        <th class=\"col_heading level0 col8\" >host</th>        <th class=\"col_heading level0 col9\" >uri</th>        <th class=\"col_heading level0 col10\" >referrer</th>        <th class=\"col_heading level0 col11\" >user_agent</th>        <th class=\"col_heading level0 col12\" >request_body_len</th>        <th class=\"col_heading level0 col13\" >response_body_len</th>        <th class=\"col_heading level0 col14\" >status_code</th>        <th class=\"col_heading level0 col15\" >status_msg</th>        <th class=\"col_heading level0 col16\" >info_code</th>        <th class=\"col_heading level0 col17\" >info_msg</th>        <th class=\"col_heading level0 col18\" >filename</th>        <th class=\"col_heading level0 col19\" >tags</th>        <th class=\"col_heading level0 col20\" >username</th>        <th class=\"col_heading level0 col21\" >password</th>        <th class=\"col_heading level0 col22\" >proxied</th>        <th class=\"col_heading level0 col23\" >orig_fuids</th>        <th class=\"col_heading level0 col24\" >orig_mime_types</th>        <th class=\"col_heading level0 col25\" >resp_fuids</th>        <th class=\"col_heading level0 col26\" >resp_mime_types</th>    </tr></thead><tbody>\n",
       "                <tr>\n",
       "                        <th id=\"T_e6bf2696_87d7_11eb_9df8_acde48001122level0_row0\" class=\"row_heading level0 row0\" >0</th>\n",
       "                        <td id=\"T_e6bf2696_87d7_11eb_9df8_acde48001122row0_col0\" class=\"data row0 col0\" >1424256990.350022</td>\n",
       "                        <td id=\"T_e6bf2696_87d7_11eb_9df8_acde48001122row0_col1\" class=\"data row0 col1\" >CwgILB4FJZI9P9o4z1</td>\n",
       "                        <td id=\"T_e6bf2696_87d7_11eb_9df8_acde48001122row0_col2\" class=\"data row0 col2\" >59.166.0.1</td>\n",
       "                        <td id=\"T_e6bf2696_87d7_11eb_9df8_acde48001122row0_col3\" class=\"data row0 col3\" >41195</td>\n",
       "                        <td id=\"T_e6bf2696_87d7_11eb_9df8_acde48001122row0_col4\" class=\"data row0 col4\" >149.171.126.1</td>\n",
       "                        <td id=\"T_e6bf2696_87d7_11eb_9df8_acde48001122row0_col5\" class=\"data row0 col5\" >80</td>\n",
       "                        <td id=\"T_e6bf2696_87d7_11eb_9df8_acde48001122row0_col6\" class=\"data row0 col6\" >1</td>\n",
       "                        <td id=\"T_e6bf2696_87d7_11eb_9df8_acde48001122row0_col7\" class=\"data row0 col7\" >GET</td>\n",
       "                        <td id=\"T_e6bf2696_87d7_11eb_9df8_acde48001122row0_col8\" class=\"data row0 col8\" >Tracker</td>\n",
       "                        <td id=\"T_e6bf2696_87d7_11eb_9df8_acde48001122row0_col9\" class=\"data row0 col9\" >/announce?peer_id=-AR2621-949883860326&port=15836&uploaded=0&downloaded=0&left=8388610&compact=1&numwant=0&event=started&info_hash=\\x1d]\\xfb\\xcc\\x9f\\xeb\\xfckTfW\\xe3e\\xe8\\xed\\xa9 \\x0f5\\xf0</td>\n",
       "                        <td id=\"T_e6bf2696_87d7_11eb_9df8_acde48001122row0_col10\" class=\"data row0 col10\" >-</td>\n",
       "                        <td id=\"T_e6bf2696_87d7_11eb_9df8_acde48001122row0_col11\" class=\"data row0 col11\" >-</td>\n",
       "                        <td id=\"T_e6bf2696_87d7_11eb_9df8_acde48001122row0_col12\" class=\"data row0 col12\" >0</td>\n",
       "                        <td id=\"T_e6bf2696_87d7_11eb_9df8_acde48001122row0_col13\" class=\"data row0 col13\" >83</td>\n",
       "                        <td id=\"T_e6bf2696_87d7_11eb_9df8_acde48001122row0_col14\" class=\"data row0 col14\" >200.000000</td>\n",
       "                        <td id=\"T_e6bf2696_87d7_11eb_9df8_acde48001122row0_col15\" class=\"data row0 col15\" >OK</td>\n",
       "                        <td id=\"T_e6bf2696_87d7_11eb_9df8_acde48001122row0_col16\" class=\"data row0 col16\" >nan</td>\n",
       "                        <td id=\"T_e6bf2696_87d7_11eb_9df8_acde48001122row0_col17\" class=\"data row0 col17\" >-</td>\n",
       "                        <td id=\"T_e6bf2696_87d7_11eb_9df8_acde48001122row0_col18\" class=\"data row0 col18\" >-</td>\n",
       "                        <td id=\"T_e6bf2696_87d7_11eb_9df8_acde48001122row0_col19\" class=\"data row0 col19\" >(empty)</td>\n",
       "                        <td id=\"T_e6bf2696_87d7_11eb_9df8_acde48001122row0_col20\" class=\"data row0 col20\" >-</td>\n",
       "                        <td id=\"T_e6bf2696_87d7_11eb_9df8_acde48001122row0_col21\" class=\"data row0 col21\" >-</td>\n",
       "                        <td id=\"T_e6bf2696_87d7_11eb_9df8_acde48001122row0_col22\" class=\"data row0 col22\" >-</td>\n",
       "                        <td id=\"T_e6bf2696_87d7_11eb_9df8_acde48001122row0_col23\" class=\"data row0 col23\" >-</td>\n",
       "                        <td id=\"T_e6bf2696_87d7_11eb_9df8_acde48001122row0_col24\" class=\"data row0 col24\" >-</td>\n",
       "                        <td id=\"T_e6bf2696_87d7_11eb_9df8_acde48001122row0_col25\" class=\"data row0 col25\" >FdHIAGPzf33uaIXE9</td>\n",
       "                        <td id=\"T_e6bf2696_87d7_11eb_9df8_acde48001122row0_col26\" class=\"data row0 col26\" >text/plain</td>\n",
       "            </tr>\n",
       "    </tbody></table>"
      ],
      "text/plain": [
       "<pandas.io.formats.style.Styler at 0x1069f0850>"
      ]
     },
     "metadata": {},
     "output_type": "display_data"
    },
    {
     "name": "stdout",
     "output_type": "stream",
     "text": [
      "---- http.log ---- Anonymised\n"
     ]
    },
    {
     "data": {
      "text/html": [
       "<style  type=\"text/css\" >\n",
       "#T_e6c397bc_87d7_11eb_9df8_acde48001122row0_col2,#T_e6c397bc_87d7_11eb_9df8_acde48001122row0_col4,#T_e6c397bc_87d7_11eb_9df8_acde48001122row0_col8,#T_e6c397bc_87d7_11eb_9df8_acde48001122row0_col9,#T_e6c397bc_87d7_11eb_9df8_acde48001122row0_col18,#T_e6c397bc_87d7_11eb_9df8_acde48001122row0_col20,#T_e6c397bc_87d7_11eb_9df8_acde48001122row0_col21{\n",
       "            background-color:  red;\n",
       "        }</style><table id=\"T_e6c397bc_87d7_11eb_9df8_acde48001122\" ><thead>    <tr>        <th class=\"blank level0\" ></th>        <th class=\"col_heading level0 col0\" >ts</th>        <th class=\"col_heading level0 col1\" >uid</th>        <th class=\"col_heading level0 col2\" >id.orig_h</th>        <th class=\"col_heading level0 col3\" >id.orig_p</th>        <th class=\"col_heading level0 col4\" >id.resp_h</th>        <th class=\"col_heading level0 col5\" >id.resp_p</th>        <th class=\"col_heading level0 col6\" >trans_depth</th>        <th class=\"col_heading level0 col7\" >method</th>        <th class=\"col_heading level0 col8\" >host</th>        <th class=\"col_heading level0 col9\" >uri</th>        <th class=\"col_heading level0 col10\" >referrer</th>        <th class=\"col_heading level0 col11\" >user_agent</th>        <th class=\"col_heading level0 col12\" >request_body_len</th>        <th class=\"col_heading level0 col13\" >response_body_len</th>        <th class=\"col_heading level0 col14\" >status_code</th>        <th class=\"col_heading level0 col15\" >status_msg</th>        <th class=\"col_heading level0 col16\" >info_code</th>        <th class=\"col_heading level0 col17\" >info_msg</th>        <th class=\"col_heading level0 col18\" >filename</th>        <th class=\"col_heading level0 col19\" >tags</th>        <th class=\"col_heading level0 col20\" >username</th>        <th class=\"col_heading level0 col21\" >password</th>        <th class=\"col_heading level0 col22\" >proxied</th>        <th class=\"col_heading level0 col23\" >orig_fuids</th>        <th class=\"col_heading level0 col24\" >orig_mime_types</th>        <th class=\"col_heading level0 col25\" >resp_fuids</th>        <th class=\"col_heading level0 col26\" >resp_mime_types</th>    </tr></thead><tbody>\n",
       "                <tr>\n",
       "                        <th id=\"T_e6c397bc_87d7_11eb_9df8_acde48001122level0_row0\" class=\"row_heading level0 row0\" >0</th>\n",
       "                        <td id=\"T_e6c397bc_87d7_11eb_9df8_acde48001122row0_col0\" class=\"data row0 col0\" >1424256990.350022</td>\n",
       "                        <td id=\"T_e6c397bc_87d7_11eb_9df8_acde48001122row0_col1\" class=\"data row0 col1\" >CwgILB4FJZI9P9o4z1</td>\n",
       "                        <td id=\"T_e6c397bc_87d7_11eb_9df8_acde48001122row0_col2\" class=\"data row0 col2\" >43.50.116.153</td>\n",
       "                        <td id=\"T_e6c397bc_87d7_11eb_9df8_acde48001122row0_col3\" class=\"data row0 col3\" >41195</td>\n",
       "                        <td id=\"T_e6c397bc_87d7_11eb_9df8_acde48001122row0_col4\" class=\"data row0 col4\" >221.210.86.153</td>\n",
       "                        <td id=\"T_e6c397bc_87d7_11eb_9df8_acde48001122row0_col5\" class=\"data row0 col5\" >80</td>\n",
       "                        <td id=\"T_e6c397bc_87d7_11eb_9df8_acde48001122row0_col6\" class=\"data row0 col6\" >1</td>\n",
       "                        <td id=\"T_e6c397bc_87d7_11eb_9df8_acde48001122row0_col7\" class=\"data row0 col7\" >GET</td>\n",
       "                        <td id=\"T_e6c397bc_87d7_11eb_9df8_acde48001122row0_col8\" class=\"data row0 col8\" >251</td>\n",
       "                        <td id=\"T_e6c397bc_87d7_11eb_9df8_acde48001122row0_col9\" class=\"data row0 col9\" >216</td>\n",
       "                        <td id=\"T_e6c397bc_87d7_11eb_9df8_acde48001122row0_col10\" class=\"data row0 col10\" >-</td>\n",
       "                        <td id=\"T_e6c397bc_87d7_11eb_9df8_acde48001122row0_col11\" class=\"data row0 col11\" >-</td>\n",
       "                        <td id=\"T_e6c397bc_87d7_11eb_9df8_acde48001122row0_col12\" class=\"data row0 col12\" >0</td>\n",
       "                        <td id=\"T_e6c397bc_87d7_11eb_9df8_acde48001122row0_col13\" class=\"data row0 col13\" >83</td>\n",
       "                        <td id=\"T_e6c397bc_87d7_11eb_9df8_acde48001122row0_col14\" class=\"data row0 col14\" >200.000000</td>\n",
       "                        <td id=\"T_e6c397bc_87d7_11eb_9df8_acde48001122row0_col15\" class=\"data row0 col15\" >OK</td>\n",
       "                        <td id=\"T_e6c397bc_87d7_11eb_9df8_acde48001122row0_col16\" class=\"data row0 col16\" >nan</td>\n",
       "                        <td id=\"T_e6c397bc_87d7_11eb_9df8_acde48001122row0_col17\" class=\"data row0 col17\" >-</td>\n",
       "                        <td id=\"T_e6c397bc_87d7_11eb_9df8_acde48001122row0_col18\" class=\"data row0 col18\" >0</td>\n",
       "                        <td id=\"T_e6c397bc_87d7_11eb_9df8_acde48001122row0_col19\" class=\"data row0 col19\" >(empty)</td>\n",
       "                        <td id=\"T_e6c397bc_87d7_11eb_9df8_acde48001122row0_col20\" class=\"data row0 col20\" >0</td>\n",
       "                        <td id=\"T_e6c397bc_87d7_11eb_9df8_acde48001122row0_col21\" class=\"data row0 col21\" >0</td>\n",
       "                        <td id=\"T_e6c397bc_87d7_11eb_9df8_acde48001122row0_col22\" class=\"data row0 col22\" >-</td>\n",
       "                        <td id=\"T_e6c397bc_87d7_11eb_9df8_acde48001122row0_col23\" class=\"data row0 col23\" >-</td>\n",
       "                        <td id=\"T_e6c397bc_87d7_11eb_9df8_acde48001122row0_col24\" class=\"data row0 col24\" >-</td>\n",
       "                        <td id=\"T_e6c397bc_87d7_11eb_9df8_acde48001122row0_col25\" class=\"data row0 col25\" >FdHIAGPzf33uaIXE9</td>\n",
       "                        <td id=\"T_e6c397bc_87d7_11eb_9df8_acde48001122row0_col26\" class=\"data row0 col26\" >text/plain</td>\n",
       "            </tr>\n",
       "    </tbody></table>"
      ],
      "text/plain": [
       "<pandas.io.formats.style.Styler at 0x126dce0a0>"
      ]
     },
     "metadata": {},
     "output_type": "display_data"
    },
    {
     "name": "stdout",
     "output_type": "stream",
     "text": [
      "---- ssh.log ---- Normal\n"
     ]
    },
    {
     "data": {
      "text/html": [
       "<style  type=\"text/css\" >\n",
       "#T_e6c63102_87d7_11eb_9df8_acde48001122row0_col2,#T_e6c63102_87d7_11eb_9df8_acde48001122row0_col4{\n",
       "            background-color:  red;\n",
       "        }</style><table id=\"T_e6c63102_87d7_11eb_9df8_acde48001122\" ><thead>    <tr>        <th class=\"blank level0\" ></th>        <th class=\"col_heading level0 col0\" >ts</th>        <th class=\"col_heading level0 col1\" >uid</th>        <th class=\"col_heading level0 col2\" >id.orig_h</th>        <th class=\"col_heading level0 col3\" >id.orig_p</th>        <th class=\"col_heading level0 col4\" >id.resp_h</th>        <th class=\"col_heading level0 col5\" >id.resp_p</th>        <th class=\"col_heading level0 col6\" >status</th>        <th class=\"col_heading level0 col7\" >direction</th>        <th class=\"col_heading level0 col8\" >client</th>        <th class=\"col_heading level0 col9\" >server</th>    </tr></thead><tbody>\n",
       "                <tr>\n",
       "                        <th id=\"T_e6c63102_87d7_11eb_9df8_acde48001122level0_row0\" class=\"row_heading level0 row0\" >0</th>\n",
       "                        <td id=\"T_e6c63102_87d7_11eb_9df8_acde48001122row0_col0\" class=\"data row0 col0\" >1424256988.242291</td>\n",
       "                        <td id=\"T_e6c63102_87d7_11eb_9df8_acde48001122row0_col1\" class=\"data row0 col1\" >ChBvzV2CEZnYgi9gaa</td>\n",
       "                        <td id=\"T_e6c63102_87d7_11eb_9df8_acde48001122row0_col2\" class=\"data row0 col2\" >59.166.0.0</td>\n",
       "                        <td id=\"T_e6c63102_87d7_11eb_9df8_acde48001122row0_col3\" class=\"data row0 col3\" >3778</td>\n",
       "                        <td id=\"T_e6c63102_87d7_11eb_9df8_acde48001122row0_col4\" class=\"data row0 col4\" >149.171.126.2</td>\n",
       "                        <td id=\"T_e6c63102_87d7_11eb_9df8_acde48001122row0_col5\" class=\"data row0 col5\" >22</td>\n",
       "                        <td id=\"T_e6c63102_87d7_11eb_9df8_acde48001122row0_col6\" class=\"data row0 col6\" >success</td>\n",
       "                        <td id=\"T_e6c63102_87d7_11eb_9df8_acde48001122row0_col7\" class=\"data row0 col7\" >INBOUND</td>\n",
       "                        <td id=\"T_e6c63102_87d7_11eb_9df8_acde48001122row0_col8\" class=\"data row0 col8\" >SSH-2.0-PuTTY_Release_0.60</td>\n",
       "                        <td id=\"T_e6c63102_87d7_11eb_9df8_acde48001122row0_col9\" class=\"data row0 col9\" >SSH-1.99-OpenSSH_4.3</td>\n",
       "            </tr>\n",
       "    </tbody></table>"
      ],
      "text/plain": [
       "<pandas.io.formats.style.Styler at 0x12588cca0>"
      ]
     },
     "metadata": {},
     "output_type": "display_data"
    },
    {
     "name": "stdout",
     "output_type": "stream",
     "text": [
      "---- ssh.log ---- Anonymised\n"
     ]
    },
    {
     "data": {
      "text/html": [
       "<style  type=\"text/css\" >\n",
       "#T_e6c82b24_87d7_11eb_9df8_acde48001122row0_col2,#T_e6c82b24_87d7_11eb_9df8_acde48001122row0_col4{\n",
       "            background-color:  red;\n",
       "        }</style><table id=\"T_e6c82b24_87d7_11eb_9df8_acde48001122\" ><thead>    <tr>        <th class=\"blank level0\" ></th>        <th class=\"col_heading level0 col0\" >ts</th>        <th class=\"col_heading level0 col1\" >uid</th>        <th class=\"col_heading level0 col2\" >id.orig_h</th>        <th class=\"col_heading level0 col3\" >id.orig_p</th>        <th class=\"col_heading level0 col4\" >id.resp_h</th>        <th class=\"col_heading level0 col5\" >id.resp_p</th>        <th class=\"col_heading level0 col6\" >status</th>        <th class=\"col_heading level0 col7\" >direction</th>        <th class=\"col_heading level0 col8\" >client</th>        <th class=\"col_heading level0 col9\" >server</th>    </tr></thead><tbody>\n",
       "                <tr>\n",
       "                        <th id=\"T_e6c82b24_87d7_11eb_9df8_acde48001122level0_row0\" class=\"row_heading level0 row0\" >0</th>\n",
       "                        <td id=\"T_e6c82b24_87d7_11eb_9df8_acde48001122row0_col0\" class=\"data row0 col0\" >1424256988.242291</td>\n",
       "                        <td id=\"T_e6c82b24_87d7_11eb_9df8_acde48001122row0_col1\" class=\"data row0 col1\" >ChBvzV2CEZnYgi9gaa</td>\n",
       "                        <td id=\"T_e6c82b24_87d7_11eb_9df8_acde48001122row0_col2\" class=\"data row0 col2\" >43.50.116.118</td>\n",
       "                        <td id=\"T_e6c82b24_87d7_11eb_9df8_acde48001122row0_col3\" class=\"data row0 col3\" >3778</td>\n",
       "                        <td id=\"T_e6c82b24_87d7_11eb_9df8_acde48001122row0_col4\" class=\"data row0 col4\" >221.210.86.71</td>\n",
       "                        <td id=\"T_e6c82b24_87d7_11eb_9df8_acde48001122row0_col5\" class=\"data row0 col5\" >22</td>\n",
       "                        <td id=\"T_e6c82b24_87d7_11eb_9df8_acde48001122row0_col6\" class=\"data row0 col6\" >success</td>\n",
       "                        <td id=\"T_e6c82b24_87d7_11eb_9df8_acde48001122row0_col7\" class=\"data row0 col7\" >INBOUND</td>\n",
       "                        <td id=\"T_e6c82b24_87d7_11eb_9df8_acde48001122row0_col8\" class=\"data row0 col8\" >SSH-2.0-PuTTY_Release_0.60</td>\n",
       "                        <td id=\"T_e6c82b24_87d7_11eb_9df8_acde48001122row0_col9\" class=\"data row0 col9\" >SSH-1.99-OpenSSH_4.3</td>\n",
       "            </tr>\n",
       "    </tbody></table>"
      ],
      "text/plain": [
       "<pandas.io.formats.style.Styler at 0x123936b50>"
      ]
     },
     "metadata": {},
     "output_type": "display_data"
    },
    {
     "name": "stdout",
     "output_type": "stream",
     "text": [
      "---- ssl.log ---- Normal\n"
     ]
    },
    {
     "data": {
      "text/html": [
       "<style  type=\"text/css\" >\n",
       "#T_e6cbaf06_87d7_11eb_9df8_acde48001122row0_col2,#T_e6cbaf06_87d7_11eb_9df8_acde48001122row0_col4,#T_e6cbaf06_87d7_11eb_9df8_acde48001122row0_col9,#T_e6cbaf06_87d7_11eb_9df8_acde48001122row0_col15,#T_e6cbaf06_87d7_11eb_9df8_acde48001122row0_col16,#T_e6cbaf06_87d7_11eb_9df8_acde48001122row0_col17,#T_e6cbaf06_87d7_11eb_9df8_acde48001122row0_col18{\n",
       "            background-color:  red;\n",
       "        }</style><table id=\"T_e6cbaf06_87d7_11eb_9df8_acde48001122\" ><thead>    <tr>        <th class=\"blank level0\" ></th>        <th class=\"col_heading level0 col0\" >ts</th>        <th class=\"col_heading level0 col1\" >uid</th>        <th class=\"col_heading level0 col2\" >id.orig_h</th>        <th class=\"col_heading level0 col3\" >id.orig_p</th>        <th class=\"col_heading level0 col4\" >id.resp_h</th>        <th class=\"col_heading level0 col5\" >id.resp_p</th>        <th class=\"col_heading level0 col6\" >version</th>        <th class=\"col_heading level0 col7\" >cipher</th>        <th class=\"col_heading level0 col8\" >curve</th>        <th class=\"col_heading level0 col9\" >server_name</th>        <th class=\"col_heading level0 col10\" >session_id</th>        <th class=\"col_heading level0 col11\" >last_alert</th>        <th class=\"col_heading level0 col12\" >established</th>        <th class=\"col_heading level0 col13\" >cert_chain_fuids</th>        <th class=\"col_heading level0 col14\" >client_cert_chain_fuids</th>        <th class=\"col_heading level0 col15\" >subject</th>        <th class=\"col_heading level0 col16\" >issuer</th>        <th class=\"col_heading level0 col17\" >client_subject</th>        <th class=\"col_heading level0 col18\" >client_issuer</th>    </tr></thead><tbody>\n",
       "                <tr>\n",
       "                        <th id=\"T_e6cbaf06_87d7_11eb_9df8_acde48001122level0_row0\" class=\"row_heading level0 row0\" >0</th>\n",
       "                        <td id=\"T_e6cbaf06_87d7_11eb_9df8_acde48001122row0_col0\" class=\"data row0 col0\" >1424257005.940392</td>\n",
       "                        <td id=\"T_e6cbaf06_87d7_11eb_9df8_acde48001122row0_col1\" class=\"data row0 col1\" >CkIFoc3DTlsBeaFW66</td>\n",
       "                        <td id=\"T_e6cbaf06_87d7_11eb_9df8_acde48001122row0_col2\" class=\"data row0 col2\" >175.45.176.1</td>\n",
       "                        <td id=\"T_e6cbaf06_87d7_11eb_9df8_acde48001122row0_col3\" class=\"data row0 col3\" >17478</td>\n",
       "                        <td id=\"T_e6cbaf06_87d7_11eb_9df8_acde48001122row0_col4\" class=\"data row0 col4\" >149.171.126.12</td>\n",
       "                        <td id=\"T_e6cbaf06_87d7_11eb_9df8_acde48001122row0_col5\" class=\"data row0 col5\" >443</td>\n",
       "                        <td id=\"T_e6cbaf06_87d7_11eb_9df8_acde48001122row0_col6\" class=\"data row0 col6\" >TLSv10</td>\n",
       "                        <td id=\"T_e6cbaf06_87d7_11eb_9df8_acde48001122row0_col7\" class=\"data row0 col7\" >TLS_RSA_WITH_3DES_EDE_CBC_SHA</td>\n",
       "                        <td id=\"T_e6cbaf06_87d7_11eb_9df8_acde48001122row0_col8\" class=\"data row0 col8\" >-</td>\n",
       "                        <td id=\"T_e6cbaf06_87d7_11eb_9df8_acde48001122row0_col9\" class=\"data row0 col9\" >-</td>\n",
       "                        <td id=\"T_e6cbaf06_87d7_11eb_9df8_acde48001122row0_col10\" class=\"data row0 col10\" >08a79d45b747f5c828da00000000000000000000000000000000000000000000</td>\n",
       "                        <td id=\"T_e6cbaf06_87d7_11eb_9df8_acde48001122row0_col11\" class=\"data row0 col11\" >-</td>\n",
       "                        <td id=\"T_e6cbaf06_87d7_11eb_9df8_acde48001122row0_col12\" class=\"data row0 col12\" >F</td>\n",
       "                        <td id=\"T_e6cbaf06_87d7_11eb_9df8_acde48001122row0_col13\" class=\"data row0 col13\" >-</td>\n",
       "                        <td id=\"T_e6cbaf06_87d7_11eb_9df8_acde48001122row0_col14\" class=\"data row0 col14\" >-</td>\n",
       "                        <td id=\"T_e6cbaf06_87d7_11eb_9df8_acde48001122row0_col15\" class=\"data row0 col15\" >-</td>\n",
       "                        <td id=\"T_e6cbaf06_87d7_11eb_9df8_acde48001122row0_col16\" class=\"data row0 col16\" >-</td>\n",
       "                        <td id=\"T_e6cbaf06_87d7_11eb_9df8_acde48001122row0_col17\" class=\"data row0 col17\" >-</td>\n",
       "                        <td id=\"T_e6cbaf06_87d7_11eb_9df8_acde48001122row0_col18\" class=\"data row0 col18\" >-</td>\n",
       "            </tr>\n",
       "    </tbody></table>"
      ],
      "text/plain": [
       "<pandas.io.formats.style.Styler at 0x126f71580>"
      ]
     },
     "metadata": {},
     "output_type": "display_data"
    },
    {
     "name": "stdout",
     "output_type": "stream",
     "text": [
      "---- ssl.log ---- Anonymised\n"
     ]
    },
    {
     "data": {
      "text/html": [
       "<style  type=\"text/css\" >\n",
       "#T_e6cf5778_87d7_11eb_9df8_acde48001122row0_col2,#T_e6cf5778_87d7_11eb_9df8_acde48001122row0_col4,#T_e6cf5778_87d7_11eb_9df8_acde48001122row0_col9,#T_e6cf5778_87d7_11eb_9df8_acde48001122row0_col15,#T_e6cf5778_87d7_11eb_9df8_acde48001122row0_col16,#T_e6cf5778_87d7_11eb_9df8_acde48001122row0_col17,#T_e6cf5778_87d7_11eb_9df8_acde48001122row0_col18{\n",
       "            background-color:  red;\n",
       "        }</style><table id=\"T_e6cf5778_87d7_11eb_9df8_acde48001122\" ><thead>    <tr>        <th class=\"blank level0\" ></th>        <th class=\"col_heading level0 col0\" >ts</th>        <th class=\"col_heading level0 col1\" >uid</th>        <th class=\"col_heading level0 col2\" >id.orig_h</th>        <th class=\"col_heading level0 col3\" >id.orig_p</th>        <th class=\"col_heading level0 col4\" >id.resp_h</th>        <th class=\"col_heading level0 col5\" >id.resp_p</th>        <th class=\"col_heading level0 col6\" >version</th>        <th class=\"col_heading level0 col7\" >cipher</th>        <th class=\"col_heading level0 col8\" >curve</th>        <th class=\"col_heading level0 col9\" >server_name</th>        <th class=\"col_heading level0 col10\" >session_id</th>        <th class=\"col_heading level0 col11\" >last_alert</th>        <th class=\"col_heading level0 col12\" >established</th>        <th class=\"col_heading level0 col13\" >cert_chain_fuids</th>        <th class=\"col_heading level0 col14\" >client_cert_chain_fuids</th>        <th class=\"col_heading level0 col15\" >subject</th>        <th class=\"col_heading level0 col16\" >issuer</th>        <th class=\"col_heading level0 col17\" >client_subject</th>        <th class=\"col_heading level0 col18\" >client_issuer</th>    </tr></thead><tbody>\n",
       "                <tr>\n",
       "                        <th id=\"T_e6cf5778_87d7_11eb_9df8_acde48001122level0_row0\" class=\"row_heading level0 row0\" >0</th>\n",
       "                        <td id=\"T_e6cf5778_87d7_11eb_9df8_acde48001122row0_col0\" class=\"data row0 col0\" >1424257005.940392</td>\n",
       "                        <td id=\"T_e6cf5778_87d7_11eb_9df8_acde48001122row0_col1\" class=\"data row0 col1\" >CkIFoc3DTlsBeaFW66</td>\n",
       "                        <td id=\"T_e6cf5778_87d7_11eb_9df8_acde48001122row0_col2\" class=\"data row0 col2\" >138.48.142.153</td>\n",
       "                        <td id=\"T_e6cf5778_87d7_11eb_9df8_acde48001122row0_col3\" class=\"data row0 col3\" >17478</td>\n",
       "                        <td id=\"T_e6cf5778_87d7_11eb_9df8_acde48001122row0_col4\" class=\"data row0 col4\" >221.210.86.78</td>\n",
       "                        <td id=\"T_e6cf5778_87d7_11eb_9df8_acde48001122row0_col5\" class=\"data row0 col5\" >443</td>\n",
       "                        <td id=\"T_e6cf5778_87d7_11eb_9df8_acde48001122row0_col6\" class=\"data row0 col6\" >TLSv10</td>\n",
       "                        <td id=\"T_e6cf5778_87d7_11eb_9df8_acde48001122row0_col7\" class=\"data row0 col7\" >TLS_RSA_WITH_3DES_EDE_CBC_SHA</td>\n",
       "                        <td id=\"T_e6cf5778_87d7_11eb_9df8_acde48001122row0_col8\" class=\"data row0 col8\" >-</td>\n",
       "                        <td id=\"T_e6cf5778_87d7_11eb_9df8_acde48001122row0_col9\" class=\"data row0 col9\" >0</td>\n",
       "                        <td id=\"T_e6cf5778_87d7_11eb_9df8_acde48001122row0_col10\" class=\"data row0 col10\" >08a79d45b747f5c828da00000000000000000000000000000000000000000000</td>\n",
       "                        <td id=\"T_e6cf5778_87d7_11eb_9df8_acde48001122row0_col11\" class=\"data row0 col11\" >-</td>\n",
       "                        <td id=\"T_e6cf5778_87d7_11eb_9df8_acde48001122row0_col12\" class=\"data row0 col12\" >F</td>\n",
       "                        <td id=\"T_e6cf5778_87d7_11eb_9df8_acde48001122row0_col13\" class=\"data row0 col13\" >-</td>\n",
       "                        <td id=\"T_e6cf5778_87d7_11eb_9df8_acde48001122row0_col14\" class=\"data row0 col14\" >-</td>\n",
       "                        <td id=\"T_e6cf5778_87d7_11eb_9df8_acde48001122row0_col15\" class=\"data row0 col15\" >0</td>\n",
       "                        <td id=\"T_e6cf5778_87d7_11eb_9df8_acde48001122row0_col16\" class=\"data row0 col16\" >0</td>\n",
       "                        <td id=\"T_e6cf5778_87d7_11eb_9df8_acde48001122row0_col17\" class=\"data row0 col17\" >0</td>\n",
       "                        <td id=\"T_e6cf5778_87d7_11eb_9df8_acde48001122row0_col18\" class=\"data row0 col18\" >0</td>\n",
       "            </tr>\n",
       "    </tbody></table>"
      ],
      "text/plain": [
       "<pandas.io.formats.style.Styler at 0x106a16fd0>"
      ]
     },
     "metadata": {},
     "output_type": "display_data"
    }
   ],
   "source": [
    "for key in chosen_files:\n",
    "    print(\"---- \" + key + \" ---- Normal\")\n",
    "    display(orig_log_dataframes[key].iloc[:1,:].style.apply(highlight_col, axis=None))\n",
    "    print(\"---- \" + key + \" ---- Anonymised\")\n",
    "    display(log_dataframes[key].iloc[:1,:].style.apply(highlight_col, axis=None))\n",
    "    "
   ]
  },
  {
   "cell_type": "code",
   "execution_count": null,
   "metadata": {},
   "outputs": [],
   "source": []
  }
 ],
 "metadata": {
  "kernelspec": {
   "display_name": "Python 3",
   "language": "python",
   "name": "python3"
  },
  "language_info": {
   "codemirror_mode": {
    "name": "ipython",
    "version": 3
   },
   "file_extension": ".py",
   "mimetype": "text/x-python",
   "name": "python",
   "nbconvert_exporter": "python",
   "pygments_lexer": "ipython3",
   "version": "3.8.6"
  }
 },
 "nbformat": 4,
 "nbformat_minor": 4
}
