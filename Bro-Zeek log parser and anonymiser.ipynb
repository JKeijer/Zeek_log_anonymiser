{
 "cells": [
  {
   "cell_type": "code",
   "execution_count": 1,
   "metadata": {},
   "outputs": [],
   "source": [
    "import pandas as pd\n",
    "pd.set_option('display.max_columns', 500)\n",
    "pd.set_option('display.max_rows', 500)\n",
    "\n",
    "import numpy as np\n",
    "from collections import Counter\n",
    "from os import walk\n",
    "from os import path\n",
    "import random\n",
    "\n",
    "from copy import deepcopy\n",
    "\n",
    "from sklearn.preprocessing import LabelEncoder\n",
    "\n",
    "from helper_functions import *"
   ]
  },
  {
   "cell_type": "markdown",
   "metadata": {},
   "source": [
    "### Bro/Zeek log parser and anonymiser\n",
    "\n",
    "#### This file serves to parse Bro/Zeek logs and identify and anonymise Personally Identifiable Information (PII). As example data the bro logs of the UNSW-NB15 dataset [1] have been used.\n",
    "\n",
    "The PII information is listed in the PII list and one line of each log file is displayed below with the PII highlighted in red.\n",
    "\n",
    "The PII fields are then transformed. The IP addresses to a random IP addresses where the IP addresses in each subnet are grouped together. For example: 1.2.3.50 and 1.2.3.100 might be transformed to 9.222.51.2 and 9.222.51.244. The other PII fields are encoced with scikitlearn's LabelEncoder. Which means that the same inputs are mapped to the same number (label)\n",
    "\n",
    "[1] https://www.unsw.adfa.edu.au/unsw-canberra-cyber/cybersecurity/ADFA-NB15-Datasets/"
   ]
  },
  {
   "cell_type": "code",
   "execution_count": null,
   "metadata": {},
   "outputs": [],
   "source": []
  },
  {
   "cell_type": "code",
   "execution_count": null,
   "metadata": {},
   "outputs": [],
   "source": []
  },
  {
   "cell_type": "code",
   "execution_count": 2,
   "metadata": {},
   "outputs": [],
   "source": [
    "chosen_files = ['conn.log','dns.log','ftp.log','http.log','ssh.log','ssl.log']\n",
    "orig_log_dataframes = build_dataframes(chosen_files)\n",
    "log_dataframes = anonymise_dataframes(orig_log_dataframes, chosen_files)"
   ]
  },
  {
   "cell_type": "code",
   "execution_count": 3,
   "metadata": {},
   "outputs": [
    {
     "name": "stdout",
     "output_type": "stream",
     "text": [
      "---- conn.log ---- Normal\n"
     ]
    },
    {
     "data": {
      "text/html": [
       "<style  type=\"text/css\" >\n",
       "#T_ca8341dc_8738_11eb_b06b_acde48001122row0_col2,#T_ca8341dc_8738_11eb_b06b_acde48001122row0_col4{\n",
       "            background-color:  red;\n",
       "        }</style><table id=\"T_ca8341dc_8738_11eb_b06b_acde48001122\" ><thead>    <tr>        <th class=\"blank level0\" ></th>        <th class=\"col_heading level0 col0\" >ts</th>        <th class=\"col_heading level0 col1\" >uid</th>        <th class=\"col_heading level0 col2\" >id.orig_h</th>        <th class=\"col_heading level0 col3\" >id.orig_p</th>        <th class=\"col_heading level0 col4\" >id.resp_h</th>        <th class=\"col_heading level0 col5\" >id.resp_p</th>        <th class=\"col_heading level0 col6\" >proto</th>        <th class=\"col_heading level0 col7\" >service</th>        <th class=\"col_heading level0 col8\" >duration</th>        <th class=\"col_heading level0 col9\" >orig_bytes</th>        <th class=\"col_heading level0 col10\" >resp_bytes</th>        <th class=\"col_heading level0 col11\" >conn_state</th>        <th class=\"col_heading level0 col12\" >local_orig</th>        <th class=\"col_heading level0 col13\" >missed_bytes</th>        <th class=\"col_heading level0 col14\" >history</th>        <th class=\"col_heading level0 col15\" >orig_pkts</th>        <th class=\"col_heading level0 col16\" >orig_ip_bytes</th>        <th class=\"col_heading level0 col17\" >resp_pkts</th>        <th class=\"col_heading level0 col18\" >resp_ip_bytes</th>        <th class=\"col_heading level0 col19\" >tunnel_parents</th>    </tr></thead><tbody>\n",
       "                <tr>\n",
       "                        <th id=\"T_ca8341dc_8738_11eb_b06b_acde48001122level0_row0\" class=\"row_heading level0 row0\" >0</th>\n",
       "                        <td id=\"T_ca8341dc_8738_11eb_b06b_acde48001122row0_col0\" class=\"data row0 col0\" >1424256987.747828</td>\n",
       "                        <td id=\"T_ca8341dc_8738_11eb_b06b_acde48001122row0_col1\" class=\"data row0 col1\" >C8kfmaJvH8YSujzW5</td>\n",
       "                        <td id=\"T_ca8341dc_8738_11eb_b06b_acde48001122row0_col2\" class=\"data row0 col2\" >59.166.0.2</td>\n",
       "                        <td id=\"T_ca8341dc_8738_11eb_b06b_acde48001122row0_col3\" class=\"data row0 col3\" >57872</td>\n",
       "                        <td id=\"T_ca8341dc_8738_11eb_b06b_acde48001122row0_col4\" class=\"data row0 col4\" >149.171.126.9</td>\n",
       "                        <td id=\"T_ca8341dc_8738_11eb_b06b_acde48001122row0_col5\" class=\"data row0 col5\" >56104</td>\n",
       "                        <td id=\"T_ca8341dc_8738_11eb_b06b_acde48001122row0_col6\" class=\"data row0 col6\" >tcp</td>\n",
       "                        <td id=\"T_ca8341dc_8738_11eb_b06b_acde48001122row0_col7\" class=\"data row0 col7\" >-</td>\n",
       "                        <td id=\"T_ca8341dc_8738_11eb_b06b_acde48001122row0_col8\" class=\"data row0 col8\" >0.027552</td>\n",
       "                        <td id=\"T_ca8341dc_8738_11eb_b06b_acde48001122row0_col9\" class=\"data row0 col9\" >227.000000</td>\n",
       "                        <td id=\"T_ca8341dc_8738_11eb_b06b_acde48001122row0_col10\" class=\"data row0 col10\" >11587.000000</td>\n",
       "                        <td id=\"T_ca8341dc_8738_11eb_b06b_acde48001122row0_col11\" class=\"data row0 col11\" >SF</td>\n",
       "                        <td id=\"T_ca8341dc_8738_11eb_b06b_acde48001122row0_col12\" class=\"data row0 col12\" >-</td>\n",
       "                        <td id=\"T_ca8341dc_8738_11eb_b06b_acde48001122row0_col13\" class=\"data row0 col13\" >0</td>\n",
       "                        <td id=\"T_ca8341dc_8738_11eb_b06b_acde48001122row0_col14\" class=\"data row0 col14\" >ShADadfF</td>\n",
       "                        <td id=\"T_ca8341dc_8738_11eb_b06b_acde48001122row0_col15\" class=\"data row0 col15\" >42</td>\n",
       "                        <td id=\"T_ca8341dc_8738_11eb_b06b_acde48001122row0_col16\" class=\"data row0 col16\" >2646</td>\n",
       "                        <td id=\"T_ca8341dc_8738_11eb_b06b_acde48001122row0_col17\" class=\"data row0 col17\" >44</td>\n",
       "                        <td id=\"T_ca8341dc_8738_11eb_b06b_acde48001122row0_col18\" class=\"data row0 col18\" >25470</td>\n",
       "                        <td id=\"T_ca8341dc_8738_11eb_b06b_acde48001122row0_col19\" class=\"data row0 col19\" >(empty)</td>\n",
       "            </tr>\n",
       "    </tbody></table>"
      ],
      "text/plain": [
       "<pandas.io.formats.style.Styler at 0x12073f910>"
      ]
     },
     "metadata": {},
     "output_type": "display_data"
    },
    {
     "name": "stdout",
     "output_type": "stream",
     "text": [
      "---- conn.log ---- Anonymised\n"
     ]
    },
    {
     "data": {
      "text/html": [
       "<style  type=\"text/css\" >\n",
       "#T_ca86854a_8738_11eb_b06b_acde48001122row0_col2,#T_ca86854a_8738_11eb_b06b_acde48001122row0_col4{\n",
       "            background-color:  red;\n",
       "        }</style><table id=\"T_ca86854a_8738_11eb_b06b_acde48001122\" ><thead>    <tr>        <th class=\"blank level0\" ></th>        <th class=\"col_heading level0 col0\" >ts</th>        <th class=\"col_heading level0 col1\" >uid</th>        <th class=\"col_heading level0 col2\" >id.orig_h</th>        <th class=\"col_heading level0 col3\" >id.orig_p</th>        <th class=\"col_heading level0 col4\" >id.resp_h</th>        <th class=\"col_heading level0 col5\" >id.resp_p</th>        <th class=\"col_heading level0 col6\" >proto</th>        <th class=\"col_heading level0 col7\" >service</th>        <th class=\"col_heading level0 col8\" >duration</th>        <th class=\"col_heading level0 col9\" >orig_bytes</th>        <th class=\"col_heading level0 col10\" >resp_bytes</th>        <th class=\"col_heading level0 col11\" >conn_state</th>        <th class=\"col_heading level0 col12\" >local_orig</th>        <th class=\"col_heading level0 col13\" >missed_bytes</th>        <th class=\"col_heading level0 col14\" >history</th>        <th class=\"col_heading level0 col15\" >orig_pkts</th>        <th class=\"col_heading level0 col16\" >orig_ip_bytes</th>        <th class=\"col_heading level0 col17\" >resp_pkts</th>        <th class=\"col_heading level0 col18\" >resp_ip_bytes</th>        <th class=\"col_heading level0 col19\" >tunnel_parents</th>    </tr></thead><tbody>\n",
       "                <tr>\n",
       "                        <th id=\"T_ca86854a_8738_11eb_b06b_acde48001122level0_row0\" class=\"row_heading level0 row0\" >0</th>\n",
       "                        <td id=\"T_ca86854a_8738_11eb_b06b_acde48001122row0_col0\" class=\"data row0 col0\" >1424256987.747828</td>\n",
       "                        <td id=\"T_ca86854a_8738_11eb_b06b_acde48001122row0_col1\" class=\"data row0 col1\" >C8kfmaJvH8YSujzW5</td>\n",
       "                        <td id=\"T_ca86854a_8738_11eb_b06b_acde48001122row0_col2\" class=\"data row0 col2\" >145.44.174.81</td>\n",
       "                        <td id=\"T_ca86854a_8738_11eb_b06b_acde48001122row0_col3\" class=\"data row0 col3\" >57872</td>\n",
       "                        <td id=\"T_ca86854a_8738_11eb_b06b_acde48001122row0_col4\" class=\"data row0 col4\" >107.156.75.183</td>\n",
       "                        <td id=\"T_ca86854a_8738_11eb_b06b_acde48001122row0_col5\" class=\"data row0 col5\" >56104</td>\n",
       "                        <td id=\"T_ca86854a_8738_11eb_b06b_acde48001122row0_col6\" class=\"data row0 col6\" >tcp</td>\n",
       "                        <td id=\"T_ca86854a_8738_11eb_b06b_acde48001122row0_col7\" class=\"data row0 col7\" >-</td>\n",
       "                        <td id=\"T_ca86854a_8738_11eb_b06b_acde48001122row0_col8\" class=\"data row0 col8\" >0.027552</td>\n",
       "                        <td id=\"T_ca86854a_8738_11eb_b06b_acde48001122row0_col9\" class=\"data row0 col9\" >227.000000</td>\n",
       "                        <td id=\"T_ca86854a_8738_11eb_b06b_acde48001122row0_col10\" class=\"data row0 col10\" >11587.000000</td>\n",
       "                        <td id=\"T_ca86854a_8738_11eb_b06b_acde48001122row0_col11\" class=\"data row0 col11\" >SF</td>\n",
       "                        <td id=\"T_ca86854a_8738_11eb_b06b_acde48001122row0_col12\" class=\"data row0 col12\" >-</td>\n",
       "                        <td id=\"T_ca86854a_8738_11eb_b06b_acde48001122row0_col13\" class=\"data row0 col13\" >0</td>\n",
       "                        <td id=\"T_ca86854a_8738_11eb_b06b_acde48001122row0_col14\" class=\"data row0 col14\" >ShADadfF</td>\n",
       "                        <td id=\"T_ca86854a_8738_11eb_b06b_acde48001122row0_col15\" class=\"data row0 col15\" >42</td>\n",
       "                        <td id=\"T_ca86854a_8738_11eb_b06b_acde48001122row0_col16\" class=\"data row0 col16\" >2646</td>\n",
       "                        <td id=\"T_ca86854a_8738_11eb_b06b_acde48001122row0_col17\" class=\"data row0 col17\" >44</td>\n",
       "                        <td id=\"T_ca86854a_8738_11eb_b06b_acde48001122row0_col18\" class=\"data row0 col18\" >25470</td>\n",
       "                        <td id=\"T_ca86854a_8738_11eb_b06b_acde48001122row0_col19\" class=\"data row0 col19\" >(empty)</td>\n",
       "            </tr>\n",
       "    </tbody></table>"
      ],
      "text/plain": [
       "<pandas.io.formats.style.Styler at 0x12255faf0>"
      ]
     },
     "metadata": {},
     "output_type": "display_data"
    },
    {
     "name": "stdout",
     "output_type": "stream",
     "text": [
      "---- dns.log ---- Normal\n"
     ]
    },
    {
     "data": {
      "text/html": [
       "<style  type=\"text/css\" >\n",
       "#T_ca8a47ca_8738_11eb_b06b_acde48001122row0_col2,#T_ca8a47ca_8738_11eb_b06b_acde48001122row0_col4,#T_ca8a47ca_8738_11eb_b06b_acde48001122row0_col8,#T_ca8a47ca_8738_11eb_b06b_acde48001122row0_col20{\n",
       "            background-color:  red;\n",
       "        }</style><table id=\"T_ca8a47ca_8738_11eb_b06b_acde48001122\" ><thead>    <tr>        <th class=\"blank level0\" ></th>        <th class=\"col_heading level0 col0\" >ts</th>        <th class=\"col_heading level0 col1\" >uid</th>        <th class=\"col_heading level0 col2\" >id.orig_h</th>        <th class=\"col_heading level0 col3\" >id.orig_p</th>        <th class=\"col_heading level0 col4\" >id.resp_h</th>        <th class=\"col_heading level0 col5\" >id.resp_p</th>        <th class=\"col_heading level0 col6\" >proto</th>        <th class=\"col_heading level0 col7\" >trans_id</th>        <th class=\"col_heading level0 col8\" >query</th>        <th class=\"col_heading level0 col9\" >qclass</th>        <th class=\"col_heading level0 col10\" >qclass_name</th>        <th class=\"col_heading level0 col11\" >qtype</th>        <th class=\"col_heading level0 col12\" >qtype_name</th>        <th class=\"col_heading level0 col13\" >rcode</th>        <th class=\"col_heading level0 col14\" >rcode_name</th>        <th class=\"col_heading level0 col15\" >AA</th>        <th class=\"col_heading level0 col16\" >TC</th>        <th class=\"col_heading level0 col17\" >RD</th>        <th class=\"col_heading level0 col18\" >RA</th>        <th class=\"col_heading level0 col19\" >Z</th>        <th class=\"col_heading level0 col20\" >answers</th>        <th class=\"col_heading level0 col21\" >TTLs</th>        <th class=\"col_heading level0 col22\" >rejected</th>    </tr></thead><tbody>\n",
       "                <tr>\n",
       "                        <th id=\"T_ca8a47ca_8738_11eb_b06b_acde48001122level0_row0\" class=\"row_heading level0 row0\" >0</th>\n",
       "                        <td id=\"T_ca8a47ca_8738_11eb_b06b_acde48001122row0_col0\" class=\"data row0 col0\" >1424256988.447831</td>\n",
       "                        <td id=\"T_ca8a47ca_8738_11eb_b06b_acde48001122row0_col1\" class=\"data row0 col1\" >CcCQqj3E6KlwtFnRja</td>\n",
       "                        <td id=\"T_ca8a47ca_8738_11eb_b06b_acde48001122row0_col2\" class=\"data row0 col2\" >59.166.0.4</td>\n",
       "                        <td id=\"T_ca8a47ca_8738_11eb_b06b_acde48001122row0_col3\" class=\"data row0 col3\" >7745</td>\n",
       "                        <td id=\"T_ca8a47ca_8738_11eb_b06b_acde48001122row0_col4\" class=\"data row0 col4\" >149.171.126.2</td>\n",
       "                        <td id=\"T_ca8a47ca_8738_11eb_b06b_acde48001122row0_col5\" class=\"data row0 col5\" >53</td>\n",
       "                        <td id=\"T_ca8a47ca_8738_11eb_b06b_acde48001122row0_col6\" class=\"data row0 col6\" >udp</td>\n",
       "                        <td id=\"T_ca8a47ca_8738_11eb_b06b_acde48001122row0_col7\" class=\"data row0 col7\" >48100</td>\n",
       "                        <td id=\"T_ca8a47ca_8738_11eb_b06b_acde48001122row0_col8\" class=\"data row0 col8\" >server-95ab7e07.int</td>\n",
       "                        <td id=\"T_ca8a47ca_8738_11eb_b06b_acde48001122row0_col9\" class=\"data row0 col9\" >1.000000</td>\n",
       "                        <td id=\"T_ca8a47ca_8738_11eb_b06b_acde48001122row0_col10\" class=\"data row0 col10\" >C_INTERNET</td>\n",
       "                        <td id=\"T_ca8a47ca_8738_11eb_b06b_acde48001122row0_col11\" class=\"data row0 col11\" >1.000000</td>\n",
       "                        <td id=\"T_ca8a47ca_8738_11eb_b06b_acde48001122row0_col12\" class=\"data row0 col12\" >A</td>\n",
       "                        <td id=\"T_ca8a47ca_8738_11eb_b06b_acde48001122row0_col13\" class=\"data row0 col13\" >0.000000</td>\n",
       "                        <td id=\"T_ca8a47ca_8738_11eb_b06b_acde48001122row0_col14\" class=\"data row0 col14\" >NOERROR</td>\n",
       "                        <td id=\"T_ca8a47ca_8738_11eb_b06b_acde48001122row0_col15\" class=\"data row0 col15\" >F</td>\n",
       "                        <td id=\"T_ca8a47ca_8738_11eb_b06b_acde48001122row0_col16\" class=\"data row0 col16\" >F</td>\n",
       "                        <td id=\"T_ca8a47ca_8738_11eb_b06b_acde48001122row0_col17\" class=\"data row0 col17\" >T</td>\n",
       "                        <td id=\"T_ca8a47ca_8738_11eb_b06b_acde48001122row0_col18\" class=\"data row0 col18\" >T</td>\n",
       "                        <td id=\"T_ca8a47ca_8738_11eb_b06b_acde48001122row0_col19\" class=\"data row0 col19\" >0</td>\n",
       "                        <td id=\"T_ca8a47ca_8738_11eb_b06b_acde48001122row0_col20\" class=\"data row0 col20\" >149.171.126.7</td>\n",
       "                        <td id=\"T_ca8a47ca_8738_11eb_b06b_acde48001122row0_col21\" class=\"data row0 col21\" >60.000000</td>\n",
       "                        <td id=\"T_ca8a47ca_8738_11eb_b06b_acde48001122row0_col22\" class=\"data row0 col22\" >F</td>\n",
       "            </tr>\n",
       "    </tbody></table>"
      ],
      "text/plain": [
       "<pandas.io.formats.style.Styler at 0x1225608e0>"
      ]
     },
     "metadata": {},
     "output_type": "display_data"
    },
    {
     "name": "stdout",
     "output_type": "stream",
     "text": [
      "---- dns.log ---- Anonymised\n"
     ]
    },
    {
     "data": {
      "text/html": [
       "<style  type=\"text/css\" >\n",
       "#T_ca8e9e74_8738_11eb_b06b_acde48001122row0_col2,#T_ca8e9e74_8738_11eb_b06b_acde48001122row0_col4,#T_ca8e9e74_8738_11eb_b06b_acde48001122row0_col8,#T_ca8e9e74_8738_11eb_b06b_acde48001122row0_col20{\n",
       "            background-color:  red;\n",
       "        }</style><table id=\"T_ca8e9e74_8738_11eb_b06b_acde48001122\" ><thead>    <tr>        <th class=\"blank level0\" ></th>        <th class=\"col_heading level0 col0\" >ts</th>        <th class=\"col_heading level0 col1\" >uid</th>        <th class=\"col_heading level0 col2\" >id.orig_h</th>        <th class=\"col_heading level0 col3\" >id.orig_p</th>        <th class=\"col_heading level0 col4\" >id.resp_h</th>        <th class=\"col_heading level0 col5\" >id.resp_p</th>        <th class=\"col_heading level0 col6\" >proto</th>        <th class=\"col_heading level0 col7\" >trans_id</th>        <th class=\"col_heading level0 col8\" >query</th>        <th class=\"col_heading level0 col9\" >qclass</th>        <th class=\"col_heading level0 col10\" >qclass_name</th>        <th class=\"col_heading level0 col11\" >qtype</th>        <th class=\"col_heading level0 col12\" >qtype_name</th>        <th class=\"col_heading level0 col13\" >rcode</th>        <th class=\"col_heading level0 col14\" >rcode_name</th>        <th class=\"col_heading level0 col15\" >AA</th>        <th class=\"col_heading level0 col16\" >TC</th>        <th class=\"col_heading level0 col17\" >RD</th>        <th class=\"col_heading level0 col18\" >RA</th>        <th class=\"col_heading level0 col19\" >Z</th>        <th class=\"col_heading level0 col20\" >answers</th>        <th class=\"col_heading level0 col21\" >TTLs</th>        <th class=\"col_heading level0 col22\" >rejected</th>    </tr></thead><tbody>\n",
       "                <tr>\n",
       "                        <th id=\"T_ca8e9e74_8738_11eb_b06b_acde48001122level0_row0\" class=\"row_heading level0 row0\" >0</th>\n",
       "                        <td id=\"T_ca8e9e74_8738_11eb_b06b_acde48001122row0_col0\" class=\"data row0 col0\" >1424256988.447831</td>\n",
       "                        <td id=\"T_ca8e9e74_8738_11eb_b06b_acde48001122row0_col1\" class=\"data row0 col1\" >CcCQqj3E6KlwtFnRja</td>\n",
       "                        <td id=\"T_ca8e9e74_8738_11eb_b06b_acde48001122row0_col2\" class=\"data row0 col2\" >145.44.174.144</td>\n",
       "                        <td id=\"T_ca8e9e74_8738_11eb_b06b_acde48001122row0_col3\" class=\"data row0 col3\" >7745</td>\n",
       "                        <td id=\"T_ca8e9e74_8738_11eb_b06b_acde48001122row0_col4\" class=\"data row0 col4\" >107.156.75.81</td>\n",
       "                        <td id=\"T_ca8e9e74_8738_11eb_b06b_acde48001122row0_col5\" class=\"data row0 col5\" >53</td>\n",
       "                        <td id=\"T_ca8e9e74_8738_11eb_b06b_acde48001122row0_col6\" class=\"data row0 col6\" >udp</td>\n",
       "                        <td id=\"T_ca8e9e74_8738_11eb_b06b_acde48001122row0_col7\" class=\"data row0 col7\" >48100</td>\n",
       "                        <td id=\"T_ca8e9e74_8738_11eb_b06b_acde48001122row0_col8\" class=\"data row0 col8\" >24</td>\n",
       "                        <td id=\"T_ca8e9e74_8738_11eb_b06b_acde48001122row0_col9\" class=\"data row0 col9\" >1.000000</td>\n",
       "                        <td id=\"T_ca8e9e74_8738_11eb_b06b_acde48001122row0_col10\" class=\"data row0 col10\" >C_INTERNET</td>\n",
       "                        <td id=\"T_ca8e9e74_8738_11eb_b06b_acde48001122row0_col11\" class=\"data row0 col11\" >1.000000</td>\n",
       "                        <td id=\"T_ca8e9e74_8738_11eb_b06b_acde48001122row0_col12\" class=\"data row0 col12\" >A</td>\n",
       "                        <td id=\"T_ca8e9e74_8738_11eb_b06b_acde48001122row0_col13\" class=\"data row0 col13\" >0.000000</td>\n",
       "                        <td id=\"T_ca8e9e74_8738_11eb_b06b_acde48001122row0_col14\" class=\"data row0 col14\" >NOERROR</td>\n",
       "                        <td id=\"T_ca8e9e74_8738_11eb_b06b_acde48001122row0_col15\" class=\"data row0 col15\" >F</td>\n",
       "                        <td id=\"T_ca8e9e74_8738_11eb_b06b_acde48001122row0_col16\" class=\"data row0 col16\" >F</td>\n",
       "                        <td id=\"T_ca8e9e74_8738_11eb_b06b_acde48001122row0_col17\" class=\"data row0 col17\" >T</td>\n",
       "                        <td id=\"T_ca8e9e74_8738_11eb_b06b_acde48001122row0_col18\" class=\"data row0 col18\" >T</td>\n",
       "                        <td id=\"T_ca8e9e74_8738_11eb_b06b_acde48001122row0_col19\" class=\"data row0 col19\" >0</td>\n",
       "                        <td id=\"T_ca8e9e74_8738_11eb_b06b_acde48001122row0_col20\" class=\"data row0 col20\" >107.156.75.83</td>\n",
       "                        <td id=\"T_ca8e9e74_8738_11eb_b06b_acde48001122row0_col21\" class=\"data row0 col21\" >60.000000</td>\n",
       "                        <td id=\"T_ca8e9e74_8738_11eb_b06b_acde48001122row0_col22\" class=\"data row0 col22\" >F</td>\n",
       "            </tr>\n",
       "    </tbody></table>"
      ],
      "text/plain": [
       "<pandas.io.formats.style.Styler at 0x120c8bdf0>"
      ]
     },
     "metadata": {},
     "output_type": "display_data"
    },
    {
     "name": "stdout",
     "output_type": "stream",
     "text": [
      "---- ftp.log ---- Normal\n"
     ]
    },
    {
     "data": {
      "text/html": [
       "<style  type=\"text/css\" >\n",
       "#T_ca92c15c_8738_11eb_b06b_acde48001122row0_col2,#T_ca92c15c_8738_11eb_b06b_acde48001122row0_col4,#T_ca92c15c_8738_11eb_b06b_acde48001122row0_col6,#T_ca92c15c_8738_11eb_b06b_acde48001122row0_col7,#T_ca92c15c_8738_11eb_b06b_acde48001122row0_col9,#T_ca92c15c_8738_11eb_b06b_acde48001122row0_col15,#T_ca92c15c_8738_11eb_b06b_acde48001122row0_col16{\n",
       "            background-color:  red;\n",
       "        }</style><table id=\"T_ca92c15c_8738_11eb_b06b_acde48001122\" ><thead>    <tr>        <th class=\"blank level0\" ></th>        <th class=\"col_heading level0 col0\" >ts</th>        <th class=\"col_heading level0 col1\" >uid</th>        <th class=\"col_heading level0 col2\" >id.orig_h</th>        <th class=\"col_heading level0 col3\" >id.orig_p</th>        <th class=\"col_heading level0 col4\" >id.resp_h</th>        <th class=\"col_heading level0 col5\" >id.resp_p</th>        <th class=\"col_heading level0 col6\" >user</th>        <th class=\"col_heading level0 col7\" >password</th>        <th class=\"col_heading level0 col8\" >command</th>        <th class=\"col_heading level0 col9\" >arg</th>        <th class=\"col_heading level0 col10\" >mime_type</th>        <th class=\"col_heading level0 col11\" >file_size</th>        <th class=\"col_heading level0 col12\" >reply_code</th>        <th class=\"col_heading level0 col13\" >reply_msg</th>        <th class=\"col_heading level0 col14\" >data_channel.passive</th>        <th class=\"col_heading level0 col15\" >data_channel.orig_h</th>        <th class=\"col_heading level0 col16\" >data_channel.resp_h</th>        <th class=\"col_heading level0 col17\" >data_channel.resp_p</th>        <th class=\"col_heading level0 col18\" >fuid</th>    </tr></thead><tbody>\n",
       "                <tr>\n",
       "                        <th id=\"T_ca92c15c_8738_11eb_b06b_acde48001122level0_row0\" class=\"row_heading level0 row0\" >0</th>\n",
       "                        <td id=\"T_ca92c15c_8738_11eb_b06b_acde48001122row0_col0\" class=\"data row0 col0\" >1424256989.952859</td>\n",
       "                        <td id=\"T_ca92c15c_8738_11eb_b06b_acde48001122row0_col1\" class=\"data row0 col1\" >CsfksnMVMnOYhPiB7</td>\n",
       "                        <td id=\"T_ca92c15c_8738_11eb_b06b_acde48001122row0_col2\" class=\"data row0 col2\" >59.166.0.8</td>\n",
       "                        <td id=\"T_ca92c15c_8738_11eb_b06b_acde48001122row0_col3\" class=\"data row0 col3\" >5146</td>\n",
       "                        <td id=\"T_ca92c15c_8738_11eb_b06b_acde48001122row0_col4\" class=\"data row0 col4\" >149.171.126.3</td>\n",
       "                        <td id=\"T_ca92c15c_8738_11eb_b06b_acde48001122row0_col5\" class=\"data row0 col5\" >21</td>\n",
       "                        <td id=\"T_ca92c15c_8738_11eb_b06b_acde48001122row0_col6\" class=\"data row0 col6\" >anonymous</td>\n",
       "                        <td id=\"T_ca92c15c_8738_11eb_b06b_acde48001122row0_col7\" class=\"data row0 col7\" >jobs@server.com</td>\n",
       "                        <td id=\"T_ca92c15c_8738_11eb_b06b_acde48001122row0_col8\" class=\"data row0 col8\" >EPSV</td>\n",
       "                        <td id=\"T_ca92c15c_8738_11eb_b06b_acde48001122row0_col9\" class=\"data row0 col9\" >-</td>\n",
       "                        <td id=\"T_ca92c15c_8738_11eb_b06b_acde48001122row0_col10\" class=\"data row0 col10\" >-</td>\n",
       "                        <td id=\"T_ca92c15c_8738_11eb_b06b_acde48001122row0_col11\" class=\"data row0 col11\" >nan</td>\n",
       "                        <td id=\"T_ca92c15c_8738_11eb_b06b_acde48001122row0_col12\" class=\"data row0 col12\" >229</td>\n",
       "                        <td id=\"T_ca92c15c_8738_11eb_b06b_acde48001122row0_col13\" class=\"data row0 col13\" >Extended Passive Mode OK (|||24196|)</td>\n",
       "                        <td id=\"T_ca92c15c_8738_11eb_b06b_acde48001122row0_col14\" class=\"data row0 col14\" >T</td>\n",
       "                        <td id=\"T_ca92c15c_8738_11eb_b06b_acde48001122row0_col15\" class=\"data row0 col15\" >59.166.0.8</td>\n",
       "                        <td id=\"T_ca92c15c_8738_11eb_b06b_acde48001122row0_col16\" class=\"data row0 col16\" >149.171.126.3</td>\n",
       "                        <td id=\"T_ca92c15c_8738_11eb_b06b_acde48001122row0_col17\" class=\"data row0 col17\" >24196.000000</td>\n",
       "                        <td id=\"T_ca92c15c_8738_11eb_b06b_acde48001122row0_col18\" class=\"data row0 col18\" >-</td>\n",
       "            </tr>\n",
       "    </tbody></table>"
      ],
      "text/plain": [
       "<pandas.io.formats.style.Styler at 0x120c771f0>"
      ]
     },
     "metadata": {},
     "output_type": "display_data"
    },
    {
     "name": "stdout",
     "output_type": "stream",
     "text": [
      "---- ftp.log ---- Anonymised\n"
     ]
    },
    {
     "data": {
      "text/html": [
       "<style  type=\"text/css\" >\n",
       "#T_ca96cfae_8738_11eb_b06b_acde48001122row0_col2,#T_ca96cfae_8738_11eb_b06b_acde48001122row0_col4,#T_ca96cfae_8738_11eb_b06b_acde48001122row0_col6,#T_ca96cfae_8738_11eb_b06b_acde48001122row0_col7,#T_ca96cfae_8738_11eb_b06b_acde48001122row0_col9,#T_ca96cfae_8738_11eb_b06b_acde48001122row0_col15,#T_ca96cfae_8738_11eb_b06b_acde48001122row0_col16{\n",
       "            background-color:  red;\n",
       "        }</style><table id=\"T_ca96cfae_8738_11eb_b06b_acde48001122\" ><thead>    <tr>        <th class=\"blank level0\" ></th>        <th class=\"col_heading level0 col0\" >ts</th>        <th class=\"col_heading level0 col1\" >uid</th>        <th class=\"col_heading level0 col2\" >id.orig_h</th>        <th class=\"col_heading level0 col3\" >id.orig_p</th>        <th class=\"col_heading level0 col4\" >id.resp_h</th>        <th class=\"col_heading level0 col5\" >id.resp_p</th>        <th class=\"col_heading level0 col6\" >user</th>        <th class=\"col_heading level0 col7\" >password</th>        <th class=\"col_heading level0 col8\" >command</th>        <th class=\"col_heading level0 col9\" >arg</th>        <th class=\"col_heading level0 col10\" >mime_type</th>        <th class=\"col_heading level0 col11\" >file_size</th>        <th class=\"col_heading level0 col12\" >reply_code</th>        <th class=\"col_heading level0 col13\" >reply_msg</th>        <th class=\"col_heading level0 col14\" >data_channel.passive</th>        <th class=\"col_heading level0 col15\" >data_channel.orig_h</th>        <th class=\"col_heading level0 col16\" >data_channel.resp_h</th>        <th class=\"col_heading level0 col17\" >data_channel.resp_p</th>        <th class=\"col_heading level0 col18\" >fuid</th>    </tr></thead><tbody>\n",
       "                <tr>\n",
       "                        <th id=\"T_ca96cfae_8738_11eb_b06b_acde48001122level0_row0\" class=\"row_heading level0 row0\" >0</th>\n",
       "                        <td id=\"T_ca96cfae_8738_11eb_b06b_acde48001122row0_col0\" class=\"data row0 col0\" >1424256989.952859</td>\n",
       "                        <td id=\"T_ca96cfae_8738_11eb_b06b_acde48001122row0_col1\" class=\"data row0 col1\" >CsfksnMVMnOYhPiB7</td>\n",
       "                        <td id=\"T_ca96cfae_8738_11eb_b06b_acde48001122row0_col2\" class=\"data row0 col2\" >145.44.174.33</td>\n",
       "                        <td id=\"T_ca96cfae_8738_11eb_b06b_acde48001122row0_col3\" class=\"data row0 col3\" >5146</td>\n",
       "                        <td id=\"T_ca96cfae_8738_11eb_b06b_acde48001122row0_col4\" class=\"data row0 col4\" >107.156.75.65</td>\n",
       "                        <td id=\"T_ca96cfae_8738_11eb_b06b_acde48001122row0_col5\" class=\"data row0 col5\" >21</td>\n",
       "                        <td id=\"T_ca96cfae_8738_11eb_b06b_acde48001122row0_col6\" class=\"data row0 col6\" >1</td>\n",
       "                        <td id=\"T_ca96cfae_8738_11eb_b06b_acde48001122row0_col7\" class=\"data row0 col7\" >2</td>\n",
       "                        <td id=\"T_ca96cfae_8738_11eb_b06b_acde48001122row0_col8\" class=\"data row0 col8\" >EPSV</td>\n",
       "                        <td id=\"T_ca96cfae_8738_11eb_b06b_acde48001122row0_col9\" class=\"data row0 col9\" >0</td>\n",
       "                        <td id=\"T_ca96cfae_8738_11eb_b06b_acde48001122row0_col10\" class=\"data row0 col10\" >-</td>\n",
       "                        <td id=\"T_ca96cfae_8738_11eb_b06b_acde48001122row0_col11\" class=\"data row0 col11\" >nan</td>\n",
       "                        <td id=\"T_ca96cfae_8738_11eb_b06b_acde48001122row0_col12\" class=\"data row0 col12\" >229</td>\n",
       "                        <td id=\"T_ca96cfae_8738_11eb_b06b_acde48001122row0_col13\" class=\"data row0 col13\" >Extended Passive Mode OK (|||24196|)</td>\n",
       "                        <td id=\"T_ca96cfae_8738_11eb_b06b_acde48001122row0_col14\" class=\"data row0 col14\" >T</td>\n",
       "                        <td id=\"T_ca96cfae_8738_11eb_b06b_acde48001122row0_col15\" class=\"data row0 col15\" >145.44.174.33</td>\n",
       "                        <td id=\"T_ca96cfae_8738_11eb_b06b_acde48001122row0_col16\" class=\"data row0 col16\" >107.156.75.65</td>\n",
       "                        <td id=\"T_ca96cfae_8738_11eb_b06b_acde48001122row0_col17\" class=\"data row0 col17\" >24196.000000</td>\n",
       "                        <td id=\"T_ca96cfae_8738_11eb_b06b_acde48001122row0_col18\" class=\"data row0 col18\" >-</td>\n",
       "            </tr>\n",
       "    </tbody></table>"
      ],
      "text/plain": [
       "<pandas.io.formats.style.Styler at 0x12253d610>"
      ]
     },
     "metadata": {},
     "output_type": "display_data"
    },
    {
     "name": "stdout",
     "output_type": "stream",
     "text": [
      "---- http.log ---- Normal\n"
     ]
    },
    {
     "data": {
      "text/html": [
       "<style  type=\"text/css\" >\n",
       "#T_ca9b9c00_8738_11eb_b06b_acde48001122row0_col2,#T_ca9b9c00_8738_11eb_b06b_acde48001122row0_col4,#T_ca9b9c00_8738_11eb_b06b_acde48001122row0_col8,#T_ca9b9c00_8738_11eb_b06b_acde48001122row0_col9,#T_ca9b9c00_8738_11eb_b06b_acde48001122row0_col18,#T_ca9b9c00_8738_11eb_b06b_acde48001122row0_col20,#T_ca9b9c00_8738_11eb_b06b_acde48001122row0_col21{\n",
       "            background-color:  red;\n",
       "        }</style><table id=\"T_ca9b9c00_8738_11eb_b06b_acde48001122\" ><thead>    <tr>        <th class=\"blank level0\" ></th>        <th class=\"col_heading level0 col0\" >ts</th>        <th class=\"col_heading level0 col1\" >uid</th>        <th class=\"col_heading level0 col2\" >id.orig_h</th>        <th class=\"col_heading level0 col3\" >id.orig_p</th>        <th class=\"col_heading level0 col4\" >id.resp_h</th>        <th class=\"col_heading level0 col5\" >id.resp_p</th>        <th class=\"col_heading level0 col6\" >trans_depth</th>        <th class=\"col_heading level0 col7\" >method</th>        <th class=\"col_heading level0 col8\" >host</th>        <th class=\"col_heading level0 col9\" >uri</th>        <th class=\"col_heading level0 col10\" >referrer</th>        <th class=\"col_heading level0 col11\" >user_agent</th>        <th class=\"col_heading level0 col12\" >request_body_len</th>        <th class=\"col_heading level0 col13\" >response_body_len</th>        <th class=\"col_heading level0 col14\" >status_code</th>        <th class=\"col_heading level0 col15\" >status_msg</th>        <th class=\"col_heading level0 col16\" >info_code</th>        <th class=\"col_heading level0 col17\" >info_msg</th>        <th class=\"col_heading level0 col18\" >filename</th>        <th class=\"col_heading level0 col19\" >tags</th>        <th class=\"col_heading level0 col20\" >username</th>        <th class=\"col_heading level0 col21\" >password</th>        <th class=\"col_heading level0 col22\" >proxied</th>        <th class=\"col_heading level0 col23\" >orig_fuids</th>        <th class=\"col_heading level0 col24\" >orig_mime_types</th>        <th class=\"col_heading level0 col25\" >resp_fuids</th>        <th class=\"col_heading level0 col26\" >resp_mime_types</th>    </tr></thead><tbody>\n",
       "                <tr>\n",
       "                        <th id=\"T_ca9b9c00_8738_11eb_b06b_acde48001122level0_row0\" class=\"row_heading level0 row0\" >0</th>\n",
       "                        <td id=\"T_ca9b9c00_8738_11eb_b06b_acde48001122row0_col0\" class=\"data row0 col0\" >1424256990.350022</td>\n",
       "                        <td id=\"T_ca9b9c00_8738_11eb_b06b_acde48001122row0_col1\" class=\"data row0 col1\" >CwgILB4FJZI9P9o4z1</td>\n",
       "                        <td id=\"T_ca9b9c00_8738_11eb_b06b_acde48001122row0_col2\" class=\"data row0 col2\" >59.166.0.1</td>\n",
       "                        <td id=\"T_ca9b9c00_8738_11eb_b06b_acde48001122row0_col3\" class=\"data row0 col3\" >41195</td>\n",
       "                        <td id=\"T_ca9b9c00_8738_11eb_b06b_acde48001122row0_col4\" class=\"data row0 col4\" >149.171.126.1</td>\n",
       "                        <td id=\"T_ca9b9c00_8738_11eb_b06b_acde48001122row0_col5\" class=\"data row0 col5\" >80</td>\n",
       "                        <td id=\"T_ca9b9c00_8738_11eb_b06b_acde48001122row0_col6\" class=\"data row0 col6\" >1</td>\n",
       "                        <td id=\"T_ca9b9c00_8738_11eb_b06b_acde48001122row0_col7\" class=\"data row0 col7\" >GET</td>\n",
       "                        <td id=\"T_ca9b9c00_8738_11eb_b06b_acde48001122row0_col8\" class=\"data row0 col8\" >Tracker</td>\n",
       "                        <td id=\"T_ca9b9c00_8738_11eb_b06b_acde48001122row0_col9\" class=\"data row0 col9\" >/announce?peer_id=-AR2621-949883860326&port=15836&uploaded=0&downloaded=0&left=8388610&compact=1&numwant=0&event=started&info_hash=\\x1d]\\xfb\\xcc\\x9f\\xeb\\xfckTfW\\xe3e\\xe8\\xed\\xa9 \\x0f5\\xf0</td>\n",
       "                        <td id=\"T_ca9b9c00_8738_11eb_b06b_acde48001122row0_col10\" class=\"data row0 col10\" >-</td>\n",
       "                        <td id=\"T_ca9b9c00_8738_11eb_b06b_acde48001122row0_col11\" class=\"data row0 col11\" >-</td>\n",
       "                        <td id=\"T_ca9b9c00_8738_11eb_b06b_acde48001122row0_col12\" class=\"data row0 col12\" >0</td>\n",
       "                        <td id=\"T_ca9b9c00_8738_11eb_b06b_acde48001122row0_col13\" class=\"data row0 col13\" >83</td>\n",
       "                        <td id=\"T_ca9b9c00_8738_11eb_b06b_acde48001122row0_col14\" class=\"data row0 col14\" >200.000000</td>\n",
       "                        <td id=\"T_ca9b9c00_8738_11eb_b06b_acde48001122row0_col15\" class=\"data row0 col15\" >OK</td>\n",
       "                        <td id=\"T_ca9b9c00_8738_11eb_b06b_acde48001122row0_col16\" class=\"data row0 col16\" >nan</td>\n",
       "                        <td id=\"T_ca9b9c00_8738_11eb_b06b_acde48001122row0_col17\" class=\"data row0 col17\" >-</td>\n",
       "                        <td id=\"T_ca9b9c00_8738_11eb_b06b_acde48001122row0_col18\" class=\"data row0 col18\" >-</td>\n",
       "                        <td id=\"T_ca9b9c00_8738_11eb_b06b_acde48001122row0_col19\" class=\"data row0 col19\" >(empty)</td>\n",
       "                        <td id=\"T_ca9b9c00_8738_11eb_b06b_acde48001122row0_col20\" class=\"data row0 col20\" >-</td>\n",
       "                        <td id=\"T_ca9b9c00_8738_11eb_b06b_acde48001122row0_col21\" class=\"data row0 col21\" >-</td>\n",
       "                        <td id=\"T_ca9b9c00_8738_11eb_b06b_acde48001122row0_col22\" class=\"data row0 col22\" >-</td>\n",
       "                        <td id=\"T_ca9b9c00_8738_11eb_b06b_acde48001122row0_col23\" class=\"data row0 col23\" >-</td>\n",
       "                        <td id=\"T_ca9b9c00_8738_11eb_b06b_acde48001122row0_col24\" class=\"data row0 col24\" >-</td>\n",
       "                        <td id=\"T_ca9b9c00_8738_11eb_b06b_acde48001122row0_col25\" class=\"data row0 col25\" >FdHIAGPzf33uaIXE9</td>\n",
       "                        <td id=\"T_ca9b9c00_8738_11eb_b06b_acde48001122row0_col26\" class=\"data row0 col26\" >text/plain</td>\n",
       "            </tr>\n",
       "    </tbody></table>"
      ],
      "text/plain": [
       "<pandas.io.formats.style.Styler at 0x120c77640>"
      ]
     },
     "metadata": {},
     "output_type": "display_data"
    },
    {
     "name": "stdout",
     "output_type": "stream",
     "text": [
      "---- http.log ---- Anonymised\n"
     ]
    },
    {
     "data": {
      "text/html": [
       "<style  type=\"text/css\" >\n",
       "#T_caa045ca_8738_11eb_b06b_acde48001122row0_col2,#T_caa045ca_8738_11eb_b06b_acde48001122row0_col4,#T_caa045ca_8738_11eb_b06b_acde48001122row0_col8,#T_caa045ca_8738_11eb_b06b_acde48001122row0_col9,#T_caa045ca_8738_11eb_b06b_acde48001122row0_col18,#T_caa045ca_8738_11eb_b06b_acde48001122row0_col20,#T_caa045ca_8738_11eb_b06b_acde48001122row0_col21{\n",
       "            background-color:  red;\n",
       "        }</style><table id=\"T_caa045ca_8738_11eb_b06b_acde48001122\" ><thead>    <tr>        <th class=\"blank level0\" ></th>        <th class=\"col_heading level0 col0\" >ts</th>        <th class=\"col_heading level0 col1\" >uid</th>        <th class=\"col_heading level0 col2\" >id.orig_h</th>        <th class=\"col_heading level0 col3\" >id.orig_p</th>        <th class=\"col_heading level0 col4\" >id.resp_h</th>        <th class=\"col_heading level0 col5\" >id.resp_p</th>        <th class=\"col_heading level0 col6\" >trans_depth</th>        <th class=\"col_heading level0 col7\" >method</th>        <th class=\"col_heading level0 col8\" >host</th>        <th class=\"col_heading level0 col9\" >uri</th>        <th class=\"col_heading level0 col10\" >referrer</th>        <th class=\"col_heading level0 col11\" >user_agent</th>        <th class=\"col_heading level0 col12\" >request_body_len</th>        <th class=\"col_heading level0 col13\" >response_body_len</th>        <th class=\"col_heading level0 col14\" >status_code</th>        <th class=\"col_heading level0 col15\" >status_msg</th>        <th class=\"col_heading level0 col16\" >info_code</th>        <th class=\"col_heading level0 col17\" >info_msg</th>        <th class=\"col_heading level0 col18\" >filename</th>        <th class=\"col_heading level0 col19\" >tags</th>        <th class=\"col_heading level0 col20\" >username</th>        <th class=\"col_heading level0 col21\" >password</th>        <th class=\"col_heading level0 col22\" >proxied</th>        <th class=\"col_heading level0 col23\" >orig_fuids</th>        <th class=\"col_heading level0 col24\" >orig_mime_types</th>        <th class=\"col_heading level0 col25\" >resp_fuids</th>        <th class=\"col_heading level0 col26\" >resp_mime_types</th>    </tr></thead><tbody>\n",
       "                <tr>\n",
       "                        <th id=\"T_caa045ca_8738_11eb_b06b_acde48001122level0_row0\" class=\"row_heading level0 row0\" >0</th>\n",
       "                        <td id=\"T_caa045ca_8738_11eb_b06b_acde48001122row0_col0\" class=\"data row0 col0\" >1424256990.350022</td>\n",
       "                        <td id=\"T_caa045ca_8738_11eb_b06b_acde48001122row0_col1\" class=\"data row0 col1\" >CwgILB4FJZI9P9o4z1</td>\n",
       "                        <td id=\"T_caa045ca_8738_11eb_b06b_acde48001122row0_col2\" class=\"data row0 col2\" >145.44.174.69</td>\n",
       "                        <td id=\"T_caa045ca_8738_11eb_b06b_acde48001122row0_col3\" class=\"data row0 col3\" >41195</td>\n",
       "                        <td id=\"T_caa045ca_8738_11eb_b06b_acde48001122row0_col4\" class=\"data row0 col4\" >107.156.75.69</td>\n",
       "                        <td id=\"T_caa045ca_8738_11eb_b06b_acde48001122row0_col5\" class=\"data row0 col5\" >80</td>\n",
       "                        <td id=\"T_caa045ca_8738_11eb_b06b_acde48001122row0_col6\" class=\"data row0 col6\" >1</td>\n",
       "                        <td id=\"T_caa045ca_8738_11eb_b06b_acde48001122row0_col7\" class=\"data row0 col7\" >GET</td>\n",
       "                        <td id=\"T_caa045ca_8738_11eb_b06b_acde48001122row0_col8\" class=\"data row0 col8\" >251</td>\n",
       "                        <td id=\"T_caa045ca_8738_11eb_b06b_acde48001122row0_col9\" class=\"data row0 col9\" >216</td>\n",
       "                        <td id=\"T_caa045ca_8738_11eb_b06b_acde48001122row0_col10\" class=\"data row0 col10\" >-</td>\n",
       "                        <td id=\"T_caa045ca_8738_11eb_b06b_acde48001122row0_col11\" class=\"data row0 col11\" >-</td>\n",
       "                        <td id=\"T_caa045ca_8738_11eb_b06b_acde48001122row0_col12\" class=\"data row0 col12\" >0</td>\n",
       "                        <td id=\"T_caa045ca_8738_11eb_b06b_acde48001122row0_col13\" class=\"data row0 col13\" >83</td>\n",
       "                        <td id=\"T_caa045ca_8738_11eb_b06b_acde48001122row0_col14\" class=\"data row0 col14\" >200.000000</td>\n",
       "                        <td id=\"T_caa045ca_8738_11eb_b06b_acde48001122row0_col15\" class=\"data row0 col15\" >OK</td>\n",
       "                        <td id=\"T_caa045ca_8738_11eb_b06b_acde48001122row0_col16\" class=\"data row0 col16\" >nan</td>\n",
       "                        <td id=\"T_caa045ca_8738_11eb_b06b_acde48001122row0_col17\" class=\"data row0 col17\" >-</td>\n",
       "                        <td id=\"T_caa045ca_8738_11eb_b06b_acde48001122row0_col18\" class=\"data row0 col18\" >0</td>\n",
       "                        <td id=\"T_caa045ca_8738_11eb_b06b_acde48001122row0_col19\" class=\"data row0 col19\" >(empty)</td>\n",
       "                        <td id=\"T_caa045ca_8738_11eb_b06b_acde48001122row0_col20\" class=\"data row0 col20\" >0</td>\n",
       "                        <td id=\"T_caa045ca_8738_11eb_b06b_acde48001122row0_col21\" class=\"data row0 col21\" >0</td>\n",
       "                        <td id=\"T_caa045ca_8738_11eb_b06b_acde48001122row0_col22\" class=\"data row0 col22\" >-</td>\n",
       "                        <td id=\"T_caa045ca_8738_11eb_b06b_acde48001122row0_col23\" class=\"data row0 col23\" >-</td>\n",
       "                        <td id=\"T_caa045ca_8738_11eb_b06b_acde48001122row0_col24\" class=\"data row0 col24\" >-</td>\n",
       "                        <td id=\"T_caa045ca_8738_11eb_b06b_acde48001122row0_col25\" class=\"data row0 col25\" >FdHIAGPzf33uaIXE9</td>\n",
       "                        <td id=\"T_caa045ca_8738_11eb_b06b_acde48001122row0_col26\" class=\"data row0 col26\" >text/plain</td>\n",
       "            </tr>\n",
       "    </tbody></table>"
      ],
      "text/plain": [
       "<pandas.io.formats.style.Styler at 0x122533d60>"
      ]
     },
     "metadata": {},
     "output_type": "display_data"
    },
    {
     "name": "stdout",
     "output_type": "stream",
     "text": [
      "---- ssh.log ---- Normal\n"
     ]
    },
    {
     "data": {
      "text/html": [
       "<style  type=\"text/css\" >\n",
       "#T_caa2809c_8738_11eb_b06b_acde48001122row0_col2,#T_caa2809c_8738_11eb_b06b_acde48001122row0_col4{\n",
       "            background-color:  red;\n",
       "        }</style><table id=\"T_caa2809c_8738_11eb_b06b_acde48001122\" ><thead>    <tr>        <th class=\"blank level0\" ></th>        <th class=\"col_heading level0 col0\" >ts</th>        <th class=\"col_heading level0 col1\" >uid</th>        <th class=\"col_heading level0 col2\" >id.orig_h</th>        <th class=\"col_heading level0 col3\" >id.orig_p</th>        <th class=\"col_heading level0 col4\" >id.resp_h</th>        <th class=\"col_heading level0 col5\" >id.resp_p</th>        <th class=\"col_heading level0 col6\" >status</th>        <th class=\"col_heading level0 col7\" >direction</th>        <th class=\"col_heading level0 col8\" >client</th>        <th class=\"col_heading level0 col9\" >server</th>    </tr></thead><tbody>\n",
       "                <tr>\n",
       "                        <th id=\"T_caa2809c_8738_11eb_b06b_acde48001122level0_row0\" class=\"row_heading level0 row0\" >0</th>\n",
       "                        <td id=\"T_caa2809c_8738_11eb_b06b_acde48001122row0_col0\" class=\"data row0 col0\" >1424256988.242291</td>\n",
       "                        <td id=\"T_caa2809c_8738_11eb_b06b_acde48001122row0_col1\" class=\"data row0 col1\" >ChBvzV2CEZnYgi9gaa</td>\n",
       "                        <td id=\"T_caa2809c_8738_11eb_b06b_acde48001122row0_col2\" class=\"data row0 col2\" >59.166.0.0</td>\n",
       "                        <td id=\"T_caa2809c_8738_11eb_b06b_acde48001122row0_col3\" class=\"data row0 col3\" >3778</td>\n",
       "                        <td id=\"T_caa2809c_8738_11eb_b06b_acde48001122row0_col4\" class=\"data row0 col4\" >149.171.126.2</td>\n",
       "                        <td id=\"T_caa2809c_8738_11eb_b06b_acde48001122row0_col5\" class=\"data row0 col5\" >22</td>\n",
       "                        <td id=\"T_caa2809c_8738_11eb_b06b_acde48001122row0_col6\" class=\"data row0 col6\" >success</td>\n",
       "                        <td id=\"T_caa2809c_8738_11eb_b06b_acde48001122row0_col7\" class=\"data row0 col7\" >INBOUND</td>\n",
       "                        <td id=\"T_caa2809c_8738_11eb_b06b_acde48001122row0_col8\" class=\"data row0 col8\" >SSH-2.0-PuTTY_Release_0.60</td>\n",
       "                        <td id=\"T_caa2809c_8738_11eb_b06b_acde48001122row0_col9\" class=\"data row0 col9\" >SSH-1.99-OpenSSH_4.3</td>\n",
       "            </tr>\n",
       "    </tbody></table>"
      ],
      "text/plain": [
       "<pandas.io.formats.style.Styler at 0x120c77760>"
      ]
     },
     "metadata": {},
     "output_type": "display_data"
    },
    {
     "name": "stdout",
     "output_type": "stream",
     "text": [
      "---- ssh.log ---- Anonymised\n"
     ]
    },
    {
     "data": {
      "text/html": [
       "<style  type=\"text/css\" >\n",
       "#T_caa4cac8_8738_11eb_b06b_acde48001122row0_col2,#T_caa4cac8_8738_11eb_b06b_acde48001122row0_col4{\n",
       "            background-color:  red;\n",
       "        }</style><table id=\"T_caa4cac8_8738_11eb_b06b_acde48001122\" ><thead>    <tr>        <th class=\"blank level0\" ></th>        <th class=\"col_heading level0 col0\" >ts</th>        <th class=\"col_heading level0 col1\" >uid</th>        <th class=\"col_heading level0 col2\" >id.orig_h</th>        <th class=\"col_heading level0 col3\" >id.orig_p</th>        <th class=\"col_heading level0 col4\" >id.resp_h</th>        <th class=\"col_heading level0 col5\" >id.resp_p</th>        <th class=\"col_heading level0 col6\" >status</th>        <th class=\"col_heading level0 col7\" >direction</th>        <th class=\"col_heading level0 col8\" >client</th>        <th class=\"col_heading level0 col9\" >server</th>    </tr></thead><tbody>\n",
       "                <tr>\n",
       "                        <th id=\"T_caa4cac8_8738_11eb_b06b_acde48001122level0_row0\" class=\"row_heading level0 row0\" >0</th>\n",
       "                        <td id=\"T_caa4cac8_8738_11eb_b06b_acde48001122row0_col0\" class=\"data row0 col0\" >1424256988.242291</td>\n",
       "                        <td id=\"T_caa4cac8_8738_11eb_b06b_acde48001122row0_col1\" class=\"data row0 col1\" >ChBvzV2CEZnYgi9gaa</td>\n",
       "                        <td id=\"T_caa4cac8_8738_11eb_b06b_acde48001122row0_col2\" class=\"data row0 col2\" >145.44.174.5</td>\n",
       "                        <td id=\"T_caa4cac8_8738_11eb_b06b_acde48001122row0_col3\" class=\"data row0 col3\" >3778</td>\n",
       "                        <td id=\"T_caa4cac8_8738_11eb_b06b_acde48001122row0_col4\" class=\"data row0 col4\" >107.156.75.81</td>\n",
       "                        <td id=\"T_caa4cac8_8738_11eb_b06b_acde48001122row0_col5\" class=\"data row0 col5\" >22</td>\n",
       "                        <td id=\"T_caa4cac8_8738_11eb_b06b_acde48001122row0_col6\" class=\"data row0 col6\" >success</td>\n",
       "                        <td id=\"T_caa4cac8_8738_11eb_b06b_acde48001122row0_col7\" class=\"data row0 col7\" >INBOUND</td>\n",
       "                        <td id=\"T_caa4cac8_8738_11eb_b06b_acde48001122row0_col8\" class=\"data row0 col8\" >SSH-2.0-PuTTY_Release_0.60</td>\n",
       "                        <td id=\"T_caa4cac8_8738_11eb_b06b_acde48001122row0_col9\" class=\"data row0 col9\" >SSH-1.99-OpenSSH_4.3</td>\n",
       "            </tr>\n",
       "    </tbody></table>"
      ],
      "text/plain": [
       "<pandas.io.formats.style.Styler at 0x12253d0a0>"
      ]
     },
     "metadata": {},
     "output_type": "display_data"
    },
    {
     "name": "stdout",
     "output_type": "stream",
     "text": [
      "---- ssl.log ---- Normal\n"
     ]
    },
    {
     "data": {
      "text/html": [
       "<style  type=\"text/css\" >\n",
       "#T_caa8526a_8738_11eb_b06b_acde48001122row0_col2,#T_caa8526a_8738_11eb_b06b_acde48001122row0_col4,#T_caa8526a_8738_11eb_b06b_acde48001122row0_col9,#T_caa8526a_8738_11eb_b06b_acde48001122row0_col15,#T_caa8526a_8738_11eb_b06b_acde48001122row0_col16,#T_caa8526a_8738_11eb_b06b_acde48001122row0_col17,#T_caa8526a_8738_11eb_b06b_acde48001122row0_col18{\n",
       "            background-color:  red;\n",
       "        }</style><table id=\"T_caa8526a_8738_11eb_b06b_acde48001122\" ><thead>    <tr>        <th class=\"blank level0\" ></th>        <th class=\"col_heading level0 col0\" >ts</th>        <th class=\"col_heading level0 col1\" >uid</th>        <th class=\"col_heading level0 col2\" >id.orig_h</th>        <th class=\"col_heading level0 col3\" >id.orig_p</th>        <th class=\"col_heading level0 col4\" >id.resp_h</th>        <th class=\"col_heading level0 col5\" >id.resp_p</th>        <th class=\"col_heading level0 col6\" >version</th>        <th class=\"col_heading level0 col7\" >cipher</th>        <th class=\"col_heading level0 col8\" >curve</th>        <th class=\"col_heading level0 col9\" >server_name</th>        <th class=\"col_heading level0 col10\" >session_id</th>        <th class=\"col_heading level0 col11\" >last_alert</th>        <th class=\"col_heading level0 col12\" >established</th>        <th class=\"col_heading level0 col13\" >cert_chain_fuids</th>        <th class=\"col_heading level0 col14\" >client_cert_chain_fuids</th>        <th class=\"col_heading level0 col15\" >subject</th>        <th class=\"col_heading level0 col16\" >issuer</th>        <th class=\"col_heading level0 col17\" >client_subject</th>        <th class=\"col_heading level0 col18\" >client_issuer</th>    </tr></thead><tbody>\n",
       "                <tr>\n",
       "                        <th id=\"T_caa8526a_8738_11eb_b06b_acde48001122level0_row0\" class=\"row_heading level0 row0\" >0</th>\n",
       "                        <td id=\"T_caa8526a_8738_11eb_b06b_acde48001122row0_col0\" class=\"data row0 col0\" >1424257005.940392</td>\n",
       "                        <td id=\"T_caa8526a_8738_11eb_b06b_acde48001122row0_col1\" class=\"data row0 col1\" >CkIFoc3DTlsBeaFW66</td>\n",
       "                        <td id=\"T_caa8526a_8738_11eb_b06b_acde48001122row0_col2\" class=\"data row0 col2\" >175.45.176.1</td>\n",
       "                        <td id=\"T_caa8526a_8738_11eb_b06b_acde48001122row0_col3\" class=\"data row0 col3\" >17478</td>\n",
       "                        <td id=\"T_caa8526a_8738_11eb_b06b_acde48001122row0_col4\" class=\"data row0 col4\" >149.171.126.12</td>\n",
       "                        <td id=\"T_caa8526a_8738_11eb_b06b_acde48001122row0_col5\" class=\"data row0 col5\" >443</td>\n",
       "                        <td id=\"T_caa8526a_8738_11eb_b06b_acde48001122row0_col6\" class=\"data row0 col6\" >TLSv10</td>\n",
       "                        <td id=\"T_caa8526a_8738_11eb_b06b_acde48001122row0_col7\" class=\"data row0 col7\" >TLS_RSA_WITH_3DES_EDE_CBC_SHA</td>\n",
       "                        <td id=\"T_caa8526a_8738_11eb_b06b_acde48001122row0_col8\" class=\"data row0 col8\" >-</td>\n",
       "                        <td id=\"T_caa8526a_8738_11eb_b06b_acde48001122row0_col9\" class=\"data row0 col9\" >-</td>\n",
       "                        <td id=\"T_caa8526a_8738_11eb_b06b_acde48001122row0_col10\" class=\"data row0 col10\" >08a79d45b747f5c828da00000000000000000000000000000000000000000000</td>\n",
       "                        <td id=\"T_caa8526a_8738_11eb_b06b_acde48001122row0_col11\" class=\"data row0 col11\" >-</td>\n",
       "                        <td id=\"T_caa8526a_8738_11eb_b06b_acde48001122row0_col12\" class=\"data row0 col12\" >F</td>\n",
       "                        <td id=\"T_caa8526a_8738_11eb_b06b_acde48001122row0_col13\" class=\"data row0 col13\" >-</td>\n",
       "                        <td id=\"T_caa8526a_8738_11eb_b06b_acde48001122row0_col14\" class=\"data row0 col14\" >-</td>\n",
       "                        <td id=\"T_caa8526a_8738_11eb_b06b_acde48001122row0_col15\" class=\"data row0 col15\" >-</td>\n",
       "                        <td id=\"T_caa8526a_8738_11eb_b06b_acde48001122row0_col16\" class=\"data row0 col16\" >-</td>\n",
       "                        <td id=\"T_caa8526a_8738_11eb_b06b_acde48001122row0_col17\" class=\"data row0 col17\" >-</td>\n",
       "                        <td id=\"T_caa8526a_8738_11eb_b06b_acde48001122row0_col18\" class=\"data row0 col18\" >-</td>\n",
       "            </tr>\n",
       "    </tbody></table>"
      ],
      "text/plain": [
       "<pandas.io.formats.style.Styler at 0x12253de80>"
      ]
     },
     "metadata": {},
     "output_type": "display_data"
    },
    {
     "name": "stdout",
     "output_type": "stream",
     "text": [
      "---- ssl.log ---- Anonymised\n"
     ]
    },
    {
     "data": {
      "text/html": [
       "<style  type=\"text/css\" >\n",
       "#T_cab2c22c_8738_11eb_b06b_acde48001122row0_col2,#T_cab2c22c_8738_11eb_b06b_acde48001122row0_col4,#T_cab2c22c_8738_11eb_b06b_acde48001122row0_col9,#T_cab2c22c_8738_11eb_b06b_acde48001122row0_col15,#T_cab2c22c_8738_11eb_b06b_acde48001122row0_col16,#T_cab2c22c_8738_11eb_b06b_acde48001122row0_col17,#T_cab2c22c_8738_11eb_b06b_acde48001122row0_col18{\n",
       "            background-color:  red;\n",
       "        }</style><table id=\"T_cab2c22c_8738_11eb_b06b_acde48001122\" ><thead>    <tr>        <th class=\"blank level0\" ></th>        <th class=\"col_heading level0 col0\" >ts</th>        <th class=\"col_heading level0 col1\" >uid</th>        <th class=\"col_heading level0 col2\" >id.orig_h</th>        <th class=\"col_heading level0 col3\" >id.orig_p</th>        <th class=\"col_heading level0 col4\" >id.resp_h</th>        <th class=\"col_heading level0 col5\" >id.resp_p</th>        <th class=\"col_heading level0 col6\" >version</th>        <th class=\"col_heading level0 col7\" >cipher</th>        <th class=\"col_heading level0 col8\" >curve</th>        <th class=\"col_heading level0 col9\" >server_name</th>        <th class=\"col_heading level0 col10\" >session_id</th>        <th class=\"col_heading level0 col11\" >last_alert</th>        <th class=\"col_heading level0 col12\" >established</th>        <th class=\"col_heading level0 col13\" >cert_chain_fuids</th>        <th class=\"col_heading level0 col14\" >client_cert_chain_fuids</th>        <th class=\"col_heading level0 col15\" >subject</th>        <th class=\"col_heading level0 col16\" >issuer</th>        <th class=\"col_heading level0 col17\" >client_subject</th>        <th class=\"col_heading level0 col18\" >client_issuer</th>    </tr></thead><tbody>\n",
       "                <tr>\n",
       "                        <th id=\"T_cab2c22c_8738_11eb_b06b_acde48001122level0_row0\" class=\"row_heading level0 row0\" >0</th>\n",
       "                        <td id=\"T_cab2c22c_8738_11eb_b06b_acde48001122row0_col0\" class=\"data row0 col0\" >1424257005.940392</td>\n",
       "                        <td id=\"T_cab2c22c_8738_11eb_b06b_acde48001122row0_col1\" class=\"data row0 col1\" >CkIFoc3DTlsBeaFW66</td>\n",
       "                        <td id=\"T_cab2c22c_8738_11eb_b06b_acde48001122row0_col2\" class=\"data row0 col2\" >208.162.205.69</td>\n",
       "                        <td id=\"T_cab2c22c_8738_11eb_b06b_acde48001122row0_col3\" class=\"data row0 col3\" >17478</td>\n",
       "                        <td id=\"T_cab2c22c_8738_11eb_b06b_acde48001122row0_col4\" class=\"data row0 col4\" >107.156.75.208</td>\n",
       "                        <td id=\"T_cab2c22c_8738_11eb_b06b_acde48001122row0_col5\" class=\"data row0 col5\" >443</td>\n",
       "                        <td id=\"T_cab2c22c_8738_11eb_b06b_acde48001122row0_col6\" class=\"data row0 col6\" >TLSv10</td>\n",
       "                        <td id=\"T_cab2c22c_8738_11eb_b06b_acde48001122row0_col7\" class=\"data row0 col7\" >TLS_RSA_WITH_3DES_EDE_CBC_SHA</td>\n",
       "                        <td id=\"T_cab2c22c_8738_11eb_b06b_acde48001122row0_col8\" class=\"data row0 col8\" >-</td>\n",
       "                        <td id=\"T_cab2c22c_8738_11eb_b06b_acde48001122row0_col9\" class=\"data row0 col9\" >0</td>\n",
       "                        <td id=\"T_cab2c22c_8738_11eb_b06b_acde48001122row0_col10\" class=\"data row0 col10\" >08a79d45b747f5c828da00000000000000000000000000000000000000000000</td>\n",
       "                        <td id=\"T_cab2c22c_8738_11eb_b06b_acde48001122row0_col11\" class=\"data row0 col11\" >-</td>\n",
       "                        <td id=\"T_cab2c22c_8738_11eb_b06b_acde48001122row0_col12\" class=\"data row0 col12\" >F</td>\n",
       "                        <td id=\"T_cab2c22c_8738_11eb_b06b_acde48001122row0_col13\" class=\"data row0 col13\" >-</td>\n",
       "                        <td id=\"T_cab2c22c_8738_11eb_b06b_acde48001122row0_col14\" class=\"data row0 col14\" >-</td>\n",
       "                        <td id=\"T_cab2c22c_8738_11eb_b06b_acde48001122row0_col15\" class=\"data row0 col15\" >0</td>\n",
       "                        <td id=\"T_cab2c22c_8738_11eb_b06b_acde48001122row0_col16\" class=\"data row0 col16\" >0</td>\n",
       "                        <td id=\"T_cab2c22c_8738_11eb_b06b_acde48001122row0_col17\" class=\"data row0 col17\" >0</td>\n",
       "                        <td id=\"T_cab2c22c_8738_11eb_b06b_acde48001122row0_col18\" class=\"data row0 col18\" >0</td>\n",
       "            </tr>\n",
       "    </tbody></table>"
      ],
      "text/plain": [
       "<pandas.io.formats.style.Styler at 0x120c8bc10>"
      ]
     },
     "metadata": {},
     "output_type": "display_data"
    }
   ],
   "source": [
    "\n",
    "\n",
    "\n",
    "chosen_files = ['conn.log','dns.log','ftp.log','http.log','ssh.log','ssl.log']\n",
    "for key in chosen_files:\n",
    "    print(\"---- \" + key + \" ---- Normal\")\n",
    "    display(orig_log_dataframes[key].iloc[:1,:].style.apply(highlight_col, axis=None))\n",
    "    print(\"---- \" + key + \" ---- Anonymised\")\n",
    "    display(log_dataframes[key].iloc[:1,:].style.apply(highlight_col, axis=None))"
   ]
  },
  {
   "cell_type": "code",
   "execution_count": null,
   "metadata": {},
   "outputs": [],
   "source": []
  }
 ],
 "metadata": {
  "kernelspec": {
   "display_name": "Python 3",
   "language": "python",
   "name": "python3"
  },
  "language_info": {
   "codemirror_mode": {
    "name": "ipython",
    "version": 3
   },
   "file_extension": ".py",
   "mimetype": "text/x-python",
   "name": "python",
   "nbconvert_exporter": "python",
   "pygments_lexer": "ipython3",
   "version": "3.8.6"
  }
 },
 "nbformat": 4,
 "nbformat_minor": 4
}
