{
 "cells": [
  {
   "cell_type": "code",
   "execution_count": null,
   "metadata": {},
   "outputs": [],
   "source": [
    "import pandas as pd\n",
    "pd.set_option('display.max_columns', 500)\n",
    "pd.set_option('display.max_rows', 500)\n",
    "\n",
    "import numpy as np\n",
    "from collections import Counter\n",
    "from os import walk\n",
    "\n",
    "from IPython.display import display, HTML"
   ]
  },
  {
   "cell_type": "markdown",
   "metadata": {},
   "source": [
    "### Bro/Zeek log parser and anonymiser\n",
    "\n",
    "#### This file serves to parse Bro/Zeek logs and identify and anonymise Personally Identifiable Information (PII). As example data the bro logs of the UNSW-NB15 dataset [1] have been used.\n",
    "\n",
    "The PII information is listed in the PII list and one line of each log file is displayed below with the PII highlighted in red.\n",
    "\n",
    "[1] https://www.unsw.adfa.edu.au/unsw-canberra-cyber/cybersecurity/ADFA-NB15-Datasets/"
   ]
  },
  {
   "cell_type": "code",
   "execution_count": null,
   "metadata": {},
   "outputs": [],
   "source": [
    "# Helper functions\n",
    "\n",
    "def get_headers_types(log_type):\n",
    "    headers = []\n",
    "    with open(\"24/\"+log_type) as file:\n",
    "        for i in range(8):\n",
    "            line = next(file).strip()\n",
    "            if line.startswith(\"#fields\"):\n",
    "                headers = line.split(\"\\t\")[1:]\n",
    "    return headers\n",
    "\n",
    "\n",
    "def get_dataframe(log_type,seperator):\n",
    "    headers = get_headers_types(log_type)\n",
    "    return pd.read_csv('24/'+log_type,sep=seperator,\n",
    "                       names=headers,skiprows=8,skipfooter=1,engine='python')\n",
    "\n",
    "def highlight_col(x):\n",
    "    r = 'background-color: red;'\n",
    "    df1 = pd.DataFrame('', index=x.index, columns=x.columns)\n",
    "    for info in PII:\n",
    "        if info in x.columns:\n",
    "            df1.loc[0,info] = r\n",
    "    return df1    \n"
   ]
  },
  {
   "cell_type": "code",
   "execution_count": null,
   "metadata": {},
   "outputs": [],
   "source": [
    "seperator = \"[\\t]\"\n",
    "\n",
    "_, _, filenames = next(walk('24/'))\n",
    "filenames.sort()\n",
    "\n",
    "# List with columns containing PII.\n",
    "PII = ['id.orig_h','id.resp_h',\n",
    "       'mac','assigned_ip',\n",
    "       'query','answers',\n",
    "       'tx_hosts','rx_hosts','md5','sha1','sha256',\n",
    "       'user','password','data_channel.orig_h','data_channel.resp_h',\n",
    "       'host','uri','filename','username',\n",
    "       'helo','mailfrom','rcptto','date','from','to','reply_to','msg_id','in_reply_to','subject',\n",
    "           'x_originating_ip','first_received','second_received','last_reply','path',\n",
    "       'issuer','server_name','subject','issuer client_subject','client_issuer',\n",
    "       'message',\n",
    "       'certificate.serial','certificate.subject','certificate.issuer','certificate.not_valid_before',\n",
    "           'certificate.not_valid_after','san.dns','san.uri','san.email','san.ip']\n"
   ]
  },
  {
   "cell_type": "code",
   "execution_count": null,
   "metadata": {},
   "outputs": [],
   "source": [
    "for filename in filenames:\n",
    "    print(filename)\n",
    "    df_log = get_dataframe(filename,seperator).iloc[:1,:]\n",
    "    display(HTML(df_log.style.apply(highlight_col, axis=None).render()))\n",
    "    "
   ]
  },
  {
   "cell_type": "code",
   "execution_count": null,
   "metadata": {},
   "outputs": [],
   "source": []
  }
 ],
 "metadata": {
  "kernelspec": {
   "display_name": "Python 3",
   "language": "python",
   "name": "python3"
  },
  "language_info": {
   "codemirror_mode": {
    "name": "ipython",
    "version": 3
   },
   "file_extension": ".py",
   "mimetype": "text/x-python",
   "name": "python",
   "nbconvert_exporter": "python",
   "pygments_lexer": "ipython3",
   "version": "3.8.6"
  }
 },
 "nbformat": 4,
 "nbformat_minor": 4
}
