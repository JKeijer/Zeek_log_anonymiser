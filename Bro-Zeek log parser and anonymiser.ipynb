{
 "cells": [
  {
   "cell_type": "code",
   "execution_count": 9,
   "metadata": {},
   "outputs": [],
   "source": [
    "import pandas as pd\n",
    "pd.set_option('display.max_columns', 500)\n",
    "pd.set_option('display.max_rows', 500)\n",
    "\n",
    "import numpy as np\n",
    "from collections import Counter\n",
    "from os import walk\n",
    "from os import path\n",
    "import random\n",
    "\n",
    "from sklearn.preprocessing import LabelEncoder"
   ]
  },
  {
   "cell_type": "markdown",
   "metadata": {},
   "source": [
    "### Bro/Zeek log parser and anonymiser\n",
    "\n",
    "#### This file serves to parse Bro/Zeek logs and identify and anonymise Personally Identifiable Information (PII). As example data the bro logs of the UNSW-NB15 dataset [1] have been used.\n",
    "\n",
    "The PII information is listed in the PII list and one line of each log file is displayed below with the PII highlighted in red.\n",
    "\n",
    "The PII fields are then transformed. The IP addresses to a random IP addresses where the IP addresses in each subnet are grouped together. For example: 1.2.3.50 and 1.2.3.100 might be transformed to 9.222.51.2 and 9.222.51.244. The other PII fields are encoced with scikitlearn's LabelEncoder. Which means that the same inputs are mapped to the same number (label)\n",
    "\n",
    "[1] https://www.unsw.adfa.edu.au/unsw-canberra-cyber/cybersecurity/ADFA-NB15-Datasets/"
   ]
  },
  {
   "cell_type": "code",
   "execution_count": 13,
   "metadata": {},
   "outputs": [],
   "source": [
    "# Helper functions\n",
    "\n",
    "def get_headers_types(log_type,directories):\n",
    "    headers = []\n",
    "    types = []\n",
    "    for log_dir in directories:\n",
    "        if path.exists(dir_to_parse+str(log_dir)+\"/\"+log_type):\n",
    "            with open(dir_to_parse+str(log_dir)+\"/\"+log_type) as file:\n",
    "                for i in range(8):\n",
    "                    line = next(file).strip()\n",
    "                    if line.startswith(\"#fields\"):\n",
    "                        headers = line.split(\"\\t\")[1:]\n",
    "                    if line.startswith(\"#types\"):\n",
    "                        types = line.split(\"\\t\")[1:]\n",
    "            break\n",
    "    return headers, types\n",
    "\n",
    "def get_types(df_type,type_list):\n",
    "    for header in df_type.columns:\n",
    "        if type_list.get(header) == 'num':\n",
    "            df_type[header] = pd.to_numeric(df_type[header],errors='coerce')\n",
    "        else:\n",
    "            df_type[header] = df_type[header].astype(str)\n",
    "    return df_type \n",
    "\n",
    "\n",
    "def read_file(file_path,seperator,headers):\n",
    "    if path.exists(file_path):\n",
    "        return pd.read_csv(file_path,sep=seperator,names=headers,skiprows=8,\n",
    "                           skipfooter=1,engine='python')\n",
    "\n",
    "def get_dataframe(log_type,seperator,filepath):\n",
    "    headers, types = get_headers_types(log_type,filepath)\n",
    "    type_list = {}\n",
    "    for col_header, col_type in zip(headers,types):\n",
    "        type_list[col_header] = 'num' if col_type in num_list else 'string'\n",
    "    df_combined = pd.concat(map(lambda x: read_file(dir_to_parse+ str(x)+'/'+log_type,\n",
    "                                                    seperator,headers), filepath))\n",
    "    return get_types(df_combined,type_list)\n",
    "\n",
    "def get_files_and_dirs(dir_to_parse):\n",
    "    \n",
    "    def get_filenames(x): \n",
    "        _, _, filenames = next(walk(dir_to_parse+str(x)+'/'))\n",
    "        return filenames\n",
    "    \n",
    "    _, directories, _ = next(walk(dir_to_parse))\n",
    "    filenames = [get_filenames(x) for x in directories]\n",
    "    flat_filenames = np.unique([item for sublist in filenames for item in sublist])\n",
    "    return directories, flat_filenames\n",
    "\n",
    "def highlight_col(df_to_style):\n",
    "    r = 'background-color: red'\n",
    "    df1 = pd.DataFrame('', index=df_to_style.index, columns=df_to_style.columns)\n",
    "    for info in PII:\n",
    "        if info in df_to_style.columns:\n",
    "            df1.loc[:,info] = r\n",
    "    return df1    \n",
    "\n",
    "def get_subnet_perserving_ip(ip):\n",
    "\n",
    "    def get_random_subnet(sub,sub_dict):\n",
    "        random_sub = \"\"\n",
    "        if sub in sub_dict:\n",
    "            random_sub = sub_dict[sub]\n",
    "        else:\n",
    "            is_old = True\n",
    "            while is_old:\n",
    "                random_sub = str(int(random.random()*256))\n",
    "                if random_sub not in sub_dict.values():\n",
    "                    is_old = False\n",
    "            sub_dict[sub] = random_sub\n",
    "        return random_sub\n",
    "    \n",
    "    if ip in ip_dict:\n",
    "        random_ip = ip_dict[ip]\n",
    "    else:\n",
    "        sub_splits = ip.split('.')\n",
    "        if len(sub_splits) > 3:\n",
    "            sub0 = get_random_subnet(sub_splits[0], sub0_dict)\n",
    "            sub1 = get_random_subnet(sub_splits[1], sub1_dict)\n",
    "            sub2 = get_random_subnet(sub_splits[2], sub2_dict)\n",
    "            sub3 = get_random_subnet(sub_splits[3], sub3_dict)\n",
    "            random_ip = sub0+\".\"+sub1+\".\"+sub2+\".\"+sub3\n",
    "            ip_dict[ip] = random_ip\n",
    "        else:\n",
    "            random_ip = \"-\"\n",
    "            ip_dict[ip] = random_ip\n",
    "    return random_ip\n"
   ]
  },
  {
   "cell_type": "code",
   "execution_count": 14,
   "metadata": {},
   "outputs": [],
   "source": [
    "dir_to_parse = \"logs/\"\n",
    "\n",
    "seperator = \"[\\t]\"\n",
    "\n",
    "string_list = ['string','addr','string','enum','set[string]','vector[string]','bool']\n",
    "num_list = ['time','port','interval','count']\n",
    "\n",
    "# List with columns containing PII.\n",
    "PII = ['id.orig_h','id.resp_h',\n",
    "       'mac','assigned_ip',\n",
    "       'query','answers',\n",
    "       'tx_hosts','rx_hosts','md5','sha1','sha256',\n",
    "       'user','password','arg','data_channel.orig_h','data_channel.resp_h',\n",
    "       'host','uri','filename','username',\n",
    "       'remote_ip',\n",
    "       'helo','mailfrom','rcptto','date','from','to','reply_to','msg_id','in_reply_to',\n",
    "           'server_name','subject','issuer','client_subject','client_issuer',\n",
    "       'message',\n",
    "       'certificate.serial','certificate.subject','certificate.issuer','certificate.not_valid_before',\n",
    "           'certificate.not_valid_after','san.dns','san.uri','san.email','san.ip']\n",
    "\n",
    "IP_fields = ['id.orig_h','id.resp_h','assigned_ip','answers','data_channel.orig_h','data_channel.resp_h','remote_ip']\n"
   ]
  },
  {
   "cell_type": "code",
   "execution_count": 15,
   "metadata": {},
   "outputs": [
    {
     "data": {
      "text/html": [
       "<style  type=\"text/css\" >\n",
       "#T_1a5d324a_8292_11eb_b274_acde48001122row0_col2,#T_1a5d324a_8292_11eb_b274_acde48001122row0_col4{\n",
       "            background-color:  red;\n",
       "        }</style><table id=\"T_1a5d324a_8292_11eb_b274_acde48001122\" ><thead>    <tr>        <th class=\"blank level0\" ></th>        <th class=\"col_heading level0 col0\" >ts</th>        <th class=\"col_heading level0 col1\" >uid</th>        <th class=\"col_heading level0 col2\" >id.orig_h</th>        <th class=\"col_heading level0 col3\" >id.orig_p</th>        <th class=\"col_heading level0 col4\" >id.resp_h</th>        <th class=\"col_heading level0 col5\" >id.resp_p</th>        <th class=\"col_heading level0 col6\" >proto</th>        <th class=\"col_heading level0 col7\" >service</th>        <th class=\"col_heading level0 col8\" >duration</th>        <th class=\"col_heading level0 col9\" >orig_bytes</th>        <th class=\"col_heading level0 col10\" >resp_bytes</th>        <th class=\"col_heading level0 col11\" >conn_state</th>        <th class=\"col_heading level0 col12\" >local_orig</th>        <th class=\"col_heading level0 col13\" >missed_bytes</th>        <th class=\"col_heading level0 col14\" >history</th>        <th class=\"col_heading level0 col15\" >orig_pkts</th>        <th class=\"col_heading level0 col16\" >orig_ip_bytes</th>        <th class=\"col_heading level0 col17\" >resp_pkts</th>        <th class=\"col_heading level0 col18\" >resp_ip_bytes</th>        <th class=\"col_heading level0 col19\" >tunnel_parents</th>    </tr></thead><tbody>\n",
       "                <tr>\n",
       "                        <th id=\"T_1a5d324a_8292_11eb_b274_acde48001122level0_row0\" class=\"row_heading level0 row0\" >0</th>\n",
       "                        <td id=\"T_1a5d324a_8292_11eb_b274_acde48001122row0_col0\" class=\"data row0 col0\" >1424256987.747828</td>\n",
       "                        <td id=\"T_1a5d324a_8292_11eb_b274_acde48001122row0_col1\" class=\"data row0 col1\" >C8kfmaJvH8YSujzW5</td>\n",
       "                        <td id=\"T_1a5d324a_8292_11eb_b274_acde48001122row0_col2\" class=\"data row0 col2\" >59.166.0.2</td>\n",
       "                        <td id=\"T_1a5d324a_8292_11eb_b274_acde48001122row0_col3\" class=\"data row0 col3\" >57872</td>\n",
       "                        <td id=\"T_1a5d324a_8292_11eb_b274_acde48001122row0_col4\" class=\"data row0 col4\" >149.171.126.9</td>\n",
       "                        <td id=\"T_1a5d324a_8292_11eb_b274_acde48001122row0_col5\" class=\"data row0 col5\" >56104</td>\n",
       "                        <td id=\"T_1a5d324a_8292_11eb_b274_acde48001122row0_col6\" class=\"data row0 col6\" >tcp</td>\n",
       "                        <td id=\"T_1a5d324a_8292_11eb_b274_acde48001122row0_col7\" class=\"data row0 col7\" >-</td>\n",
       "                        <td id=\"T_1a5d324a_8292_11eb_b274_acde48001122row0_col8\" class=\"data row0 col8\" >0.027552</td>\n",
       "                        <td id=\"T_1a5d324a_8292_11eb_b274_acde48001122row0_col9\" class=\"data row0 col9\" >227.000000</td>\n",
       "                        <td id=\"T_1a5d324a_8292_11eb_b274_acde48001122row0_col10\" class=\"data row0 col10\" >11587.000000</td>\n",
       "                        <td id=\"T_1a5d324a_8292_11eb_b274_acde48001122row0_col11\" class=\"data row0 col11\" >SF</td>\n",
       "                        <td id=\"T_1a5d324a_8292_11eb_b274_acde48001122row0_col12\" class=\"data row0 col12\" >-</td>\n",
       "                        <td id=\"T_1a5d324a_8292_11eb_b274_acde48001122row0_col13\" class=\"data row0 col13\" >0</td>\n",
       "                        <td id=\"T_1a5d324a_8292_11eb_b274_acde48001122row0_col14\" class=\"data row0 col14\" >ShADadfF</td>\n",
       "                        <td id=\"T_1a5d324a_8292_11eb_b274_acde48001122row0_col15\" class=\"data row0 col15\" >42</td>\n",
       "                        <td id=\"T_1a5d324a_8292_11eb_b274_acde48001122row0_col16\" class=\"data row0 col16\" >2646</td>\n",
       "                        <td id=\"T_1a5d324a_8292_11eb_b274_acde48001122row0_col17\" class=\"data row0 col17\" >44</td>\n",
       "                        <td id=\"T_1a5d324a_8292_11eb_b274_acde48001122row0_col18\" class=\"data row0 col18\" >25470</td>\n",
       "                        <td id=\"T_1a5d324a_8292_11eb_b274_acde48001122row0_col19\" class=\"data row0 col19\" >(empty)</td>\n",
       "            </tr>\n",
       "    </tbody></table>"
      ],
      "text/plain": [
       "<pandas.io.formats.style.Styler at 0x124eacd60>"
      ]
     },
     "metadata": {},
     "output_type": "display_data"
    },
    {
     "data": {
      "text/html": [
       "<style  type=\"text/css\" >\n",
       "#T_1a5fe4c2_8292_11eb_b274_acde48001122row0_col2,#T_1a5fe4c2_8292_11eb_b274_acde48001122row0_col4,#T_1a5fe4c2_8292_11eb_b274_acde48001122row0_col6,#T_1a5fe4c2_8292_11eb_b274_acde48001122row0_col7{\n",
       "            background-color:  red;\n",
       "        }</style><table id=\"T_1a5fe4c2_8292_11eb_b274_acde48001122\" ><thead>    <tr>        <th class=\"blank level0\" ></th>        <th class=\"col_heading level0 col0\" >ts</th>        <th class=\"col_heading level0 col1\" >uid</th>        <th class=\"col_heading level0 col2\" >id.orig_h</th>        <th class=\"col_heading level0 col3\" >id.orig_p</th>        <th class=\"col_heading level0 col4\" >id.resp_h</th>        <th class=\"col_heading level0 col5\" >id.resp_p</th>        <th class=\"col_heading level0 col6\" >mac</th>        <th class=\"col_heading level0 col7\" >assigned_ip</th>        <th class=\"col_heading level0 col8\" >lease_time</th>        <th class=\"col_heading level0 col9\" >trans_id</th>    </tr></thead><tbody>\n",
       "                <tr>\n",
       "                        <th id=\"T_1a5fe4c2_8292_11eb_b274_acde48001122level0_row0\" class=\"row_heading level0 row0\" >0</th>\n",
       "                        <td id=\"T_1a5fe4c2_8292_11eb_b274_acde48001122row0_col0\" class=\"data row0 col0\" >1424257224.537779</td>\n",
       "                        <td id=\"T_1a5fe4c2_8292_11eb_b274_acde48001122row0_col1\" class=\"data row0 col1\" >CU34Cu2zrLEPwadl52</td>\n",
       "                        <td id=\"T_1a5fe4c2_8292_11eb_b274_acde48001122row0_col2\" class=\"data row0 col2\" >175.45.176.3</td>\n",
       "                        <td id=\"T_1a5fe4c2_8292_11eb_b274_acde48001122row0_col3\" class=\"data row0 col3\" >68</td>\n",
       "                        <td id=\"T_1a5fe4c2_8292_11eb_b274_acde48001122row0_col4\" class=\"data row0 col4\" >149.171.126.13</td>\n",
       "                        <td id=\"T_1a5fe4c2_8292_11eb_b274_acde48001122row0_col5\" class=\"data row0 col5\" >67</td>\n",
       "                        <td id=\"T_1a5fe4c2_8292_11eb_b274_acde48001122row0_col6\" class=\"data row0 col6\" >02:1a:c5:00:00:00</td>\n",
       "                        <td id=\"T_1a5fe4c2_8292_11eb_b274_acde48001122row0_col7\" class=\"data row0 col7\" >175.45.176.3</td>\n",
       "                        <td id=\"T_1a5fe4c2_8292_11eb_b274_acde48001122row0_col8\" class=\"data row0 col8\" >1879.000000</td>\n",
       "                        <td id=\"T_1a5fe4c2_8292_11eb_b274_acde48001122row0_col9\" class=\"data row0 col9\" >4288085767</td>\n",
       "            </tr>\n",
       "    </tbody></table>"
      ],
      "text/plain": [
       "<pandas.io.formats.style.Styler at 0x126107e20>"
      ]
     },
     "metadata": {},
     "output_type": "display_data"
    },
    {
     "data": {
      "text/html": [
       "<style  type=\"text/css\" >\n",
       "#T_1a800676_8292_11eb_b274_acde48001122row0_col2,#T_1a800676_8292_11eb_b274_acde48001122row0_col4,#T_1a800676_8292_11eb_b274_acde48001122row0_col8,#T_1a800676_8292_11eb_b274_acde48001122row0_col20{\n",
       "            background-color:  red;\n",
       "        }</style><table id=\"T_1a800676_8292_11eb_b274_acde48001122\" ><thead>    <tr>        <th class=\"blank level0\" ></th>        <th class=\"col_heading level0 col0\" >ts</th>        <th class=\"col_heading level0 col1\" >uid</th>        <th class=\"col_heading level0 col2\" >id.orig_h</th>        <th class=\"col_heading level0 col3\" >id.orig_p</th>        <th class=\"col_heading level0 col4\" >id.resp_h</th>        <th class=\"col_heading level0 col5\" >id.resp_p</th>        <th class=\"col_heading level0 col6\" >proto</th>        <th class=\"col_heading level0 col7\" >trans_id</th>        <th class=\"col_heading level0 col8\" >query</th>        <th class=\"col_heading level0 col9\" >qclass</th>        <th class=\"col_heading level0 col10\" >qclass_name</th>        <th class=\"col_heading level0 col11\" >qtype</th>        <th class=\"col_heading level0 col12\" >qtype_name</th>        <th class=\"col_heading level0 col13\" >rcode</th>        <th class=\"col_heading level0 col14\" >rcode_name</th>        <th class=\"col_heading level0 col15\" >AA</th>        <th class=\"col_heading level0 col16\" >TC</th>        <th class=\"col_heading level0 col17\" >RD</th>        <th class=\"col_heading level0 col18\" >RA</th>        <th class=\"col_heading level0 col19\" >Z</th>        <th class=\"col_heading level0 col20\" >answers</th>        <th class=\"col_heading level0 col21\" >TTLs</th>        <th class=\"col_heading level0 col22\" >rejected</th>    </tr></thead><tbody>\n",
       "                <tr>\n",
       "                        <th id=\"T_1a800676_8292_11eb_b274_acde48001122level0_row0\" class=\"row_heading level0 row0\" >0</th>\n",
       "                        <td id=\"T_1a800676_8292_11eb_b274_acde48001122row0_col0\" class=\"data row0 col0\" >1424256988.447831</td>\n",
       "                        <td id=\"T_1a800676_8292_11eb_b274_acde48001122row0_col1\" class=\"data row0 col1\" >CcCQqj3E6KlwtFnRja</td>\n",
       "                        <td id=\"T_1a800676_8292_11eb_b274_acde48001122row0_col2\" class=\"data row0 col2\" >59.166.0.4</td>\n",
       "                        <td id=\"T_1a800676_8292_11eb_b274_acde48001122row0_col3\" class=\"data row0 col3\" >7745</td>\n",
       "                        <td id=\"T_1a800676_8292_11eb_b274_acde48001122row0_col4\" class=\"data row0 col4\" >149.171.126.2</td>\n",
       "                        <td id=\"T_1a800676_8292_11eb_b274_acde48001122row0_col5\" class=\"data row0 col5\" >53</td>\n",
       "                        <td id=\"T_1a800676_8292_11eb_b274_acde48001122row0_col6\" class=\"data row0 col6\" >udp</td>\n",
       "                        <td id=\"T_1a800676_8292_11eb_b274_acde48001122row0_col7\" class=\"data row0 col7\" >48100</td>\n",
       "                        <td id=\"T_1a800676_8292_11eb_b274_acde48001122row0_col8\" class=\"data row0 col8\" >server-95ab7e07.int</td>\n",
       "                        <td id=\"T_1a800676_8292_11eb_b274_acde48001122row0_col9\" class=\"data row0 col9\" >1.000000</td>\n",
       "                        <td id=\"T_1a800676_8292_11eb_b274_acde48001122row0_col10\" class=\"data row0 col10\" >C_INTERNET</td>\n",
       "                        <td id=\"T_1a800676_8292_11eb_b274_acde48001122row0_col11\" class=\"data row0 col11\" >1.000000</td>\n",
       "                        <td id=\"T_1a800676_8292_11eb_b274_acde48001122row0_col12\" class=\"data row0 col12\" >A</td>\n",
       "                        <td id=\"T_1a800676_8292_11eb_b274_acde48001122row0_col13\" class=\"data row0 col13\" >0.000000</td>\n",
       "                        <td id=\"T_1a800676_8292_11eb_b274_acde48001122row0_col14\" class=\"data row0 col14\" >NOERROR</td>\n",
       "                        <td id=\"T_1a800676_8292_11eb_b274_acde48001122row0_col15\" class=\"data row0 col15\" >F</td>\n",
       "                        <td id=\"T_1a800676_8292_11eb_b274_acde48001122row0_col16\" class=\"data row0 col16\" >F</td>\n",
       "                        <td id=\"T_1a800676_8292_11eb_b274_acde48001122row0_col17\" class=\"data row0 col17\" >T</td>\n",
       "                        <td id=\"T_1a800676_8292_11eb_b274_acde48001122row0_col18\" class=\"data row0 col18\" >T</td>\n",
       "                        <td id=\"T_1a800676_8292_11eb_b274_acde48001122row0_col19\" class=\"data row0 col19\" >0</td>\n",
       "                        <td id=\"T_1a800676_8292_11eb_b274_acde48001122row0_col20\" class=\"data row0 col20\" >149.171.126.7</td>\n",
       "                        <td id=\"T_1a800676_8292_11eb_b274_acde48001122row0_col21\" class=\"data row0 col21\" >60.000000</td>\n",
       "                        <td id=\"T_1a800676_8292_11eb_b274_acde48001122row0_col22\" class=\"data row0 col22\" >F</td>\n",
       "            </tr>\n",
       "    </tbody></table>"
      ],
      "text/plain": [
       "<pandas.io.formats.style.Styler at 0x122406eb0>"
      ]
     },
     "metadata": {},
     "output_type": "display_data"
    },
    {
     "data": {
      "text/html": [
       "<style  type=\"text/css\" >\n",
       "#T_1a82ad36_8292_11eb_b274_acde48001122row0_col2,#T_1a82ad36_8292_11eb_b274_acde48001122row0_col4{\n",
       "            background-color:  red;\n",
       "        }</style><table id=\"T_1a82ad36_8292_11eb_b274_acde48001122\" ><thead>    <tr>        <th class=\"blank level0\" ></th>        <th class=\"col_heading level0 col0\" >ts</th>        <th class=\"col_heading level0 col1\" >uid</th>        <th class=\"col_heading level0 col2\" >id.orig_h</th>        <th class=\"col_heading level0 col3\" >id.orig_p</th>        <th class=\"col_heading level0 col4\" >id.resp_h</th>        <th class=\"col_heading level0 col5\" >id.resp_p</th>        <th class=\"col_heading level0 col6\" >proto</th>        <th class=\"col_heading level0 col7\" >analyzer</th>        <th class=\"col_heading level0 col8\" >failure_reason</th>    </tr></thead><tbody>\n",
       "                <tr>\n",
       "                        <th id=\"T_1a82ad36_8292_11eb_b274_acde48001122level0_row0\" class=\"row_heading level0 row0\" >0</th>\n",
       "                        <td id=\"T_1a82ad36_8292_11eb_b274_acde48001122row0_col0\" class=\"data row0 col0\" >1424257073.512632</td>\n",
       "                        <td id=\"T_1a82ad36_8292_11eb_b274_acde48001122row0_col1\" class=\"data row0 col1\" >CgvWyM1wBPRuu6ULUe</td>\n",
       "                        <td id=\"T_1a82ad36_8292_11eb_b274_acde48001122row0_col2\" class=\"data row0 col2\" >175.45.176.2</td>\n",
       "                        <td id=\"T_1a82ad36_8292_11eb_b274_acde48001122row0_col3\" class=\"data row0 col3\" >64558</td>\n",
       "                        <td id=\"T_1a82ad36_8292_11eb_b274_acde48001122row0_col4\" class=\"data row0 col4\" >149.171.126.14</td>\n",
       "                        <td id=\"T_1a82ad36_8292_11eb_b274_acde48001122row0_col5\" class=\"data row0 col5\" >80</td>\n",
       "                        <td id=\"T_1a82ad36_8292_11eb_b274_acde48001122row0_col6\" class=\"data row0 col6\" >tcp</td>\n",
       "                        <td id=\"T_1a82ad36_8292_11eb_b274_acde48001122row0_col7\" class=\"data row0 col7\" >HTTP</td>\n",
       "                        <td id=\"T_1a82ad36_8292_11eb_b274_acde48001122row0_col8\" class=\"data row0 col8\" >not a http reply line</td>\n",
       "            </tr>\n",
       "    </tbody></table>"
      ],
      "text/plain": [
       "<pandas.io.formats.style.Styler at 0x1257f6eb0>"
      ]
     },
     "metadata": {},
     "output_type": "display_data"
    },
    {
     "data": {
      "text/html": [
       "<style  type=\"text/css\" >\n",
       "#T_1a9e8826_8292_11eb_b274_acde48001122row0_col2,#T_1a9e8826_8292_11eb_b274_acde48001122row0_col3,#T_1a9e8826_8292_11eb_b274_acde48001122row0_col9,#T_1a9e8826_8292_11eb_b274_acde48001122row0_col19,#T_1a9e8826_8292_11eb_b274_acde48001122row0_col20,#T_1a9e8826_8292_11eb_b274_acde48001122row0_col21{\n",
       "            background-color:  red;\n",
       "        }</style><table id=\"T_1a9e8826_8292_11eb_b274_acde48001122\" ><thead>    <tr>        <th class=\"blank level0\" ></th>        <th class=\"col_heading level0 col0\" >ts</th>        <th class=\"col_heading level0 col1\" >fuid</th>        <th class=\"col_heading level0 col2\" >tx_hosts</th>        <th class=\"col_heading level0 col3\" >rx_hosts</th>        <th class=\"col_heading level0 col4\" >conn_uids</th>        <th class=\"col_heading level0 col5\" >source</th>        <th class=\"col_heading level0 col6\" >depth</th>        <th class=\"col_heading level0 col7\" >analyzers</th>        <th class=\"col_heading level0 col8\" >mime_type</th>        <th class=\"col_heading level0 col9\" >filename</th>        <th class=\"col_heading level0 col10\" >duration</th>        <th class=\"col_heading level0 col11\" >local_orig</th>        <th class=\"col_heading level0 col12\" >is_orig</th>        <th class=\"col_heading level0 col13\" >seen_bytes</th>        <th class=\"col_heading level0 col14\" >total_bytes</th>        <th class=\"col_heading level0 col15\" >missing_bytes</th>        <th class=\"col_heading level0 col16\" >overflow_bytes</th>        <th class=\"col_heading level0 col17\" >timedout</th>        <th class=\"col_heading level0 col18\" >parent_fuid</th>        <th class=\"col_heading level0 col19\" >md5</th>        <th class=\"col_heading level0 col20\" >sha1</th>        <th class=\"col_heading level0 col21\" >sha256</th>        <th class=\"col_heading level0 col22\" >extracted</th>    </tr></thead><tbody>\n",
       "                <tr>\n",
       "                        <th id=\"T_1a9e8826_8292_11eb_b274_acde48001122level0_row0\" class=\"row_heading level0 row0\" >0</th>\n",
       "                        <td id=\"T_1a9e8826_8292_11eb_b274_acde48001122row0_col0\" class=\"data row0 col0\" >1424256989.355818</td>\n",
       "                        <td id=\"T_1a9e8826_8292_11eb_b274_acde48001122row0_col1\" class=\"data row0 col1\" >F1YVMA4nWYBEIQkbDd</td>\n",
       "                        <td id=\"T_1a9e8826_8292_11eb_b274_acde48001122row0_col2\" class=\"data row0 col2\" >149.171.126.0</td>\n",
       "                        <td id=\"T_1a9e8826_8292_11eb_b274_acde48001122row0_col3\" class=\"data row0 col3\" >59.166.0.2</td>\n",
       "                        <td id=\"T_1a9e8826_8292_11eb_b274_acde48001122row0_col4\" class=\"data row0 col4\" >C9zC0k1eMFe6n5INSd</td>\n",
       "                        <td id=\"T_1a9e8826_8292_11eb_b274_acde48001122row0_col5\" class=\"data row0 col5\" >SMTP</td>\n",
       "                        <td id=\"T_1a9e8826_8292_11eb_b274_acde48001122row0_col6\" class=\"data row0 col6\" >2</td>\n",
       "                        <td id=\"T_1a9e8826_8292_11eb_b274_acde48001122row0_col7\" class=\"data row0 col7\" >(empty)</td>\n",
       "                        <td id=\"T_1a9e8826_8292_11eb_b274_acde48001122row0_col8\" class=\"data row0 col8\" >text/plain</td>\n",
       "                        <td id=\"T_1a9e8826_8292_11eb_b274_acde48001122row0_col9\" class=\"data row0 col9\" >-</td>\n",
       "                        <td id=\"T_1a9e8826_8292_11eb_b274_acde48001122row0_col10\" class=\"data row0 col10\" >0.000000</td>\n",
       "                        <td id=\"T_1a9e8826_8292_11eb_b274_acde48001122row0_col11\" class=\"data row0 col11\" >-</td>\n",
       "                        <td id=\"T_1a9e8826_8292_11eb_b274_acde48001122row0_col12\" class=\"data row0 col12\" >F</td>\n",
       "                        <td id=\"T_1a9e8826_8292_11eb_b274_acde48001122row0_col13\" class=\"data row0 col13\" >298</td>\n",
       "                        <td id=\"T_1a9e8826_8292_11eb_b274_acde48001122row0_col14\" class=\"data row0 col14\" >nan</td>\n",
       "                        <td id=\"T_1a9e8826_8292_11eb_b274_acde48001122row0_col15\" class=\"data row0 col15\" >0</td>\n",
       "                        <td id=\"T_1a9e8826_8292_11eb_b274_acde48001122row0_col16\" class=\"data row0 col16\" >0</td>\n",
       "                        <td id=\"T_1a9e8826_8292_11eb_b274_acde48001122row0_col17\" class=\"data row0 col17\" >F</td>\n",
       "                        <td id=\"T_1a9e8826_8292_11eb_b274_acde48001122row0_col18\" class=\"data row0 col18\" >-</td>\n",
       "                        <td id=\"T_1a9e8826_8292_11eb_b274_acde48001122row0_col19\" class=\"data row0 col19\" >-</td>\n",
       "                        <td id=\"T_1a9e8826_8292_11eb_b274_acde48001122row0_col20\" class=\"data row0 col20\" >-</td>\n",
       "                        <td id=\"T_1a9e8826_8292_11eb_b274_acde48001122row0_col21\" class=\"data row0 col21\" >-</td>\n",
       "                        <td id=\"T_1a9e8826_8292_11eb_b274_acde48001122row0_col22\" class=\"data row0 col22\" >-</td>\n",
       "            </tr>\n",
       "    </tbody></table>"
      ],
      "text/plain": [
       "<pandas.io.formats.style.Styler at 0x122b4a790>"
      ]
     },
     "metadata": {},
     "output_type": "display_data"
    },
    {
     "data": {
      "text/html": [
       "<style  type=\"text/css\" >\n",
       "#T_1aaab9b6_8292_11eb_b274_acde48001122row0_col2,#T_1aaab9b6_8292_11eb_b274_acde48001122row0_col4,#T_1aaab9b6_8292_11eb_b274_acde48001122row0_col6,#T_1aaab9b6_8292_11eb_b274_acde48001122row0_col7,#T_1aaab9b6_8292_11eb_b274_acde48001122row0_col9,#T_1aaab9b6_8292_11eb_b274_acde48001122row0_col15,#T_1aaab9b6_8292_11eb_b274_acde48001122row0_col16{\n",
       "            background-color:  red;\n",
       "        }</style><table id=\"T_1aaab9b6_8292_11eb_b274_acde48001122\" ><thead>    <tr>        <th class=\"blank level0\" ></th>        <th class=\"col_heading level0 col0\" >ts</th>        <th class=\"col_heading level0 col1\" >uid</th>        <th class=\"col_heading level0 col2\" >id.orig_h</th>        <th class=\"col_heading level0 col3\" >id.orig_p</th>        <th class=\"col_heading level0 col4\" >id.resp_h</th>        <th class=\"col_heading level0 col5\" >id.resp_p</th>        <th class=\"col_heading level0 col6\" >user</th>        <th class=\"col_heading level0 col7\" >password</th>        <th class=\"col_heading level0 col8\" >command</th>        <th class=\"col_heading level0 col9\" >arg</th>        <th class=\"col_heading level0 col10\" >mime_type</th>        <th class=\"col_heading level0 col11\" >file_size</th>        <th class=\"col_heading level0 col12\" >reply_code</th>        <th class=\"col_heading level0 col13\" >reply_msg</th>        <th class=\"col_heading level0 col14\" >data_channel.passive</th>        <th class=\"col_heading level0 col15\" >data_channel.orig_h</th>        <th class=\"col_heading level0 col16\" >data_channel.resp_h</th>        <th class=\"col_heading level0 col17\" >data_channel.resp_p</th>        <th class=\"col_heading level0 col18\" >fuid</th>    </tr></thead><tbody>\n",
       "                <tr>\n",
       "                        <th id=\"T_1aaab9b6_8292_11eb_b274_acde48001122level0_row0\" class=\"row_heading level0 row0\" >0</th>\n",
       "                        <td id=\"T_1aaab9b6_8292_11eb_b274_acde48001122row0_col0\" class=\"data row0 col0\" >1424256989.952859</td>\n",
       "                        <td id=\"T_1aaab9b6_8292_11eb_b274_acde48001122row0_col1\" class=\"data row0 col1\" >CsfksnMVMnOYhPiB7</td>\n",
       "                        <td id=\"T_1aaab9b6_8292_11eb_b274_acde48001122row0_col2\" class=\"data row0 col2\" >59.166.0.8</td>\n",
       "                        <td id=\"T_1aaab9b6_8292_11eb_b274_acde48001122row0_col3\" class=\"data row0 col3\" >5146</td>\n",
       "                        <td id=\"T_1aaab9b6_8292_11eb_b274_acde48001122row0_col4\" class=\"data row0 col4\" >149.171.126.3</td>\n",
       "                        <td id=\"T_1aaab9b6_8292_11eb_b274_acde48001122row0_col5\" class=\"data row0 col5\" >21</td>\n",
       "                        <td id=\"T_1aaab9b6_8292_11eb_b274_acde48001122row0_col6\" class=\"data row0 col6\" >anonymous</td>\n",
       "                        <td id=\"T_1aaab9b6_8292_11eb_b274_acde48001122row0_col7\" class=\"data row0 col7\" >jobs@server.com</td>\n",
       "                        <td id=\"T_1aaab9b6_8292_11eb_b274_acde48001122row0_col8\" class=\"data row0 col8\" >EPSV</td>\n",
       "                        <td id=\"T_1aaab9b6_8292_11eb_b274_acde48001122row0_col9\" class=\"data row0 col9\" >-</td>\n",
       "                        <td id=\"T_1aaab9b6_8292_11eb_b274_acde48001122row0_col10\" class=\"data row0 col10\" >-</td>\n",
       "                        <td id=\"T_1aaab9b6_8292_11eb_b274_acde48001122row0_col11\" class=\"data row0 col11\" >nan</td>\n",
       "                        <td id=\"T_1aaab9b6_8292_11eb_b274_acde48001122row0_col12\" class=\"data row0 col12\" >229</td>\n",
       "                        <td id=\"T_1aaab9b6_8292_11eb_b274_acde48001122row0_col13\" class=\"data row0 col13\" >Extended Passive Mode OK (|||24196|)</td>\n",
       "                        <td id=\"T_1aaab9b6_8292_11eb_b274_acde48001122row0_col14\" class=\"data row0 col14\" >T</td>\n",
       "                        <td id=\"T_1aaab9b6_8292_11eb_b274_acde48001122row0_col15\" class=\"data row0 col15\" >59.166.0.8</td>\n",
       "                        <td id=\"T_1aaab9b6_8292_11eb_b274_acde48001122row0_col16\" class=\"data row0 col16\" >149.171.126.3</td>\n",
       "                        <td id=\"T_1aaab9b6_8292_11eb_b274_acde48001122row0_col17\" class=\"data row0 col17\" >24196.000000</td>\n",
       "                        <td id=\"T_1aaab9b6_8292_11eb_b274_acde48001122row0_col18\" class=\"data row0 col18\" >-</td>\n",
       "            </tr>\n",
       "    </tbody></table>"
      ],
      "text/plain": [
       "<pandas.io.formats.style.Styler at 0x111e3da90>"
      ]
     },
     "metadata": {},
     "output_type": "display_data"
    },
    {
     "data": {
      "text/html": [
       "<style  type=\"text/css\" >\n",
       "#T_1ac7b156_8292_11eb_b274_acde48001122row0_col2,#T_1ac7b156_8292_11eb_b274_acde48001122row0_col4,#T_1ac7b156_8292_11eb_b274_acde48001122row0_col8,#T_1ac7b156_8292_11eb_b274_acde48001122row0_col9,#T_1ac7b156_8292_11eb_b274_acde48001122row0_col18,#T_1ac7b156_8292_11eb_b274_acde48001122row0_col20,#T_1ac7b156_8292_11eb_b274_acde48001122row0_col21{\n",
       "            background-color:  red;\n",
       "        }</style><table id=\"T_1ac7b156_8292_11eb_b274_acde48001122\" ><thead>    <tr>        <th class=\"blank level0\" ></th>        <th class=\"col_heading level0 col0\" >ts</th>        <th class=\"col_heading level0 col1\" >uid</th>        <th class=\"col_heading level0 col2\" >id.orig_h</th>        <th class=\"col_heading level0 col3\" >id.orig_p</th>        <th class=\"col_heading level0 col4\" >id.resp_h</th>        <th class=\"col_heading level0 col5\" >id.resp_p</th>        <th class=\"col_heading level0 col6\" >trans_depth</th>        <th class=\"col_heading level0 col7\" >method</th>        <th class=\"col_heading level0 col8\" >host</th>        <th class=\"col_heading level0 col9\" >uri</th>        <th class=\"col_heading level0 col10\" >referrer</th>        <th class=\"col_heading level0 col11\" >user_agent</th>        <th class=\"col_heading level0 col12\" >request_body_len</th>        <th class=\"col_heading level0 col13\" >response_body_len</th>        <th class=\"col_heading level0 col14\" >status_code</th>        <th class=\"col_heading level0 col15\" >status_msg</th>        <th class=\"col_heading level0 col16\" >info_code</th>        <th class=\"col_heading level0 col17\" >info_msg</th>        <th class=\"col_heading level0 col18\" >filename</th>        <th class=\"col_heading level0 col19\" >tags</th>        <th class=\"col_heading level0 col20\" >username</th>        <th class=\"col_heading level0 col21\" >password</th>        <th class=\"col_heading level0 col22\" >proxied</th>        <th class=\"col_heading level0 col23\" >orig_fuids</th>        <th class=\"col_heading level0 col24\" >orig_mime_types</th>        <th class=\"col_heading level0 col25\" >resp_fuids</th>        <th class=\"col_heading level0 col26\" >resp_mime_types</th>    </tr></thead><tbody>\n",
       "                <tr>\n",
       "                        <th id=\"T_1ac7b156_8292_11eb_b274_acde48001122level0_row0\" class=\"row_heading level0 row0\" >0</th>\n",
       "                        <td id=\"T_1ac7b156_8292_11eb_b274_acde48001122row0_col0\" class=\"data row0 col0\" >1424256990.350022</td>\n",
       "                        <td id=\"T_1ac7b156_8292_11eb_b274_acde48001122row0_col1\" class=\"data row0 col1\" >CwgILB4FJZI9P9o4z1</td>\n",
       "                        <td id=\"T_1ac7b156_8292_11eb_b274_acde48001122row0_col2\" class=\"data row0 col2\" >59.166.0.1</td>\n",
       "                        <td id=\"T_1ac7b156_8292_11eb_b274_acde48001122row0_col3\" class=\"data row0 col3\" >41195</td>\n",
       "                        <td id=\"T_1ac7b156_8292_11eb_b274_acde48001122row0_col4\" class=\"data row0 col4\" >149.171.126.1</td>\n",
       "                        <td id=\"T_1ac7b156_8292_11eb_b274_acde48001122row0_col5\" class=\"data row0 col5\" >80</td>\n",
       "                        <td id=\"T_1ac7b156_8292_11eb_b274_acde48001122row0_col6\" class=\"data row0 col6\" >1</td>\n",
       "                        <td id=\"T_1ac7b156_8292_11eb_b274_acde48001122row0_col7\" class=\"data row0 col7\" >GET</td>\n",
       "                        <td id=\"T_1ac7b156_8292_11eb_b274_acde48001122row0_col8\" class=\"data row0 col8\" >Tracker</td>\n",
       "                        <td id=\"T_1ac7b156_8292_11eb_b274_acde48001122row0_col9\" class=\"data row0 col9\" >/announce?peer_id=-AR2621-949883860326&port=15836&uploaded=0&downloaded=0&left=8388610&compact=1&numwant=0&event=started&info_hash=\\x1d]\\xfb\\xcc\\x9f\\xeb\\xfckTfW\\xe3e\\xe8\\xed\\xa9 \\x0f5\\xf0</td>\n",
       "                        <td id=\"T_1ac7b156_8292_11eb_b274_acde48001122row0_col10\" class=\"data row0 col10\" >-</td>\n",
       "                        <td id=\"T_1ac7b156_8292_11eb_b274_acde48001122row0_col11\" class=\"data row0 col11\" >-</td>\n",
       "                        <td id=\"T_1ac7b156_8292_11eb_b274_acde48001122row0_col12\" class=\"data row0 col12\" >0</td>\n",
       "                        <td id=\"T_1ac7b156_8292_11eb_b274_acde48001122row0_col13\" class=\"data row0 col13\" >83</td>\n",
       "                        <td id=\"T_1ac7b156_8292_11eb_b274_acde48001122row0_col14\" class=\"data row0 col14\" >200.000000</td>\n",
       "                        <td id=\"T_1ac7b156_8292_11eb_b274_acde48001122row0_col15\" class=\"data row0 col15\" >OK</td>\n",
       "                        <td id=\"T_1ac7b156_8292_11eb_b274_acde48001122row0_col16\" class=\"data row0 col16\" >nan</td>\n",
       "                        <td id=\"T_1ac7b156_8292_11eb_b274_acde48001122row0_col17\" class=\"data row0 col17\" >-</td>\n",
       "                        <td id=\"T_1ac7b156_8292_11eb_b274_acde48001122row0_col18\" class=\"data row0 col18\" >-</td>\n",
       "                        <td id=\"T_1ac7b156_8292_11eb_b274_acde48001122row0_col19\" class=\"data row0 col19\" >(empty)</td>\n",
       "                        <td id=\"T_1ac7b156_8292_11eb_b274_acde48001122row0_col20\" class=\"data row0 col20\" >-</td>\n",
       "                        <td id=\"T_1ac7b156_8292_11eb_b274_acde48001122row0_col21\" class=\"data row0 col21\" >-</td>\n",
       "                        <td id=\"T_1ac7b156_8292_11eb_b274_acde48001122row0_col22\" class=\"data row0 col22\" >-</td>\n",
       "                        <td id=\"T_1ac7b156_8292_11eb_b274_acde48001122row0_col23\" class=\"data row0 col23\" >-</td>\n",
       "                        <td id=\"T_1ac7b156_8292_11eb_b274_acde48001122row0_col24\" class=\"data row0 col24\" >-</td>\n",
       "                        <td id=\"T_1ac7b156_8292_11eb_b274_acde48001122row0_col25\" class=\"data row0 col25\" >FdHIAGPzf33uaIXE9</td>\n",
       "                        <td id=\"T_1ac7b156_8292_11eb_b274_acde48001122row0_col26\" class=\"data row0 col26\" >text/plain</td>\n",
       "            </tr>\n",
       "    </tbody></table>"
      ],
      "text/plain": [
       "<pandas.io.formats.style.Styler at 0x12265f910>"
      ]
     },
     "metadata": {},
     "output_type": "display_data"
    },
    {
     "data": {
      "text/html": [
       "<style  type=\"text/css\" >\n",
       "#T_1acbf77a_8292_11eb_b274_acde48001122row0_col2,#T_1acbf77a_8292_11eb_b274_acde48001122row0_col4,#T_1acbf77a_8292_11eb_b274_acde48001122row0_col7{\n",
       "            background-color:  red;\n",
       "        }</style><table id=\"T_1acbf77a_8292_11eb_b274_acde48001122\" ><thead>    <tr>        <th class=\"blank level0\" ></th>        <th class=\"col_heading level0 col0\" >ts</th>        <th class=\"col_heading level0 col1\" >uid</th>        <th class=\"col_heading level0 col2\" >id.orig_h</th>        <th class=\"col_heading level0 col3\" >id.orig_p</th>        <th class=\"col_heading level0 col4\" >id.resp_h</th>        <th class=\"col_heading level0 col5\" >id.resp_p</th>        <th class=\"col_heading level0 col6\" >nick</th>        <th class=\"col_heading level0 col7\" >user</th>        <th class=\"col_heading level0 col8\" >command</th>        <th class=\"col_heading level0 col9\" >value</th>        <th class=\"col_heading level0 col10\" >addl</th>        <th class=\"col_heading level0 col11\" >dcc_file_name</th>        <th class=\"col_heading level0 col12\" >dcc_file_size</th>        <th class=\"col_heading level0 col13\" >dcc_mime_type</th>        <th class=\"col_heading level0 col14\" >fuid</th>    </tr></thead><tbody>\n",
       "                <tr>\n",
       "                        <th id=\"T_1acbf77a_8292_11eb_b274_acde48001122level0_row0\" class=\"row_heading level0 row0\" >0</th>\n",
       "                        <td id=\"T_1acbf77a_8292_11eb_b274_acde48001122row0_col0\" class=\"data row0 col0\" >1424256999.141962</td>\n",
       "                        <td id=\"T_1acbf77a_8292_11eb_b274_acde48001122row0_col1\" class=\"data row0 col1\" >CTF2G91mpfymYtsHWk</td>\n",
       "                        <td id=\"T_1acbf77a_8292_11eb_b274_acde48001122row0_col2\" class=\"data row0 col2\" >175.45.176.1</td>\n",
       "                        <td id=\"T_1acbf77a_8292_11eb_b274_acde48001122row0_col3\" class=\"data row0 col3\" >60007</td>\n",
       "                        <td id=\"T_1acbf77a_8292_11eb_b274_acde48001122row0_col4\" class=\"data row0 col4\" >149.171.126.17</td>\n",
       "                        <td id=\"T_1acbf77a_8292_11eb_b274_acde48001122row0_col5\" class=\"data row0 col5\" >6667</td>\n",
       "                        <td id=\"T_1acbf77a_8292_11eb_b274_acde48001122row0_col6\" class=\"data row0 col6\" >-</td>\n",
       "                        <td id=\"T_1acbf77a_8292_11eb_b274_acde48001122row0_col7\" class=\"data row0 col7\" >-</td>\n",
       "                        <td id=\"T_1acbf77a_8292_11eb_b274_acde48001122row0_col8\" class=\"data row0 col8\" >USER</td>\n",
       "                        <td id=\"T_1acbf77a_8292_11eb_b274_acde48001122row0_col9\" class=\"data row0 col9\" >anonym</td>\n",
       "                        <td id=\"T_1acbf77a_8292_11eb_b274_acde48001122row0_col10\" class=\"data row0 col10\" >fbJnFHnHq 149.171.126.17 Anonym</td>\n",
       "                        <td id=\"T_1acbf77a_8292_11eb_b274_acde48001122row0_col11\" class=\"data row0 col11\" >-</td>\n",
       "                        <td id=\"T_1acbf77a_8292_11eb_b274_acde48001122row0_col12\" class=\"data row0 col12\" >nan</td>\n",
       "                        <td id=\"T_1acbf77a_8292_11eb_b274_acde48001122row0_col13\" class=\"data row0 col13\" >-</td>\n",
       "                        <td id=\"T_1acbf77a_8292_11eb_b274_acde48001122row0_col14\" class=\"data row0 col14\" >-</td>\n",
       "            </tr>\n",
       "    </tbody></table>"
      ],
      "text/plain": [
       "<pandas.io.formats.style.Styler at 0x1257f2190>"
      ]
     },
     "metadata": {},
     "output_type": "display_data"
    },
    {
     "data": {
      "text/html": [
       "<style  type=\"text/css\" >\n",
       "</style><table id=\"T_1acda610_8292_11eb_b274_acde48001122\" ><thead>    <tr>        <th class=\"blank level0\" ></th>        <th class=\"col_heading level0 col0\" >ts</th>        <th class=\"col_heading level0 col1\" >node</th>        <th class=\"col_heading level0 col2\" >filter</th>        <th class=\"col_heading level0 col3\" >init</th>        <th class=\"col_heading level0 col4\" >success</th>    </tr></thead><tbody>\n",
       "                <tr>\n",
       "                        <th id=\"T_1acda610_8292_11eb_b274_acde48001122level0_row0\" class=\"row_heading level0 row0\" >0</th>\n",
       "                        <td id=\"T_1acda610_8292_11eb_b274_acde48001122row0_col0\" class=\"data row0 col0\" >1424429070.727596</td>\n",
       "                        <td id=\"T_1acda610_8292_11eb_b274_acde48001122row0_col1\" class=\"data row0 col1\" >bro</td>\n",
       "                        <td id=\"T_1acda610_8292_11eb_b274_acde48001122row0_col2\" class=\"data row0 col2\" >ip or not ip</td>\n",
       "                        <td id=\"T_1acda610_8292_11eb_b274_acde48001122row0_col3\" class=\"data row0 col3\" >T</td>\n",
       "                        <td id=\"T_1acda610_8292_11eb_b274_acde48001122row0_col4\" class=\"data row0 col4\" >T</td>\n",
       "            </tr>\n",
       "    </tbody></table>"
      ],
      "text/plain": [
       "<pandas.io.formats.style.Styler at 0x1260fdb50>"
      ]
     },
     "metadata": {},
     "output_type": "display_data"
    },
    {
     "data": {
      "text/html": [
       "<style  type=\"text/css\" >\n",
       "#T_1ad6b552_8292_11eb_b274_acde48001122row0_col2,#T_1ad6b552_8292_11eb_b274_acde48001122row0_col4,#T_1ad6b552_8292_11eb_b274_acde48001122row0_col7,#T_1ad6b552_8292_11eb_b274_acde48001122row0_col8,#T_1ad6b552_8292_11eb_b274_acde48001122row0_col9,#T_1ad6b552_8292_11eb_b274_acde48001122row0_col10,#T_1ad6b552_8292_11eb_b274_acde48001122row0_col11,#T_1ad6b552_8292_11eb_b274_acde48001122row0_col12,#T_1ad6b552_8292_11eb_b274_acde48001122row0_col13,#T_1ad6b552_8292_11eb_b274_acde48001122row0_col14,#T_1ad6b552_8292_11eb_b274_acde48001122row0_col15,#T_1ad6b552_8292_11eb_b274_acde48001122row0_col16{\n",
       "            background-color:  red;\n",
       "        }</style><table id=\"T_1ad6b552_8292_11eb_b274_acde48001122\" ><thead>    <tr>        <th class=\"blank level0\" ></th>        <th class=\"col_heading level0 col0\" >ts</th>        <th class=\"col_heading level0 col1\" >uid</th>        <th class=\"col_heading level0 col2\" >id.orig_h</th>        <th class=\"col_heading level0 col3\" >id.orig_p</th>        <th class=\"col_heading level0 col4\" >id.resp_h</th>        <th class=\"col_heading level0 col5\" >id.resp_p</th>        <th class=\"col_heading level0 col6\" >trans_depth</th>        <th class=\"col_heading level0 col7\" >helo</th>        <th class=\"col_heading level0 col8\" >mailfrom</th>        <th class=\"col_heading level0 col9\" >rcptto</th>        <th class=\"col_heading level0 col10\" >date</th>        <th class=\"col_heading level0 col11\" >from</th>        <th class=\"col_heading level0 col12\" >to</th>        <th class=\"col_heading level0 col13\" >reply_to</th>        <th class=\"col_heading level0 col14\" >msg_id</th>        <th class=\"col_heading level0 col15\" >in_reply_to</th>        <th class=\"col_heading level0 col16\" >subject</th>        <th class=\"col_heading level0 col17\" >x_originating_ip</th>        <th class=\"col_heading level0 col18\" >first_received</th>        <th class=\"col_heading level0 col19\" >second_received</th>        <th class=\"col_heading level0 col20\" >last_reply</th>        <th class=\"col_heading level0 col21\" >path</th>        <th class=\"col_heading level0 col22\" >user_agent</th>        <th class=\"col_heading level0 col23\" >tls</th>        <th class=\"col_heading level0 col24\" >fuids</th>    </tr></thead><tbody>\n",
       "                <tr>\n",
       "                        <th id=\"T_1ad6b552_8292_11eb_b274_acde48001122level0_row0\" class=\"row_heading level0 row0\" >0</th>\n",
       "                        <td id=\"T_1ad6b552_8292_11eb_b274_acde48001122row0_col0\" class=\"data row0 col0\" >1424256989.350394</td>\n",
       "                        <td id=\"T_1ad6b552_8292_11eb_b274_acde48001122row0_col1\" class=\"data row0 col1\" >C9zC0k1eMFe6n5INSd</td>\n",
       "                        <td id=\"T_1ad6b552_8292_11eb_b274_acde48001122row0_col2\" class=\"data row0 col2\" >59.166.0.2</td>\n",
       "                        <td id=\"T_1ad6b552_8292_11eb_b274_acde48001122row0_col3\" class=\"data row0 col3\" >56249</td>\n",
       "                        <td id=\"T_1ad6b552_8292_11eb_b274_acde48001122row0_col4\" class=\"data row0 col4\" >149.171.126.0</td>\n",
       "                        <td id=\"T_1ad6b552_8292_11eb_b274_acde48001122row0_col5\" class=\"data row0 col5\" >25</td>\n",
       "                        <td id=\"T_1ad6b552_8292_11eb_b274_acde48001122row0_col6\" class=\"data row0 col6\" >1</td>\n",
       "                        <td id=\"T_1ad6b552_8292_11eb_b274_acde48001122row0_col7\" class=\"data row0 col7\" >client-3ba60005.example.int</td>\n",
       "                        <td id=\"T_1ad6b552_8292_11eb_b274_acde48001122row0_col8\" class=\"data row0 col8\" ><sender@example.com></td>\n",
       "                        <td id=\"T_1ad6b552_8292_11eb_b274_acde48001122row0_col9\" class=\"data row0 col9\" ><recipient@example.com></td>\n",
       "                        <td id=\"T_1ad6b552_8292_11eb_b274_acde48001122row0_col10\" class=\"data row0 col10\" >Tue Feb 17 17:14:38 +1100 2015</td>\n",
       "                        <td id=\"T_1ad6b552_8292_11eb_b274_acde48001122row0_col11\" class=\"data row0 col11\" ><sender@example.com></td>\n",
       "                        <td id=\"T_1ad6b552_8292_11eb_b274_acde48001122row0_col12\" class=\"data row0 col12\" ><recipient@example.com></td>\n",
       "                        <td id=\"T_1ad6b552_8292_11eb_b274_acde48001122row0_col13\" class=\"data row0 col13\" >-</td>\n",
       "                        <td id=\"T_1ad6b552_8292_11eb_b274_acde48001122row0_col14\" class=\"data row0 col14\" ><5DBPyXnpx044jJOf@example.com></td>\n",
       "                        <td id=\"T_1ad6b552_8292_11eb_b274_acde48001122row0_col15\" class=\"data row0 col15\" >-</td>\n",
       "                        <td id=\"T_1ad6b552_8292_11eb_b274_acde48001122row0_col16\" class=\"data row0 col16\" >The thing, you thought it perfectly----- And then</td>\n",
       "                        <td id=\"T_1ad6b552_8292_11eb_b274_acde48001122row0_col17\" class=\"data row0 col17\" >-</td>\n",
       "                        <td id=\"T_1ad6b552_8292_11eb_b274_acde48001122row0_col18\" class=\"data row0 col18\" >qmail 1309 by uid 2584; Fri Feb 28 10:07:07 +1100 2014</td>\n",
       "                        <td id=\"T_1ad6b552_8292_11eb_b274_acde48001122row0_col19\" class=\"data row0 col19\" >-</td>\n",
       "                        <td id=\"T_1ad6b552_8292_11eb_b274_acde48001122row0_col20\" class=\"data row0 col20\" >250 2.6.0 <FESFSEF> Queued mail for delivery</td>\n",
       "                        <td id=\"T_1ad6b552_8292_11eb_b274_acde48001122row0_col21\" class=\"data row0 col21\" >149.171.126.0,59.166.0.2</td>\n",
       "                        <td id=\"T_1ad6b552_8292_11eb_b274_acde48001122row0_col22\" class=\"data row0 col22\" >Microsoft Outlook Express 6.00.2800.1158</td>\n",
       "                        <td id=\"T_1ad6b552_8292_11eb_b274_acde48001122row0_col23\" class=\"data row0 col23\" >F</td>\n",
       "                        <td id=\"T_1ad6b552_8292_11eb_b274_acde48001122row0_col24\" class=\"data row0 col24\" >F1YVMA4nWYBEIQkbDd,F1WlkS0yj1Py35am9</td>\n",
       "            </tr>\n",
       "    </tbody></table>"
      ],
      "text/plain": [
       "<pandas.io.formats.style.Styler at 0x1260e9df0>"
      ]
     },
     "metadata": {},
     "output_type": "display_data"
    },
    {
     "data": {
      "text/html": [
       "<style  type=\"text/css\" >\n",
       "#T_1adb2c68_8292_11eb_b274_acde48001122row0_col2,#T_1adb2c68_8292_11eb_b274_acde48001122row0_col4{\n",
       "            background-color:  red;\n",
       "        }</style><table id=\"T_1adb2c68_8292_11eb_b274_acde48001122\" ><thead>    <tr>        <th class=\"blank level0\" ></th>        <th class=\"col_heading level0 col0\" >ts</th>        <th class=\"col_heading level0 col1\" >uid</th>        <th class=\"col_heading level0 col2\" >id.orig_h</th>        <th class=\"col_heading level0 col3\" >id.orig_p</th>        <th class=\"col_heading level0 col4\" >id.resp_h</th>        <th class=\"col_heading level0 col5\" >id.resp_p</th>        <th class=\"col_heading level0 col6\" >duration</th>        <th class=\"col_heading level0 col7\" >version</th>        <th class=\"col_heading level0 col8\" >community</th>        <th class=\"col_heading level0 col9\" >get_requests</th>        <th class=\"col_heading level0 col10\" >get_bulk_requests</th>        <th class=\"col_heading level0 col11\" >get_responses</th>        <th class=\"col_heading level0 col12\" >set_requests</th>        <th class=\"col_heading level0 col13\" >display_string</th>        <th class=\"col_heading level0 col14\" >up_since</th>    </tr></thead><tbody>\n",
       "                <tr>\n",
       "                        <th id=\"T_1adb2c68_8292_11eb_b274_acde48001122level0_row0\" class=\"row_heading level0 row0\" >0</th>\n",
       "                        <td id=\"T_1adb2c68_8292_11eb_b274_acde48001122row0_col0\" class=\"data row0 col0\" >1424257146.818946</td>\n",
       "                        <td id=\"T_1adb2c68_8292_11eb_b274_acde48001122row0_col1\" class=\"data row0 col1\" >CTYBRU1hBdyRYpDU5b</td>\n",
       "                        <td id=\"T_1adb2c68_8292_11eb_b274_acde48001122row0_col2\" class=\"data row0 col2\" >175.45.176.1</td>\n",
       "                        <td id=\"T_1adb2c68_8292_11eb_b274_acde48001122row0_col3\" class=\"data row0 col3\" >52657</td>\n",
       "                        <td id=\"T_1adb2c68_8292_11eb_b274_acde48001122row0_col4\" class=\"data row0 col4\" >149.171.126.11</td>\n",
       "                        <td id=\"T_1adb2c68_8292_11eb_b274_acde48001122row0_col5\" class=\"data row0 col5\" >161</td>\n",
       "                        <td id=\"T_1adb2c68_8292_11eb_b274_acde48001122row0_col6\" class=\"data row0 col6\" >0.000009</td>\n",
       "                        <td id=\"T_1adb2c68_8292_11eb_b274_acde48001122row0_col7\" class=\"data row0 col7\" >1</td>\n",
       "                        <td id=\"T_1adb2c68_8292_11eb_b274_acde48001122row0_col8\" class=\"data row0 col8\" >PUBLIC</td>\n",
       "                        <td id=\"T_1adb2c68_8292_11eb_b274_acde48001122row0_col9\" class=\"data row0 col9\" >2</td>\n",
       "                        <td id=\"T_1adb2c68_8292_11eb_b274_acde48001122row0_col10\" class=\"data row0 col10\" >0</td>\n",
       "                        <td id=\"T_1adb2c68_8292_11eb_b274_acde48001122row0_col11\" class=\"data row0 col11\" >0</td>\n",
       "                        <td id=\"T_1adb2c68_8292_11eb_b274_acde48001122row0_col12\" class=\"data row0 col12\" >0</td>\n",
       "                        <td id=\"T_1adb2c68_8292_11eb_b274_acde48001122row0_col13\" class=\"data row0 col13\" >-</td>\n",
       "                        <td id=\"T_1adb2c68_8292_11eb_b274_acde48001122row0_col14\" class=\"data row0 col14\" >nan</td>\n",
       "            </tr>\n",
       "    </tbody></table>"
      ],
      "text/plain": [
       "<pandas.io.formats.style.Styler at 0x111e6fbe0>"
      ]
     },
     "metadata": {},
     "output_type": "display_data"
    },
    {
     "data": {
      "text/html": [
       "<style  type=\"text/css\" >\n",
       "#T_1ae0108e_8292_11eb_b274_acde48001122row0_col2,#T_1ae0108e_8292_11eb_b274_acde48001122row0_col4{\n",
       "            background-color:  red;\n",
       "        }</style><table id=\"T_1ae0108e_8292_11eb_b274_acde48001122\" ><thead>    <tr>        <th class=\"blank level0\" ></th>        <th class=\"col_heading level0 col0\" >ts</th>        <th class=\"col_heading level0 col1\" >uid</th>        <th class=\"col_heading level0 col2\" >id.orig_h</th>        <th class=\"col_heading level0 col3\" >id.orig_p</th>        <th class=\"col_heading level0 col4\" >id.resp_h</th>        <th class=\"col_heading level0 col5\" >id.resp_p</th>        <th class=\"col_heading level0 col6\" >status</th>        <th class=\"col_heading level0 col7\" >direction</th>        <th class=\"col_heading level0 col8\" >client</th>        <th class=\"col_heading level0 col9\" >server</th>    </tr></thead><tbody>\n",
       "                <tr>\n",
       "                        <th id=\"T_1ae0108e_8292_11eb_b274_acde48001122level0_row0\" class=\"row_heading level0 row0\" >0</th>\n",
       "                        <td id=\"T_1ae0108e_8292_11eb_b274_acde48001122row0_col0\" class=\"data row0 col0\" >1424256988.242291</td>\n",
       "                        <td id=\"T_1ae0108e_8292_11eb_b274_acde48001122row0_col1\" class=\"data row0 col1\" >ChBvzV2CEZnYgi9gaa</td>\n",
       "                        <td id=\"T_1ae0108e_8292_11eb_b274_acde48001122row0_col2\" class=\"data row0 col2\" >59.166.0.0</td>\n",
       "                        <td id=\"T_1ae0108e_8292_11eb_b274_acde48001122row0_col3\" class=\"data row0 col3\" >3778</td>\n",
       "                        <td id=\"T_1ae0108e_8292_11eb_b274_acde48001122row0_col4\" class=\"data row0 col4\" >149.171.126.2</td>\n",
       "                        <td id=\"T_1ae0108e_8292_11eb_b274_acde48001122row0_col5\" class=\"data row0 col5\" >22</td>\n",
       "                        <td id=\"T_1ae0108e_8292_11eb_b274_acde48001122row0_col6\" class=\"data row0 col6\" >success</td>\n",
       "                        <td id=\"T_1ae0108e_8292_11eb_b274_acde48001122row0_col7\" class=\"data row0 col7\" >INBOUND</td>\n",
       "                        <td id=\"T_1ae0108e_8292_11eb_b274_acde48001122row0_col8\" class=\"data row0 col8\" >SSH-2.0-PuTTY_Release_0.60</td>\n",
       "                        <td id=\"T_1ae0108e_8292_11eb_b274_acde48001122row0_col9\" class=\"data row0 col9\" >SSH-1.99-OpenSSH_4.3</td>\n",
       "            </tr>\n",
       "    </tbody></table>"
      ],
      "text/plain": [
       "<pandas.io.formats.style.Styler at 0x1257f6fd0>"
      ]
     },
     "metadata": {},
     "output_type": "display_data"
    },
    {
     "data": {
      "text/html": [
       "<style  type=\"text/css\" >\n",
       "#T_1ae70038_8292_11eb_b274_acde48001122row0_col2,#T_1ae70038_8292_11eb_b274_acde48001122row0_col4,#T_1ae70038_8292_11eb_b274_acde48001122row0_col9,#T_1ae70038_8292_11eb_b274_acde48001122row0_col15,#T_1ae70038_8292_11eb_b274_acde48001122row0_col16,#T_1ae70038_8292_11eb_b274_acde48001122row0_col17,#T_1ae70038_8292_11eb_b274_acde48001122row0_col18{\n",
       "            background-color:  red;\n",
       "        }</style><table id=\"T_1ae70038_8292_11eb_b274_acde48001122\" ><thead>    <tr>        <th class=\"blank level0\" ></th>        <th class=\"col_heading level0 col0\" >ts</th>        <th class=\"col_heading level0 col1\" >uid</th>        <th class=\"col_heading level0 col2\" >id.orig_h</th>        <th class=\"col_heading level0 col3\" >id.orig_p</th>        <th class=\"col_heading level0 col4\" >id.resp_h</th>        <th class=\"col_heading level0 col5\" >id.resp_p</th>        <th class=\"col_heading level0 col6\" >version</th>        <th class=\"col_heading level0 col7\" >cipher</th>        <th class=\"col_heading level0 col8\" >curve</th>        <th class=\"col_heading level0 col9\" >server_name</th>        <th class=\"col_heading level0 col10\" >session_id</th>        <th class=\"col_heading level0 col11\" >last_alert</th>        <th class=\"col_heading level0 col12\" >established</th>        <th class=\"col_heading level0 col13\" >cert_chain_fuids</th>        <th class=\"col_heading level0 col14\" >client_cert_chain_fuids</th>        <th class=\"col_heading level0 col15\" >subject</th>        <th class=\"col_heading level0 col16\" >issuer</th>        <th class=\"col_heading level0 col17\" >client_subject</th>        <th class=\"col_heading level0 col18\" >client_issuer</th>    </tr></thead><tbody>\n",
       "                <tr>\n",
       "                        <th id=\"T_1ae70038_8292_11eb_b274_acde48001122level0_row0\" class=\"row_heading level0 row0\" >0</th>\n",
       "                        <td id=\"T_1ae70038_8292_11eb_b274_acde48001122row0_col0\" class=\"data row0 col0\" >1424257005.940392</td>\n",
       "                        <td id=\"T_1ae70038_8292_11eb_b274_acde48001122row0_col1\" class=\"data row0 col1\" >CkIFoc3DTlsBeaFW66</td>\n",
       "                        <td id=\"T_1ae70038_8292_11eb_b274_acde48001122row0_col2\" class=\"data row0 col2\" >175.45.176.1</td>\n",
       "                        <td id=\"T_1ae70038_8292_11eb_b274_acde48001122row0_col3\" class=\"data row0 col3\" >17478</td>\n",
       "                        <td id=\"T_1ae70038_8292_11eb_b274_acde48001122row0_col4\" class=\"data row0 col4\" >149.171.126.12</td>\n",
       "                        <td id=\"T_1ae70038_8292_11eb_b274_acde48001122row0_col5\" class=\"data row0 col5\" >443</td>\n",
       "                        <td id=\"T_1ae70038_8292_11eb_b274_acde48001122row0_col6\" class=\"data row0 col6\" >TLSv10</td>\n",
       "                        <td id=\"T_1ae70038_8292_11eb_b274_acde48001122row0_col7\" class=\"data row0 col7\" >TLS_RSA_WITH_3DES_EDE_CBC_SHA</td>\n",
       "                        <td id=\"T_1ae70038_8292_11eb_b274_acde48001122row0_col8\" class=\"data row0 col8\" >-</td>\n",
       "                        <td id=\"T_1ae70038_8292_11eb_b274_acde48001122row0_col9\" class=\"data row0 col9\" >-</td>\n",
       "                        <td id=\"T_1ae70038_8292_11eb_b274_acde48001122row0_col10\" class=\"data row0 col10\" >08a79d45b747f5c828da00000000000000000000000000000000000000000000</td>\n",
       "                        <td id=\"T_1ae70038_8292_11eb_b274_acde48001122row0_col11\" class=\"data row0 col11\" >-</td>\n",
       "                        <td id=\"T_1ae70038_8292_11eb_b274_acde48001122row0_col12\" class=\"data row0 col12\" >F</td>\n",
       "                        <td id=\"T_1ae70038_8292_11eb_b274_acde48001122row0_col13\" class=\"data row0 col13\" >-</td>\n",
       "                        <td id=\"T_1ae70038_8292_11eb_b274_acde48001122row0_col14\" class=\"data row0 col14\" >-</td>\n",
       "                        <td id=\"T_1ae70038_8292_11eb_b274_acde48001122row0_col15\" class=\"data row0 col15\" >-</td>\n",
       "                        <td id=\"T_1ae70038_8292_11eb_b274_acde48001122row0_col16\" class=\"data row0 col16\" >-</td>\n",
       "                        <td id=\"T_1ae70038_8292_11eb_b274_acde48001122row0_col17\" class=\"data row0 col17\" >-</td>\n",
       "                        <td id=\"T_1ae70038_8292_11eb_b274_acde48001122row0_col18\" class=\"data row0 col18\" >-</td>\n",
       "            </tr>\n",
       "    </tbody></table>"
      ],
      "text/plain": [
       "<pandas.io.formats.style.Styler at 0x126107460>"
      ]
     },
     "metadata": {},
     "output_type": "display_data"
    },
    {
     "data": {
      "text/html": [
       "<style  type=\"text/css\" >\n",
       "#T_1aeada96_8292_11eb_b274_acde48001122row0_col2,#T_1aeada96_8292_11eb_b274_acde48001122row0_col4,#T_1aeada96_8292_11eb_b274_acde48001122row0_col9{\n",
       "            background-color:  red;\n",
       "        }</style><table id=\"T_1aeada96_8292_11eb_b274_acde48001122\" ><thead>    <tr>        <th class=\"blank level0\" ></th>        <th class=\"col_heading level0 col0\" >ts</th>        <th class=\"col_heading level0 col1\" >uid</th>        <th class=\"col_heading level0 col2\" >id.orig_h</th>        <th class=\"col_heading level0 col3\" >id.orig_p</th>        <th class=\"col_heading level0 col4\" >id.resp_h</th>        <th class=\"col_heading level0 col5\" >id.resp_p</th>        <th class=\"col_heading level0 col6\" >proto</th>        <th class=\"col_heading level0 col7\" >facility</th>        <th class=\"col_heading level0 col8\" >severity</th>        <th class=\"col_heading level0 col9\" >message</th>    </tr></thead><tbody>\n",
       "                <tr>\n",
       "                        <th id=\"T_1aeada96_8292_11eb_b274_acde48001122level0_row0\" class=\"row_heading level0 row0\" >0</th>\n",
       "                        <td id=\"T_1aeada96_8292_11eb_b274_acde48001122row0_col0\" class=\"data row0 col0\" >1424257272.505490</td>\n",
       "                        <td id=\"T_1aeada96_8292_11eb_b274_acde48001122row0_col1\" class=\"data row0 col1\" >Cj3GI83Aak9eXVMxRj</td>\n",
       "                        <td id=\"T_1aeada96_8292_11eb_b274_acde48001122row0_col2\" class=\"data row0 col2\" >175.45.176.2</td>\n",
       "                        <td id=\"T_1aeada96_8292_11eb_b274_acde48001122row0_col3\" class=\"data row0 col3\" >59788</td>\n",
       "                        <td id=\"T_1aeada96_8292_11eb_b274_acde48001122row0_col4\" class=\"data row0 col4\" >149.171.126.19</td>\n",
       "                        <td id=\"T_1aeada96_8292_11eb_b274_acde48001122row0_col5\" class=\"data row0 col5\" >514</td>\n",
       "                        <td id=\"T_1aeada96_8292_11eb_b274_acde48001122row0_col6\" class=\"data row0 col6\" >udp</td>\n",
       "                        <td id=\"T_1aeada96_8292_11eb_b274_acde48001122row0_col7\" class=\"data row0 col7\" >KERN</td>\n",
       "                        <td id=\"T_1aeada96_8292_11eb_b274_acde48001122row0_col8\" class=\"data row0 col8\" >EMERG</td>\n",
       "                        <td id=\"T_1aeada96_8292_11eb_b274_acde48001122row0_col9\" class=\"data row0 col9\" >4294967296 FtOzu6fBJ Gqvq2fF: jiSd9fZKD93uuhXTlgnUYiJabrYEZ5ScNv9ZSWpYJ9ZU1VtphmvQtkLwMqZBFJaAANohXQqtNjtHwFh0teyFi2QpSb1JN9zkqRedhLE0znm8OyeGq0QUOxDCg1knyDaHXmtchaToM7AeHBDZSywDgVJSANxLahZy5vII1BLIyTape44OkitTxsqFwhQmadxiG0sqot6BL7T90mei9KXRWvSAjYLDwSOEYwmkJLqbbuBoYeUFlQlkvwOf0nCBP7kXqVz7ddmrSXPgK4qpdf7s9Ts5GEVGBrC6DQnoI9jggrwSN4XnMKV5ImStRzIQpnMc3c15iemhtTK3jvXu0JDhyt5GHf2P0DvlOKyJrfc6SZLLisGpkLHuKO9mWajcrYXi8zn27YkZiwA8HQsomh5Nxi3gjElvi3y3zLPkcXwWimPYkKbjGju9ZaGBkL4S0yAMNWAypTpFeSZtISOHyGMG5iA6NQ66ZSi3XcEmfcTNQQRGfLp3eTEd2B01V9690LY1TuV8QARbt2CSI3t1r04zwGzyk2Mz54D6cSX3DF2Abhie5drJa2zaPpPkYs3TsvQ0ntuIlXNZPbT86zUcDasMeiS9vW908jGF5Shj0Ncs3ZzN54jTjs0v3kzSsVvv9rAOBUn25vWd8bP2OB0z3g62Q5AXJdbjYAqYVPQISkNaeDBSRiRuaNJq70TA8n811AJtPCz34sGdMllwNTRgGscoZ1t2RtRG3MNnu1zmvhcbMdERVX80st7Y5oVudQGsai\\x0a</td>\n",
       "            </tr>\n",
       "    </tbody></table>"
      ],
      "text/plain": [
       "<pandas.io.formats.style.Styler at 0x1260efcd0>"
      ]
     },
     "metadata": {},
     "output_type": "display_data"
    },
    {
     "data": {
      "text/html": [
       "<style  type=\"text/css\" >\n",
       "#T_1aee6d46_8292_11eb_b274_acde48001122row0_col2,#T_1aee6d46_8292_11eb_b274_acde48001122row0_col4{\n",
       "            background-color:  red;\n",
       "        }</style><table id=\"T_1aee6d46_8292_11eb_b274_acde48001122\" ><thead>    <tr>        <th class=\"blank level0\" ></th>        <th class=\"col_heading level0 col0\" >ts</th>        <th class=\"col_heading level0 col1\" >uid</th>        <th class=\"col_heading level0 col2\" >id.orig_h</th>        <th class=\"col_heading level0 col3\" >id.orig_p</th>        <th class=\"col_heading level0 col4\" >id.resp_h</th>        <th class=\"col_heading level0 col5\" >id.resp_p</th>        <th class=\"col_heading level0 col6\" >name</th>        <th class=\"col_heading level0 col7\" >addl</th>        <th class=\"col_heading level0 col8\" >notice</th>        <th class=\"col_heading level0 col9\" >peer</th>    </tr></thead><tbody>\n",
       "                <tr>\n",
       "                        <th id=\"T_1aee6d46_8292_11eb_b274_acde48001122level0_row0\" class=\"row_heading level0 row0\" >0</th>\n",
       "                        <td id=\"T_1aee6d46_8292_11eb_b274_acde48001122row0_col0\" class=\"data row0 col0\" >1424256989.752044</td>\n",
       "                        <td id=\"T_1aee6d46_8292_11eb_b274_acde48001122row0_col1\" class=\"data row0 col1\" >CBAuL33hjNTqQ8MTak</td>\n",
       "                        <td id=\"T_1aee6d46_8292_11eb_b274_acde48001122row0_col2\" class=\"data row0 col2\" >59.166.0.8</td>\n",
       "                        <td id=\"T_1aee6d46_8292_11eb_b274_acde48001122row0_col3\" class=\"data row0 col3\" >53225.000000</td>\n",
       "                        <td id=\"T_1aee6d46_8292_11eb_b274_acde48001122row0_col4\" class=\"data row0 col4\" >149.171.126.5</td>\n",
       "                        <td id=\"T_1aee6d46_8292_11eb_b274_acde48001122row0_col5\" class=\"data row0 col5\" >80.000000</td>\n",
       "                        <td id=\"T_1aee6d46_8292_11eb_b274_acde48001122row0_col6\" class=\"data row0 col6\" >above_hole_data_without_any_acks</td>\n",
       "                        <td id=\"T_1aee6d46_8292_11eb_b274_acde48001122row0_col7\" class=\"data row0 col7\" >-</td>\n",
       "                        <td id=\"T_1aee6d46_8292_11eb_b274_acde48001122row0_col8\" class=\"data row0 col8\" >F</td>\n",
       "                        <td id=\"T_1aee6d46_8292_11eb_b274_acde48001122row0_col9\" class=\"data row0 col9\" >bro</td>\n",
       "            </tr>\n",
       "    </tbody></table>"
      ],
      "text/plain": [
       "<pandas.io.formats.style.Styler at 0x1260e9eb0>"
      ]
     },
     "metadata": {},
     "output_type": "display_data"
    },
    {
     "data": {
      "text/html": [
       "<style  type=\"text/css\" >\n",
       "#T_1af3dcb8_8292_11eb_b274_acde48001122row0_col3,#T_1af3dcb8_8292_11eb_b274_acde48001122row0_col4,#T_1af3dcb8_8292_11eb_b274_acde48001122row0_col5,#T_1af3dcb8_8292_11eb_b274_acde48001122row0_col6,#T_1af3dcb8_8292_11eb_b274_acde48001122row0_col7,#T_1af3dcb8_8292_11eb_b274_acde48001122row0_col14,#T_1af3dcb8_8292_11eb_b274_acde48001122row0_col15,#T_1af3dcb8_8292_11eb_b274_acde48001122row0_col16,#T_1af3dcb8_8292_11eb_b274_acde48001122row0_col17{\n",
       "            background-color:  red;\n",
       "        }</style><table id=\"T_1af3dcb8_8292_11eb_b274_acde48001122\" ><thead>    <tr>        <th class=\"blank level0\" ></th>        <th class=\"col_heading level0 col0\" >ts</th>        <th class=\"col_heading level0 col1\" >id</th>        <th class=\"col_heading level0 col2\" >certificate.version</th>        <th class=\"col_heading level0 col3\" >certificate.serial</th>        <th class=\"col_heading level0 col4\" >certificate.subject</th>        <th class=\"col_heading level0 col5\" >certificate.issuer</th>        <th class=\"col_heading level0 col6\" >certificate.not_valid_before</th>        <th class=\"col_heading level0 col7\" >certificate.not_valid_after</th>        <th class=\"col_heading level0 col8\" >certificate.key_alg</th>        <th class=\"col_heading level0 col9\" >certificate.sig_alg</th>        <th class=\"col_heading level0 col10\" >certificate.key_type</th>        <th class=\"col_heading level0 col11\" >certificate.key_length</th>        <th class=\"col_heading level0 col12\" >certificate.exponent</th>        <th class=\"col_heading level0 col13\" >certificate.curve</th>        <th class=\"col_heading level0 col14\" >san.dns</th>        <th class=\"col_heading level0 col15\" >san.uri</th>        <th class=\"col_heading level0 col16\" >san.email</th>        <th class=\"col_heading level0 col17\" >san.ip</th>        <th class=\"col_heading level0 col18\" >basic_constraints.ca</th>        <th class=\"col_heading level0 col19\" >basic_constraints.path_len</th>    </tr></thead><tbody>\n",
       "                <tr>\n",
       "                        <th id=\"T_1af3dcb8_8292_11eb_b274_acde48001122level0_row0\" class=\"row_heading level0 row0\" >0</th>\n",
       "                        <td id=\"T_1af3dcb8_8292_11eb_b274_acde48001122row0_col0\" class=\"data row0 col0\" >1424257134.200798</td>\n",
       "                        <td id=\"T_1af3dcb8_8292_11eb_b274_acde48001122row0_col1\" class=\"data row0 col1\" >F1UOdB2xjikZlEkvu5</td>\n",
       "                        <td id=\"T_1af3dcb8_8292_11eb_b274_acde48001122row0_col2\" class=\"data row0 col2\" >2</td>\n",
       "                        <td id=\"T_1af3dcb8_8292_11eb_b274_acde48001122row0_col3\" class=\"data row0 col3\" >9A773E9868AE2F2142</td>\n",
       "                        <td id=\"T_1af3dcb8_8292_11eb_b274_acde48001122row0_col4\" class=\"data row0 col4\" >CN=uVEycH.com\\00njxoOwVyuqbebclExlJ.com,OU=mhUEnXB,O=UzzTqUsqUT,L=aTmKVEcrCIvmGiAdQ,ST=Minnesota,C=US</td>\n",
       "                        <td id=\"T_1af3dcb8_8292_11eb_b274_acde48001122row0_col5\" class=\"data row0 col5\" >CN=cqbaqTlF.com,OU=Ae,O=awM,L=jhMfjaJOiSRBeKiax,ST=Wisconsin,C=US</td>\n",
       "                        <td id=\"T_1af3dcb8_8292_11eb_b274_acde48001122row0_col6\" class=\"data row0 col6\" >1398268772.000000</td>\n",
       "                        <td id=\"T_1af3dcb8_8292_11eb_b274_acde48001122row0_col7\" class=\"data row0 col7\" >1455728372.000000</td>\n",
       "                        <td id=\"T_1af3dcb8_8292_11eb_b274_acde48001122row0_col8\" class=\"data row0 col8\" >rsaEncryption</td>\n",
       "                        <td id=\"T_1af3dcb8_8292_11eb_b274_acde48001122row0_col9\" class=\"data row0 col9\" >sha1WithRSAEncryption</td>\n",
       "                        <td id=\"T_1af3dcb8_8292_11eb_b274_acde48001122row0_col10\" class=\"data row0 col10\" >rsa</td>\n",
       "                        <td id=\"T_1af3dcb8_8292_11eb_b274_acde48001122row0_col11\" class=\"data row0 col11\" >1024</td>\n",
       "                        <td id=\"T_1af3dcb8_8292_11eb_b274_acde48001122row0_col12\" class=\"data row0 col12\" >65537</td>\n",
       "                        <td id=\"T_1af3dcb8_8292_11eb_b274_acde48001122row0_col13\" class=\"data row0 col13\" >-</td>\n",
       "                        <td id=\"T_1af3dcb8_8292_11eb_b274_acde48001122row0_col14\" class=\"data row0 col14\" >-</td>\n",
       "                        <td id=\"T_1af3dcb8_8292_11eb_b274_acde48001122row0_col15\" class=\"data row0 col15\" >-</td>\n",
       "                        <td id=\"T_1af3dcb8_8292_11eb_b274_acde48001122row0_col16\" class=\"data row0 col16\" >-</td>\n",
       "                        <td id=\"T_1af3dcb8_8292_11eb_b274_acde48001122row0_col17\" class=\"data row0 col17\" >-</td>\n",
       "                        <td id=\"T_1af3dcb8_8292_11eb_b274_acde48001122row0_col18\" class=\"data row0 col18\" >-</td>\n",
       "                        <td id=\"T_1af3dcb8_8292_11eb_b274_acde48001122row0_col19\" class=\"data row0 col19\" >nan</td>\n",
       "            </tr>\n",
       "    </tbody></table>"
      ],
      "text/plain": [
       "<pandas.io.formats.style.Styler at 0x1260f1460>"
      ]
     },
     "metadata": {},
     "output_type": "display_data"
    }
   ],
   "source": [
    "directories, filenames = get_files_and_dirs(dir_to_parse)\n",
    "\n",
    "orig_log_dataframes = {}\n",
    "\n",
    "for filename in filenames:\n",
    "    df_log = get_dataframe(filename,seperator,directories)\n",
    "    orig_log_dataframes[filename] = df_log\n",
    "    display(df_log.iloc[:1,:].style.apply(highlight_col, axis=None))\n",
    "    "
   ]
  },
  {
   "cell_type": "code",
   "execution_count": 18,
   "metadata": {},
   "outputs": [
    {
     "name": "stdout",
     "output_type": "stream",
     "text": [
      "conn.log\n"
     ]
    },
    {
     "data": {
      "text/html": [
       "<style  type=\"text/css\" >\n",
       "#T_5160a52e_8292_11eb_b274_acde48001122row0_col2,#T_5160a52e_8292_11eb_b274_acde48001122row0_col4{\n",
       "            background-color:  red;\n",
       "        }</style><table id=\"T_5160a52e_8292_11eb_b274_acde48001122\" ><thead>    <tr>        <th class=\"blank level0\" ></th>        <th class=\"col_heading level0 col0\" >ts</th>        <th class=\"col_heading level0 col1\" >uid</th>        <th class=\"col_heading level0 col2\" >id.orig_h</th>        <th class=\"col_heading level0 col3\" >id.orig_p</th>        <th class=\"col_heading level0 col4\" >id.resp_h</th>        <th class=\"col_heading level0 col5\" >id.resp_p</th>        <th class=\"col_heading level0 col6\" >proto</th>        <th class=\"col_heading level0 col7\" >service</th>        <th class=\"col_heading level0 col8\" >duration</th>        <th class=\"col_heading level0 col9\" >orig_bytes</th>        <th class=\"col_heading level0 col10\" >resp_bytes</th>        <th class=\"col_heading level0 col11\" >conn_state</th>        <th class=\"col_heading level0 col12\" >local_orig</th>        <th class=\"col_heading level0 col13\" >missed_bytes</th>        <th class=\"col_heading level0 col14\" >history</th>        <th class=\"col_heading level0 col15\" >orig_pkts</th>        <th class=\"col_heading level0 col16\" >orig_ip_bytes</th>        <th class=\"col_heading level0 col17\" >resp_pkts</th>        <th class=\"col_heading level0 col18\" >resp_ip_bytes</th>        <th class=\"col_heading level0 col19\" >tunnel_parents</th>    </tr></thead><tbody>\n",
       "                <tr>\n",
       "                        <th id=\"T_5160a52e_8292_11eb_b274_acde48001122level0_row0\" class=\"row_heading level0 row0\" >0</th>\n",
       "                        <td id=\"T_5160a52e_8292_11eb_b274_acde48001122row0_col0\" class=\"data row0 col0\" >1424256987.747828</td>\n",
       "                        <td id=\"T_5160a52e_8292_11eb_b274_acde48001122row0_col1\" class=\"data row0 col1\" >C8kfmaJvH8YSujzW5</td>\n",
       "                        <td id=\"T_5160a52e_8292_11eb_b274_acde48001122row0_col2\" class=\"data row0 col2\" >192.194.119.95</td>\n",
       "                        <td id=\"T_5160a52e_8292_11eb_b274_acde48001122row0_col3\" class=\"data row0 col3\" >57872</td>\n",
       "                        <td id=\"T_5160a52e_8292_11eb_b274_acde48001122row0_col4\" class=\"data row0 col4\" >185.201.128.141</td>\n",
       "                        <td id=\"T_5160a52e_8292_11eb_b274_acde48001122row0_col5\" class=\"data row0 col5\" >56104</td>\n",
       "                        <td id=\"T_5160a52e_8292_11eb_b274_acde48001122row0_col6\" class=\"data row0 col6\" >tcp</td>\n",
       "                        <td id=\"T_5160a52e_8292_11eb_b274_acde48001122row0_col7\" class=\"data row0 col7\" >-</td>\n",
       "                        <td id=\"T_5160a52e_8292_11eb_b274_acde48001122row0_col8\" class=\"data row0 col8\" >0.027552</td>\n",
       "                        <td id=\"T_5160a52e_8292_11eb_b274_acde48001122row0_col9\" class=\"data row0 col9\" >227.000000</td>\n",
       "                        <td id=\"T_5160a52e_8292_11eb_b274_acde48001122row0_col10\" class=\"data row0 col10\" >11587.000000</td>\n",
       "                        <td id=\"T_5160a52e_8292_11eb_b274_acde48001122row0_col11\" class=\"data row0 col11\" >SF</td>\n",
       "                        <td id=\"T_5160a52e_8292_11eb_b274_acde48001122row0_col12\" class=\"data row0 col12\" >-</td>\n",
       "                        <td id=\"T_5160a52e_8292_11eb_b274_acde48001122row0_col13\" class=\"data row0 col13\" >0</td>\n",
       "                        <td id=\"T_5160a52e_8292_11eb_b274_acde48001122row0_col14\" class=\"data row0 col14\" >ShADadfF</td>\n",
       "                        <td id=\"T_5160a52e_8292_11eb_b274_acde48001122row0_col15\" class=\"data row0 col15\" >42</td>\n",
       "                        <td id=\"T_5160a52e_8292_11eb_b274_acde48001122row0_col16\" class=\"data row0 col16\" >2646</td>\n",
       "                        <td id=\"T_5160a52e_8292_11eb_b274_acde48001122row0_col17\" class=\"data row0 col17\" >44</td>\n",
       "                        <td id=\"T_5160a52e_8292_11eb_b274_acde48001122row0_col18\" class=\"data row0 col18\" >25470</td>\n",
       "                        <td id=\"T_5160a52e_8292_11eb_b274_acde48001122row0_col19\" class=\"data row0 col19\" >(empty)</td>\n",
       "            </tr>\n",
       "    </tbody></table>"
      ],
      "text/plain": [
       "<pandas.io.formats.style.Styler at 0x1260f1b20>"
      ]
     },
     "metadata": {},
     "output_type": "display_data"
    },
    {
     "name": "stdout",
     "output_type": "stream",
     "text": [
      "dhcp.log\n"
     ]
    },
    {
     "data": {
      "text/html": [
       "<style  type=\"text/css\" >\n",
       "#T_516322f4_8292_11eb_b274_acde48001122row0_col2,#T_516322f4_8292_11eb_b274_acde48001122row0_col4,#T_516322f4_8292_11eb_b274_acde48001122row0_col6,#T_516322f4_8292_11eb_b274_acde48001122row0_col7{\n",
       "            background-color:  red;\n",
       "        }</style><table id=\"T_516322f4_8292_11eb_b274_acde48001122\" ><thead>    <tr>        <th class=\"blank level0\" ></th>        <th class=\"col_heading level0 col0\" >ts</th>        <th class=\"col_heading level0 col1\" >uid</th>        <th class=\"col_heading level0 col2\" >id.orig_h</th>        <th class=\"col_heading level0 col3\" >id.orig_p</th>        <th class=\"col_heading level0 col4\" >id.resp_h</th>        <th class=\"col_heading level0 col5\" >id.resp_p</th>        <th class=\"col_heading level0 col6\" >mac</th>        <th class=\"col_heading level0 col7\" >assigned_ip</th>        <th class=\"col_heading level0 col8\" >lease_time</th>        <th class=\"col_heading level0 col9\" >trans_id</th>    </tr></thead><tbody>\n",
       "                <tr>\n",
       "                        <th id=\"T_516322f4_8292_11eb_b274_acde48001122level0_row0\" class=\"row_heading level0 row0\" >0</th>\n",
       "                        <td id=\"T_516322f4_8292_11eb_b274_acde48001122row0_col0\" class=\"data row0 col0\" >1424257224.537779</td>\n",
       "                        <td id=\"T_516322f4_8292_11eb_b274_acde48001122row0_col1\" class=\"data row0 col1\" >CU34Cu2zrLEPwadl52</td>\n",
       "                        <td id=\"T_516322f4_8292_11eb_b274_acde48001122row0_col2\" class=\"data row0 col2\" >32.237.194.136</td>\n",
       "                        <td id=\"T_516322f4_8292_11eb_b274_acde48001122row0_col3\" class=\"data row0 col3\" >68</td>\n",
       "                        <td id=\"T_516322f4_8292_11eb_b274_acde48001122row0_col4\" class=\"data row0 col4\" >185.201.128.181</td>\n",
       "                        <td id=\"T_516322f4_8292_11eb_b274_acde48001122row0_col5\" class=\"data row0 col5\" >67</td>\n",
       "                        <td id=\"T_516322f4_8292_11eb_b274_acde48001122row0_col6\" class=\"data row0 col6\" >0</td>\n",
       "                        <td id=\"T_516322f4_8292_11eb_b274_acde48001122row0_col7\" class=\"data row0 col7\" >32.237.194.136</td>\n",
       "                        <td id=\"T_516322f4_8292_11eb_b274_acde48001122row0_col8\" class=\"data row0 col8\" >1879.000000</td>\n",
       "                        <td id=\"T_516322f4_8292_11eb_b274_acde48001122row0_col9\" class=\"data row0 col9\" >4288085767</td>\n",
       "            </tr>\n",
       "    </tbody></table>"
      ],
      "text/plain": [
       "<pandas.io.formats.style.Styler at 0x1260f12e0>"
      ]
     },
     "metadata": {},
     "output_type": "display_data"
    },
    {
     "name": "stdout",
     "output_type": "stream",
     "text": [
      "dns.log\n"
     ]
    },
    {
     "data": {
      "text/html": [
       "<style  type=\"text/css\" >\n",
       "#T_51697e56_8292_11eb_b274_acde48001122row0_col2,#T_51697e56_8292_11eb_b274_acde48001122row0_col4,#T_51697e56_8292_11eb_b274_acde48001122row0_col8,#T_51697e56_8292_11eb_b274_acde48001122row0_col20{\n",
       "            background-color:  red;\n",
       "        }</style><table id=\"T_51697e56_8292_11eb_b274_acde48001122\" ><thead>    <tr>        <th class=\"blank level0\" ></th>        <th class=\"col_heading level0 col0\" >ts</th>        <th class=\"col_heading level0 col1\" >uid</th>        <th class=\"col_heading level0 col2\" >id.orig_h</th>        <th class=\"col_heading level0 col3\" >id.orig_p</th>        <th class=\"col_heading level0 col4\" >id.resp_h</th>        <th class=\"col_heading level0 col5\" >id.resp_p</th>        <th class=\"col_heading level0 col6\" >proto</th>        <th class=\"col_heading level0 col7\" >trans_id</th>        <th class=\"col_heading level0 col8\" >query</th>        <th class=\"col_heading level0 col9\" >qclass</th>        <th class=\"col_heading level0 col10\" >qclass_name</th>        <th class=\"col_heading level0 col11\" >qtype</th>        <th class=\"col_heading level0 col12\" >qtype_name</th>        <th class=\"col_heading level0 col13\" >rcode</th>        <th class=\"col_heading level0 col14\" >rcode_name</th>        <th class=\"col_heading level0 col15\" >AA</th>        <th class=\"col_heading level0 col16\" >TC</th>        <th class=\"col_heading level0 col17\" >RD</th>        <th class=\"col_heading level0 col18\" >RA</th>        <th class=\"col_heading level0 col19\" >Z</th>        <th class=\"col_heading level0 col20\" >answers</th>        <th class=\"col_heading level0 col21\" >TTLs</th>        <th class=\"col_heading level0 col22\" >rejected</th>    </tr></thead><tbody>\n",
       "                <tr>\n",
       "                        <th id=\"T_51697e56_8292_11eb_b274_acde48001122level0_row0\" class=\"row_heading level0 row0\" >0</th>\n",
       "                        <td id=\"T_51697e56_8292_11eb_b274_acde48001122row0_col0\" class=\"data row0 col0\" >1424256988.447831</td>\n",
       "                        <td id=\"T_51697e56_8292_11eb_b274_acde48001122row0_col1\" class=\"data row0 col1\" >CcCQqj3E6KlwtFnRja</td>\n",
       "                        <td id=\"T_51697e56_8292_11eb_b274_acde48001122row0_col2\" class=\"data row0 col2\" >192.194.119.89</td>\n",
       "                        <td id=\"T_51697e56_8292_11eb_b274_acde48001122row0_col3\" class=\"data row0 col3\" >7745</td>\n",
       "                        <td id=\"T_51697e56_8292_11eb_b274_acde48001122row0_col4\" class=\"data row0 col4\" >185.201.128.95</td>\n",
       "                        <td id=\"T_51697e56_8292_11eb_b274_acde48001122row0_col5\" class=\"data row0 col5\" >53</td>\n",
       "                        <td id=\"T_51697e56_8292_11eb_b274_acde48001122row0_col6\" class=\"data row0 col6\" >udp</td>\n",
       "                        <td id=\"T_51697e56_8292_11eb_b274_acde48001122row0_col7\" class=\"data row0 col7\" >48100</td>\n",
       "                        <td id=\"T_51697e56_8292_11eb_b274_acde48001122row0_col8\" class=\"data row0 col8\" >24</td>\n",
       "                        <td id=\"T_51697e56_8292_11eb_b274_acde48001122row0_col9\" class=\"data row0 col9\" >1.000000</td>\n",
       "                        <td id=\"T_51697e56_8292_11eb_b274_acde48001122row0_col10\" class=\"data row0 col10\" >C_INTERNET</td>\n",
       "                        <td id=\"T_51697e56_8292_11eb_b274_acde48001122row0_col11\" class=\"data row0 col11\" >1.000000</td>\n",
       "                        <td id=\"T_51697e56_8292_11eb_b274_acde48001122row0_col12\" class=\"data row0 col12\" >A</td>\n",
       "                        <td id=\"T_51697e56_8292_11eb_b274_acde48001122row0_col13\" class=\"data row0 col13\" >0.000000</td>\n",
       "                        <td id=\"T_51697e56_8292_11eb_b274_acde48001122row0_col14\" class=\"data row0 col14\" >NOERROR</td>\n",
       "                        <td id=\"T_51697e56_8292_11eb_b274_acde48001122row0_col15\" class=\"data row0 col15\" >F</td>\n",
       "                        <td id=\"T_51697e56_8292_11eb_b274_acde48001122row0_col16\" class=\"data row0 col16\" >F</td>\n",
       "                        <td id=\"T_51697e56_8292_11eb_b274_acde48001122row0_col17\" class=\"data row0 col17\" >T</td>\n",
       "                        <td id=\"T_51697e56_8292_11eb_b274_acde48001122row0_col18\" class=\"data row0 col18\" >T</td>\n",
       "                        <td id=\"T_51697e56_8292_11eb_b274_acde48001122row0_col19\" class=\"data row0 col19\" >0</td>\n",
       "                        <td id=\"T_51697e56_8292_11eb_b274_acde48001122row0_col20\" class=\"data row0 col20\" >185.201.128.177</td>\n",
       "                        <td id=\"T_51697e56_8292_11eb_b274_acde48001122row0_col21\" class=\"data row0 col21\" >60.000000</td>\n",
       "                        <td id=\"T_51697e56_8292_11eb_b274_acde48001122row0_col22\" class=\"data row0 col22\" >F</td>\n",
       "            </tr>\n",
       "    </tbody></table>"
      ],
      "text/plain": [
       "<pandas.io.formats.style.Styler at 0x1240ef6a0>"
      ]
     },
     "metadata": {},
     "output_type": "display_data"
    },
    {
     "name": "stdout",
     "output_type": "stream",
     "text": [
      "dpd.log\n"
     ]
    },
    {
     "data": {
      "text/html": [
       "<style  type=\"text/css\" >\n",
       "#T_516b8eee_8292_11eb_b274_acde48001122row0_col2,#T_516b8eee_8292_11eb_b274_acde48001122row0_col4{\n",
       "            background-color:  red;\n",
       "        }</style><table id=\"T_516b8eee_8292_11eb_b274_acde48001122\" ><thead>    <tr>        <th class=\"blank level0\" ></th>        <th class=\"col_heading level0 col0\" >ts</th>        <th class=\"col_heading level0 col1\" >uid</th>        <th class=\"col_heading level0 col2\" >id.orig_h</th>        <th class=\"col_heading level0 col3\" >id.orig_p</th>        <th class=\"col_heading level0 col4\" >id.resp_h</th>        <th class=\"col_heading level0 col5\" >id.resp_p</th>        <th class=\"col_heading level0 col6\" >proto</th>        <th class=\"col_heading level0 col7\" >analyzer</th>        <th class=\"col_heading level0 col8\" >failure_reason</th>    </tr></thead><tbody>\n",
       "                <tr>\n",
       "                        <th id=\"T_516b8eee_8292_11eb_b274_acde48001122level0_row0\" class=\"row_heading level0 row0\" >0</th>\n",
       "                        <td id=\"T_516b8eee_8292_11eb_b274_acde48001122row0_col0\" class=\"data row0 col0\" >1424257073.512632</td>\n",
       "                        <td id=\"T_516b8eee_8292_11eb_b274_acde48001122row0_col1\" class=\"data row0 col1\" >CgvWyM1wBPRuu6ULUe</td>\n",
       "                        <td id=\"T_516b8eee_8292_11eb_b274_acde48001122row0_col2\" class=\"data row0 col2\" >32.237.194.95</td>\n",
       "                        <td id=\"T_516b8eee_8292_11eb_b274_acde48001122row0_col3\" class=\"data row0 col3\" >64558</td>\n",
       "                        <td id=\"T_516b8eee_8292_11eb_b274_acde48001122row0_col4\" class=\"data row0 col4\" >185.201.128.112</td>\n",
       "                        <td id=\"T_516b8eee_8292_11eb_b274_acde48001122row0_col5\" class=\"data row0 col5\" >80</td>\n",
       "                        <td id=\"T_516b8eee_8292_11eb_b274_acde48001122row0_col6\" class=\"data row0 col6\" >tcp</td>\n",
       "                        <td id=\"T_516b8eee_8292_11eb_b274_acde48001122row0_col7\" class=\"data row0 col7\" >HTTP</td>\n",
       "                        <td id=\"T_516b8eee_8292_11eb_b274_acde48001122row0_col8\" class=\"data row0 col8\" >not a http reply line</td>\n",
       "            </tr>\n",
       "    </tbody></table>"
      ],
      "text/plain": [
       "<pandas.io.formats.style.Styler at 0x1260ef430>"
      ]
     },
     "metadata": {},
     "output_type": "display_data"
    },
    {
     "name": "stdout",
     "output_type": "stream",
     "text": [
      "files.log\n"
     ]
    },
    {
     "data": {
      "text/html": [
       "<style  type=\"text/css\" >\n",
       "#T_5170848a_8292_11eb_b274_acde48001122row0_col2,#T_5170848a_8292_11eb_b274_acde48001122row0_col3,#T_5170848a_8292_11eb_b274_acde48001122row0_col9,#T_5170848a_8292_11eb_b274_acde48001122row0_col19,#T_5170848a_8292_11eb_b274_acde48001122row0_col20,#T_5170848a_8292_11eb_b274_acde48001122row0_col21{\n",
       "            background-color:  red;\n",
       "        }</style><table id=\"T_5170848a_8292_11eb_b274_acde48001122\" ><thead>    <tr>        <th class=\"blank level0\" ></th>        <th class=\"col_heading level0 col0\" >ts</th>        <th class=\"col_heading level0 col1\" >fuid</th>        <th class=\"col_heading level0 col2\" >tx_hosts</th>        <th class=\"col_heading level0 col3\" >rx_hosts</th>        <th class=\"col_heading level0 col4\" >conn_uids</th>        <th class=\"col_heading level0 col5\" >source</th>        <th class=\"col_heading level0 col6\" >depth</th>        <th class=\"col_heading level0 col7\" >analyzers</th>        <th class=\"col_heading level0 col8\" >mime_type</th>        <th class=\"col_heading level0 col9\" >filename</th>        <th class=\"col_heading level0 col10\" >duration</th>        <th class=\"col_heading level0 col11\" >local_orig</th>        <th class=\"col_heading level0 col12\" >is_orig</th>        <th class=\"col_heading level0 col13\" >seen_bytes</th>        <th class=\"col_heading level0 col14\" >total_bytes</th>        <th class=\"col_heading level0 col15\" >missing_bytes</th>        <th class=\"col_heading level0 col16\" >overflow_bytes</th>        <th class=\"col_heading level0 col17\" >timedout</th>        <th class=\"col_heading level0 col18\" >parent_fuid</th>        <th class=\"col_heading level0 col19\" >md5</th>        <th class=\"col_heading level0 col20\" >sha1</th>        <th class=\"col_heading level0 col21\" >sha256</th>        <th class=\"col_heading level0 col22\" >extracted</th>    </tr></thead><tbody>\n",
       "                <tr>\n",
       "                        <th id=\"T_5170848a_8292_11eb_b274_acde48001122level0_row0\" class=\"row_heading level0 row0\" >0</th>\n",
       "                        <td id=\"T_5170848a_8292_11eb_b274_acde48001122row0_col0\" class=\"data row0 col0\" >1424256989.355818</td>\n",
       "                        <td id=\"T_5170848a_8292_11eb_b274_acde48001122row0_col1\" class=\"data row0 col1\" >F1YVMA4nWYBEIQkbDd</td>\n",
       "                        <td id=\"T_5170848a_8292_11eb_b274_acde48001122row0_col2\" class=\"data row0 col2\" >0</td>\n",
       "                        <td id=\"T_5170848a_8292_11eb_b274_acde48001122row0_col3\" class=\"data row0 col3\" >26</td>\n",
       "                        <td id=\"T_5170848a_8292_11eb_b274_acde48001122row0_col4\" class=\"data row0 col4\" >C9zC0k1eMFe6n5INSd</td>\n",
       "                        <td id=\"T_5170848a_8292_11eb_b274_acde48001122row0_col5\" class=\"data row0 col5\" >SMTP</td>\n",
       "                        <td id=\"T_5170848a_8292_11eb_b274_acde48001122row0_col6\" class=\"data row0 col6\" >2</td>\n",
       "                        <td id=\"T_5170848a_8292_11eb_b274_acde48001122row0_col7\" class=\"data row0 col7\" >(empty)</td>\n",
       "                        <td id=\"T_5170848a_8292_11eb_b274_acde48001122row0_col8\" class=\"data row0 col8\" >text/plain</td>\n",
       "                        <td id=\"T_5170848a_8292_11eb_b274_acde48001122row0_col9\" class=\"data row0 col9\" >0</td>\n",
       "                        <td id=\"T_5170848a_8292_11eb_b274_acde48001122row0_col10\" class=\"data row0 col10\" >0.000000</td>\n",
       "                        <td id=\"T_5170848a_8292_11eb_b274_acde48001122row0_col11\" class=\"data row0 col11\" >-</td>\n",
       "                        <td id=\"T_5170848a_8292_11eb_b274_acde48001122row0_col12\" class=\"data row0 col12\" >F</td>\n",
       "                        <td id=\"T_5170848a_8292_11eb_b274_acde48001122row0_col13\" class=\"data row0 col13\" >298</td>\n",
       "                        <td id=\"T_5170848a_8292_11eb_b274_acde48001122row0_col14\" class=\"data row0 col14\" >nan</td>\n",
       "                        <td id=\"T_5170848a_8292_11eb_b274_acde48001122row0_col15\" class=\"data row0 col15\" >0</td>\n",
       "                        <td id=\"T_5170848a_8292_11eb_b274_acde48001122row0_col16\" class=\"data row0 col16\" >0</td>\n",
       "                        <td id=\"T_5170848a_8292_11eb_b274_acde48001122row0_col17\" class=\"data row0 col17\" >F</td>\n",
       "                        <td id=\"T_5170848a_8292_11eb_b274_acde48001122row0_col18\" class=\"data row0 col18\" >-</td>\n",
       "                        <td id=\"T_5170848a_8292_11eb_b274_acde48001122row0_col19\" class=\"data row0 col19\" >0</td>\n",
       "                        <td id=\"T_5170848a_8292_11eb_b274_acde48001122row0_col20\" class=\"data row0 col20\" >0</td>\n",
       "                        <td id=\"T_5170848a_8292_11eb_b274_acde48001122row0_col21\" class=\"data row0 col21\" >0</td>\n",
       "                        <td id=\"T_5170848a_8292_11eb_b274_acde48001122row0_col22\" class=\"data row0 col22\" >-</td>\n",
       "            </tr>\n",
       "    </tbody></table>"
      ],
      "text/plain": [
       "<pandas.io.formats.style.Styler at 0x1241ebdc0>"
      ]
     },
     "metadata": {},
     "output_type": "display_data"
    },
    {
     "name": "stdout",
     "output_type": "stream",
     "text": [
      "ftp.log\n"
     ]
    },
    {
     "data": {
      "text/html": [
       "<style  type=\"text/css\" >\n",
       "#T_51756b08_8292_11eb_b274_acde48001122row0_col2,#T_51756b08_8292_11eb_b274_acde48001122row0_col4,#T_51756b08_8292_11eb_b274_acde48001122row0_col6,#T_51756b08_8292_11eb_b274_acde48001122row0_col7,#T_51756b08_8292_11eb_b274_acde48001122row0_col9,#T_51756b08_8292_11eb_b274_acde48001122row0_col15,#T_51756b08_8292_11eb_b274_acde48001122row0_col16{\n",
       "            background-color:  red;\n",
       "        }</style><table id=\"T_51756b08_8292_11eb_b274_acde48001122\" ><thead>    <tr>        <th class=\"blank level0\" ></th>        <th class=\"col_heading level0 col0\" >ts</th>        <th class=\"col_heading level0 col1\" >uid</th>        <th class=\"col_heading level0 col2\" >id.orig_h</th>        <th class=\"col_heading level0 col3\" >id.orig_p</th>        <th class=\"col_heading level0 col4\" >id.resp_h</th>        <th class=\"col_heading level0 col5\" >id.resp_p</th>        <th class=\"col_heading level0 col6\" >user</th>        <th class=\"col_heading level0 col7\" >password</th>        <th class=\"col_heading level0 col8\" >command</th>        <th class=\"col_heading level0 col9\" >arg</th>        <th class=\"col_heading level0 col10\" >mime_type</th>        <th class=\"col_heading level0 col11\" >file_size</th>        <th class=\"col_heading level0 col12\" >reply_code</th>        <th class=\"col_heading level0 col13\" >reply_msg</th>        <th class=\"col_heading level0 col14\" >data_channel.passive</th>        <th class=\"col_heading level0 col15\" >data_channel.orig_h</th>        <th class=\"col_heading level0 col16\" >data_channel.resp_h</th>        <th class=\"col_heading level0 col17\" >data_channel.resp_p</th>        <th class=\"col_heading level0 col18\" >fuid</th>    </tr></thead><tbody>\n",
       "                <tr>\n",
       "                        <th id=\"T_51756b08_8292_11eb_b274_acde48001122level0_row0\" class=\"row_heading level0 row0\" >0</th>\n",
       "                        <td id=\"T_51756b08_8292_11eb_b274_acde48001122row0_col0\" class=\"data row0 col0\" >1424256989.952859</td>\n",
       "                        <td id=\"T_51756b08_8292_11eb_b274_acde48001122row0_col1\" class=\"data row0 col1\" >CsfksnMVMnOYhPiB7</td>\n",
       "                        <td id=\"T_51756b08_8292_11eb_b274_acde48001122row0_col2\" class=\"data row0 col2\" >192.194.119.139</td>\n",
       "                        <td id=\"T_51756b08_8292_11eb_b274_acde48001122row0_col3\" class=\"data row0 col3\" >5146</td>\n",
       "                        <td id=\"T_51756b08_8292_11eb_b274_acde48001122row0_col4\" class=\"data row0 col4\" >185.201.128.136</td>\n",
       "                        <td id=\"T_51756b08_8292_11eb_b274_acde48001122row0_col5\" class=\"data row0 col5\" >21</td>\n",
       "                        <td id=\"T_51756b08_8292_11eb_b274_acde48001122row0_col6\" class=\"data row0 col6\" >1</td>\n",
       "                        <td id=\"T_51756b08_8292_11eb_b274_acde48001122row0_col7\" class=\"data row0 col7\" >2</td>\n",
       "                        <td id=\"T_51756b08_8292_11eb_b274_acde48001122row0_col8\" class=\"data row0 col8\" >EPSV</td>\n",
       "                        <td id=\"T_51756b08_8292_11eb_b274_acde48001122row0_col9\" class=\"data row0 col9\" >0</td>\n",
       "                        <td id=\"T_51756b08_8292_11eb_b274_acde48001122row0_col10\" class=\"data row0 col10\" >-</td>\n",
       "                        <td id=\"T_51756b08_8292_11eb_b274_acde48001122row0_col11\" class=\"data row0 col11\" >nan</td>\n",
       "                        <td id=\"T_51756b08_8292_11eb_b274_acde48001122row0_col12\" class=\"data row0 col12\" >229</td>\n",
       "                        <td id=\"T_51756b08_8292_11eb_b274_acde48001122row0_col13\" class=\"data row0 col13\" >Extended Passive Mode OK (|||24196|)</td>\n",
       "                        <td id=\"T_51756b08_8292_11eb_b274_acde48001122row0_col14\" class=\"data row0 col14\" >T</td>\n",
       "                        <td id=\"T_51756b08_8292_11eb_b274_acde48001122row0_col15\" class=\"data row0 col15\" >192.194.119.139</td>\n",
       "                        <td id=\"T_51756b08_8292_11eb_b274_acde48001122row0_col16\" class=\"data row0 col16\" >185.201.128.136</td>\n",
       "                        <td id=\"T_51756b08_8292_11eb_b274_acde48001122row0_col17\" class=\"data row0 col17\" >24196.000000</td>\n",
       "                        <td id=\"T_51756b08_8292_11eb_b274_acde48001122row0_col18\" class=\"data row0 col18\" >-</td>\n",
       "            </tr>\n",
       "    </tbody></table>"
      ],
      "text/plain": [
       "<pandas.io.formats.style.Styler at 0x1260e9af0>"
      ]
     },
     "metadata": {},
     "output_type": "display_data"
    },
    {
     "name": "stdout",
     "output_type": "stream",
     "text": [
      "http.log\n"
     ]
    },
    {
     "data": {
      "text/html": [
       "<style  type=\"text/css\" >\n",
       "#T_517ab9dc_8292_11eb_b274_acde48001122row0_col2,#T_517ab9dc_8292_11eb_b274_acde48001122row0_col4,#T_517ab9dc_8292_11eb_b274_acde48001122row0_col8,#T_517ab9dc_8292_11eb_b274_acde48001122row0_col9,#T_517ab9dc_8292_11eb_b274_acde48001122row0_col18,#T_517ab9dc_8292_11eb_b274_acde48001122row0_col20,#T_517ab9dc_8292_11eb_b274_acde48001122row0_col21{\n",
       "            background-color:  red;\n",
       "        }</style><table id=\"T_517ab9dc_8292_11eb_b274_acde48001122\" ><thead>    <tr>        <th class=\"blank level0\" ></th>        <th class=\"col_heading level0 col0\" >ts</th>        <th class=\"col_heading level0 col1\" >uid</th>        <th class=\"col_heading level0 col2\" >id.orig_h</th>        <th class=\"col_heading level0 col3\" >id.orig_p</th>        <th class=\"col_heading level0 col4\" >id.resp_h</th>        <th class=\"col_heading level0 col5\" >id.resp_p</th>        <th class=\"col_heading level0 col6\" >trans_depth</th>        <th class=\"col_heading level0 col7\" >method</th>        <th class=\"col_heading level0 col8\" >host</th>        <th class=\"col_heading level0 col9\" >uri</th>        <th class=\"col_heading level0 col10\" >referrer</th>        <th class=\"col_heading level0 col11\" >user_agent</th>        <th class=\"col_heading level0 col12\" >request_body_len</th>        <th class=\"col_heading level0 col13\" >response_body_len</th>        <th class=\"col_heading level0 col14\" >status_code</th>        <th class=\"col_heading level0 col15\" >status_msg</th>        <th class=\"col_heading level0 col16\" >info_code</th>        <th class=\"col_heading level0 col17\" >info_msg</th>        <th class=\"col_heading level0 col18\" >filename</th>        <th class=\"col_heading level0 col19\" >tags</th>        <th class=\"col_heading level0 col20\" >username</th>        <th class=\"col_heading level0 col21\" >password</th>        <th class=\"col_heading level0 col22\" >proxied</th>        <th class=\"col_heading level0 col23\" >orig_fuids</th>        <th class=\"col_heading level0 col24\" >orig_mime_types</th>        <th class=\"col_heading level0 col25\" >resp_fuids</th>        <th class=\"col_heading level0 col26\" >resp_mime_types</th>    </tr></thead><tbody>\n",
       "                <tr>\n",
       "                        <th id=\"T_517ab9dc_8292_11eb_b274_acde48001122level0_row0\" class=\"row_heading level0 row0\" >0</th>\n",
       "                        <td id=\"T_517ab9dc_8292_11eb_b274_acde48001122row0_col0\" class=\"data row0 col0\" >1424256990.350022</td>\n",
       "                        <td id=\"T_517ab9dc_8292_11eb_b274_acde48001122row0_col1\" class=\"data row0 col1\" >CwgILB4FJZI9P9o4z1</td>\n",
       "                        <td id=\"T_517ab9dc_8292_11eb_b274_acde48001122row0_col2\" class=\"data row0 col2\" >192.194.119.180</td>\n",
       "                        <td id=\"T_517ab9dc_8292_11eb_b274_acde48001122row0_col3\" class=\"data row0 col3\" >41195</td>\n",
       "                        <td id=\"T_517ab9dc_8292_11eb_b274_acde48001122row0_col4\" class=\"data row0 col4\" >185.201.128.180</td>\n",
       "                        <td id=\"T_517ab9dc_8292_11eb_b274_acde48001122row0_col5\" class=\"data row0 col5\" >80</td>\n",
       "                        <td id=\"T_517ab9dc_8292_11eb_b274_acde48001122row0_col6\" class=\"data row0 col6\" >1</td>\n",
       "                        <td id=\"T_517ab9dc_8292_11eb_b274_acde48001122row0_col7\" class=\"data row0 col7\" >GET</td>\n",
       "                        <td id=\"T_517ab9dc_8292_11eb_b274_acde48001122row0_col8\" class=\"data row0 col8\" >251</td>\n",
       "                        <td id=\"T_517ab9dc_8292_11eb_b274_acde48001122row0_col9\" class=\"data row0 col9\" >216</td>\n",
       "                        <td id=\"T_517ab9dc_8292_11eb_b274_acde48001122row0_col10\" class=\"data row0 col10\" >-</td>\n",
       "                        <td id=\"T_517ab9dc_8292_11eb_b274_acde48001122row0_col11\" class=\"data row0 col11\" >-</td>\n",
       "                        <td id=\"T_517ab9dc_8292_11eb_b274_acde48001122row0_col12\" class=\"data row0 col12\" >0</td>\n",
       "                        <td id=\"T_517ab9dc_8292_11eb_b274_acde48001122row0_col13\" class=\"data row0 col13\" >83</td>\n",
       "                        <td id=\"T_517ab9dc_8292_11eb_b274_acde48001122row0_col14\" class=\"data row0 col14\" >200.000000</td>\n",
       "                        <td id=\"T_517ab9dc_8292_11eb_b274_acde48001122row0_col15\" class=\"data row0 col15\" >OK</td>\n",
       "                        <td id=\"T_517ab9dc_8292_11eb_b274_acde48001122row0_col16\" class=\"data row0 col16\" >nan</td>\n",
       "                        <td id=\"T_517ab9dc_8292_11eb_b274_acde48001122row0_col17\" class=\"data row0 col17\" >-</td>\n",
       "                        <td id=\"T_517ab9dc_8292_11eb_b274_acde48001122row0_col18\" class=\"data row0 col18\" >0</td>\n",
       "                        <td id=\"T_517ab9dc_8292_11eb_b274_acde48001122row0_col19\" class=\"data row0 col19\" >(empty)</td>\n",
       "                        <td id=\"T_517ab9dc_8292_11eb_b274_acde48001122row0_col20\" class=\"data row0 col20\" >0</td>\n",
       "                        <td id=\"T_517ab9dc_8292_11eb_b274_acde48001122row0_col21\" class=\"data row0 col21\" >0</td>\n",
       "                        <td id=\"T_517ab9dc_8292_11eb_b274_acde48001122row0_col22\" class=\"data row0 col22\" >-</td>\n",
       "                        <td id=\"T_517ab9dc_8292_11eb_b274_acde48001122row0_col23\" class=\"data row0 col23\" >-</td>\n",
       "                        <td id=\"T_517ab9dc_8292_11eb_b274_acde48001122row0_col24\" class=\"data row0 col24\" >-</td>\n",
       "                        <td id=\"T_517ab9dc_8292_11eb_b274_acde48001122row0_col25\" class=\"data row0 col25\" >FdHIAGPzf33uaIXE9</td>\n",
       "                        <td id=\"T_517ab9dc_8292_11eb_b274_acde48001122row0_col26\" class=\"data row0 col26\" >text/plain</td>\n",
       "            </tr>\n",
       "    </tbody></table>"
      ],
      "text/plain": [
       "<pandas.io.formats.style.Styler at 0x1260f1e20>"
      ]
     },
     "metadata": {},
     "output_type": "display_data"
    },
    {
     "name": "stdout",
     "output_type": "stream",
     "text": [
      "irc.log\n"
     ]
    },
    {
     "data": {
      "text/html": [
       "<style  type=\"text/css\" >\n",
       "#T_517df0ac_8292_11eb_b274_acde48001122row0_col2,#T_517df0ac_8292_11eb_b274_acde48001122row0_col4,#T_517df0ac_8292_11eb_b274_acde48001122row0_col7{\n",
       "            background-color:  red;\n",
       "        }</style><table id=\"T_517df0ac_8292_11eb_b274_acde48001122\" ><thead>    <tr>        <th class=\"blank level0\" ></th>        <th class=\"col_heading level0 col0\" >ts</th>        <th class=\"col_heading level0 col1\" >uid</th>        <th class=\"col_heading level0 col2\" >id.orig_h</th>        <th class=\"col_heading level0 col3\" >id.orig_p</th>        <th class=\"col_heading level0 col4\" >id.resp_h</th>        <th class=\"col_heading level0 col5\" >id.resp_p</th>        <th class=\"col_heading level0 col6\" >nick</th>        <th class=\"col_heading level0 col7\" >user</th>        <th class=\"col_heading level0 col8\" >command</th>        <th class=\"col_heading level0 col9\" >value</th>        <th class=\"col_heading level0 col10\" >addl</th>        <th class=\"col_heading level0 col11\" >dcc_file_name</th>        <th class=\"col_heading level0 col12\" >dcc_file_size</th>        <th class=\"col_heading level0 col13\" >dcc_mime_type</th>        <th class=\"col_heading level0 col14\" >fuid</th>    </tr></thead><tbody>\n",
       "                <tr>\n",
       "                        <th id=\"T_517df0ac_8292_11eb_b274_acde48001122level0_row0\" class=\"row_heading level0 row0\" >0</th>\n",
       "                        <td id=\"T_517df0ac_8292_11eb_b274_acde48001122row0_col0\" class=\"data row0 col0\" >1424256999.141962</td>\n",
       "                        <td id=\"T_517df0ac_8292_11eb_b274_acde48001122row0_col1\" class=\"data row0 col1\" >CTF2G91mpfymYtsHWk</td>\n",
       "                        <td id=\"T_517df0ac_8292_11eb_b274_acde48001122row0_col2\" class=\"data row0 col2\" >32.237.194.180</td>\n",
       "                        <td id=\"T_517df0ac_8292_11eb_b274_acde48001122row0_col3\" class=\"data row0 col3\" >60007</td>\n",
       "                        <td id=\"T_517df0ac_8292_11eb_b274_acde48001122row0_col4\" class=\"data row0 col4\" >185.201.128.110</td>\n",
       "                        <td id=\"T_517df0ac_8292_11eb_b274_acde48001122row0_col5\" class=\"data row0 col5\" >6667</td>\n",
       "                        <td id=\"T_517df0ac_8292_11eb_b274_acde48001122row0_col6\" class=\"data row0 col6\" >-</td>\n",
       "                        <td id=\"T_517df0ac_8292_11eb_b274_acde48001122row0_col7\" class=\"data row0 col7\" >0</td>\n",
       "                        <td id=\"T_517df0ac_8292_11eb_b274_acde48001122row0_col8\" class=\"data row0 col8\" >USER</td>\n",
       "                        <td id=\"T_517df0ac_8292_11eb_b274_acde48001122row0_col9\" class=\"data row0 col9\" >anonym</td>\n",
       "                        <td id=\"T_517df0ac_8292_11eb_b274_acde48001122row0_col10\" class=\"data row0 col10\" >fbJnFHnHq 149.171.126.17 Anonym</td>\n",
       "                        <td id=\"T_517df0ac_8292_11eb_b274_acde48001122row0_col11\" class=\"data row0 col11\" >-</td>\n",
       "                        <td id=\"T_517df0ac_8292_11eb_b274_acde48001122row0_col12\" class=\"data row0 col12\" >nan</td>\n",
       "                        <td id=\"T_517df0ac_8292_11eb_b274_acde48001122row0_col13\" class=\"data row0 col13\" >-</td>\n",
       "                        <td id=\"T_517df0ac_8292_11eb_b274_acde48001122row0_col14\" class=\"data row0 col14\" >-</td>\n",
       "            </tr>\n",
       "    </tbody></table>"
      ],
      "text/plain": [
       "<pandas.io.formats.style.Styler at 0x125c60910>"
      ]
     },
     "metadata": {},
     "output_type": "display_data"
    },
    {
     "name": "stdout",
     "output_type": "stream",
     "text": [
      "packet_filter.log\n"
     ]
    },
    {
     "data": {
      "text/html": [
       "<style  type=\"text/css\" >\n",
       "</style><table id=\"T_517f2792_8292_11eb_b274_acde48001122\" ><thead>    <tr>        <th class=\"blank level0\" ></th>        <th class=\"col_heading level0 col0\" >ts</th>        <th class=\"col_heading level0 col1\" >node</th>        <th class=\"col_heading level0 col2\" >filter</th>        <th class=\"col_heading level0 col3\" >init</th>        <th class=\"col_heading level0 col4\" >success</th>    </tr></thead><tbody>\n",
       "                <tr>\n",
       "                        <th id=\"T_517f2792_8292_11eb_b274_acde48001122level0_row0\" class=\"row_heading level0 row0\" >0</th>\n",
       "                        <td id=\"T_517f2792_8292_11eb_b274_acde48001122row0_col0\" class=\"data row0 col0\" >1424429070.727596</td>\n",
       "                        <td id=\"T_517f2792_8292_11eb_b274_acde48001122row0_col1\" class=\"data row0 col1\" >bro</td>\n",
       "                        <td id=\"T_517f2792_8292_11eb_b274_acde48001122row0_col2\" class=\"data row0 col2\" >ip or not ip</td>\n",
       "                        <td id=\"T_517f2792_8292_11eb_b274_acde48001122row0_col3\" class=\"data row0 col3\" >T</td>\n",
       "                        <td id=\"T_517f2792_8292_11eb_b274_acde48001122row0_col4\" class=\"data row0 col4\" >T</td>\n",
       "            </tr>\n",
       "    </tbody></table>"
      ],
      "text/plain": [
       "<pandas.io.formats.style.Styler at 0x12471c4c0>"
      ]
     },
     "metadata": {},
     "output_type": "display_data"
    },
    {
     "name": "stdout",
     "output_type": "stream",
     "text": [
      "smtp.log\n"
     ]
    },
    {
     "data": {
      "text/html": [
       "<style  type=\"text/css\" >\n",
       "#T_5184b9e6_8292_11eb_b274_acde48001122row0_col2,#T_5184b9e6_8292_11eb_b274_acde48001122row0_col4,#T_5184b9e6_8292_11eb_b274_acde48001122row0_col7,#T_5184b9e6_8292_11eb_b274_acde48001122row0_col8,#T_5184b9e6_8292_11eb_b274_acde48001122row0_col9,#T_5184b9e6_8292_11eb_b274_acde48001122row0_col10,#T_5184b9e6_8292_11eb_b274_acde48001122row0_col11,#T_5184b9e6_8292_11eb_b274_acde48001122row0_col12,#T_5184b9e6_8292_11eb_b274_acde48001122row0_col13,#T_5184b9e6_8292_11eb_b274_acde48001122row0_col14,#T_5184b9e6_8292_11eb_b274_acde48001122row0_col15,#T_5184b9e6_8292_11eb_b274_acde48001122row0_col16{\n",
       "            background-color:  red;\n",
       "        }</style><table id=\"T_5184b9e6_8292_11eb_b274_acde48001122\" ><thead>    <tr>        <th class=\"blank level0\" ></th>        <th class=\"col_heading level0 col0\" >ts</th>        <th class=\"col_heading level0 col1\" >uid</th>        <th class=\"col_heading level0 col2\" >id.orig_h</th>        <th class=\"col_heading level0 col3\" >id.orig_p</th>        <th class=\"col_heading level0 col4\" >id.resp_h</th>        <th class=\"col_heading level0 col5\" >id.resp_p</th>        <th class=\"col_heading level0 col6\" >trans_depth</th>        <th class=\"col_heading level0 col7\" >helo</th>        <th class=\"col_heading level0 col8\" >mailfrom</th>        <th class=\"col_heading level0 col9\" >rcptto</th>        <th class=\"col_heading level0 col10\" >date</th>        <th class=\"col_heading level0 col11\" >from</th>        <th class=\"col_heading level0 col12\" >to</th>        <th class=\"col_heading level0 col13\" >reply_to</th>        <th class=\"col_heading level0 col14\" >msg_id</th>        <th class=\"col_heading level0 col15\" >in_reply_to</th>        <th class=\"col_heading level0 col16\" >subject</th>        <th class=\"col_heading level0 col17\" >x_originating_ip</th>        <th class=\"col_heading level0 col18\" >first_received</th>        <th class=\"col_heading level0 col19\" >second_received</th>        <th class=\"col_heading level0 col20\" >last_reply</th>        <th class=\"col_heading level0 col21\" >path</th>        <th class=\"col_heading level0 col22\" >user_agent</th>        <th class=\"col_heading level0 col23\" >tls</th>        <th class=\"col_heading level0 col24\" >fuids</th>    </tr></thead><tbody>\n",
       "                <tr>\n",
       "                        <th id=\"T_5184b9e6_8292_11eb_b274_acde48001122level0_row0\" class=\"row_heading level0 row0\" >0</th>\n",
       "                        <td id=\"T_5184b9e6_8292_11eb_b274_acde48001122row0_col0\" class=\"data row0 col0\" >1424256989.350394</td>\n",
       "                        <td id=\"T_5184b9e6_8292_11eb_b274_acde48001122row0_col1\" class=\"data row0 col1\" >C9zC0k1eMFe6n5INSd</td>\n",
       "                        <td id=\"T_5184b9e6_8292_11eb_b274_acde48001122row0_col2\" class=\"data row0 col2\" >192.194.119.95</td>\n",
       "                        <td id=\"T_5184b9e6_8292_11eb_b274_acde48001122row0_col3\" class=\"data row0 col3\" >56249</td>\n",
       "                        <td id=\"T_5184b9e6_8292_11eb_b274_acde48001122row0_col4\" class=\"data row0 col4\" >185.201.128.236</td>\n",
       "                        <td id=\"T_5184b9e6_8292_11eb_b274_acde48001122row0_col5\" class=\"data row0 col5\" >25</td>\n",
       "                        <td id=\"T_5184b9e6_8292_11eb_b274_acde48001122row0_col6\" class=\"data row0 col6\" >1</td>\n",
       "                        <td id=\"T_5184b9e6_8292_11eb_b274_acde48001122row0_col7\" class=\"data row0 col7\" >105</td>\n",
       "                        <td id=\"T_5184b9e6_8292_11eb_b274_acde48001122row0_col8\" class=\"data row0 col8\" >7</td>\n",
       "                        <td id=\"T_5184b9e6_8292_11eb_b274_acde48001122row0_col9\" class=\"data row0 col9\" >5</td>\n",
       "                        <td id=\"T_5184b9e6_8292_11eb_b274_acde48001122row0_col10\" class=\"data row0 col10\" >14</td>\n",
       "                        <td id=\"T_5184b9e6_8292_11eb_b274_acde48001122row0_col11\" class=\"data row0 col11\" >5</td>\n",
       "                        <td id=\"T_5184b9e6_8292_11eb_b274_acde48001122row0_col12\" class=\"data row0 col12\" >2</td>\n",
       "                        <td id=\"T_5184b9e6_8292_11eb_b274_acde48001122row0_col13\" class=\"data row0 col13\" >0</td>\n",
       "                        <td id=\"T_5184b9e6_8292_11eb_b274_acde48001122row0_col14\" class=\"data row0 col14\" >22</td>\n",
       "                        <td id=\"T_5184b9e6_8292_11eb_b274_acde48001122row0_col15\" class=\"data row0 col15\" >0</td>\n",
       "                        <td id=\"T_5184b9e6_8292_11eb_b274_acde48001122row0_col16\" class=\"data row0 col16\" >88</td>\n",
       "                        <td id=\"T_5184b9e6_8292_11eb_b274_acde48001122row0_col17\" class=\"data row0 col17\" >-</td>\n",
       "                        <td id=\"T_5184b9e6_8292_11eb_b274_acde48001122row0_col18\" class=\"data row0 col18\" >qmail 1309 by uid 2584; Fri Feb 28 10:07:07 +1100 2014</td>\n",
       "                        <td id=\"T_5184b9e6_8292_11eb_b274_acde48001122row0_col19\" class=\"data row0 col19\" >-</td>\n",
       "                        <td id=\"T_5184b9e6_8292_11eb_b274_acde48001122row0_col20\" class=\"data row0 col20\" >250 2.6.0 <FESFSEF> Queued mail for delivery</td>\n",
       "                        <td id=\"T_5184b9e6_8292_11eb_b274_acde48001122row0_col21\" class=\"data row0 col21\" >149.171.126.0,59.166.0.2</td>\n",
       "                        <td id=\"T_5184b9e6_8292_11eb_b274_acde48001122row0_col22\" class=\"data row0 col22\" >Microsoft Outlook Express 6.00.2800.1158</td>\n",
       "                        <td id=\"T_5184b9e6_8292_11eb_b274_acde48001122row0_col23\" class=\"data row0 col23\" >F</td>\n",
       "                        <td id=\"T_5184b9e6_8292_11eb_b274_acde48001122row0_col24\" class=\"data row0 col24\" >F1YVMA4nWYBEIQkbDd,F1WlkS0yj1Py35am9</td>\n",
       "            </tr>\n",
       "    </tbody></table>"
      ],
      "text/plain": [
       "<pandas.io.formats.style.Styler at 0x1260eb7f0>"
      ]
     },
     "metadata": {},
     "output_type": "display_data"
    },
    {
     "name": "stdout",
     "output_type": "stream",
     "text": [
      "snmp.log\n"
     ]
    },
    {
     "data": {
      "text/html": [
       "<style  type=\"text/css\" >\n",
       "#T_5188d6e8_8292_11eb_b274_acde48001122row0_col2,#T_5188d6e8_8292_11eb_b274_acde48001122row0_col4{\n",
       "            background-color:  red;\n",
       "        }</style><table id=\"T_5188d6e8_8292_11eb_b274_acde48001122\" ><thead>    <tr>        <th class=\"blank level0\" ></th>        <th class=\"col_heading level0 col0\" >ts</th>        <th class=\"col_heading level0 col1\" >uid</th>        <th class=\"col_heading level0 col2\" >id.orig_h</th>        <th class=\"col_heading level0 col3\" >id.orig_p</th>        <th class=\"col_heading level0 col4\" >id.resp_h</th>        <th class=\"col_heading level0 col5\" >id.resp_p</th>        <th class=\"col_heading level0 col6\" >duration</th>        <th class=\"col_heading level0 col7\" >version</th>        <th class=\"col_heading level0 col8\" >community</th>        <th class=\"col_heading level0 col9\" >get_requests</th>        <th class=\"col_heading level0 col10\" >get_bulk_requests</th>        <th class=\"col_heading level0 col11\" >get_responses</th>        <th class=\"col_heading level0 col12\" >set_requests</th>        <th class=\"col_heading level0 col13\" >display_string</th>        <th class=\"col_heading level0 col14\" >up_since</th>    </tr></thead><tbody>\n",
       "                <tr>\n",
       "                        <th id=\"T_5188d6e8_8292_11eb_b274_acde48001122level0_row0\" class=\"row_heading level0 row0\" >0</th>\n",
       "                        <td id=\"T_5188d6e8_8292_11eb_b274_acde48001122row0_col0\" class=\"data row0 col0\" >1424257146.818946</td>\n",
       "                        <td id=\"T_5188d6e8_8292_11eb_b274_acde48001122row0_col1\" class=\"data row0 col1\" >CTYBRU1hBdyRYpDU5b</td>\n",
       "                        <td id=\"T_5188d6e8_8292_11eb_b274_acde48001122row0_col2\" class=\"data row0 col2\" >32.237.194.180</td>\n",
       "                        <td id=\"T_5188d6e8_8292_11eb_b274_acde48001122row0_col3\" class=\"data row0 col3\" >52657</td>\n",
       "                        <td id=\"T_5188d6e8_8292_11eb_b274_acde48001122row0_col4\" class=\"data row0 col4\" >185.201.128.178</td>\n",
       "                        <td id=\"T_5188d6e8_8292_11eb_b274_acde48001122row0_col5\" class=\"data row0 col5\" >161</td>\n",
       "                        <td id=\"T_5188d6e8_8292_11eb_b274_acde48001122row0_col6\" class=\"data row0 col6\" >0.000009</td>\n",
       "                        <td id=\"T_5188d6e8_8292_11eb_b274_acde48001122row0_col7\" class=\"data row0 col7\" >1</td>\n",
       "                        <td id=\"T_5188d6e8_8292_11eb_b274_acde48001122row0_col8\" class=\"data row0 col8\" >PUBLIC</td>\n",
       "                        <td id=\"T_5188d6e8_8292_11eb_b274_acde48001122row0_col9\" class=\"data row0 col9\" >2</td>\n",
       "                        <td id=\"T_5188d6e8_8292_11eb_b274_acde48001122row0_col10\" class=\"data row0 col10\" >0</td>\n",
       "                        <td id=\"T_5188d6e8_8292_11eb_b274_acde48001122row0_col11\" class=\"data row0 col11\" >0</td>\n",
       "                        <td id=\"T_5188d6e8_8292_11eb_b274_acde48001122row0_col12\" class=\"data row0 col12\" >0</td>\n",
       "                        <td id=\"T_5188d6e8_8292_11eb_b274_acde48001122row0_col13\" class=\"data row0 col13\" >-</td>\n",
       "                        <td id=\"T_5188d6e8_8292_11eb_b274_acde48001122row0_col14\" class=\"data row0 col14\" >nan</td>\n",
       "            </tr>\n",
       "    </tbody></table>"
      ],
      "text/plain": [
       "<pandas.io.formats.style.Styler at 0x1260e97f0>"
      ]
     },
     "metadata": {},
     "output_type": "display_data"
    },
    {
     "name": "stdout",
     "output_type": "stream",
     "text": [
      "ssh.log\n"
     ]
    },
    {
     "data": {
      "text/html": [
       "<style  type=\"text/css\" >\n",
       "#T_518bfabc_8292_11eb_b274_acde48001122row0_col2,#T_518bfabc_8292_11eb_b274_acde48001122row0_col4{\n",
       "            background-color:  red;\n",
       "        }</style><table id=\"T_518bfabc_8292_11eb_b274_acde48001122\" ><thead>    <tr>        <th class=\"blank level0\" ></th>        <th class=\"col_heading level0 col0\" >ts</th>        <th class=\"col_heading level0 col1\" >uid</th>        <th class=\"col_heading level0 col2\" >id.orig_h</th>        <th class=\"col_heading level0 col3\" >id.orig_p</th>        <th class=\"col_heading level0 col4\" >id.resp_h</th>        <th class=\"col_heading level0 col5\" >id.resp_p</th>        <th class=\"col_heading level0 col6\" >status</th>        <th class=\"col_heading level0 col7\" >direction</th>        <th class=\"col_heading level0 col8\" >client</th>        <th class=\"col_heading level0 col9\" >server</th>    </tr></thead><tbody>\n",
       "                <tr>\n",
       "                        <th id=\"T_518bfabc_8292_11eb_b274_acde48001122level0_row0\" class=\"row_heading level0 row0\" >0</th>\n",
       "                        <td id=\"T_518bfabc_8292_11eb_b274_acde48001122row0_col0\" class=\"data row0 col0\" >1424256988.242291</td>\n",
       "                        <td id=\"T_518bfabc_8292_11eb_b274_acde48001122row0_col1\" class=\"data row0 col1\" >ChBvzV2CEZnYgi9gaa</td>\n",
       "                        <td id=\"T_518bfabc_8292_11eb_b274_acde48001122row0_col2\" class=\"data row0 col2\" >192.194.119.236</td>\n",
       "                        <td id=\"T_518bfabc_8292_11eb_b274_acde48001122row0_col3\" class=\"data row0 col3\" >3778</td>\n",
       "                        <td id=\"T_518bfabc_8292_11eb_b274_acde48001122row0_col4\" class=\"data row0 col4\" >185.201.128.95</td>\n",
       "                        <td id=\"T_518bfabc_8292_11eb_b274_acde48001122row0_col5\" class=\"data row0 col5\" >22</td>\n",
       "                        <td id=\"T_518bfabc_8292_11eb_b274_acde48001122row0_col6\" class=\"data row0 col6\" >success</td>\n",
       "                        <td id=\"T_518bfabc_8292_11eb_b274_acde48001122row0_col7\" class=\"data row0 col7\" >INBOUND</td>\n",
       "                        <td id=\"T_518bfabc_8292_11eb_b274_acde48001122row0_col8\" class=\"data row0 col8\" >SSH-2.0-PuTTY_Release_0.60</td>\n",
       "                        <td id=\"T_518bfabc_8292_11eb_b274_acde48001122row0_col9\" class=\"data row0 col9\" >SSH-1.99-OpenSSH_4.3</td>\n",
       "            </tr>\n",
       "    </tbody></table>"
      ],
      "text/plain": [
       "<pandas.io.formats.style.Styler at 0x1260f16d0>"
      ]
     },
     "metadata": {},
     "output_type": "display_data"
    },
    {
     "name": "stdout",
     "output_type": "stream",
     "text": [
      "ssl.log\n"
     ]
    },
    {
     "data": {
      "text/html": [
       "<style  type=\"text/css\" >\n",
       "#T_518fe884_8292_11eb_b274_acde48001122row0_col2,#T_518fe884_8292_11eb_b274_acde48001122row0_col4,#T_518fe884_8292_11eb_b274_acde48001122row0_col9,#T_518fe884_8292_11eb_b274_acde48001122row0_col15,#T_518fe884_8292_11eb_b274_acde48001122row0_col16,#T_518fe884_8292_11eb_b274_acde48001122row0_col17,#T_518fe884_8292_11eb_b274_acde48001122row0_col18{\n",
       "            background-color:  red;\n",
       "        }</style><table id=\"T_518fe884_8292_11eb_b274_acde48001122\" ><thead>    <tr>        <th class=\"blank level0\" ></th>        <th class=\"col_heading level0 col0\" >ts</th>        <th class=\"col_heading level0 col1\" >uid</th>        <th class=\"col_heading level0 col2\" >id.orig_h</th>        <th class=\"col_heading level0 col3\" >id.orig_p</th>        <th class=\"col_heading level0 col4\" >id.resp_h</th>        <th class=\"col_heading level0 col5\" >id.resp_p</th>        <th class=\"col_heading level0 col6\" >version</th>        <th class=\"col_heading level0 col7\" >cipher</th>        <th class=\"col_heading level0 col8\" >curve</th>        <th class=\"col_heading level0 col9\" >server_name</th>        <th class=\"col_heading level0 col10\" >session_id</th>        <th class=\"col_heading level0 col11\" >last_alert</th>        <th class=\"col_heading level0 col12\" >established</th>        <th class=\"col_heading level0 col13\" >cert_chain_fuids</th>        <th class=\"col_heading level0 col14\" >client_cert_chain_fuids</th>        <th class=\"col_heading level0 col15\" >subject</th>        <th class=\"col_heading level0 col16\" >issuer</th>        <th class=\"col_heading level0 col17\" >client_subject</th>        <th class=\"col_heading level0 col18\" >client_issuer</th>    </tr></thead><tbody>\n",
       "                <tr>\n",
       "                        <th id=\"T_518fe884_8292_11eb_b274_acde48001122level0_row0\" class=\"row_heading level0 row0\" >0</th>\n",
       "                        <td id=\"T_518fe884_8292_11eb_b274_acde48001122row0_col0\" class=\"data row0 col0\" >1424257005.940392</td>\n",
       "                        <td id=\"T_518fe884_8292_11eb_b274_acde48001122row0_col1\" class=\"data row0 col1\" >CkIFoc3DTlsBeaFW66</td>\n",
       "                        <td id=\"T_518fe884_8292_11eb_b274_acde48001122row0_col2\" class=\"data row0 col2\" >32.237.194.180</td>\n",
       "                        <td id=\"T_518fe884_8292_11eb_b274_acde48001122row0_col3\" class=\"data row0 col3\" >17478</td>\n",
       "                        <td id=\"T_518fe884_8292_11eb_b274_acde48001122row0_col4\" class=\"data row0 col4\" >185.201.128.100</td>\n",
       "                        <td id=\"T_518fe884_8292_11eb_b274_acde48001122row0_col5\" class=\"data row0 col5\" >443</td>\n",
       "                        <td id=\"T_518fe884_8292_11eb_b274_acde48001122row0_col6\" class=\"data row0 col6\" >TLSv10</td>\n",
       "                        <td id=\"T_518fe884_8292_11eb_b274_acde48001122row0_col7\" class=\"data row0 col7\" >TLS_RSA_WITH_3DES_EDE_CBC_SHA</td>\n",
       "                        <td id=\"T_518fe884_8292_11eb_b274_acde48001122row0_col8\" class=\"data row0 col8\" >-</td>\n",
       "                        <td id=\"T_518fe884_8292_11eb_b274_acde48001122row0_col9\" class=\"data row0 col9\" >0</td>\n",
       "                        <td id=\"T_518fe884_8292_11eb_b274_acde48001122row0_col10\" class=\"data row0 col10\" >08a79d45b747f5c828da00000000000000000000000000000000000000000000</td>\n",
       "                        <td id=\"T_518fe884_8292_11eb_b274_acde48001122row0_col11\" class=\"data row0 col11\" >-</td>\n",
       "                        <td id=\"T_518fe884_8292_11eb_b274_acde48001122row0_col12\" class=\"data row0 col12\" >F</td>\n",
       "                        <td id=\"T_518fe884_8292_11eb_b274_acde48001122row0_col13\" class=\"data row0 col13\" >-</td>\n",
       "                        <td id=\"T_518fe884_8292_11eb_b274_acde48001122row0_col14\" class=\"data row0 col14\" >-</td>\n",
       "                        <td id=\"T_518fe884_8292_11eb_b274_acde48001122row0_col15\" class=\"data row0 col15\" >0</td>\n",
       "                        <td id=\"T_518fe884_8292_11eb_b274_acde48001122row0_col16\" class=\"data row0 col16\" >0</td>\n",
       "                        <td id=\"T_518fe884_8292_11eb_b274_acde48001122row0_col17\" class=\"data row0 col17\" >0</td>\n",
       "                        <td id=\"T_518fe884_8292_11eb_b274_acde48001122row0_col18\" class=\"data row0 col18\" >0</td>\n",
       "            </tr>\n",
       "    </tbody></table>"
      ],
      "text/plain": [
       "<pandas.io.formats.style.Styler at 0x12471c100>"
      ]
     },
     "metadata": {},
     "output_type": "display_data"
    },
    {
     "name": "stdout",
     "output_type": "stream",
     "text": [
      "syslog.log\n"
     ]
    },
    {
     "data": {
      "text/html": [
       "<style  type=\"text/css\" >\n",
       "#T_519260c8_8292_11eb_b274_acde48001122row0_col2,#T_519260c8_8292_11eb_b274_acde48001122row0_col4,#T_519260c8_8292_11eb_b274_acde48001122row0_col9{\n",
       "            background-color:  red;\n",
       "        }</style><table id=\"T_519260c8_8292_11eb_b274_acde48001122\" ><thead>    <tr>        <th class=\"blank level0\" ></th>        <th class=\"col_heading level0 col0\" >ts</th>        <th class=\"col_heading level0 col1\" >uid</th>        <th class=\"col_heading level0 col2\" >id.orig_h</th>        <th class=\"col_heading level0 col3\" >id.orig_p</th>        <th class=\"col_heading level0 col4\" >id.resp_h</th>        <th class=\"col_heading level0 col5\" >id.resp_p</th>        <th class=\"col_heading level0 col6\" >proto</th>        <th class=\"col_heading level0 col7\" >facility</th>        <th class=\"col_heading level0 col8\" >severity</th>        <th class=\"col_heading level0 col9\" >message</th>    </tr></thead><tbody>\n",
       "                <tr>\n",
       "                        <th id=\"T_519260c8_8292_11eb_b274_acde48001122level0_row0\" class=\"row_heading level0 row0\" >0</th>\n",
       "                        <td id=\"T_519260c8_8292_11eb_b274_acde48001122row0_col0\" class=\"data row0 col0\" >1424257272.505490</td>\n",
       "                        <td id=\"T_519260c8_8292_11eb_b274_acde48001122row0_col1\" class=\"data row0 col1\" >Cj3GI83Aak9eXVMxRj</td>\n",
       "                        <td id=\"T_519260c8_8292_11eb_b274_acde48001122row0_col2\" class=\"data row0 col2\" >32.237.194.95</td>\n",
       "                        <td id=\"T_519260c8_8292_11eb_b274_acde48001122row0_col3\" class=\"data row0 col3\" >59788</td>\n",
       "                        <td id=\"T_519260c8_8292_11eb_b274_acde48001122row0_col4\" class=\"data row0 col4\" >185.201.128.195</td>\n",
       "                        <td id=\"T_519260c8_8292_11eb_b274_acde48001122row0_col5\" class=\"data row0 col5\" >514</td>\n",
       "                        <td id=\"T_519260c8_8292_11eb_b274_acde48001122row0_col6\" class=\"data row0 col6\" >udp</td>\n",
       "                        <td id=\"T_519260c8_8292_11eb_b274_acde48001122row0_col7\" class=\"data row0 col7\" >KERN</td>\n",
       "                        <td id=\"T_519260c8_8292_11eb_b274_acde48001122row0_col8\" class=\"data row0 col8\" >EMERG</td>\n",
       "                        <td id=\"T_519260c8_8292_11eb_b274_acde48001122row0_col9\" class=\"data row0 col9\" >71</td>\n",
       "            </tr>\n",
       "    </tbody></table>"
      ],
      "text/plain": [
       "<pandas.io.formats.style.Styler at 0x125c602e0>"
      ]
     },
     "metadata": {},
     "output_type": "display_data"
    },
    {
     "name": "stdout",
     "output_type": "stream",
     "text": [
      "weird.log\n"
     ]
    },
    {
     "data": {
      "text/html": [
       "<style  type=\"text/css\" >\n",
       "#T_5194c71e_8292_11eb_b274_acde48001122row0_col2,#T_5194c71e_8292_11eb_b274_acde48001122row0_col4{\n",
       "            background-color:  red;\n",
       "        }</style><table id=\"T_5194c71e_8292_11eb_b274_acde48001122\" ><thead>    <tr>        <th class=\"blank level0\" ></th>        <th class=\"col_heading level0 col0\" >ts</th>        <th class=\"col_heading level0 col1\" >uid</th>        <th class=\"col_heading level0 col2\" >id.orig_h</th>        <th class=\"col_heading level0 col3\" >id.orig_p</th>        <th class=\"col_heading level0 col4\" >id.resp_h</th>        <th class=\"col_heading level0 col5\" >id.resp_p</th>        <th class=\"col_heading level0 col6\" >name</th>        <th class=\"col_heading level0 col7\" >addl</th>        <th class=\"col_heading level0 col8\" >notice</th>        <th class=\"col_heading level0 col9\" >peer</th>    </tr></thead><tbody>\n",
       "                <tr>\n",
       "                        <th id=\"T_5194c71e_8292_11eb_b274_acde48001122level0_row0\" class=\"row_heading level0 row0\" >0</th>\n",
       "                        <td id=\"T_5194c71e_8292_11eb_b274_acde48001122row0_col0\" class=\"data row0 col0\" >1424256989.752044</td>\n",
       "                        <td id=\"T_5194c71e_8292_11eb_b274_acde48001122row0_col1\" class=\"data row0 col1\" >CBAuL33hjNTqQ8MTak</td>\n",
       "                        <td id=\"T_5194c71e_8292_11eb_b274_acde48001122row0_col2\" class=\"data row0 col2\" >192.194.119.139</td>\n",
       "                        <td id=\"T_5194c71e_8292_11eb_b274_acde48001122row0_col3\" class=\"data row0 col3\" >53225.000000</td>\n",
       "                        <td id=\"T_5194c71e_8292_11eb_b274_acde48001122row0_col4\" class=\"data row0 col4\" >185.201.128.46</td>\n",
       "                        <td id=\"T_5194c71e_8292_11eb_b274_acde48001122row0_col5\" class=\"data row0 col5\" >80.000000</td>\n",
       "                        <td id=\"T_5194c71e_8292_11eb_b274_acde48001122row0_col6\" class=\"data row0 col6\" >above_hole_data_without_any_acks</td>\n",
       "                        <td id=\"T_5194c71e_8292_11eb_b274_acde48001122row0_col7\" class=\"data row0 col7\" >-</td>\n",
       "                        <td id=\"T_5194c71e_8292_11eb_b274_acde48001122row0_col8\" class=\"data row0 col8\" >F</td>\n",
       "                        <td id=\"T_5194c71e_8292_11eb_b274_acde48001122row0_col9\" class=\"data row0 col9\" >bro</td>\n",
       "            </tr>\n",
       "    </tbody></table>"
      ],
      "text/plain": [
       "<pandas.io.formats.style.Styler at 0x126107220>"
      ]
     },
     "metadata": {},
     "output_type": "display_data"
    },
    {
     "name": "stdout",
     "output_type": "stream",
     "text": [
      "x509.log\n"
     ]
    },
    {
     "data": {
      "text/html": [
       "<style  type=\"text/css\" >\n",
       "#T_5198c3d2_8292_11eb_b274_acde48001122row0_col3,#T_5198c3d2_8292_11eb_b274_acde48001122row0_col4,#T_5198c3d2_8292_11eb_b274_acde48001122row0_col5,#T_5198c3d2_8292_11eb_b274_acde48001122row0_col6,#T_5198c3d2_8292_11eb_b274_acde48001122row0_col7,#T_5198c3d2_8292_11eb_b274_acde48001122row0_col14,#T_5198c3d2_8292_11eb_b274_acde48001122row0_col15,#T_5198c3d2_8292_11eb_b274_acde48001122row0_col16,#T_5198c3d2_8292_11eb_b274_acde48001122row0_col17{\n",
       "            background-color:  red;\n",
       "        }</style><table id=\"T_5198c3d2_8292_11eb_b274_acde48001122\" ><thead>    <tr>        <th class=\"blank level0\" ></th>        <th class=\"col_heading level0 col0\" >ts</th>        <th class=\"col_heading level0 col1\" >id</th>        <th class=\"col_heading level0 col2\" >certificate.version</th>        <th class=\"col_heading level0 col3\" >certificate.serial</th>        <th class=\"col_heading level0 col4\" >certificate.subject</th>        <th class=\"col_heading level0 col5\" >certificate.issuer</th>        <th class=\"col_heading level0 col6\" >certificate.not_valid_before</th>        <th class=\"col_heading level0 col7\" >certificate.not_valid_after</th>        <th class=\"col_heading level0 col8\" >certificate.key_alg</th>        <th class=\"col_heading level0 col9\" >certificate.sig_alg</th>        <th class=\"col_heading level0 col10\" >certificate.key_type</th>        <th class=\"col_heading level0 col11\" >certificate.key_length</th>        <th class=\"col_heading level0 col12\" >certificate.exponent</th>        <th class=\"col_heading level0 col13\" >certificate.curve</th>        <th class=\"col_heading level0 col14\" >san.dns</th>        <th class=\"col_heading level0 col15\" >san.uri</th>        <th class=\"col_heading level0 col16\" >san.email</th>        <th class=\"col_heading level0 col17\" >san.ip</th>        <th class=\"col_heading level0 col18\" >basic_constraints.ca</th>        <th class=\"col_heading level0 col19\" >basic_constraints.path_len</th>    </tr></thead><tbody>\n",
       "                <tr>\n",
       "                        <th id=\"T_5198c3d2_8292_11eb_b274_acde48001122level0_row0\" class=\"row_heading level0 row0\" >0</th>\n",
       "                        <td id=\"T_5198c3d2_8292_11eb_b274_acde48001122row0_col0\" class=\"data row0 col0\" >1424257134.200798</td>\n",
       "                        <td id=\"T_5198c3d2_8292_11eb_b274_acde48001122row0_col1\" class=\"data row0 col1\" >F1UOdB2xjikZlEkvu5</td>\n",
       "                        <td id=\"T_5198c3d2_8292_11eb_b274_acde48001122row0_col2\" class=\"data row0 col2\" >2</td>\n",
       "                        <td id=\"T_5198c3d2_8292_11eb_b274_acde48001122row0_col3\" class=\"data row0 col3\" >3</td>\n",
       "                        <td id=\"T_5198c3d2_8292_11eb_b274_acde48001122row0_col4\" class=\"data row0 col4\" >2</td>\n",
       "                        <td id=\"T_5198c3d2_8292_11eb_b274_acde48001122row0_col5\" class=\"data row0 col5\" >2</td>\n",
       "                        <td id=\"T_5198c3d2_8292_11eb_b274_acde48001122row0_col6\" class=\"data row0 col6\" >4</td>\n",
       "                        <td id=\"T_5198c3d2_8292_11eb_b274_acde48001122row0_col7\" class=\"data row0 col7\" >4</td>\n",
       "                        <td id=\"T_5198c3d2_8292_11eb_b274_acde48001122row0_col8\" class=\"data row0 col8\" >rsaEncryption</td>\n",
       "                        <td id=\"T_5198c3d2_8292_11eb_b274_acde48001122row0_col9\" class=\"data row0 col9\" >sha1WithRSAEncryption</td>\n",
       "                        <td id=\"T_5198c3d2_8292_11eb_b274_acde48001122row0_col10\" class=\"data row0 col10\" >rsa</td>\n",
       "                        <td id=\"T_5198c3d2_8292_11eb_b274_acde48001122row0_col11\" class=\"data row0 col11\" >1024</td>\n",
       "                        <td id=\"T_5198c3d2_8292_11eb_b274_acde48001122row0_col12\" class=\"data row0 col12\" >65537</td>\n",
       "                        <td id=\"T_5198c3d2_8292_11eb_b274_acde48001122row0_col13\" class=\"data row0 col13\" >-</td>\n",
       "                        <td id=\"T_5198c3d2_8292_11eb_b274_acde48001122row0_col14\" class=\"data row0 col14\" >0</td>\n",
       "                        <td id=\"T_5198c3d2_8292_11eb_b274_acde48001122row0_col15\" class=\"data row0 col15\" >0</td>\n",
       "                        <td id=\"T_5198c3d2_8292_11eb_b274_acde48001122row0_col16\" class=\"data row0 col16\" >0</td>\n",
       "                        <td id=\"T_5198c3d2_8292_11eb_b274_acde48001122row0_col17\" class=\"data row0 col17\" >0</td>\n",
       "                        <td id=\"T_5198c3d2_8292_11eb_b274_acde48001122row0_col18\" class=\"data row0 col18\" >-</td>\n",
       "                        <td id=\"T_5198c3d2_8292_11eb_b274_acde48001122row0_col19\" class=\"data row0 col19\" >nan</td>\n",
       "            </tr>\n",
       "    </tbody></table>"
      ],
      "text/plain": [
       "<pandas.io.formats.style.Styler at 0x1260eb760>"
      ]
     },
     "metadata": {},
     "output_type": "display_data"
    }
   ],
   "source": [
    "log_dataframes = orig_log_dataframes.copy()\n",
    "sub0_dict = {}\n",
    "sub1_dict = {}\n",
    "sub2_dict = {}\n",
    "sub3_dict = {}\n",
    "ip_dict = {}\n",
    "    \n",
    "for key in log_dataframes:\n",
    "    log_dataframe = log_dataframes[key]\n",
    "    for column in log_dataframe.columns:\n",
    "        if column in PII:\n",
    "            if column in IP_fields:\n",
    "                log_dataframe[column] = [get_subnet_perserving_ip(ip) for ip in log_dataframe[column]]\n",
    "            else:\n",
    "                log_dataframe[column] = LabelEncoder().fit_transform(log_dataframe[column])\n",
    "    log_dataframes[key] = log_dataframe\n",
    "    print(key)\n",
    "    display(log_dataframes[key].iloc[:1,:].style.apply(highlight_col, axis=None))\n"
   ]
  },
  {
   "cell_type": "code",
   "execution_count": null,
   "metadata": {},
   "outputs": [],
   "source": []
  }
 ],
 "metadata": {
  "kernelspec": {
   "display_name": "Python 3",
   "language": "python",
   "name": "python3"
  },
  "language_info": {
   "codemirror_mode": {
    "name": "ipython",
    "version": 3
   },
   "file_extension": ".py",
   "mimetype": "text/x-python",
   "name": "python",
   "nbconvert_exporter": "python",
   "pygments_lexer": "ipython3",
   "version": "3.8.6"
  }
 },
 "nbformat": 4,
 "nbformat_minor": 4
}
