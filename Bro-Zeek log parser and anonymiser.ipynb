{
 "cells": [
  {
   "cell_type": "code",
   "execution_count": 1,
   "metadata": {},
   "outputs": [],
   "source": [
    "import pandas as pd\n",
    "pd.set_option('display.max_columns', 500)\n",
    "pd.set_option('display.max_rows', 500)\n",
    "\n",
    "import numpy as np\n",
    "from collections import Counter\n",
    "from os import walk"
   ]
  },
  {
   "cell_type": "markdown",
   "metadata": {},
   "source": [
    "### Bro/Zeek log parser and anonymiser\n",
    "\n",
    "#### This file serves to parse Bro/Zeek logs and identify and anonymise Personally Identifiable Information (PII). As example data the bro logs of the UNSW-NB15 dataset [1] have been used.\n",
    "\n",
    "The PII information is listed in the PII list and one line of each log file is displayed below with the PII highlighted in red.\n",
    "\n",
    "[1] https://www.unsw.adfa.edu.au/unsw-canberra-cyber/cybersecurity/ADFA-NB15-Datasets/"
   ]
  },
  {
   "cell_type": "code",
   "execution_count": 2,
   "metadata": {},
   "outputs": [],
   "source": [
    "# Helper functions\n",
    "\n",
    "def get_headers_types(log_type):\n",
    "    headers = []\n",
    "    with open(\"24/\"+log_type) as file:\n",
    "        for i in range(8):\n",
    "            line = next(file).strip()\n",
    "            if line.startswith(\"#fields\"):\n",
    "                headers = line.split(\"\\t\")[1:]\n",
    "    return headers\n",
    "\n",
    "\n",
    "def get_dataframe(log_type,seperator):\n",
    "    headers = get_headers_types(log_type)\n",
    "    return pd.read_csv('24/'+log_type,sep=seperator,\n",
    "                       names=headers,skiprows=8,skipfooter=1,engine='python')\n",
    "\n",
    "def highlight_col(x):\n",
    "    r = 'background-color: red'\n",
    "    df1 = pd.DataFrame('', index=x.index, columns=x.columns)\n",
    "    df1.loc[:,:] = 'background-color: white' \n",
    "    for info in PII:\n",
    "        if info in x.columns:\n",
    "            df1.loc[:,info] = r\n",
    "\n",
    "            \n",
    "    return df1    \n"
   ]
  },
  {
   "cell_type": "code",
   "execution_count": 3,
   "metadata": {},
   "outputs": [],
   "source": [
    "seperator = \"[\\t]\"\n",
    "\n",
    "_, _, filenames = next(walk('24/'))\n",
    "filenames.sort()\n",
    "\n",
    "# List with columns containing PII.\n",
    "PII = ['id.orig_h','id.resp_h',\n",
    "       'mac','assigned_ip',\n",
    "       'query','answers',\n",
    "       'tx_hosts','rx_hosts','md5','sha1','sha256',\n",
    "       'user','password','data_channel.orig_h','data_channel.resp_h',\n",
    "       'host','uri','filename','username',\n",
    "       'helo','mailfrom','rcptto','date','from','to','reply_to','msg_id','in_reply_to','subject',\n",
    "           'x_originating_ip','first_received','second_received','last_reply','path',\n",
    "       'issuer','server_name','subject','issuer client_subject','client_issuer',\n",
    "       'message',\n",
    "       'certificate.serial','certificate.subject','certificate.issuer','certificate.not_valid_before',\n",
    "           'certificate.not_valid_after','san.dns','san.uri','san.email','san.ip']\n"
   ]
  },
  {
   "cell_type": "code",
   "execution_count": 4,
   "metadata": {},
   "outputs": [
    {
     "name": "stdout",
     "output_type": "stream",
     "text": [
      "conn.log\n"
     ]
    },
    {
     "data": {
      "text/html": [
       "<style  type=\"text/css\" >\n",
       "#T_b6fb589e_825a_11eb_91dd_acde48001122row0_col0,#T_b6fb589e_825a_11eb_91dd_acde48001122row0_col1,#T_b6fb589e_825a_11eb_91dd_acde48001122row0_col3,#T_b6fb589e_825a_11eb_91dd_acde48001122row0_col5,#T_b6fb589e_825a_11eb_91dd_acde48001122row0_col6,#T_b6fb589e_825a_11eb_91dd_acde48001122row0_col7,#T_b6fb589e_825a_11eb_91dd_acde48001122row0_col8,#T_b6fb589e_825a_11eb_91dd_acde48001122row0_col9,#T_b6fb589e_825a_11eb_91dd_acde48001122row0_col10,#T_b6fb589e_825a_11eb_91dd_acde48001122row0_col11,#T_b6fb589e_825a_11eb_91dd_acde48001122row0_col12,#T_b6fb589e_825a_11eb_91dd_acde48001122row0_col13,#T_b6fb589e_825a_11eb_91dd_acde48001122row0_col14,#T_b6fb589e_825a_11eb_91dd_acde48001122row0_col15,#T_b6fb589e_825a_11eb_91dd_acde48001122row0_col16,#T_b6fb589e_825a_11eb_91dd_acde48001122row0_col17,#T_b6fb589e_825a_11eb_91dd_acde48001122row0_col18,#T_b6fb589e_825a_11eb_91dd_acde48001122row0_col19{\n",
       "            background-color:  white;\n",
       "        }#T_b6fb589e_825a_11eb_91dd_acde48001122row0_col2,#T_b6fb589e_825a_11eb_91dd_acde48001122row0_col4{\n",
       "            background-color:  red;\n",
       "        }</style><table id=\"T_b6fb589e_825a_11eb_91dd_acde48001122\" ><thead>    <tr>        <th class=\"blank level0\" ></th>        <th class=\"col_heading level0 col0\" >ts</th>        <th class=\"col_heading level0 col1\" >uid</th>        <th class=\"col_heading level0 col2\" >id.orig_h</th>        <th class=\"col_heading level0 col3\" >id.orig_p</th>        <th class=\"col_heading level0 col4\" >id.resp_h</th>        <th class=\"col_heading level0 col5\" >id.resp_p</th>        <th class=\"col_heading level0 col6\" >proto</th>        <th class=\"col_heading level0 col7\" >service</th>        <th class=\"col_heading level0 col8\" >duration</th>        <th class=\"col_heading level0 col9\" >orig_bytes</th>        <th class=\"col_heading level0 col10\" >resp_bytes</th>        <th class=\"col_heading level0 col11\" >conn_state</th>        <th class=\"col_heading level0 col12\" >local_orig</th>        <th class=\"col_heading level0 col13\" >missed_bytes</th>        <th class=\"col_heading level0 col14\" >history</th>        <th class=\"col_heading level0 col15\" >orig_pkts</th>        <th class=\"col_heading level0 col16\" >orig_ip_bytes</th>        <th class=\"col_heading level0 col17\" >resp_pkts</th>        <th class=\"col_heading level0 col18\" >resp_ip_bytes</th>        <th class=\"col_heading level0 col19\" >tunnel_parents</th>    </tr></thead><tbody>\n",
       "                <tr>\n",
       "                        <th id=\"T_b6fb589e_825a_11eb_91dd_acde48001122level0_row0\" class=\"row_heading level0 row0\" >0</th>\n",
       "                        <td id=\"T_b6fb589e_825a_11eb_91dd_acde48001122row0_col0\" class=\"data row0 col0\" >1424256987.747828</td>\n",
       "                        <td id=\"T_b6fb589e_825a_11eb_91dd_acde48001122row0_col1\" class=\"data row0 col1\" >C8kfmaJvH8YSujzW5</td>\n",
       "                        <td id=\"T_b6fb589e_825a_11eb_91dd_acde48001122row0_col2\" class=\"data row0 col2\" >59.166.0.2</td>\n",
       "                        <td id=\"T_b6fb589e_825a_11eb_91dd_acde48001122row0_col3\" class=\"data row0 col3\" >57872</td>\n",
       "                        <td id=\"T_b6fb589e_825a_11eb_91dd_acde48001122row0_col4\" class=\"data row0 col4\" >149.171.126.9</td>\n",
       "                        <td id=\"T_b6fb589e_825a_11eb_91dd_acde48001122row0_col5\" class=\"data row0 col5\" >56104</td>\n",
       "                        <td id=\"T_b6fb589e_825a_11eb_91dd_acde48001122row0_col6\" class=\"data row0 col6\" >tcp</td>\n",
       "                        <td id=\"T_b6fb589e_825a_11eb_91dd_acde48001122row0_col7\" class=\"data row0 col7\" >-</td>\n",
       "                        <td id=\"T_b6fb589e_825a_11eb_91dd_acde48001122row0_col8\" class=\"data row0 col8\" >0.027552</td>\n",
       "                        <td id=\"T_b6fb589e_825a_11eb_91dd_acde48001122row0_col9\" class=\"data row0 col9\" >227</td>\n",
       "                        <td id=\"T_b6fb589e_825a_11eb_91dd_acde48001122row0_col10\" class=\"data row0 col10\" >11587</td>\n",
       "                        <td id=\"T_b6fb589e_825a_11eb_91dd_acde48001122row0_col11\" class=\"data row0 col11\" >SF</td>\n",
       "                        <td id=\"T_b6fb589e_825a_11eb_91dd_acde48001122row0_col12\" class=\"data row0 col12\" >-</td>\n",
       "                        <td id=\"T_b6fb589e_825a_11eb_91dd_acde48001122row0_col13\" class=\"data row0 col13\" >0</td>\n",
       "                        <td id=\"T_b6fb589e_825a_11eb_91dd_acde48001122row0_col14\" class=\"data row0 col14\" >ShADadfF</td>\n",
       "                        <td id=\"T_b6fb589e_825a_11eb_91dd_acde48001122row0_col15\" class=\"data row0 col15\" >42</td>\n",
       "                        <td id=\"T_b6fb589e_825a_11eb_91dd_acde48001122row0_col16\" class=\"data row0 col16\" >2646</td>\n",
       "                        <td id=\"T_b6fb589e_825a_11eb_91dd_acde48001122row0_col17\" class=\"data row0 col17\" >44</td>\n",
       "                        <td id=\"T_b6fb589e_825a_11eb_91dd_acde48001122row0_col18\" class=\"data row0 col18\" >25470</td>\n",
       "                        <td id=\"T_b6fb589e_825a_11eb_91dd_acde48001122row0_col19\" class=\"data row0 col19\" >(empty)</td>\n",
       "            </tr>\n",
       "    </tbody></table>"
      ],
      "text/plain": [
       "<pandas.io.formats.style.Styler at 0x108be76d0>"
      ]
     },
     "metadata": {},
     "output_type": "display_data"
    },
    {
     "name": "stdout",
     "output_type": "stream",
     "text": [
      "dhcp.log\n"
     ]
    },
    {
     "data": {
      "text/html": [
       "<style  type=\"text/css\" >\n",
       "#T_b6fe2fec_825a_11eb_91dd_acde48001122row0_col0,#T_b6fe2fec_825a_11eb_91dd_acde48001122row0_col1,#T_b6fe2fec_825a_11eb_91dd_acde48001122row0_col3,#T_b6fe2fec_825a_11eb_91dd_acde48001122row0_col5,#T_b6fe2fec_825a_11eb_91dd_acde48001122row0_col8,#T_b6fe2fec_825a_11eb_91dd_acde48001122row0_col9{\n",
       "            background-color:  white;\n",
       "        }#T_b6fe2fec_825a_11eb_91dd_acde48001122row0_col2,#T_b6fe2fec_825a_11eb_91dd_acde48001122row0_col4,#T_b6fe2fec_825a_11eb_91dd_acde48001122row0_col6,#T_b6fe2fec_825a_11eb_91dd_acde48001122row0_col7{\n",
       "            background-color:  red;\n",
       "        }</style><table id=\"T_b6fe2fec_825a_11eb_91dd_acde48001122\" ><thead>    <tr>        <th class=\"blank level0\" ></th>        <th class=\"col_heading level0 col0\" >ts</th>        <th class=\"col_heading level0 col1\" >uid</th>        <th class=\"col_heading level0 col2\" >id.orig_h</th>        <th class=\"col_heading level0 col3\" >id.orig_p</th>        <th class=\"col_heading level0 col4\" >id.resp_h</th>        <th class=\"col_heading level0 col5\" >id.resp_p</th>        <th class=\"col_heading level0 col6\" >mac</th>        <th class=\"col_heading level0 col7\" >assigned_ip</th>        <th class=\"col_heading level0 col8\" >lease_time</th>        <th class=\"col_heading level0 col9\" >trans_id</th>    </tr></thead><tbody>\n",
       "                <tr>\n",
       "                        <th id=\"T_b6fe2fec_825a_11eb_91dd_acde48001122level0_row0\" class=\"row_heading level0 row0\" >0</th>\n",
       "                        <td id=\"T_b6fe2fec_825a_11eb_91dd_acde48001122row0_col0\" class=\"data row0 col0\" >1424257224.537779</td>\n",
       "                        <td id=\"T_b6fe2fec_825a_11eb_91dd_acde48001122row0_col1\" class=\"data row0 col1\" >CU34Cu2zrLEPwadl52</td>\n",
       "                        <td id=\"T_b6fe2fec_825a_11eb_91dd_acde48001122row0_col2\" class=\"data row0 col2\" >175.45.176.3</td>\n",
       "                        <td id=\"T_b6fe2fec_825a_11eb_91dd_acde48001122row0_col3\" class=\"data row0 col3\" >68</td>\n",
       "                        <td id=\"T_b6fe2fec_825a_11eb_91dd_acde48001122row0_col4\" class=\"data row0 col4\" >149.171.126.13</td>\n",
       "                        <td id=\"T_b6fe2fec_825a_11eb_91dd_acde48001122row0_col5\" class=\"data row0 col5\" >67</td>\n",
       "                        <td id=\"T_b6fe2fec_825a_11eb_91dd_acde48001122row0_col6\" class=\"data row0 col6\" >02:1a:c5:00:00:00</td>\n",
       "                        <td id=\"T_b6fe2fec_825a_11eb_91dd_acde48001122row0_col7\" class=\"data row0 col7\" >175.45.176.3</td>\n",
       "                        <td id=\"T_b6fe2fec_825a_11eb_91dd_acde48001122row0_col8\" class=\"data row0 col8\" >1879.000000</td>\n",
       "                        <td id=\"T_b6fe2fec_825a_11eb_91dd_acde48001122row0_col9\" class=\"data row0 col9\" >4288085767</td>\n",
       "            </tr>\n",
       "    </tbody></table>"
      ],
      "text/plain": [
       "<pandas.io.formats.style.Styler at 0x11c9bc2e0>"
      ]
     },
     "metadata": {},
     "output_type": "display_data"
    },
    {
     "name": "stdout",
     "output_type": "stream",
     "text": [
      "dns.log\n"
     ]
    },
    {
     "data": {
      "text/html": [
       "<style  type=\"text/css\" >\n",
       "#T_b7169f28_825a_11eb_91dd_acde48001122row0_col0,#T_b7169f28_825a_11eb_91dd_acde48001122row0_col1,#T_b7169f28_825a_11eb_91dd_acde48001122row0_col3,#T_b7169f28_825a_11eb_91dd_acde48001122row0_col5,#T_b7169f28_825a_11eb_91dd_acde48001122row0_col6,#T_b7169f28_825a_11eb_91dd_acde48001122row0_col7,#T_b7169f28_825a_11eb_91dd_acde48001122row0_col9,#T_b7169f28_825a_11eb_91dd_acde48001122row0_col10,#T_b7169f28_825a_11eb_91dd_acde48001122row0_col11,#T_b7169f28_825a_11eb_91dd_acde48001122row0_col12,#T_b7169f28_825a_11eb_91dd_acde48001122row0_col13,#T_b7169f28_825a_11eb_91dd_acde48001122row0_col14,#T_b7169f28_825a_11eb_91dd_acde48001122row0_col15,#T_b7169f28_825a_11eb_91dd_acde48001122row0_col16,#T_b7169f28_825a_11eb_91dd_acde48001122row0_col17,#T_b7169f28_825a_11eb_91dd_acde48001122row0_col18,#T_b7169f28_825a_11eb_91dd_acde48001122row0_col19,#T_b7169f28_825a_11eb_91dd_acde48001122row0_col21,#T_b7169f28_825a_11eb_91dd_acde48001122row0_col22{\n",
       "            background-color:  white;\n",
       "        }#T_b7169f28_825a_11eb_91dd_acde48001122row0_col2,#T_b7169f28_825a_11eb_91dd_acde48001122row0_col4,#T_b7169f28_825a_11eb_91dd_acde48001122row0_col8,#T_b7169f28_825a_11eb_91dd_acde48001122row0_col20{\n",
       "            background-color:  red;\n",
       "        }</style><table id=\"T_b7169f28_825a_11eb_91dd_acde48001122\" ><thead>    <tr>        <th class=\"blank level0\" ></th>        <th class=\"col_heading level0 col0\" >ts</th>        <th class=\"col_heading level0 col1\" >uid</th>        <th class=\"col_heading level0 col2\" >id.orig_h</th>        <th class=\"col_heading level0 col3\" >id.orig_p</th>        <th class=\"col_heading level0 col4\" >id.resp_h</th>        <th class=\"col_heading level0 col5\" >id.resp_p</th>        <th class=\"col_heading level0 col6\" >proto</th>        <th class=\"col_heading level0 col7\" >trans_id</th>        <th class=\"col_heading level0 col8\" >query</th>        <th class=\"col_heading level0 col9\" >qclass</th>        <th class=\"col_heading level0 col10\" >qclass_name</th>        <th class=\"col_heading level0 col11\" >qtype</th>        <th class=\"col_heading level0 col12\" >qtype_name</th>        <th class=\"col_heading level0 col13\" >rcode</th>        <th class=\"col_heading level0 col14\" >rcode_name</th>        <th class=\"col_heading level0 col15\" >AA</th>        <th class=\"col_heading level0 col16\" >TC</th>        <th class=\"col_heading level0 col17\" >RD</th>        <th class=\"col_heading level0 col18\" >RA</th>        <th class=\"col_heading level0 col19\" >Z</th>        <th class=\"col_heading level0 col20\" >answers</th>        <th class=\"col_heading level0 col21\" >TTLs</th>        <th class=\"col_heading level0 col22\" >rejected</th>    </tr></thead><tbody>\n",
       "                <tr>\n",
       "                        <th id=\"T_b7169f28_825a_11eb_91dd_acde48001122level0_row0\" class=\"row_heading level0 row0\" >0</th>\n",
       "                        <td id=\"T_b7169f28_825a_11eb_91dd_acde48001122row0_col0\" class=\"data row0 col0\" >1424256988.447831</td>\n",
       "                        <td id=\"T_b7169f28_825a_11eb_91dd_acde48001122row0_col1\" class=\"data row0 col1\" >CcCQqj3E6KlwtFnRja</td>\n",
       "                        <td id=\"T_b7169f28_825a_11eb_91dd_acde48001122row0_col2\" class=\"data row0 col2\" >59.166.0.4</td>\n",
       "                        <td id=\"T_b7169f28_825a_11eb_91dd_acde48001122row0_col3\" class=\"data row0 col3\" >7745</td>\n",
       "                        <td id=\"T_b7169f28_825a_11eb_91dd_acde48001122row0_col4\" class=\"data row0 col4\" >149.171.126.2</td>\n",
       "                        <td id=\"T_b7169f28_825a_11eb_91dd_acde48001122row0_col5\" class=\"data row0 col5\" >53</td>\n",
       "                        <td id=\"T_b7169f28_825a_11eb_91dd_acde48001122row0_col6\" class=\"data row0 col6\" >udp</td>\n",
       "                        <td id=\"T_b7169f28_825a_11eb_91dd_acde48001122row0_col7\" class=\"data row0 col7\" >48100</td>\n",
       "                        <td id=\"T_b7169f28_825a_11eb_91dd_acde48001122row0_col8\" class=\"data row0 col8\" >server-95ab7e07.int</td>\n",
       "                        <td id=\"T_b7169f28_825a_11eb_91dd_acde48001122row0_col9\" class=\"data row0 col9\" >1</td>\n",
       "                        <td id=\"T_b7169f28_825a_11eb_91dd_acde48001122row0_col10\" class=\"data row0 col10\" >C_INTERNET</td>\n",
       "                        <td id=\"T_b7169f28_825a_11eb_91dd_acde48001122row0_col11\" class=\"data row0 col11\" >1</td>\n",
       "                        <td id=\"T_b7169f28_825a_11eb_91dd_acde48001122row0_col12\" class=\"data row0 col12\" >A</td>\n",
       "                        <td id=\"T_b7169f28_825a_11eb_91dd_acde48001122row0_col13\" class=\"data row0 col13\" >0</td>\n",
       "                        <td id=\"T_b7169f28_825a_11eb_91dd_acde48001122row0_col14\" class=\"data row0 col14\" >NOERROR</td>\n",
       "                        <td id=\"T_b7169f28_825a_11eb_91dd_acde48001122row0_col15\" class=\"data row0 col15\" >F</td>\n",
       "                        <td id=\"T_b7169f28_825a_11eb_91dd_acde48001122row0_col16\" class=\"data row0 col16\" >F</td>\n",
       "                        <td id=\"T_b7169f28_825a_11eb_91dd_acde48001122row0_col17\" class=\"data row0 col17\" >T</td>\n",
       "                        <td id=\"T_b7169f28_825a_11eb_91dd_acde48001122row0_col18\" class=\"data row0 col18\" >T</td>\n",
       "                        <td id=\"T_b7169f28_825a_11eb_91dd_acde48001122row0_col19\" class=\"data row0 col19\" >0</td>\n",
       "                        <td id=\"T_b7169f28_825a_11eb_91dd_acde48001122row0_col20\" class=\"data row0 col20\" >149.171.126.7</td>\n",
       "                        <td id=\"T_b7169f28_825a_11eb_91dd_acde48001122row0_col21\" class=\"data row0 col21\" >60.000000</td>\n",
       "                        <td id=\"T_b7169f28_825a_11eb_91dd_acde48001122row0_col22\" class=\"data row0 col22\" >F</td>\n",
       "            </tr>\n",
       "    </tbody></table>"
      ],
      "text/plain": [
       "<pandas.io.formats.style.Styler at 0x108b16160>"
      ]
     },
     "metadata": {},
     "output_type": "display_data"
    },
    {
     "name": "stdout",
     "output_type": "stream",
     "text": [
      "dpd.log\n"
     ]
    },
    {
     "data": {
      "text/html": [
       "<style  type=\"text/css\" >\n",
       "#T_b719be92_825a_11eb_91dd_acde48001122row0_col0,#T_b719be92_825a_11eb_91dd_acde48001122row0_col1,#T_b719be92_825a_11eb_91dd_acde48001122row0_col3,#T_b719be92_825a_11eb_91dd_acde48001122row0_col5,#T_b719be92_825a_11eb_91dd_acde48001122row0_col6,#T_b719be92_825a_11eb_91dd_acde48001122row0_col7,#T_b719be92_825a_11eb_91dd_acde48001122row0_col8{\n",
       "            background-color:  white;\n",
       "        }#T_b719be92_825a_11eb_91dd_acde48001122row0_col2,#T_b719be92_825a_11eb_91dd_acde48001122row0_col4{\n",
       "            background-color:  red;\n",
       "        }</style><table id=\"T_b719be92_825a_11eb_91dd_acde48001122\" ><thead>    <tr>        <th class=\"blank level0\" ></th>        <th class=\"col_heading level0 col0\" >ts</th>        <th class=\"col_heading level0 col1\" >uid</th>        <th class=\"col_heading level0 col2\" >id.orig_h</th>        <th class=\"col_heading level0 col3\" >id.orig_p</th>        <th class=\"col_heading level0 col4\" >id.resp_h</th>        <th class=\"col_heading level0 col5\" >id.resp_p</th>        <th class=\"col_heading level0 col6\" >proto</th>        <th class=\"col_heading level0 col7\" >analyzer</th>        <th class=\"col_heading level0 col8\" >failure_reason</th>    </tr></thead><tbody>\n",
       "                <tr>\n",
       "                        <th id=\"T_b719be92_825a_11eb_91dd_acde48001122level0_row0\" class=\"row_heading level0 row0\" >0</th>\n",
       "                        <td id=\"T_b719be92_825a_11eb_91dd_acde48001122row0_col0\" class=\"data row0 col0\" >1424257073.512632</td>\n",
       "                        <td id=\"T_b719be92_825a_11eb_91dd_acde48001122row0_col1\" class=\"data row0 col1\" >CgvWyM1wBPRuu6ULUe</td>\n",
       "                        <td id=\"T_b719be92_825a_11eb_91dd_acde48001122row0_col2\" class=\"data row0 col2\" >175.45.176.2</td>\n",
       "                        <td id=\"T_b719be92_825a_11eb_91dd_acde48001122row0_col3\" class=\"data row0 col3\" >64558</td>\n",
       "                        <td id=\"T_b719be92_825a_11eb_91dd_acde48001122row0_col4\" class=\"data row0 col4\" >149.171.126.14</td>\n",
       "                        <td id=\"T_b719be92_825a_11eb_91dd_acde48001122row0_col5\" class=\"data row0 col5\" >80</td>\n",
       "                        <td id=\"T_b719be92_825a_11eb_91dd_acde48001122row0_col6\" class=\"data row0 col6\" >tcp</td>\n",
       "                        <td id=\"T_b719be92_825a_11eb_91dd_acde48001122row0_col7\" class=\"data row0 col7\" >HTTP</td>\n",
       "                        <td id=\"T_b719be92_825a_11eb_91dd_acde48001122row0_col8\" class=\"data row0 col8\" >not a http reply line</td>\n",
       "            </tr>\n",
       "    </tbody></table>"
      ],
      "text/plain": [
       "<pandas.io.formats.style.Styler at 0x108be76d0>"
      ]
     },
     "metadata": {},
     "output_type": "display_data"
    },
    {
     "name": "stdout",
     "output_type": "stream",
     "text": [
      "files.log\n"
     ]
    },
    {
     "data": {
      "text/html": [
       "<style  type=\"text/css\" >\n",
       "#T_b72fc340_825a_11eb_91dd_acde48001122row0_col0,#T_b72fc340_825a_11eb_91dd_acde48001122row0_col1,#T_b72fc340_825a_11eb_91dd_acde48001122row0_col4,#T_b72fc340_825a_11eb_91dd_acde48001122row0_col5,#T_b72fc340_825a_11eb_91dd_acde48001122row0_col6,#T_b72fc340_825a_11eb_91dd_acde48001122row0_col7,#T_b72fc340_825a_11eb_91dd_acde48001122row0_col8,#T_b72fc340_825a_11eb_91dd_acde48001122row0_col10,#T_b72fc340_825a_11eb_91dd_acde48001122row0_col11,#T_b72fc340_825a_11eb_91dd_acde48001122row0_col12,#T_b72fc340_825a_11eb_91dd_acde48001122row0_col13,#T_b72fc340_825a_11eb_91dd_acde48001122row0_col14,#T_b72fc340_825a_11eb_91dd_acde48001122row0_col15,#T_b72fc340_825a_11eb_91dd_acde48001122row0_col16,#T_b72fc340_825a_11eb_91dd_acde48001122row0_col17,#T_b72fc340_825a_11eb_91dd_acde48001122row0_col18,#T_b72fc340_825a_11eb_91dd_acde48001122row0_col22{\n",
       "            background-color:  white;\n",
       "        }#T_b72fc340_825a_11eb_91dd_acde48001122row0_col2,#T_b72fc340_825a_11eb_91dd_acde48001122row0_col3,#T_b72fc340_825a_11eb_91dd_acde48001122row0_col9,#T_b72fc340_825a_11eb_91dd_acde48001122row0_col19,#T_b72fc340_825a_11eb_91dd_acde48001122row0_col20,#T_b72fc340_825a_11eb_91dd_acde48001122row0_col21{\n",
       "            background-color:  red;\n",
       "        }</style><table id=\"T_b72fc340_825a_11eb_91dd_acde48001122\" ><thead>    <tr>        <th class=\"blank level0\" ></th>        <th class=\"col_heading level0 col0\" >ts</th>        <th class=\"col_heading level0 col1\" >fuid</th>        <th class=\"col_heading level0 col2\" >tx_hosts</th>        <th class=\"col_heading level0 col3\" >rx_hosts</th>        <th class=\"col_heading level0 col4\" >conn_uids</th>        <th class=\"col_heading level0 col5\" >source</th>        <th class=\"col_heading level0 col6\" >depth</th>        <th class=\"col_heading level0 col7\" >analyzers</th>        <th class=\"col_heading level0 col8\" >mime_type</th>        <th class=\"col_heading level0 col9\" >filename</th>        <th class=\"col_heading level0 col10\" >duration</th>        <th class=\"col_heading level0 col11\" >local_orig</th>        <th class=\"col_heading level0 col12\" >is_orig</th>        <th class=\"col_heading level0 col13\" >seen_bytes</th>        <th class=\"col_heading level0 col14\" >total_bytes</th>        <th class=\"col_heading level0 col15\" >missing_bytes</th>        <th class=\"col_heading level0 col16\" >overflow_bytes</th>        <th class=\"col_heading level0 col17\" >timedout</th>        <th class=\"col_heading level0 col18\" >parent_fuid</th>        <th class=\"col_heading level0 col19\" >md5</th>        <th class=\"col_heading level0 col20\" >sha1</th>        <th class=\"col_heading level0 col21\" >sha256</th>        <th class=\"col_heading level0 col22\" >extracted</th>    </tr></thead><tbody>\n",
       "                <tr>\n",
       "                        <th id=\"T_b72fc340_825a_11eb_91dd_acde48001122level0_row0\" class=\"row_heading level0 row0\" >0</th>\n",
       "                        <td id=\"T_b72fc340_825a_11eb_91dd_acde48001122row0_col0\" class=\"data row0 col0\" >1424256989.355818</td>\n",
       "                        <td id=\"T_b72fc340_825a_11eb_91dd_acde48001122row0_col1\" class=\"data row0 col1\" >F1YVMA4nWYBEIQkbDd</td>\n",
       "                        <td id=\"T_b72fc340_825a_11eb_91dd_acde48001122row0_col2\" class=\"data row0 col2\" >149.171.126.0</td>\n",
       "                        <td id=\"T_b72fc340_825a_11eb_91dd_acde48001122row0_col3\" class=\"data row0 col3\" >59.166.0.2</td>\n",
       "                        <td id=\"T_b72fc340_825a_11eb_91dd_acde48001122row0_col4\" class=\"data row0 col4\" >C9zC0k1eMFe6n5INSd</td>\n",
       "                        <td id=\"T_b72fc340_825a_11eb_91dd_acde48001122row0_col5\" class=\"data row0 col5\" >SMTP</td>\n",
       "                        <td id=\"T_b72fc340_825a_11eb_91dd_acde48001122row0_col6\" class=\"data row0 col6\" >2</td>\n",
       "                        <td id=\"T_b72fc340_825a_11eb_91dd_acde48001122row0_col7\" class=\"data row0 col7\" >(empty)</td>\n",
       "                        <td id=\"T_b72fc340_825a_11eb_91dd_acde48001122row0_col8\" class=\"data row0 col8\" >text/plain</td>\n",
       "                        <td id=\"T_b72fc340_825a_11eb_91dd_acde48001122row0_col9\" class=\"data row0 col9\" >-</td>\n",
       "                        <td id=\"T_b72fc340_825a_11eb_91dd_acde48001122row0_col10\" class=\"data row0 col10\" >0.000000</td>\n",
       "                        <td id=\"T_b72fc340_825a_11eb_91dd_acde48001122row0_col11\" class=\"data row0 col11\" >-</td>\n",
       "                        <td id=\"T_b72fc340_825a_11eb_91dd_acde48001122row0_col12\" class=\"data row0 col12\" >F</td>\n",
       "                        <td id=\"T_b72fc340_825a_11eb_91dd_acde48001122row0_col13\" class=\"data row0 col13\" >298</td>\n",
       "                        <td id=\"T_b72fc340_825a_11eb_91dd_acde48001122row0_col14\" class=\"data row0 col14\" >-</td>\n",
       "                        <td id=\"T_b72fc340_825a_11eb_91dd_acde48001122row0_col15\" class=\"data row0 col15\" >0</td>\n",
       "                        <td id=\"T_b72fc340_825a_11eb_91dd_acde48001122row0_col16\" class=\"data row0 col16\" >0</td>\n",
       "                        <td id=\"T_b72fc340_825a_11eb_91dd_acde48001122row0_col17\" class=\"data row0 col17\" >F</td>\n",
       "                        <td id=\"T_b72fc340_825a_11eb_91dd_acde48001122row0_col18\" class=\"data row0 col18\" >-</td>\n",
       "                        <td id=\"T_b72fc340_825a_11eb_91dd_acde48001122row0_col19\" class=\"data row0 col19\" >-</td>\n",
       "                        <td id=\"T_b72fc340_825a_11eb_91dd_acde48001122row0_col20\" class=\"data row0 col20\" >-</td>\n",
       "                        <td id=\"T_b72fc340_825a_11eb_91dd_acde48001122row0_col21\" class=\"data row0 col21\" >-</td>\n",
       "                        <td id=\"T_b72fc340_825a_11eb_91dd_acde48001122row0_col22\" class=\"data row0 col22\" >-</td>\n",
       "            </tr>\n",
       "    </tbody></table>"
      ],
      "text/plain": [
       "<pandas.io.formats.style.Styler at 0x108b101f0>"
      ]
     },
     "metadata": {},
     "output_type": "display_data"
    },
    {
     "name": "stdout",
     "output_type": "stream",
     "text": [
      "ftp.log\n"
     ]
    },
    {
     "data": {
      "text/html": [
       "<style  type=\"text/css\" >\n",
       "#T_b739e1e0_825a_11eb_91dd_acde48001122row0_col0,#T_b739e1e0_825a_11eb_91dd_acde48001122row0_col1,#T_b739e1e0_825a_11eb_91dd_acde48001122row0_col3,#T_b739e1e0_825a_11eb_91dd_acde48001122row0_col5,#T_b739e1e0_825a_11eb_91dd_acde48001122row0_col8,#T_b739e1e0_825a_11eb_91dd_acde48001122row0_col9,#T_b739e1e0_825a_11eb_91dd_acde48001122row0_col10,#T_b739e1e0_825a_11eb_91dd_acde48001122row0_col11,#T_b739e1e0_825a_11eb_91dd_acde48001122row0_col12,#T_b739e1e0_825a_11eb_91dd_acde48001122row0_col13,#T_b739e1e0_825a_11eb_91dd_acde48001122row0_col14,#T_b739e1e0_825a_11eb_91dd_acde48001122row0_col17,#T_b739e1e0_825a_11eb_91dd_acde48001122row0_col18{\n",
       "            background-color:  white;\n",
       "        }#T_b739e1e0_825a_11eb_91dd_acde48001122row0_col2,#T_b739e1e0_825a_11eb_91dd_acde48001122row0_col4,#T_b739e1e0_825a_11eb_91dd_acde48001122row0_col6,#T_b739e1e0_825a_11eb_91dd_acde48001122row0_col7,#T_b739e1e0_825a_11eb_91dd_acde48001122row0_col15,#T_b739e1e0_825a_11eb_91dd_acde48001122row0_col16{\n",
       "            background-color:  red;\n",
       "        }</style><table id=\"T_b739e1e0_825a_11eb_91dd_acde48001122\" ><thead>    <tr>        <th class=\"blank level0\" ></th>        <th class=\"col_heading level0 col0\" >ts</th>        <th class=\"col_heading level0 col1\" >uid</th>        <th class=\"col_heading level0 col2\" >id.orig_h</th>        <th class=\"col_heading level0 col3\" >id.orig_p</th>        <th class=\"col_heading level0 col4\" >id.resp_h</th>        <th class=\"col_heading level0 col5\" >id.resp_p</th>        <th class=\"col_heading level0 col6\" >user</th>        <th class=\"col_heading level0 col7\" >password</th>        <th class=\"col_heading level0 col8\" >command</th>        <th class=\"col_heading level0 col9\" >arg</th>        <th class=\"col_heading level0 col10\" >mime_type</th>        <th class=\"col_heading level0 col11\" >file_size</th>        <th class=\"col_heading level0 col12\" >reply_code</th>        <th class=\"col_heading level0 col13\" >reply_msg</th>        <th class=\"col_heading level0 col14\" >data_channel.passive</th>        <th class=\"col_heading level0 col15\" >data_channel.orig_h</th>        <th class=\"col_heading level0 col16\" >data_channel.resp_h</th>        <th class=\"col_heading level0 col17\" >data_channel.resp_p</th>        <th class=\"col_heading level0 col18\" >fuid</th>    </tr></thead><tbody>\n",
       "                <tr>\n",
       "                        <th id=\"T_b739e1e0_825a_11eb_91dd_acde48001122level0_row0\" class=\"row_heading level0 row0\" >0</th>\n",
       "                        <td id=\"T_b739e1e0_825a_11eb_91dd_acde48001122row0_col0\" class=\"data row0 col0\" >1424256989.952859</td>\n",
       "                        <td id=\"T_b739e1e0_825a_11eb_91dd_acde48001122row0_col1\" class=\"data row0 col1\" >CsfksnMVMnOYhPiB7</td>\n",
       "                        <td id=\"T_b739e1e0_825a_11eb_91dd_acde48001122row0_col2\" class=\"data row0 col2\" >59.166.0.8</td>\n",
       "                        <td id=\"T_b739e1e0_825a_11eb_91dd_acde48001122row0_col3\" class=\"data row0 col3\" >5146</td>\n",
       "                        <td id=\"T_b739e1e0_825a_11eb_91dd_acde48001122row0_col4\" class=\"data row0 col4\" >149.171.126.3</td>\n",
       "                        <td id=\"T_b739e1e0_825a_11eb_91dd_acde48001122row0_col5\" class=\"data row0 col5\" >21</td>\n",
       "                        <td id=\"T_b739e1e0_825a_11eb_91dd_acde48001122row0_col6\" class=\"data row0 col6\" >anonymous</td>\n",
       "                        <td id=\"T_b739e1e0_825a_11eb_91dd_acde48001122row0_col7\" class=\"data row0 col7\" >jobs@server.com</td>\n",
       "                        <td id=\"T_b739e1e0_825a_11eb_91dd_acde48001122row0_col8\" class=\"data row0 col8\" >EPSV</td>\n",
       "                        <td id=\"T_b739e1e0_825a_11eb_91dd_acde48001122row0_col9\" class=\"data row0 col9\" >-</td>\n",
       "                        <td id=\"T_b739e1e0_825a_11eb_91dd_acde48001122row0_col10\" class=\"data row0 col10\" >-</td>\n",
       "                        <td id=\"T_b739e1e0_825a_11eb_91dd_acde48001122row0_col11\" class=\"data row0 col11\" >-</td>\n",
       "                        <td id=\"T_b739e1e0_825a_11eb_91dd_acde48001122row0_col12\" class=\"data row0 col12\" >229</td>\n",
       "                        <td id=\"T_b739e1e0_825a_11eb_91dd_acde48001122row0_col13\" class=\"data row0 col13\" >Extended Passive Mode OK (|||24196|)</td>\n",
       "                        <td id=\"T_b739e1e0_825a_11eb_91dd_acde48001122row0_col14\" class=\"data row0 col14\" >T</td>\n",
       "                        <td id=\"T_b739e1e0_825a_11eb_91dd_acde48001122row0_col15\" class=\"data row0 col15\" >59.166.0.8</td>\n",
       "                        <td id=\"T_b739e1e0_825a_11eb_91dd_acde48001122row0_col16\" class=\"data row0 col16\" >149.171.126.3</td>\n",
       "                        <td id=\"T_b739e1e0_825a_11eb_91dd_acde48001122row0_col17\" class=\"data row0 col17\" >24196</td>\n",
       "                        <td id=\"T_b739e1e0_825a_11eb_91dd_acde48001122row0_col18\" class=\"data row0 col18\" >-</td>\n",
       "            </tr>\n",
       "    </tbody></table>"
      ],
      "text/plain": [
       "<pandas.io.formats.style.Styler at 0x1193e2bb0>"
      ]
     },
     "metadata": {},
     "output_type": "display_data"
    },
    {
     "name": "stdout",
     "output_type": "stream",
     "text": [
      "http.log\n"
     ]
    },
    {
     "data": {
      "text/html": [
       "<style  type=\"text/css\" >\n",
       "#T_b74b0376_825a_11eb_91dd_acde48001122row0_col0,#T_b74b0376_825a_11eb_91dd_acde48001122row0_col1,#T_b74b0376_825a_11eb_91dd_acde48001122row0_col3,#T_b74b0376_825a_11eb_91dd_acde48001122row0_col5,#T_b74b0376_825a_11eb_91dd_acde48001122row0_col6,#T_b74b0376_825a_11eb_91dd_acde48001122row0_col7,#T_b74b0376_825a_11eb_91dd_acde48001122row0_col10,#T_b74b0376_825a_11eb_91dd_acde48001122row0_col11,#T_b74b0376_825a_11eb_91dd_acde48001122row0_col12,#T_b74b0376_825a_11eb_91dd_acde48001122row0_col13,#T_b74b0376_825a_11eb_91dd_acde48001122row0_col14,#T_b74b0376_825a_11eb_91dd_acde48001122row0_col15,#T_b74b0376_825a_11eb_91dd_acde48001122row0_col16,#T_b74b0376_825a_11eb_91dd_acde48001122row0_col17,#T_b74b0376_825a_11eb_91dd_acde48001122row0_col19,#T_b74b0376_825a_11eb_91dd_acde48001122row0_col22,#T_b74b0376_825a_11eb_91dd_acde48001122row0_col23,#T_b74b0376_825a_11eb_91dd_acde48001122row0_col24,#T_b74b0376_825a_11eb_91dd_acde48001122row0_col25,#T_b74b0376_825a_11eb_91dd_acde48001122row0_col26{\n",
       "            background-color:  white;\n",
       "        }#T_b74b0376_825a_11eb_91dd_acde48001122row0_col2,#T_b74b0376_825a_11eb_91dd_acde48001122row0_col4,#T_b74b0376_825a_11eb_91dd_acde48001122row0_col8,#T_b74b0376_825a_11eb_91dd_acde48001122row0_col9,#T_b74b0376_825a_11eb_91dd_acde48001122row0_col18,#T_b74b0376_825a_11eb_91dd_acde48001122row0_col20,#T_b74b0376_825a_11eb_91dd_acde48001122row0_col21{\n",
       "            background-color:  red;\n",
       "        }</style><table id=\"T_b74b0376_825a_11eb_91dd_acde48001122\" ><thead>    <tr>        <th class=\"blank level0\" ></th>        <th class=\"col_heading level0 col0\" >ts</th>        <th class=\"col_heading level0 col1\" >uid</th>        <th class=\"col_heading level0 col2\" >id.orig_h</th>        <th class=\"col_heading level0 col3\" >id.orig_p</th>        <th class=\"col_heading level0 col4\" >id.resp_h</th>        <th class=\"col_heading level0 col5\" >id.resp_p</th>        <th class=\"col_heading level0 col6\" >trans_depth</th>        <th class=\"col_heading level0 col7\" >method</th>        <th class=\"col_heading level0 col8\" >host</th>        <th class=\"col_heading level0 col9\" >uri</th>        <th class=\"col_heading level0 col10\" >referrer</th>        <th class=\"col_heading level0 col11\" >user_agent</th>        <th class=\"col_heading level0 col12\" >request_body_len</th>        <th class=\"col_heading level0 col13\" >response_body_len</th>        <th class=\"col_heading level0 col14\" >status_code</th>        <th class=\"col_heading level0 col15\" >status_msg</th>        <th class=\"col_heading level0 col16\" >info_code</th>        <th class=\"col_heading level0 col17\" >info_msg</th>        <th class=\"col_heading level0 col18\" >filename</th>        <th class=\"col_heading level0 col19\" >tags</th>        <th class=\"col_heading level0 col20\" >username</th>        <th class=\"col_heading level0 col21\" >password</th>        <th class=\"col_heading level0 col22\" >proxied</th>        <th class=\"col_heading level0 col23\" >orig_fuids</th>        <th class=\"col_heading level0 col24\" >orig_mime_types</th>        <th class=\"col_heading level0 col25\" >resp_fuids</th>        <th class=\"col_heading level0 col26\" >resp_mime_types</th>    </tr></thead><tbody>\n",
       "                <tr>\n",
       "                        <th id=\"T_b74b0376_825a_11eb_91dd_acde48001122level0_row0\" class=\"row_heading level0 row0\" >0</th>\n",
       "                        <td id=\"T_b74b0376_825a_11eb_91dd_acde48001122row0_col0\" class=\"data row0 col0\" >1424256990.350022</td>\n",
       "                        <td id=\"T_b74b0376_825a_11eb_91dd_acde48001122row0_col1\" class=\"data row0 col1\" >CwgILB4FJZI9P9o4z1</td>\n",
       "                        <td id=\"T_b74b0376_825a_11eb_91dd_acde48001122row0_col2\" class=\"data row0 col2\" >59.166.0.1</td>\n",
       "                        <td id=\"T_b74b0376_825a_11eb_91dd_acde48001122row0_col3\" class=\"data row0 col3\" >41195</td>\n",
       "                        <td id=\"T_b74b0376_825a_11eb_91dd_acde48001122row0_col4\" class=\"data row0 col4\" >149.171.126.1</td>\n",
       "                        <td id=\"T_b74b0376_825a_11eb_91dd_acde48001122row0_col5\" class=\"data row0 col5\" >80</td>\n",
       "                        <td id=\"T_b74b0376_825a_11eb_91dd_acde48001122row0_col6\" class=\"data row0 col6\" >1</td>\n",
       "                        <td id=\"T_b74b0376_825a_11eb_91dd_acde48001122row0_col7\" class=\"data row0 col7\" >GET</td>\n",
       "                        <td id=\"T_b74b0376_825a_11eb_91dd_acde48001122row0_col8\" class=\"data row0 col8\" >Tracker</td>\n",
       "                        <td id=\"T_b74b0376_825a_11eb_91dd_acde48001122row0_col9\" class=\"data row0 col9\" >/announce?peer_id=-AR2621-949883860326&port=15836&uploaded=0&downloaded=0&left=8388610&compact=1&numwant=0&event=started&info_hash=\\x1d]\\xfb\\xcc\\x9f\\xeb\\xfckTfW\\xe3e\\xe8\\xed\\xa9 \\x0f5\\xf0</td>\n",
       "                        <td id=\"T_b74b0376_825a_11eb_91dd_acde48001122row0_col10\" class=\"data row0 col10\" >-</td>\n",
       "                        <td id=\"T_b74b0376_825a_11eb_91dd_acde48001122row0_col11\" class=\"data row0 col11\" >-</td>\n",
       "                        <td id=\"T_b74b0376_825a_11eb_91dd_acde48001122row0_col12\" class=\"data row0 col12\" >0</td>\n",
       "                        <td id=\"T_b74b0376_825a_11eb_91dd_acde48001122row0_col13\" class=\"data row0 col13\" >83</td>\n",
       "                        <td id=\"T_b74b0376_825a_11eb_91dd_acde48001122row0_col14\" class=\"data row0 col14\" >200</td>\n",
       "                        <td id=\"T_b74b0376_825a_11eb_91dd_acde48001122row0_col15\" class=\"data row0 col15\" >OK</td>\n",
       "                        <td id=\"T_b74b0376_825a_11eb_91dd_acde48001122row0_col16\" class=\"data row0 col16\" >-</td>\n",
       "                        <td id=\"T_b74b0376_825a_11eb_91dd_acde48001122row0_col17\" class=\"data row0 col17\" >-</td>\n",
       "                        <td id=\"T_b74b0376_825a_11eb_91dd_acde48001122row0_col18\" class=\"data row0 col18\" >-</td>\n",
       "                        <td id=\"T_b74b0376_825a_11eb_91dd_acde48001122row0_col19\" class=\"data row0 col19\" >(empty)</td>\n",
       "                        <td id=\"T_b74b0376_825a_11eb_91dd_acde48001122row0_col20\" class=\"data row0 col20\" >-</td>\n",
       "                        <td id=\"T_b74b0376_825a_11eb_91dd_acde48001122row0_col21\" class=\"data row0 col21\" >-</td>\n",
       "                        <td id=\"T_b74b0376_825a_11eb_91dd_acde48001122row0_col22\" class=\"data row0 col22\" >-</td>\n",
       "                        <td id=\"T_b74b0376_825a_11eb_91dd_acde48001122row0_col23\" class=\"data row0 col23\" >-</td>\n",
       "                        <td id=\"T_b74b0376_825a_11eb_91dd_acde48001122row0_col24\" class=\"data row0 col24\" >-</td>\n",
       "                        <td id=\"T_b74b0376_825a_11eb_91dd_acde48001122row0_col25\" class=\"data row0 col25\" >FdHIAGPzf33uaIXE9</td>\n",
       "                        <td id=\"T_b74b0376_825a_11eb_91dd_acde48001122row0_col26\" class=\"data row0 col26\" >text/plain</td>\n",
       "            </tr>\n",
       "    </tbody></table>"
      ],
      "text/plain": [
       "<pandas.io.formats.style.Styler at 0x11ca1a5e0>"
      ]
     },
     "metadata": {},
     "output_type": "display_data"
    },
    {
     "name": "stdout",
     "output_type": "stream",
     "text": [
      "irc.log\n"
     ]
    },
    {
     "data": {
      "text/html": [
       "<style  type=\"text/css\" >\n",
       "#T_b74eb7a0_825a_11eb_91dd_acde48001122row0_col0,#T_b74eb7a0_825a_11eb_91dd_acde48001122row0_col1,#T_b74eb7a0_825a_11eb_91dd_acde48001122row0_col3,#T_b74eb7a0_825a_11eb_91dd_acde48001122row0_col5,#T_b74eb7a0_825a_11eb_91dd_acde48001122row0_col6,#T_b74eb7a0_825a_11eb_91dd_acde48001122row0_col8,#T_b74eb7a0_825a_11eb_91dd_acde48001122row0_col9,#T_b74eb7a0_825a_11eb_91dd_acde48001122row0_col10,#T_b74eb7a0_825a_11eb_91dd_acde48001122row0_col11,#T_b74eb7a0_825a_11eb_91dd_acde48001122row0_col12,#T_b74eb7a0_825a_11eb_91dd_acde48001122row0_col13,#T_b74eb7a0_825a_11eb_91dd_acde48001122row0_col14{\n",
       "            background-color:  white;\n",
       "        }#T_b74eb7a0_825a_11eb_91dd_acde48001122row0_col2,#T_b74eb7a0_825a_11eb_91dd_acde48001122row0_col4,#T_b74eb7a0_825a_11eb_91dd_acde48001122row0_col7{\n",
       "            background-color:  red;\n",
       "        }</style><table id=\"T_b74eb7a0_825a_11eb_91dd_acde48001122\" ><thead>    <tr>        <th class=\"blank level0\" ></th>        <th class=\"col_heading level0 col0\" >ts</th>        <th class=\"col_heading level0 col1\" >uid</th>        <th class=\"col_heading level0 col2\" >id.orig_h</th>        <th class=\"col_heading level0 col3\" >id.orig_p</th>        <th class=\"col_heading level0 col4\" >id.resp_h</th>        <th class=\"col_heading level0 col5\" >id.resp_p</th>        <th class=\"col_heading level0 col6\" >nick</th>        <th class=\"col_heading level0 col7\" >user</th>        <th class=\"col_heading level0 col8\" >command</th>        <th class=\"col_heading level0 col9\" >value</th>        <th class=\"col_heading level0 col10\" >addl</th>        <th class=\"col_heading level0 col11\" >dcc_file_name</th>        <th class=\"col_heading level0 col12\" >dcc_file_size</th>        <th class=\"col_heading level0 col13\" >dcc_mime_type</th>        <th class=\"col_heading level0 col14\" >fuid</th>    </tr></thead><tbody>\n",
       "                <tr>\n",
       "                        <th id=\"T_b74eb7a0_825a_11eb_91dd_acde48001122level0_row0\" class=\"row_heading level0 row0\" >0</th>\n",
       "                        <td id=\"T_b74eb7a0_825a_11eb_91dd_acde48001122row0_col0\" class=\"data row0 col0\" >1424256999.141962</td>\n",
       "                        <td id=\"T_b74eb7a0_825a_11eb_91dd_acde48001122row0_col1\" class=\"data row0 col1\" >CTF2G91mpfymYtsHWk</td>\n",
       "                        <td id=\"T_b74eb7a0_825a_11eb_91dd_acde48001122row0_col2\" class=\"data row0 col2\" >175.45.176.1</td>\n",
       "                        <td id=\"T_b74eb7a0_825a_11eb_91dd_acde48001122row0_col3\" class=\"data row0 col3\" >60007</td>\n",
       "                        <td id=\"T_b74eb7a0_825a_11eb_91dd_acde48001122row0_col4\" class=\"data row0 col4\" >149.171.126.17</td>\n",
       "                        <td id=\"T_b74eb7a0_825a_11eb_91dd_acde48001122row0_col5\" class=\"data row0 col5\" >6667</td>\n",
       "                        <td id=\"T_b74eb7a0_825a_11eb_91dd_acde48001122row0_col6\" class=\"data row0 col6\" >-</td>\n",
       "                        <td id=\"T_b74eb7a0_825a_11eb_91dd_acde48001122row0_col7\" class=\"data row0 col7\" >-</td>\n",
       "                        <td id=\"T_b74eb7a0_825a_11eb_91dd_acde48001122row0_col8\" class=\"data row0 col8\" >USER</td>\n",
       "                        <td id=\"T_b74eb7a0_825a_11eb_91dd_acde48001122row0_col9\" class=\"data row0 col9\" >anonym</td>\n",
       "                        <td id=\"T_b74eb7a0_825a_11eb_91dd_acde48001122row0_col10\" class=\"data row0 col10\" >fbJnFHnHq 149.171.126.17 Anonym</td>\n",
       "                        <td id=\"T_b74eb7a0_825a_11eb_91dd_acde48001122row0_col11\" class=\"data row0 col11\" >-</td>\n",
       "                        <td id=\"T_b74eb7a0_825a_11eb_91dd_acde48001122row0_col12\" class=\"data row0 col12\" >-</td>\n",
       "                        <td id=\"T_b74eb7a0_825a_11eb_91dd_acde48001122row0_col13\" class=\"data row0 col13\" >-</td>\n",
       "                        <td id=\"T_b74eb7a0_825a_11eb_91dd_acde48001122row0_col14\" class=\"data row0 col14\" >-</td>\n",
       "            </tr>\n",
       "    </tbody></table>"
      ],
      "text/plain": [
       "<pandas.io.formats.style.Styler at 0x119466280>"
      ]
     },
     "metadata": {},
     "output_type": "display_data"
    },
    {
     "name": "stdout",
     "output_type": "stream",
     "text": [
      "packet_filter.log\n"
     ]
    },
    {
     "data": {
      "text/html": [
       "<style  type=\"text/css\" >\n",
       "#T_b750b10e_825a_11eb_91dd_acde48001122row0_col0,#T_b750b10e_825a_11eb_91dd_acde48001122row0_col1,#T_b750b10e_825a_11eb_91dd_acde48001122row0_col2,#T_b750b10e_825a_11eb_91dd_acde48001122row0_col3,#T_b750b10e_825a_11eb_91dd_acde48001122row0_col4{\n",
       "            background-color:  white;\n",
       "        }</style><table id=\"T_b750b10e_825a_11eb_91dd_acde48001122\" ><thead>    <tr>        <th class=\"blank level0\" ></th>        <th class=\"col_heading level0 col0\" >ts</th>        <th class=\"col_heading level0 col1\" >node</th>        <th class=\"col_heading level0 col2\" >filter</th>        <th class=\"col_heading level0 col3\" >init</th>        <th class=\"col_heading level0 col4\" >success</th>    </tr></thead><tbody>\n",
       "                <tr>\n",
       "                        <th id=\"T_b750b10e_825a_11eb_91dd_acde48001122level0_row0\" class=\"row_heading level0 row0\" >0</th>\n",
       "                        <td id=\"T_b750b10e_825a_11eb_91dd_acde48001122row0_col0\" class=\"data row0 col0\" >1424429070.727596</td>\n",
       "                        <td id=\"T_b750b10e_825a_11eb_91dd_acde48001122row0_col1\" class=\"data row0 col1\" >bro</td>\n",
       "                        <td id=\"T_b750b10e_825a_11eb_91dd_acde48001122row0_col2\" class=\"data row0 col2\" >ip or not ip</td>\n",
       "                        <td id=\"T_b750b10e_825a_11eb_91dd_acde48001122row0_col3\" class=\"data row0 col3\" >T</td>\n",
       "                        <td id=\"T_b750b10e_825a_11eb_91dd_acde48001122row0_col4\" class=\"data row0 col4\" >T</td>\n",
       "            </tr>\n",
       "    </tbody></table>"
      ],
      "text/plain": [
       "<pandas.io.formats.style.Styler at 0x119435eb0>"
      ]
     },
     "metadata": {},
     "output_type": "display_data"
    },
    {
     "name": "stdout",
     "output_type": "stream",
     "text": [
      "smtp.log\n"
     ]
    },
    {
     "data": {
      "text/html": [
       "<style  type=\"text/css\" >\n",
       "#T_b75969a2_825a_11eb_91dd_acde48001122row0_col0,#T_b75969a2_825a_11eb_91dd_acde48001122row0_col1,#T_b75969a2_825a_11eb_91dd_acde48001122row0_col3,#T_b75969a2_825a_11eb_91dd_acde48001122row0_col5,#T_b75969a2_825a_11eb_91dd_acde48001122row0_col6,#T_b75969a2_825a_11eb_91dd_acde48001122row0_col22,#T_b75969a2_825a_11eb_91dd_acde48001122row0_col23,#T_b75969a2_825a_11eb_91dd_acde48001122row0_col24{\n",
       "            background-color:  white;\n",
       "        }#T_b75969a2_825a_11eb_91dd_acde48001122row0_col2,#T_b75969a2_825a_11eb_91dd_acde48001122row0_col4,#T_b75969a2_825a_11eb_91dd_acde48001122row0_col7,#T_b75969a2_825a_11eb_91dd_acde48001122row0_col8,#T_b75969a2_825a_11eb_91dd_acde48001122row0_col9,#T_b75969a2_825a_11eb_91dd_acde48001122row0_col10,#T_b75969a2_825a_11eb_91dd_acde48001122row0_col11,#T_b75969a2_825a_11eb_91dd_acde48001122row0_col12,#T_b75969a2_825a_11eb_91dd_acde48001122row0_col13,#T_b75969a2_825a_11eb_91dd_acde48001122row0_col14,#T_b75969a2_825a_11eb_91dd_acde48001122row0_col15,#T_b75969a2_825a_11eb_91dd_acde48001122row0_col16,#T_b75969a2_825a_11eb_91dd_acde48001122row0_col17,#T_b75969a2_825a_11eb_91dd_acde48001122row0_col18,#T_b75969a2_825a_11eb_91dd_acde48001122row0_col19,#T_b75969a2_825a_11eb_91dd_acde48001122row0_col20,#T_b75969a2_825a_11eb_91dd_acde48001122row0_col21{\n",
       "            background-color:  red;\n",
       "        }</style><table id=\"T_b75969a2_825a_11eb_91dd_acde48001122\" ><thead>    <tr>        <th class=\"blank level0\" ></th>        <th class=\"col_heading level0 col0\" >ts</th>        <th class=\"col_heading level0 col1\" >uid</th>        <th class=\"col_heading level0 col2\" >id.orig_h</th>        <th class=\"col_heading level0 col3\" >id.orig_p</th>        <th class=\"col_heading level0 col4\" >id.resp_h</th>        <th class=\"col_heading level0 col5\" >id.resp_p</th>        <th class=\"col_heading level0 col6\" >trans_depth</th>        <th class=\"col_heading level0 col7\" >helo</th>        <th class=\"col_heading level0 col8\" >mailfrom</th>        <th class=\"col_heading level0 col9\" >rcptto</th>        <th class=\"col_heading level0 col10\" >date</th>        <th class=\"col_heading level0 col11\" >from</th>        <th class=\"col_heading level0 col12\" >to</th>        <th class=\"col_heading level0 col13\" >reply_to</th>        <th class=\"col_heading level0 col14\" >msg_id</th>        <th class=\"col_heading level0 col15\" >in_reply_to</th>        <th class=\"col_heading level0 col16\" >subject</th>        <th class=\"col_heading level0 col17\" >x_originating_ip</th>        <th class=\"col_heading level0 col18\" >first_received</th>        <th class=\"col_heading level0 col19\" >second_received</th>        <th class=\"col_heading level0 col20\" >last_reply</th>        <th class=\"col_heading level0 col21\" >path</th>        <th class=\"col_heading level0 col22\" >user_agent</th>        <th class=\"col_heading level0 col23\" >tls</th>        <th class=\"col_heading level0 col24\" >fuids</th>    </tr></thead><tbody>\n",
       "                <tr>\n",
       "                        <th id=\"T_b75969a2_825a_11eb_91dd_acde48001122level0_row0\" class=\"row_heading level0 row0\" >0</th>\n",
       "                        <td id=\"T_b75969a2_825a_11eb_91dd_acde48001122row0_col0\" class=\"data row0 col0\" >1424256989.350394</td>\n",
       "                        <td id=\"T_b75969a2_825a_11eb_91dd_acde48001122row0_col1\" class=\"data row0 col1\" >C9zC0k1eMFe6n5INSd</td>\n",
       "                        <td id=\"T_b75969a2_825a_11eb_91dd_acde48001122row0_col2\" class=\"data row0 col2\" >59.166.0.2</td>\n",
       "                        <td id=\"T_b75969a2_825a_11eb_91dd_acde48001122row0_col3\" class=\"data row0 col3\" >56249</td>\n",
       "                        <td id=\"T_b75969a2_825a_11eb_91dd_acde48001122row0_col4\" class=\"data row0 col4\" >149.171.126.0</td>\n",
       "                        <td id=\"T_b75969a2_825a_11eb_91dd_acde48001122row0_col5\" class=\"data row0 col5\" >25</td>\n",
       "                        <td id=\"T_b75969a2_825a_11eb_91dd_acde48001122row0_col6\" class=\"data row0 col6\" >1</td>\n",
       "                        <td id=\"T_b75969a2_825a_11eb_91dd_acde48001122row0_col7\" class=\"data row0 col7\" >client-3ba60005.example.int</td>\n",
       "                        <td id=\"T_b75969a2_825a_11eb_91dd_acde48001122row0_col8\" class=\"data row0 col8\" ><sender@example.com></td>\n",
       "                        <td id=\"T_b75969a2_825a_11eb_91dd_acde48001122row0_col9\" class=\"data row0 col9\" ><recipient@example.com></td>\n",
       "                        <td id=\"T_b75969a2_825a_11eb_91dd_acde48001122row0_col10\" class=\"data row0 col10\" >Tue Feb 17 17:14:38 +1100 2015</td>\n",
       "                        <td id=\"T_b75969a2_825a_11eb_91dd_acde48001122row0_col11\" class=\"data row0 col11\" ><sender@example.com></td>\n",
       "                        <td id=\"T_b75969a2_825a_11eb_91dd_acde48001122row0_col12\" class=\"data row0 col12\" ><recipient@example.com></td>\n",
       "                        <td id=\"T_b75969a2_825a_11eb_91dd_acde48001122row0_col13\" class=\"data row0 col13\" >-</td>\n",
       "                        <td id=\"T_b75969a2_825a_11eb_91dd_acde48001122row0_col14\" class=\"data row0 col14\" ><5DBPyXnpx044jJOf@example.com></td>\n",
       "                        <td id=\"T_b75969a2_825a_11eb_91dd_acde48001122row0_col15\" class=\"data row0 col15\" >-</td>\n",
       "                        <td id=\"T_b75969a2_825a_11eb_91dd_acde48001122row0_col16\" class=\"data row0 col16\" >The thing, you thought it perfectly----- And then</td>\n",
       "                        <td id=\"T_b75969a2_825a_11eb_91dd_acde48001122row0_col17\" class=\"data row0 col17\" >-</td>\n",
       "                        <td id=\"T_b75969a2_825a_11eb_91dd_acde48001122row0_col18\" class=\"data row0 col18\" >qmail 1309 by uid 2584; Fri Feb 28 10:07:07 +1100 2014</td>\n",
       "                        <td id=\"T_b75969a2_825a_11eb_91dd_acde48001122row0_col19\" class=\"data row0 col19\" >-</td>\n",
       "                        <td id=\"T_b75969a2_825a_11eb_91dd_acde48001122row0_col20\" class=\"data row0 col20\" >250 2.6.0 <FESFSEF> Queued mail for delivery</td>\n",
       "                        <td id=\"T_b75969a2_825a_11eb_91dd_acde48001122row0_col21\" class=\"data row0 col21\" >149.171.126.0,59.166.0.2</td>\n",
       "                        <td id=\"T_b75969a2_825a_11eb_91dd_acde48001122row0_col22\" class=\"data row0 col22\" >Microsoft Outlook Express 6.00.2800.1158</td>\n",
       "                        <td id=\"T_b75969a2_825a_11eb_91dd_acde48001122row0_col23\" class=\"data row0 col23\" >F</td>\n",
       "                        <td id=\"T_b75969a2_825a_11eb_91dd_acde48001122row0_col24\" class=\"data row0 col24\" >F1YVMA4nWYBEIQkbDd,F1WlkS0yj1Py35am9</td>\n",
       "            </tr>\n",
       "    </tbody></table>"
      ],
      "text/plain": [
       "<pandas.io.formats.style.Styler at 0x11b8729d0>"
      ]
     },
     "metadata": {},
     "output_type": "display_data"
    },
    {
     "name": "stdout",
     "output_type": "stream",
     "text": [
      "snmp.log\n"
     ]
    },
    {
     "data": {
      "text/html": [
       "<style  type=\"text/css\" >\n",
       "#T_b75d0d6e_825a_11eb_91dd_acde48001122row0_col0,#T_b75d0d6e_825a_11eb_91dd_acde48001122row0_col1,#T_b75d0d6e_825a_11eb_91dd_acde48001122row0_col3,#T_b75d0d6e_825a_11eb_91dd_acde48001122row0_col5,#T_b75d0d6e_825a_11eb_91dd_acde48001122row0_col6,#T_b75d0d6e_825a_11eb_91dd_acde48001122row0_col7,#T_b75d0d6e_825a_11eb_91dd_acde48001122row0_col8,#T_b75d0d6e_825a_11eb_91dd_acde48001122row0_col9,#T_b75d0d6e_825a_11eb_91dd_acde48001122row0_col10,#T_b75d0d6e_825a_11eb_91dd_acde48001122row0_col11,#T_b75d0d6e_825a_11eb_91dd_acde48001122row0_col12,#T_b75d0d6e_825a_11eb_91dd_acde48001122row0_col13,#T_b75d0d6e_825a_11eb_91dd_acde48001122row0_col14{\n",
       "            background-color:  white;\n",
       "        }#T_b75d0d6e_825a_11eb_91dd_acde48001122row0_col2,#T_b75d0d6e_825a_11eb_91dd_acde48001122row0_col4{\n",
       "            background-color:  red;\n",
       "        }</style><table id=\"T_b75d0d6e_825a_11eb_91dd_acde48001122\" ><thead>    <tr>        <th class=\"blank level0\" ></th>        <th class=\"col_heading level0 col0\" >ts</th>        <th class=\"col_heading level0 col1\" >uid</th>        <th class=\"col_heading level0 col2\" >id.orig_h</th>        <th class=\"col_heading level0 col3\" >id.orig_p</th>        <th class=\"col_heading level0 col4\" >id.resp_h</th>        <th class=\"col_heading level0 col5\" >id.resp_p</th>        <th class=\"col_heading level0 col6\" >duration</th>        <th class=\"col_heading level0 col7\" >version</th>        <th class=\"col_heading level0 col8\" >community</th>        <th class=\"col_heading level0 col9\" >get_requests</th>        <th class=\"col_heading level0 col10\" >get_bulk_requests</th>        <th class=\"col_heading level0 col11\" >get_responses</th>        <th class=\"col_heading level0 col12\" >set_requests</th>        <th class=\"col_heading level0 col13\" >display_string</th>        <th class=\"col_heading level0 col14\" >up_since</th>    </tr></thead><tbody>\n",
       "                <tr>\n",
       "                        <th id=\"T_b75d0d6e_825a_11eb_91dd_acde48001122level0_row0\" class=\"row_heading level0 row0\" >0</th>\n",
       "                        <td id=\"T_b75d0d6e_825a_11eb_91dd_acde48001122row0_col0\" class=\"data row0 col0\" >1424257146.818946</td>\n",
       "                        <td id=\"T_b75d0d6e_825a_11eb_91dd_acde48001122row0_col1\" class=\"data row0 col1\" >CTYBRU1hBdyRYpDU5b</td>\n",
       "                        <td id=\"T_b75d0d6e_825a_11eb_91dd_acde48001122row0_col2\" class=\"data row0 col2\" >175.45.176.1</td>\n",
       "                        <td id=\"T_b75d0d6e_825a_11eb_91dd_acde48001122row0_col3\" class=\"data row0 col3\" >52657</td>\n",
       "                        <td id=\"T_b75d0d6e_825a_11eb_91dd_acde48001122row0_col4\" class=\"data row0 col4\" >149.171.126.11</td>\n",
       "                        <td id=\"T_b75d0d6e_825a_11eb_91dd_acde48001122row0_col5\" class=\"data row0 col5\" >161</td>\n",
       "                        <td id=\"T_b75d0d6e_825a_11eb_91dd_acde48001122row0_col6\" class=\"data row0 col6\" >0.000009</td>\n",
       "                        <td id=\"T_b75d0d6e_825a_11eb_91dd_acde48001122row0_col7\" class=\"data row0 col7\" >1</td>\n",
       "                        <td id=\"T_b75d0d6e_825a_11eb_91dd_acde48001122row0_col8\" class=\"data row0 col8\" >PUBLIC</td>\n",
       "                        <td id=\"T_b75d0d6e_825a_11eb_91dd_acde48001122row0_col9\" class=\"data row0 col9\" >2</td>\n",
       "                        <td id=\"T_b75d0d6e_825a_11eb_91dd_acde48001122row0_col10\" class=\"data row0 col10\" >0</td>\n",
       "                        <td id=\"T_b75d0d6e_825a_11eb_91dd_acde48001122row0_col11\" class=\"data row0 col11\" >0</td>\n",
       "                        <td id=\"T_b75d0d6e_825a_11eb_91dd_acde48001122row0_col12\" class=\"data row0 col12\" >0</td>\n",
       "                        <td id=\"T_b75d0d6e_825a_11eb_91dd_acde48001122row0_col13\" class=\"data row0 col13\" >-</td>\n",
       "                        <td id=\"T_b75d0d6e_825a_11eb_91dd_acde48001122row0_col14\" class=\"data row0 col14\" >-</td>\n",
       "            </tr>\n",
       "    </tbody></table>"
      ],
      "text/plain": [
       "<pandas.io.formats.style.Styler at 0x11c9ac730>"
      ]
     },
     "metadata": {},
     "output_type": "display_data"
    },
    {
     "name": "stdout",
     "output_type": "stream",
     "text": [
      "ssh.log\n"
     ]
    },
    {
     "data": {
      "text/html": [
       "<style  type=\"text/css\" >\n",
       "#T_b7609a60_825a_11eb_91dd_acde48001122row0_col0,#T_b7609a60_825a_11eb_91dd_acde48001122row0_col1,#T_b7609a60_825a_11eb_91dd_acde48001122row0_col3,#T_b7609a60_825a_11eb_91dd_acde48001122row0_col5,#T_b7609a60_825a_11eb_91dd_acde48001122row0_col6,#T_b7609a60_825a_11eb_91dd_acde48001122row0_col7,#T_b7609a60_825a_11eb_91dd_acde48001122row0_col8,#T_b7609a60_825a_11eb_91dd_acde48001122row0_col9{\n",
       "            background-color:  white;\n",
       "        }#T_b7609a60_825a_11eb_91dd_acde48001122row0_col2,#T_b7609a60_825a_11eb_91dd_acde48001122row0_col4{\n",
       "            background-color:  red;\n",
       "        }</style><table id=\"T_b7609a60_825a_11eb_91dd_acde48001122\" ><thead>    <tr>        <th class=\"blank level0\" ></th>        <th class=\"col_heading level0 col0\" >ts</th>        <th class=\"col_heading level0 col1\" >uid</th>        <th class=\"col_heading level0 col2\" >id.orig_h</th>        <th class=\"col_heading level0 col3\" >id.orig_p</th>        <th class=\"col_heading level0 col4\" >id.resp_h</th>        <th class=\"col_heading level0 col5\" >id.resp_p</th>        <th class=\"col_heading level0 col6\" >status</th>        <th class=\"col_heading level0 col7\" >direction</th>        <th class=\"col_heading level0 col8\" >client</th>        <th class=\"col_heading level0 col9\" >server</th>    </tr></thead><tbody>\n",
       "                <tr>\n",
       "                        <th id=\"T_b7609a60_825a_11eb_91dd_acde48001122level0_row0\" class=\"row_heading level0 row0\" >0</th>\n",
       "                        <td id=\"T_b7609a60_825a_11eb_91dd_acde48001122row0_col0\" class=\"data row0 col0\" >1424256988.242291</td>\n",
       "                        <td id=\"T_b7609a60_825a_11eb_91dd_acde48001122row0_col1\" class=\"data row0 col1\" >ChBvzV2CEZnYgi9gaa</td>\n",
       "                        <td id=\"T_b7609a60_825a_11eb_91dd_acde48001122row0_col2\" class=\"data row0 col2\" >59.166.0.0</td>\n",
       "                        <td id=\"T_b7609a60_825a_11eb_91dd_acde48001122row0_col3\" class=\"data row0 col3\" >3778</td>\n",
       "                        <td id=\"T_b7609a60_825a_11eb_91dd_acde48001122row0_col4\" class=\"data row0 col4\" >149.171.126.2</td>\n",
       "                        <td id=\"T_b7609a60_825a_11eb_91dd_acde48001122row0_col5\" class=\"data row0 col5\" >22</td>\n",
       "                        <td id=\"T_b7609a60_825a_11eb_91dd_acde48001122row0_col6\" class=\"data row0 col6\" >success</td>\n",
       "                        <td id=\"T_b7609a60_825a_11eb_91dd_acde48001122row0_col7\" class=\"data row0 col7\" >INBOUND</td>\n",
       "                        <td id=\"T_b7609a60_825a_11eb_91dd_acde48001122row0_col8\" class=\"data row0 col8\" >SSH-2.0-PuTTY_Release_0.60</td>\n",
       "                        <td id=\"T_b7609a60_825a_11eb_91dd_acde48001122row0_col9\" class=\"data row0 col9\" >SSH-1.99-OpenSSH_4.3</td>\n",
       "            </tr>\n",
       "    </tbody></table>"
      ],
      "text/plain": [
       "<pandas.io.formats.style.Styler at 0x11c9bcd60>"
      ]
     },
     "metadata": {},
     "output_type": "display_data"
    },
    {
     "name": "stdout",
     "output_type": "stream",
     "text": [
      "ssl.log\n"
     ]
    },
    {
     "data": {
      "text/html": [
       "<style  type=\"text/css\" >\n",
       "#T_b764ebba_825a_11eb_91dd_acde48001122row0_col0,#T_b764ebba_825a_11eb_91dd_acde48001122row0_col1,#T_b764ebba_825a_11eb_91dd_acde48001122row0_col3,#T_b764ebba_825a_11eb_91dd_acde48001122row0_col5,#T_b764ebba_825a_11eb_91dd_acde48001122row0_col6,#T_b764ebba_825a_11eb_91dd_acde48001122row0_col7,#T_b764ebba_825a_11eb_91dd_acde48001122row0_col8,#T_b764ebba_825a_11eb_91dd_acde48001122row0_col10,#T_b764ebba_825a_11eb_91dd_acde48001122row0_col11,#T_b764ebba_825a_11eb_91dd_acde48001122row0_col12,#T_b764ebba_825a_11eb_91dd_acde48001122row0_col13,#T_b764ebba_825a_11eb_91dd_acde48001122row0_col14,#T_b764ebba_825a_11eb_91dd_acde48001122row0_col17{\n",
       "            background-color:  white;\n",
       "        }#T_b764ebba_825a_11eb_91dd_acde48001122row0_col2,#T_b764ebba_825a_11eb_91dd_acde48001122row0_col4,#T_b764ebba_825a_11eb_91dd_acde48001122row0_col9,#T_b764ebba_825a_11eb_91dd_acde48001122row0_col15,#T_b764ebba_825a_11eb_91dd_acde48001122row0_col16,#T_b764ebba_825a_11eb_91dd_acde48001122row0_col18{\n",
       "            background-color:  red;\n",
       "        }</style><table id=\"T_b764ebba_825a_11eb_91dd_acde48001122\" ><thead>    <tr>        <th class=\"blank level0\" ></th>        <th class=\"col_heading level0 col0\" >ts</th>        <th class=\"col_heading level0 col1\" >uid</th>        <th class=\"col_heading level0 col2\" >id.orig_h</th>        <th class=\"col_heading level0 col3\" >id.orig_p</th>        <th class=\"col_heading level0 col4\" >id.resp_h</th>        <th class=\"col_heading level0 col5\" >id.resp_p</th>        <th class=\"col_heading level0 col6\" >version</th>        <th class=\"col_heading level0 col7\" >cipher</th>        <th class=\"col_heading level0 col8\" >curve</th>        <th class=\"col_heading level0 col9\" >server_name</th>        <th class=\"col_heading level0 col10\" >session_id</th>        <th class=\"col_heading level0 col11\" >last_alert</th>        <th class=\"col_heading level0 col12\" >established</th>        <th class=\"col_heading level0 col13\" >cert_chain_fuids</th>        <th class=\"col_heading level0 col14\" >client_cert_chain_fuids</th>        <th class=\"col_heading level0 col15\" >subject</th>        <th class=\"col_heading level0 col16\" >issuer</th>        <th class=\"col_heading level0 col17\" >client_subject</th>        <th class=\"col_heading level0 col18\" >client_issuer</th>    </tr></thead><tbody>\n",
       "                <tr>\n",
       "                        <th id=\"T_b764ebba_825a_11eb_91dd_acde48001122level0_row0\" class=\"row_heading level0 row0\" >0</th>\n",
       "                        <td id=\"T_b764ebba_825a_11eb_91dd_acde48001122row0_col0\" class=\"data row0 col0\" >1424257005.940392</td>\n",
       "                        <td id=\"T_b764ebba_825a_11eb_91dd_acde48001122row0_col1\" class=\"data row0 col1\" >CkIFoc3DTlsBeaFW66</td>\n",
       "                        <td id=\"T_b764ebba_825a_11eb_91dd_acde48001122row0_col2\" class=\"data row0 col2\" >175.45.176.1</td>\n",
       "                        <td id=\"T_b764ebba_825a_11eb_91dd_acde48001122row0_col3\" class=\"data row0 col3\" >17478</td>\n",
       "                        <td id=\"T_b764ebba_825a_11eb_91dd_acde48001122row0_col4\" class=\"data row0 col4\" >149.171.126.12</td>\n",
       "                        <td id=\"T_b764ebba_825a_11eb_91dd_acde48001122row0_col5\" class=\"data row0 col5\" >443</td>\n",
       "                        <td id=\"T_b764ebba_825a_11eb_91dd_acde48001122row0_col6\" class=\"data row0 col6\" >TLSv10</td>\n",
       "                        <td id=\"T_b764ebba_825a_11eb_91dd_acde48001122row0_col7\" class=\"data row0 col7\" >TLS_RSA_WITH_3DES_EDE_CBC_SHA</td>\n",
       "                        <td id=\"T_b764ebba_825a_11eb_91dd_acde48001122row0_col8\" class=\"data row0 col8\" >-</td>\n",
       "                        <td id=\"T_b764ebba_825a_11eb_91dd_acde48001122row0_col9\" class=\"data row0 col9\" >-</td>\n",
       "                        <td id=\"T_b764ebba_825a_11eb_91dd_acde48001122row0_col10\" class=\"data row0 col10\" >08a79d45b747f5c828da00000000000000000000000000000000000000000000</td>\n",
       "                        <td id=\"T_b764ebba_825a_11eb_91dd_acde48001122row0_col11\" class=\"data row0 col11\" >-</td>\n",
       "                        <td id=\"T_b764ebba_825a_11eb_91dd_acde48001122row0_col12\" class=\"data row0 col12\" >F</td>\n",
       "                        <td id=\"T_b764ebba_825a_11eb_91dd_acde48001122row0_col13\" class=\"data row0 col13\" >-</td>\n",
       "                        <td id=\"T_b764ebba_825a_11eb_91dd_acde48001122row0_col14\" class=\"data row0 col14\" >-</td>\n",
       "                        <td id=\"T_b764ebba_825a_11eb_91dd_acde48001122row0_col15\" class=\"data row0 col15\" >-</td>\n",
       "                        <td id=\"T_b764ebba_825a_11eb_91dd_acde48001122row0_col16\" class=\"data row0 col16\" >-</td>\n",
       "                        <td id=\"T_b764ebba_825a_11eb_91dd_acde48001122row0_col17\" class=\"data row0 col17\" >-</td>\n",
       "                        <td id=\"T_b764ebba_825a_11eb_91dd_acde48001122row0_col18\" class=\"data row0 col18\" >-</td>\n",
       "            </tr>\n",
       "    </tbody></table>"
      ],
      "text/plain": [
       "<pandas.io.formats.style.Styler at 0x11ca1a610>"
      ]
     },
     "metadata": {},
     "output_type": "display_data"
    },
    {
     "name": "stdout",
     "output_type": "stream",
     "text": [
      "syslog.log\n"
     ]
    },
    {
     "data": {
      "text/html": [
       "<style  type=\"text/css\" >\n",
       "#T_b7686cae_825a_11eb_91dd_acde48001122row0_col0,#T_b7686cae_825a_11eb_91dd_acde48001122row0_col1,#T_b7686cae_825a_11eb_91dd_acde48001122row0_col3,#T_b7686cae_825a_11eb_91dd_acde48001122row0_col5,#T_b7686cae_825a_11eb_91dd_acde48001122row0_col6,#T_b7686cae_825a_11eb_91dd_acde48001122row0_col7,#T_b7686cae_825a_11eb_91dd_acde48001122row0_col8{\n",
       "            background-color:  white;\n",
       "        }#T_b7686cae_825a_11eb_91dd_acde48001122row0_col2,#T_b7686cae_825a_11eb_91dd_acde48001122row0_col4,#T_b7686cae_825a_11eb_91dd_acde48001122row0_col9{\n",
       "            background-color:  red;\n",
       "        }</style><table id=\"T_b7686cae_825a_11eb_91dd_acde48001122\" ><thead>    <tr>        <th class=\"blank level0\" ></th>        <th class=\"col_heading level0 col0\" >ts</th>        <th class=\"col_heading level0 col1\" >uid</th>        <th class=\"col_heading level0 col2\" >id.orig_h</th>        <th class=\"col_heading level0 col3\" >id.orig_p</th>        <th class=\"col_heading level0 col4\" >id.resp_h</th>        <th class=\"col_heading level0 col5\" >id.resp_p</th>        <th class=\"col_heading level0 col6\" >proto</th>        <th class=\"col_heading level0 col7\" >facility</th>        <th class=\"col_heading level0 col8\" >severity</th>        <th class=\"col_heading level0 col9\" >message</th>    </tr></thead><tbody>\n",
       "                <tr>\n",
       "                        <th id=\"T_b7686cae_825a_11eb_91dd_acde48001122level0_row0\" class=\"row_heading level0 row0\" >0</th>\n",
       "                        <td id=\"T_b7686cae_825a_11eb_91dd_acde48001122row0_col0\" class=\"data row0 col0\" >1424257272.505490</td>\n",
       "                        <td id=\"T_b7686cae_825a_11eb_91dd_acde48001122row0_col1\" class=\"data row0 col1\" >Cj3GI83Aak9eXVMxRj</td>\n",
       "                        <td id=\"T_b7686cae_825a_11eb_91dd_acde48001122row0_col2\" class=\"data row0 col2\" >175.45.176.2</td>\n",
       "                        <td id=\"T_b7686cae_825a_11eb_91dd_acde48001122row0_col3\" class=\"data row0 col3\" >59788</td>\n",
       "                        <td id=\"T_b7686cae_825a_11eb_91dd_acde48001122row0_col4\" class=\"data row0 col4\" >149.171.126.19</td>\n",
       "                        <td id=\"T_b7686cae_825a_11eb_91dd_acde48001122row0_col5\" class=\"data row0 col5\" >514</td>\n",
       "                        <td id=\"T_b7686cae_825a_11eb_91dd_acde48001122row0_col6\" class=\"data row0 col6\" >udp</td>\n",
       "                        <td id=\"T_b7686cae_825a_11eb_91dd_acde48001122row0_col7\" class=\"data row0 col7\" >KERN</td>\n",
       "                        <td id=\"T_b7686cae_825a_11eb_91dd_acde48001122row0_col8\" class=\"data row0 col8\" >EMERG</td>\n",
       "                        <td id=\"T_b7686cae_825a_11eb_91dd_acde48001122row0_col9\" class=\"data row0 col9\" >4294967296 FtOzu6fBJ Gqvq2fF: jiSd9fZKD93uuhXTlgnUYiJabrYEZ5ScNv9ZSWpYJ9ZU1VtphmvQtkLwMqZBFJaAANohXQqtNjtHwFh0teyFi2QpSb1JN9zkqRedhLE0znm8OyeGq0QUOxDCg1knyDaHXmtchaToM7AeHBDZSywDgVJSANxLahZy5vII1BLIyTape44OkitTxsqFwhQmadxiG0sqot6BL7T90mei9KXRWvSAjYLDwSOEYwmkJLqbbuBoYeUFlQlkvwOf0nCBP7kXqVz7ddmrSXPgK4qpdf7s9Ts5GEVGBrC6DQnoI9jggrwSN4XnMKV5ImStRzIQpnMc3c15iemhtTK3jvXu0JDhyt5GHf2P0DvlOKyJrfc6SZLLisGpkLHuKO9mWajcrYXi8zn27YkZiwA8HQsomh5Nxi3gjElvi3y3zLPkcXwWimPYkKbjGju9ZaGBkL4S0yAMNWAypTpFeSZtISOHyGMG5iA6NQ66ZSi3XcEmfcTNQQRGfLp3eTEd2B01V9690LY1TuV8QARbt2CSI3t1r04zwGzyk2Mz54D6cSX3DF2Abhie5drJa2zaPpPkYs3TsvQ0ntuIlXNZPbT86zUcDasMeiS9vW908jGF5Shj0Ncs3ZzN54jTjs0v3kzSsVvv9rAOBUn25vWd8bP2OB0z3g62Q5AXJdbjYAqYVPQISkNaeDBSRiRuaNJq70TA8n811AJtPCz34sGdMllwNTRgGscoZ1t2RtRG3MNnu1zmvhcbMdERVX80st7Y5oVudQGsai\\x0a</td>\n",
       "            </tr>\n",
       "    </tbody></table>"
      ],
      "text/plain": [
       "<pandas.io.formats.style.Styler at 0x11958a6a0>"
      ]
     },
     "metadata": {},
     "output_type": "display_data"
    },
    {
     "name": "stdout",
     "output_type": "stream",
     "text": [
      "weird.log\n"
     ]
    },
    {
     "data": {
      "text/html": [
       "<style  type=\"text/css\" >\n",
       "#T_b76bb1a2_825a_11eb_91dd_acde48001122row0_col0,#T_b76bb1a2_825a_11eb_91dd_acde48001122row0_col1,#T_b76bb1a2_825a_11eb_91dd_acde48001122row0_col3,#T_b76bb1a2_825a_11eb_91dd_acde48001122row0_col5,#T_b76bb1a2_825a_11eb_91dd_acde48001122row0_col6,#T_b76bb1a2_825a_11eb_91dd_acde48001122row0_col7,#T_b76bb1a2_825a_11eb_91dd_acde48001122row0_col8,#T_b76bb1a2_825a_11eb_91dd_acde48001122row0_col9{\n",
       "            background-color:  white;\n",
       "        }#T_b76bb1a2_825a_11eb_91dd_acde48001122row0_col2,#T_b76bb1a2_825a_11eb_91dd_acde48001122row0_col4{\n",
       "            background-color:  red;\n",
       "        }</style><table id=\"T_b76bb1a2_825a_11eb_91dd_acde48001122\" ><thead>    <tr>        <th class=\"blank level0\" ></th>        <th class=\"col_heading level0 col0\" >ts</th>        <th class=\"col_heading level0 col1\" >uid</th>        <th class=\"col_heading level0 col2\" >id.orig_h</th>        <th class=\"col_heading level0 col3\" >id.orig_p</th>        <th class=\"col_heading level0 col4\" >id.resp_h</th>        <th class=\"col_heading level0 col5\" >id.resp_p</th>        <th class=\"col_heading level0 col6\" >name</th>        <th class=\"col_heading level0 col7\" >addl</th>        <th class=\"col_heading level0 col8\" >notice</th>        <th class=\"col_heading level0 col9\" >peer</th>    </tr></thead><tbody>\n",
       "                <tr>\n",
       "                        <th id=\"T_b76bb1a2_825a_11eb_91dd_acde48001122level0_row0\" class=\"row_heading level0 row0\" >0</th>\n",
       "                        <td id=\"T_b76bb1a2_825a_11eb_91dd_acde48001122row0_col0\" class=\"data row0 col0\" >1424256989.752044</td>\n",
       "                        <td id=\"T_b76bb1a2_825a_11eb_91dd_acde48001122row0_col1\" class=\"data row0 col1\" >CBAuL33hjNTqQ8MTak</td>\n",
       "                        <td id=\"T_b76bb1a2_825a_11eb_91dd_acde48001122row0_col2\" class=\"data row0 col2\" >59.166.0.8</td>\n",
       "                        <td id=\"T_b76bb1a2_825a_11eb_91dd_acde48001122row0_col3\" class=\"data row0 col3\" >53225</td>\n",
       "                        <td id=\"T_b76bb1a2_825a_11eb_91dd_acde48001122row0_col4\" class=\"data row0 col4\" >149.171.126.5</td>\n",
       "                        <td id=\"T_b76bb1a2_825a_11eb_91dd_acde48001122row0_col5\" class=\"data row0 col5\" >80</td>\n",
       "                        <td id=\"T_b76bb1a2_825a_11eb_91dd_acde48001122row0_col6\" class=\"data row0 col6\" >above_hole_data_without_any_acks</td>\n",
       "                        <td id=\"T_b76bb1a2_825a_11eb_91dd_acde48001122row0_col7\" class=\"data row0 col7\" >-</td>\n",
       "                        <td id=\"T_b76bb1a2_825a_11eb_91dd_acde48001122row0_col8\" class=\"data row0 col8\" >F</td>\n",
       "                        <td id=\"T_b76bb1a2_825a_11eb_91dd_acde48001122row0_col9\" class=\"data row0 col9\" >bro</td>\n",
       "            </tr>\n",
       "    </tbody></table>"
      ],
      "text/plain": [
       "<pandas.io.formats.style.Styler at 0x11958af10>"
      ]
     },
     "metadata": {},
     "output_type": "display_data"
    },
    {
     "name": "stdout",
     "output_type": "stream",
     "text": [
      "x509.log\n"
     ]
    },
    {
     "data": {
      "text/html": [
       "<style  type=\"text/css\" >\n",
       "#T_b7705202_825a_11eb_91dd_acde48001122row0_col0,#T_b7705202_825a_11eb_91dd_acde48001122row0_col1,#T_b7705202_825a_11eb_91dd_acde48001122row0_col2,#T_b7705202_825a_11eb_91dd_acde48001122row0_col8,#T_b7705202_825a_11eb_91dd_acde48001122row0_col9,#T_b7705202_825a_11eb_91dd_acde48001122row0_col10,#T_b7705202_825a_11eb_91dd_acde48001122row0_col11,#T_b7705202_825a_11eb_91dd_acde48001122row0_col12,#T_b7705202_825a_11eb_91dd_acde48001122row0_col13,#T_b7705202_825a_11eb_91dd_acde48001122row0_col18,#T_b7705202_825a_11eb_91dd_acde48001122row0_col19{\n",
       "            background-color:  white;\n",
       "        }#T_b7705202_825a_11eb_91dd_acde48001122row0_col3,#T_b7705202_825a_11eb_91dd_acde48001122row0_col4,#T_b7705202_825a_11eb_91dd_acde48001122row0_col5,#T_b7705202_825a_11eb_91dd_acde48001122row0_col6,#T_b7705202_825a_11eb_91dd_acde48001122row0_col7,#T_b7705202_825a_11eb_91dd_acde48001122row0_col14,#T_b7705202_825a_11eb_91dd_acde48001122row0_col15,#T_b7705202_825a_11eb_91dd_acde48001122row0_col16,#T_b7705202_825a_11eb_91dd_acde48001122row0_col17{\n",
       "            background-color:  red;\n",
       "        }</style><table id=\"T_b7705202_825a_11eb_91dd_acde48001122\" ><thead>    <tr>        <th class=\"blank level0\" ></th>        <th class=\"col_heading level0 col0\" >ts</th>        <th class=\"col_heading level0 col1\" >id</th>        <th class=\"col_heading level0 col2\" >certificate.version</th>        <th class=\"col_heading level0 col3\" >certificate.serial</th>        <th class=\"col_heading level0 col4\" >certificate.subject</th>        <th class=\"col_heading level0 col5\" >certificate.issuer</th>        <th class=\"col_heading level0 col6\" >certificate.not_valid_before</th>        <th class=\"col_heading level0 col7\" >certificate.not_valid_after</th>        <th class=\"col_heading level0 col8\" >certificate.key_alg</th>        <th class=\"col_heading level0 col9\" >certificate.sig_alg</th>        <th class=\"col_heading level0 col10\" >certificate.key_type</th>        <th class=\"col_heading level0 col11\" >certificate.key_length</th>        <th class=\"col_heading level0 col12\" >certificate.exponent</th>        <th class=\"col_heading level0 col13\" >certificate.curve</th>        <th class=\"col_heading level0 col14\" >san.dns</th>        <th class=\"col_heading level0 col15\" >san.uri</th>        <th class=\"col_heading level0 col16\" >san.email</th>        <th class=\"col_heading level0 col17\" >san.ip</th>        <th class=\"col_heading level0 col18\" >basic_constraints.ca</th>        <th class=\"col_heading level0 col19\" >basic_constraints.path_len</th>    </tr></thead><tbody>\n",
       "                <tr>\n",
       "                        <th id=\"T_b7705202_825a_11eb_91dd_acde48001122level0_row0\" class=\"row_heading level0 row0\" >0</th>\n",
       "                        <td id=\"T_b7705202_825a_11eb_91dd_acde48001122row0_col0\" class=\"data row0 col0\" >1424257134.200798</td>\n",
       "                        <td id=\"T_b7705202_825a_11eb_91dd_acde48001122row0_col1\" class=\"data row0 col1\" >F1UOdB2xjikZlEkvu5</td>\n",
       "                        <td id=\"T_b7705202_825a_11eb_91dd_acde48001122row0_col2\" class=\"data row0 col2\" >2</td>\n",
       "                        <td id=\"T_b7705202_825a_11eb_91dd_acde48001122row0_col3\" class=\"data row0 col3\" >9A773E9868AE2F2142</td>\n",
       "                        <td id=\"T_b7705202_825a_11eb_91dd_acde48001122row0_col4\" class=\"data row0 col4\" >CN=uVEycH.com\\00njxoOwVyuqbebclExlJ.com,OU=mhUEnXB,O=UzzTqUsqUT,L=aTmKVEcrCIvmGiAdQ,ST=Minnesota,C=US</td>\n",
       "                        <td id=\"T_b7705202_825a_11eb_91dd_acde48001122row0_col5\" class=\"data row0 col5\" >CN=cqbaqTlF.com,OU=Ae,O=awM,L=jhMfjaJOiSRBeKiax,ST=Wisconsin,C=US</td>\n",
       "                        <td id=\"T_b7705202_825a_11eb_91dd_acde48001122row0_col6\" class=\"data row0 col6\" >1398268772.000000</td>\n",
       "                        <td id=\"T_b7705202_825a_11eb_91dd_acde48001122row0_col7\" class=\"data row0 col7\" >1455728372.000000</td>\n",
       "                        <td id=\"T_b7705202_825a_11eb_91dd_acde48001122row0_col8\" class=\"data row0 col8\" >rsaEncryption</td>\n",
       "                        <td id=\"T_b7705202_825a_11eb_91dd_acde48001122row0_col9\" class=\"data row0 col9\" >sha1WithRSAEncryption</td>\n",
       "                        <td id=\"T_b7705202_825a_11eb_91dd_acde48001122row0_col10\" class=\"data row0 col10\" >rsa</td>\n",
       "                        <td id=\"T_b7705202_825a_11eb_91dd_acde48001122row0_col11\" class=\"data row0 col11\" >1024</td>\n",
       "                        <td id=\"T_b7705202_825a_11eb_91dd_acde48001122row0_col12\" class=\"data row0 col12\" >65537</td>\n",
       "                        <td id=\"T_b7705202_825a_11eb_91dd_acde48001122row0_col13\" class=\"data row0 col13\" >-</td>\n",
       "                        <td id=\"T_b7705202_825a_11eb_91dd_acde48001122row0_col14\" class=\"data row0 col14\" >-</td>\n",
       "                        <td id=\"T_b7705202_825a_11eb_91dd_acde48001122row0_col15\" class=\"data row0 col15\" >-</td>\n",
       "                        <td id=\"T_b7705202_825a_11eb_91dd_acde48001122row0_col16\" class=\"data row0 col16\" >-</td>\n",
       "                        <td id=\"T_b7705202_825a_11eb_91dd_acde48001122row0_col17\" class=\"data row0 col17\" >-</td>\n",
       "                        <td id=\"T_b7705202_825a_11eb_91dd_acde48001122row0_col18\" class=\"data row0 col18\" >-</td>\n",
       "                        <td id=\"T_b7705202_825a_11eb_91dd_acde48001122row0_col19\" class=\"data row0 col19\" >-</td>\n",
       "            </tr>\n",
       "    </tbody></table>"
      ],
      "text/plain": [
       "<pandas.io.formats.style.Styler at 0x11958af40>"
      ]
     },
     "metadata": {},
     "output_type": "display_data"
    }
   ],
   "source": [
    "for filename in filenames:\n",
    "    print(filename)\n",
    "    df_log = get_dataframe(filename,seperator).iloc[:1,:]\n",
    "    display(df_log.style.apply(highlight_col, axis=None))"
   ]
  }
 ],
 "metadata": {
  "kernelspec": {
   "display_name": "Python 3",
   "language": "python",
   "name": "python3"
  },
  "language_info": {
   "codemirror_mode": {
    "name": "ipython",
    "version": 3
   },
   "file_extension": ".py",
   "mimetype": "text/x-python",
   "name": "python",
   "nbconvert_exporter": "python",
   "pygments_lexer": "ipython3",
   "version": "3.8.6"
  }
 },
 "nbformat": 4,
 "nbformat_minor": 4
}
